{
 "cells": [
  {
   "cell_type": "markdown",
   "metadata": {},
   "source": [
    "# INFO 370 2020 Wi - Python Pandas Basics Exercise\n",
    "\n",
    "*Name:* Simran\n",
    "\n",
    "*Collaborators:*"
   ]
  },
  {
   "cell_type": "markdown",
   "metadata": {},
   "source": [
    "### Instructions\n",
    "\n",
    "1. Please complete the lab tutorial during your respective lab session.\n",
    "\n",
    "2. Please write down your name and your collaborators (if any).\n",
    "\n",
    "3. In this exercise you will get hands-on experiences in importing data into structured format, summarizing data using descriptive statistics (e,g, sum, average, etc.) and manipulating data including indexing, slicing and grouping.\n",
    "\n",
    "4. The data you will be working with was collected from an activity-tracking platform:    Strava. It is a collection of physical activities that Strava users recorded and posted on this platform. For simplicity, this exercise focuses on several selected fields. You can find the data description by reading the Strava API doc, following this link: https://developers.strava.com/docs/reference/#api-models-DetailedActivity\n",
    "\n",
    "Some of the more unclear variables:\n",
    "    * distance: distance covered in meters\n",
    "    * achievement_count: The total number of achievements of the considered activities\n",
    "    * kudos_count: The number of kudos given for this activity \n",
    "    * type: type of the activity, like running/biking...\n",
    "\n",
    "5. For each question, please type your codes in a *Code* cell and your written response which summarizes your results in a *Markdown* cell.\n",
    "\n",
    "6. Don't be scared. We are here to help you learn. :)"
   ]
  },
  {
   "cell_type": "code",
   "execution_count": 2,
   "metadata": {},
   "outputs": [],
   "source": [
    "# import packages\n",
    "import numpy as np\n",
    "import pandas as pd\n",
    "\n",
    "# you may import other packages if necessary"
   ]
  },
  {
   "cell_type": "markdown",
   "metadata": {},
   "source": [
    "### 1. Data Import and Data Summary"
   ]
  },
  {
   "cell_type": "markdown",
   "metadata": {},
   "source": [
    "**(a) Load the data strava-activity.csv into a pandas dataframe.**\n",
    "\n",
    "Print the first few lines of it as a sanity check.\n"
   ]
  },
  {
   "cell_type": "code",
   "execution_count": 42,
   "metadata": {},
   "outputs": [
    {
     "data": {
      "text/html": "<div>\n<style scoped>\n    .dataframe tbody tr th:only-of-type {\n        vertical-align: middle;\n    }\n\n    .dataframe tbody tr th {\n        vertical-align: top;\n    }\n\n    .dataframe thead th {\n        text-align: right;\n    }\n</style>\n<table border=\"1\" class=\"dataframe\">\n  <thead>\n    <tr style=\"text-align: right;\">\n      <th></th>\n      <th>name</th>\n      <th>athlete.sex</th>\n      <th>athlete.country</th>\n      <th>start_date_local</th>\n      <th>distance</th>\n      <th>achievement_count</th>\n      <th>type</th>\n      <th>kudos_count</th>\n    </tr>\n  </thead>\n  <tbody>\n    <tr>\n      <th>0</th>\n      <td>Mitro\"\" :)</td>\n      <td>F</td>\n      <td>Ecuador</td>\n      <td>2014-08-27T15:55:26Z</td>\n      <td>21580.0</td>\n      <td>6</td>\n      <td>Ride</td>\n      <td>0</td>\n    </tr>\n    <tr>\n      <th>1</th>\n      <td>Ochtendrit</td>\n      <td>M</td>\n      <td>The Netherlands</td>\n      <td>2015-08-04T09:25:02Z</td>\n      <td>19092.8</td>\n      <td>0</td>\n      <td>Ride</td>\n      <td>0</td>\n    </tr>\n    <tr>\n      <th>2</th>\n      <td>Enough time for a quick and hot 14</td>\n      <td>M</td>\n      <td>United States</td>\n      <td>2015-05-17T14:38:04Z</td>\n      <td>23023.4</td>\n      <td>8</td>\n      <td>Ride</td>\n      <td>4</td>\n    </tr>\n    <tr>\n      <th>3</th>\n      <td>Ilkley Grassington Buckden and back</td>\n      <td>F</td>\n      <td>United Kingdom</td>\n      <td>2014-05-26T09:20:53Z</td>\n      <td>101702.0</td>\n      <td>11</td>\n      <td>Ride</td>\n      <td>6</td>\n    </tr>\n    <tr>\n      <th>4</th>\n      <td>Morning Short hike</td>\n      <td>F</td>\n      <td>United States</td>\n      <td>2013-12-19T09:05:16Z</td>\n      <td>2739.8</td>\n      <td>0</td>\n      <td>Hike</td>\n      <td>0</td>\n    </tr>\n  </tbody>\n</table>\n</div>",
      "text/plain": "                                  name athlete.sex  athlete.country  \\\n0                           Mitro\"\" :)           F          Ecuador   \n1                           Ochtendrit           M  The Netherlands   \n2   Enough time for a quick and hot 14           M    United States   \n3  Ilkley Grassington Buckden and back           F   United Kingdom   \n4                   Morning Short hike           F    United States   \n\n       start_date_local  distance  achievement_count  type  kudos_count  \n0  2014-08-27T15:55:26Z   21580.0                  6  Ride            0  \n1  2015-08-04T09:25:02Z   19092.8                  0  Ride            0  \n2  2015-05-17T14:38:04Z   23023.4                  8  Ride            4  \n3  2014-05-26T09:20:53Z  101702.0                 11  Ride            6  \n4  2013-12-19T09:05:16Z    2739.8                  0  Hike            0  "
     },
     "execution_count": 42,
     "metadata": {},
     "output_type": "execute_result"
    }
   ],
   "source": [
    "data = pd.read_csv(\"./strava-activity.csv.bz2\")\n",
    "data.head(5)"
   ]
  },
  {
   "cell_type": "markdown",
   "metadata": {},
   "source": [
    "**(b) It's time to get to know your data! Report the number of rows and columns in the dataset.**"
   ]
  },
  {
   "cell_type": "code",
   "execution_count": 43,
   "metadata": {},
   "outputs": [
    {
     "data": {
      "text/plain": "(8093, 8)"
     },
     "execution_count": 43,
     "metadata": {},
     "output_type": "execute_result"
    }
   ],
   "source": [
    "data.shape"
   ]
  },
  {
   "cell_type": "markdown",
   "metadata": {},
   "source": [
    "Your written response here：\n",
    "\n",
    "_8093 rows, 8 columns_\n"
   ]
  },
  {
   "cell_type": "markdown",
   "metadata": {},
   "source": [
    "**(c) What variables does this dataset have? Report the variable names along with the data type of each variable.**"
   ]
  },
  {
   "cell_type": "code",
   "execution_count": 44,
   "metadata": {},
   "outputs": [
    {
     "data": {
      "text/plain": "name                  object\nathlete.sex           object\nathlete.country       object\nstart_date_local      object\ndistance             float64\nachievement_count      int64\ntype                  object\nkudos_count            int64\ndtype: object"
     },
     "execution_count": 44,
     "metadata": {},
     "output_type": "execute_result"
    }
   ],
   "source": [
    "data.dtypes"
   ]
  },
  {
   "cell_type": "markdown",
   "metadata": {},
   "source": [
    "Your written response here：\n",
    "\n",
    "_name_: object\n",
    "_athelete.sex_: object\n",
    "_athelete.country_: object\n",
    "_start_date_local_: object\n",
    "_distance_: float64\n",
    "_achievement_count_: int64\n",
    "_type_: object\n",
    "_kudos_count_: int64"
   ]
  },
  {
   "cell_type": "markdown",
   "metadata": {},
   "source": [
    "**(d) What is the number of NULL/NA values in each column of the dataframe?**\n",
    "\n"
   ]
  },
  {
   "cell_type": "code",
   "execution_count": 45,
   "metadata": {},
   "outputs": [
    {
     "name": "stdout",
     "output_type": "stream",
     "text": "name 0\nathlete.sex 185\nathlete.country 200\nstart_date_local 0\ndistance 0\nachievement_count 0\ntype 0\nkudos_count 0\n"
    }
   ],
   "source": [
    "columns = data.columns\n",
    "for i in columns:\n",
    "    print(i, len(data) - data[i].count())"
   ]
  },
  {
   "cell_type": "markdown",
   "execution_count": null,
   "metadata": {},
   "outputs": [],
   "source": [
    "_name_: 0\n",
    "_athlete.sex_: 185\n",
    "_athlete.country_: 200\n",
    "_start_date_local_: 0\n",
    "_distance_: 0\n",
    "_achievement_count_: 0\n",
    "_type_: 0\n",
    "_kudos_count_: 0"
   ]
  },
  {
   "cell_type": "markdown",
   "metadata": {},
   "source": [
    "### 2. Data Manipulation - Explore Achievement Count by Country"
   ]
  },
  {
   "cell_type": "markdown",
   "metadata": {},
   "source": [
    "**(a) What are the top 5 countries most Strava users are from in this dataset?**\n",
    "\n",
    "Hint: check out _DataFrame.groupby_ method, _Series.count()_ method, and _Series.nlargest()_ method."
   ]
  },
  {
   "cell_type": "code",
   "execution_count": 46,
   "metadata": {},
   "outputs": [
    {
     "data": {
      "text/plain": "athlete.country\nUnited States     2424\nUnited Kingdom    1770\nAustralia          632\nCanada             249\nFrance             245\nName: name, dtype: int64"
     },
     "execution_count": 46,
     "metadata": {},
     "output_type": "execute_result"
    }
   ],
   "source": [
    "group_countries = data.copy().groupby('athlete.country')\n",
    "group_countries = group_countries.count()\n",
    "users = group_countries['name']\n",
    "users.nlargest(5)"
   ]
  },
  {
   "cell_type": "markdown",
   "metadata": {},
   "source": [
    "Your written response here\n",
    "\n",
    "_United States_:     2424\n",
    "_United Kingdom_:    1770\n",
    "_Australia_:          632\n",
    "_Canada_:             249\n",
    "_France_:             245"
   ]
  },
  {
   "cell_type": "markdown",
   "metadata": {},
   "source": [
    "**(b) What is the total achievement count of athletes from Canada?**"
   ]
  },
  {
   "cell_type": "code",
   "execution_count": 57,
   "metadata": {},
   "outputs": [
    {
     "data": {
      "text/plain": "635"
     },
     "execution_count": 57,
     "metadata": {},
     "output_type": "execute_result"
    }
   ],
   "source": [
    "canada = data[data['athlete.country'] == 'Canada']\n",
    "# print(canada)\n",
    "canada.sum(axis=0, skipna=True).achievement_count"
   ]
  },
  {
   "cell_type": "markdown",
   "metadata": {},
   "source": [
    "Your written response here\n",
    "\n",
    "_635_\n"
   ]
  },
  {
   "cell_type": "markdown",
   "metadata": {},
   "source": [
    "**(c) What is the average achievement count of male athletes from Australia? How is it compared to the counterpart females?**"
   ]
  },
  {
   "cell_type": "code",
   "execution_count": 62,
   "metadata": {},
   "outputs": [
    {
     "name": "stdout",
     "output_type": "stream",
     "text": "6.221476510067114\n4.6923076923076925\n"
    }
   ],
   "source": [
    "australia = data[data['athlete.country'] == 'Australia']\n",
    "au_m = australia[australia['athlete.sex'] == 'M']\n",
    "au_f = australia[australia['athlete.sex'] == 'F']\n",
    "male_avg = au_m.mean(axis = 0, skipna=True).achievement_count\n",
    "female_avg = au_f.mean(axis = 0, skipna=True).achievement_count\n",
    "print(male_avg)\n",
    "print(female_avg)\n"
   ]
  },
  {
   "cell_type": "markdown",
   "metadata": {},
   "source": [
    "Your written response here\n",
    "\n",
    "_The Australian male average achievement count is 6.22 which is greater than the Australian female average achievement count at 4.69_"
   ]
  },
  {
   "cell_type": "markdown",
   "metadata": {},
   "source": [
    "### 3. Data Manipulation - Explore Activity Type (Extra question, not graded)"
   ]
  },
  {
   "cell_type": "markdown",
   "metadata": {},
   "source": [
    "**(a) How many different kinds of activities are there in this data set? Report the name and the total number of completed activities for each type.**"
   ]
  },
  {
   "cell_type": "code",
   "execution_count": 68,
   "metadata": {},
   "outputs": [
    {
     "data": {
      "text/plain": "Ride               4512\nRun                3001\nWalk                194\nSwim                178\nWorkout              66\nHike                 37\nVirtualRide          26\nNordicSki            20\nWeightTraining       14\nYoga                  9\nAlpineSki             7\nCrossfit              5\nBackcountrySki        4\nIceSkate              4\nKayaking              3\nSnowboard             3\nElliptical            3\nRowing                3\nEBikeRide             1\nRockClimbing          1\nSnowshoe              1\nStandUpPaddling       1\nName: type, dtype: int64"
     },
     "execution_count": 68,
     "metadata": {},
     "output_type": "execute_result"
    }
   ],
   "source": [
    "data['type'].value_counts()"
   ]
  },
  {
   "cell_type": "markdown",
   "metadata": {},
   "source": [
    "**(b) Which type of activity do most male and female users participate in?**\n",
    "\n",
    "Hint: check out _DataFrame.groupby()_ and _size()_ methods"
   ]
  },
  {
   "cell_type": "code",
   "execution_count": null,
   "metadata": {},
   "outputs": [],
   "source": [
    "# Your codes here"
   ]
  },
  {
   "cell_type": "markdown",
   "metadata": {},
   "source": [
    "Your written response here\n"
   ]
  },
  {
   "cell_type": "markdown",
   "metadata": {},
   "source": [
    "**(c) What is the average distance covered by users for each type of activity?**\n",
    "\n",
    "Hint: use _groupby()_ and _mean()_"
   ]
  },
  {
   "cell_type": "code",
   "execution_count": null,
   "metadata": {},
   "outputs": [],
   "source": [
    "# Your codes here"
   ]
  }
 ],
 "metadata": {
  "kernelspec": {
   "display_name": "Python 3",
   "language": "python",
   "name": "python3"
  },
  "language_info": {
   "codemirror_mode": {
    "name": "ipython",
    "version": 3
   },
   "file_extension": ".py",
   "mimetype": "text/x-python",
   "name": "python",
   "nbconvert_exporter": "python",
   "pygments_lexer": "ipython3",
   "version": "3.7.4-final"
  }
 },
 "nbformat": 4,
 "nbformat_minor": 2
}