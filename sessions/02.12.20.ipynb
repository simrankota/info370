{
 "nbformat": 4,
 "nbformat_minor": 2,
 "metadata": {
  "language_info": {
   "name": "python",
   "codemirror_mode": {
    "name": "ipython",
    "version": 3
   },
   "version": "3.7.4-final"
  },
  "orig_nbformat": 2,
  "file_extension": ".py",
  "mimetype": "text/x-python",
  "name": "python",
  "npconvert_exporter": "python",
  "pygments_lexer": "ipython3",
  "version": 3,
  "kernelspec": {
   "name": "python37464bit846a6cfd2b20454eb3388c4dd73faf33",
   "display_name": "Python 3.7.4 64-bit"
  }
 },
 "cells": [
  {
   "cell_type": "code",
   "execution_count": 1,
   "metadata": {},
   "outputs": [],
   "source": [
    "import os"
   ]
  },
  {
   "cell_type": "code",
   "execution_count": 2,
   "metadata": {},
   "outputs": [],
   "source": [
    "import pandas as pd"
   ]
  },
  {
   "cell_type": "code",
   "execution_count": 3,
   "metadata": {},
   "outputs": [],
   "source": [
    "setosa = pd.read_csv('./setosa.csv', '\\t')"
   ]
  },
  {
   "cell_type": "code",
   "execution_count": 4,
   "metadata": {},
   "outputs": [
    {
     "data": {
      "text/html": "<div>\n<style scoped>\n    .dataframe tbody tr th:only-of-type {\n        vertical-align: middle;\n    }\n\n    .dataframe tbody tr th {\n        vertical-align: top;\n    }\n\n    .dataframe thead th {\n        text-align: right;\n    }\n</style>\n<table border=\"1\" class=\"dataframe\">\n  <thead>\n    <tr style=\"text-align: right;\">\n      <th></th>\n      <th>SepalLength</th>\n      <th>SepalWidth</th>\n      <th>PetalLength</th>\n      <th>PetalWidth</th>\n      <th>Species</th>\n    </tr>\n  </thead>\n  <tbody>\n    <tr>\n      <th>0</th>\n      <td>5.1</td>\n      <td>3.5</td>\n      <td>1.4</td>\n      <td>0.2</td>\n      <td>setosa</td>\n    </tr>\n    <tr>\n      <th>1</th>\n      <td>4.9</td>\n      <td>3.0</td>\n      <td>1.4</td>\n      <td>0.2</td>\n      <td>setosa</td>\n    </tr>\n    <tr>\n      <th>2</th>\n      <td>4.7</td>\n      <td>3.2</td>\n      <td>1.3</td>\n      <td>0.2</td>\n      <td>setosa</td>\n    </tr>\n    <tr>\n      <th>3</th>\n      <td>4.6</td>\n      <td>3.1</td>\n      <td>1.5</td>\n      <td>0.2</td>\n      <td>setosa</td>\n    </tr>\n    <tr>\n      <th>4</th>\n      <td>5.0</td>\n      <td>3.6</td>\n      <td>1.4</td>\n      <td>0.2</td>\n      <td>setosa</td>\n    </tr>\n  </tbody>\n</table>\n</div>",
      "text/plain": "   SepalLength  SepalWidth  PetalLength  PetalWidth Species\n0          5.1         3.5          1.4         0.2  setosa\n1          4.9         3.0          1.4         0.2  setosa\n2          4.7         3.2          1.3         0.2  setosa\n3          4.6         3.1          1.5         0.2  setosa\n4          5.0         3.6          1.4         0.2  setosa"
     },
     "execution_count": 4,
     "metadata": {},
     "output_type": "execute_result"
    }
   ],
   "source": [
    "setosa.head()"
   ]
  },
  {
   "cell_type": "code",
   "execution_count": 5,
   "metadata": {},
   "outputs": [],
   "source": [
    "beta0 = 0"
   ]
  },
  {
   "cell_type": "code",
   "execution_count": 6,
   "metadata": {},
   "outputs": [],
   "source": [
    "beta1 = 1"
   ]
  },
  {
   "cell_type": "code",
   "execution_count": 7,
   "metadata": {},
   "outputs": [],
   "source": [
    "hatw = beta0 + beta1 * setosa.SepalLength"
   ]
  },
  {
   "cell_type": "code",
   "execution_count": 8,
   "metadata": {},
   "outputs": [],
   "source": [
    "e = setosa.SepalWidth - hatw"
   ]
  },
  {
   "cell_type": "code",
   "execution_count": 10,
   "metadata": {},
   "outputs": [
    {
     "data": {
      "text/plain": "0     5.1\n1     4.9\n2     4.7\n3     4.6\n4     5.0\n5     5.4\n6     4.6\n7     5.0\n8     4.4\n9     4.9\n10    5.4\n11    4.8\n12    4.8\n13    4.3\n14    5.8\n15    5.7\n16    5.4\n17    5.1\n18    5.7\n19    5.1\n20    5.4\n21    5.1\n22    4.6\n23    5.1\n24    4.8\n25    5.0\n26    5.0\n27    5.2\n28    5.2\n29    4.7\n30    4.8\n31    5.4\n32    5.2\n33    5.5\n34    4.9\n35    5.0\n36    5.5\n37    4.9\n38    4.4\n39    5.1\n40    5.0\n41    4.5\n42    4.4\n43    5.0\n44    5.1\n45    4.8\n46    5.1\n47    4.6\n48    5.3\n49    5.0\nName: SepalLength, dtype: float64"
     },
     "execution_count": 10,
     "metadata": {},
     "output_type": "execute_result"
    }
   ],
   "source": [
    "hatw"
   ]
  },
  {
   "cell_type": "code",
   "execution_count": 11,
   "metadata": {},
   "outputs": [
    {
     "data": {
      "text/plain": "0    -1.6\n1    -1.9\n2    -1.5\n3    -1.5\n4    -1.4\n5    -1.5\n6    -1.2\n7    -1.6\n8    -1.5\n9    -1.8\n10   -1.7\n11   -1.4\n12   -1.8\n13   -1.3\n14   -1.8\n15   -1.3\n16   -1.5\n17   -1.6\n18   -1.9\n19   -1.3\n20   -2.0\n21   -1.4\n22   -1.0\n23   -1.8\n24   -1.4\n25   -2.0\n26   -1.6\n27   -1.7\n28   -1.8\n29   -1.5\n30   -1.7\n31   -2.0\n32   -1.1\n33   -1.3\n34   -1.8\n35   -1.8\n36   -2.0\n37   -1.3\n38   -1.4\n39   -1.7\n40   -1.5\n41   -2.2\n42   -1.2\n43   -1.5\n44   -1.3\n45   -1.8\n46   -1.3\n47   -1.4\n48   -1.6\n49   -1.7\ndtype: float64"
     },
     "execution_count": 11,
     "metadata": {},
     "output_type": "execute_result"
    }
   ],
   "source": [
    "e"
   ]
  },
  {
   "cell_type": "code",
   "execution_count": 13,
   "metadata": {},
   "outputs": [],
   "source": [
    "import numpy as np"
   ]
  },
  {
   "cell_type": "code",
   "execution_count": 14,
   "metadata": {},
   "outputs": [
    {
     "data": {
      "text/plain": "2.5582000000000003"
     },
     "execution_count": 14,
     "metadata": {},
     "output_type": "execute_result"
    }
   ],
   "source": [
    "np.mean(e**2)"
   ]
  },
  {
   "cell_type": "code",
   "execution_count": 15,
   "metadata": {},
   "outputs": [
    {
     "data": {
      "text/plain": "1.5994374010882701"
     },
     "execution_count": 15,
     "metadata": {},
     "output_type": "execute_result"
    }
   ],
   "source": [
    "np.sqrt(np.mean(e**2))"
   ]
  },
  {
   "cell_type": "code",
   "execution_count": 16,
   "metadata": {},
   "outputs": [],
   "source": [
    "beta0, beta1 = -1, 1.5"
   ]
  },
  {
   "cell_type": "code",
   "execution_count": 17,
   "metadata": {},
   "outputs": [],
   "source": [
    "hatw = beta0 + beta1 * setosa.SepalLength"
   ]
  },
  {
   "cell_type": "code",
   "execution_count": 18,
   "metadata": {},
   "outputs": [],
   "source": [
    "e = setosa.SepalWidth - hatw"
   ]
  },
  {
   "cell_type": "code",
   "execution_count": 19,
   "metadata": {},
   "outputs": [
    {
     "data": {
      "text/plain": "9.615650000000002"
     },
     "execution_count": 19,
     "metadata": {},
     "output_type": "execute_result"
    }
   ],
   "source": [
    "np.mean(e**2)"
   ]
  },
  {
   "cell_type": "code",
   "execution_count": 20,
   "metadata": {},
   "outputs": [],
   "source": [
    "beta0, beta1 = -0.5, 1"
   ]
  },
  {
   "cell_type": "code",
   "execution_count": 21,
   "metadata": {},
   "outputs": [],
   "source": [
    "hatw = beta0 + beta1 * setosa.SepalLength"
   ]
  },
  {
   "cell_type": "code",
   "execution_count": 22,
   "metadata": {},
   "outputs": [
    {
     "data": {
      "text/plain": "9.615650000000002"
     },
     "execution_count": 22,
     "metadata": {},
     "output_type": "execute_result"
    }
   ],
   "source": [
    "np.mean(e**2)"
   ]
  },
  {
   "cell_type": "code",
   "execution_count": 23,
   "metadata": {},
   "outputs": [],
   "source": [
    "beta0, beta1 = -0.75, 0.5"
   ]
  },
  {
   "cell_type": "code",
   "execution_count": 24,
   "metadata": {},
   "outputs": [],
   "source": [
    "hatw = beta0 + beta1 * setosa.SepalLength"
   ]
  },
  {
   "cell_type": "code",
   "execution_count": 26,
   "metadata": {},
   "outputs": [],
   "source": [
    "e = setosa.SepalWidth - hatw"
   ]
  },
  {
   "cell_type": "code",
   "execution_count": 27,
   "metadata": {},
   "outputs": [
    {
     "data": {
      "text/plain": "2.8796500000000003"
     },
     "execution_count": 27,
     "metadata": {},
     "output_type": "execute_result"
    }
   ],
   "source": [
    "np.mean(e**2)"
   ]
  },
  {
   "cell_type": "code",
   "execution_count": 28,
   "metadata": {},
   "outputs": [],
   "source": [
    "beta0, beta1 = -0.5696, 0.7985"
   ]
  },
  {
   "cell_type": "code",
   "execution_count": 29,
   "metadata": {},
   "outputs": [],
   "source": [
    "hatw = beta0 + beta1 * setosa.SepalLength"
   ]
  },
  {
   "cell_type": "code",
   "execution_count": 30,
   "metadata": {},
   "outputs": [],
   "source": [
    "e = setosa.SepalWidth - hatw"
   ]
  },
  {
   "cell_type": "code",
   "execution_count": 31,
   "metadata": {},
   "outputs": [
    {
     "data": {
      "text/plain": "0.06317359185000004"
     },
     "execution_count": 31,
     "metadata": {},
     "output_type": "execute_result"
    }
   ],
   "source": [
    "np.mean(e**2)"
   ]
  },
  {
   "cell_type": "code",
   "execution_count": 32,
   "metadata": {},
   "outputs": [],
   "source": [
    "import matplotlib.pyplot as plt"
   ]
  },
  {
   "cell_type": "code",
   "execution_count": 36,
   "metadata": {},
   "outputs": [
    {
     "data": {
      "text/plain": "<matplotlib.collections.PathCollection at 0x128be4ad0>"
     },
     "execution_count": 36,
     "metadata": {},
     "output_type": "execute_result"
    },
    {
     "data": {
      "image/png": "[encoded data removed]",
      "image/svg+xml": "<?xml version=\"1.0\" encoding=\"utf-8\" standalone=\"no\"?>\n<!DOCTYPE svg PUBLIC \"-//W3C//DTD SVG 1.1//EN\"\n  \"http://www.w3.org/Graphics/SVG/1.1/DTD/svg11.dtd\">\n<!-- Created with matplotlib (https://matplotlib.org/) -->\n<svg height=\"250.442755pt\" version=\"1.1\" viewBox=\"0 0 372.103125 250.442755\" width=\"372.103125pt\" xmlns=\"http://www.w3.org/2000/svg\" xmlns:xlink=\"http://www.w3.org/1999/xlink\">\n <defs>\n  <style type=\"text/css\">\n*{stroke-linecap:butt;stroke-linejoin:round;}\n  </style>\n </defs>\n <g id=\"figure_1\">\n  <g id=\"patch_1\">\n   <path d=\"M 0 250.442755 \nL 372.103125 250.442755 \nL 372.103125 0 \nL 0 0 \nz\n\" style=\"fill:none;\"/>\n  </g>\n  <g id=\"axes_1\">\n   <g id=\"patch_2\">\n    <path d=\"M 30.103125 226.56463 \nL 364.903125 226.56463 \nL 364.903125 9.12463 \nL 30.103125 9.12463 \nz\n\" style=\"fill:#ffffff;\"/>\n   </g>\n   <g id=\"PathCollection_1\">\n    <defs>\n     <path d=\"M 0 3 \nC 0.795609 3 1.55874 2.683901 2.12132 2.12132 \nC 2.683901 1.55874 3 0.795609 3 0 \nC 3 -0.795609 2.683901 -1.55874 2.12132 -2.12132 \nC 1.55874 -2.683901 0.795609 -3 0 -3 \nC -0.795609 -3 -1.55874 -2.683901 -2.12132 -2.12132 \nC -2.683901 -1.55874 -3 -0.795609 -3 0 \nC -3 0.795609 -2.683901 1.55874 -2.12132 2.12132 \nC -1.55874 2.683901 -0.795609 3 0 3 \nz\n\" id=\"m1680e6c474\" style=\"stroke:#1f77b4;\"/>\n    </defs>\n    <g clip-path=\"url(#p5e267e4a17)\">\n     <use style=\"fill:#1f77b4;stroke:#1f77b4;\" x=\"207.450149\" xlink:href=\"#m1680e6c474\" y=\"103.908272\"/>\n     <use style=\"fill:#1f77b4;stroke:#1f77b4;\" x=\"167.662054\" xlink:href=\"#m1680e6c474\" y=\"150.362799\"/>\n     <use style=\"fill:#1f77b4;stroke:#1f77b4;\" x=\"127.87396\" xlink:href=\"#m1680e6c474\" y=\"131.780988\"/>\n     <use style=\"fill:#1f77b4;stroke:#1f77b4;\" x=\"107.979913\" xlink:href=\"#m1680e6c474\" y=\"141.071893\"/>\n     <use style=\"fill:#1f77b4;stroke:#1f77b4;\" x=\"187.556101\" xlink:href=\"#m1680e6c474\" y=\"94.617367\"/>\n     <use style=\"fill:#1f77b4;stroke:#1f77b4;\" x=\"267.13229\" xlink:href=\"#m1680e6c474\" y=\"66.744651\"/>\n     <use style=\"fill:#1f77b4;stroke:#1f77b4;\" x=\"107.979913\" xlink:href=\"#m1680e6c474\" y=\"113.199177\"/>\n     <use style=\"fill:#1f77b4;stroke:#1f77b4;\" x=\"187.556101\" xlink:href=\"#m1680e6c474\" y=\"113.199177\"/>\n     <use style=\"fill:#1f77b4;stroke:#1f77b4;\" x=\"68.191819\" xlink:href=\"#m1680e6c474\" y=\"159.653704\"/>\n     <use style=\"fill:#1f77b4;stroke:#1f77b4;\" x=\"167.662054\" xlink:href=\"#m1680e6c474\" y=\"141.071893\"/>\n     <use style=\"fill:#1f77b4;stroke:#1f77b4;\" x=\"267.13229\" xlink:href=\"#m1680e6c474\" y=\"85.326461\"/>\n     <use style=\"fill:#1f77b4;stroke:#1f77b4;\" x=\"147.768007\" xlink:href=\"#m1680e6c474\" y=\"113.199177\"/>\n     <use style=\"fill:#1f77b4;stroke:#1f77b4;\" x=\"147.768007\" xlink:href=\"#m1680e6c474\" y=\"150.362799\"/>\n     <use style=\"fill:#1f77b4;stroke:#1f77b4;\" x=\"48.297772\" xlink:href=\"#m1680e6c474\" y=\"150.362799\"/>\n     <use style=\"fill:#1f77b4;stroke:#1f77b4;\" x=\"346.708478\" xlink:href=\"#m1680e6c474\" y=\"57.453745\"/>\n     <use style=\"fill:#1f77b4;stroke:#1f77b4;\" x=\"326.814431\" xlink:href=\"#m1680e6c474\" y=\"20.290124\"/>\n     <use style=\"fill:#1f77b4;stroke:#1f77b4;\" x=\"267.13229\" xlink:href=\"#m1680e6c474\" y=\"66.744651\"/>\n     <use style=\"fill:#1f77b4;stroke:#1f77b4;\" x=\"207.450149\" xlink:href=\"#m1680e6c474\" y=\"103.908272\"/>\n     <use style=\"fill:#1f77b4;stroke:#1f77b4;\" x=\"326.814431\" xlink:href=\"#m1680e6c474\" y=\"76.035556\"/>\n     <use style=\"fill:#1f77b4;stroke:#1f77b4;\" x=\"207.450149\" xlink:href=\"#m1680e6c474\" y=\"76.035556\"/>\n     <use style=\"fill:#1f77b4;stroke:#1f77b4;\" x=\"267.13229\" xlink:href=\"#m1680e6c474\" y=\"113.199177\"/>\n     <use style=\"fill:#1f77b4;stroke:#1f77b4;\" x=\"207.450149\" xlink:href=\"#m1680e6c474\" y=\"85.326461\"/>\n     <use style=\"fill:#1f77b4;stroke:#1f77b4;\" x=\"107.979913\" xlink:href=\"#m1680e6c474\" y=\"94.617367\"/>\n     <use style=\"fill:#1f77b4;stroke:#1f77b4;\" x=\"207.450149\" xlink:href=\"#m1680e6c474\" y=\"122.490083\"/>\n     <use style=\"fill:#1f77b4;stroke:#1f77b4;\" x=\"147.768007\" xlink:href=\"#m1680e6c474\" y=\"113.199177\"/>\n     <use style=\"fill:#1f77b4;stroke:#1f77b4;\" x=\"187.556101\" xlink:href=\"#m1680e6c474\" y=\"150.362799\"/>\n     <use style=\"fill:#1f77b4;stroke:#1f77b4;\" x=\"187.556101\" xlink:href=\"#m1680e6c474\" y=\"113.199177\"/>\n     <use style=\"fill:#1f77b4;stroke:#1f77b4;\" x=\"227.344196\" xlink:href=\"#m1680e6c474\" y=\"103.908272\"/>\n     <use style=\"fill:#1f77b4;stroke:#1f77b4;\" x=\"227.344196\" xlink:href=\"#m1680e6c474\" y=\"113.199177\"/>\n     <use style=\"fill:#1f77b4;stroke:#1f77b4;\" x=\"127.87396\" xlink:href=\"#m1680e6c474\" y=\"131.780988\"/>\n     <use style=\"fill:#1f77b4;stroke:#1f77b4;\" x=\"147.768007\" xlink:href=\"#m1680e6c474\" y=\"141.071893\"/>\n     <use style=\"fill:#1f77b4;stroke:#1f77b4;\" x=\"267.13229\" xlink:href=\"#m1680e6c474\" y=\"113.199177\"/>\n     <use style=\"fill:#1f77b4;stroke:#1f77b4;\" x=\"227.344196\" xlink:href=\"#m1680e6c474\" y=\"48.16284\"/>\n     <use style=\"fill:#1f77b4;stroke:#1f77b4;\" x=\"287.026337\" xlink:href=\"#m1680e6c474\" y=\"38.871935\"/>\n     <use style=\"fill:#1f77b4;stroke:#1f77b4;\" x=\"167.662054\" xlink:href=\"#m1680e6c474\" y=\"141.071893\"/>\n     <use style=\"fill:#1f77b4;stroke:#1f77b4;\" x=\"187.556101\" xlink:href=\"#m1680e6c474\" y=\"131.780988\"/>\n     <use style=\"fill:#1f77b4;stroke:#1f77b4;\" x=\"287.026337\" xlink:href=\"#m1680e6c474\" y=\"103.908272\"/>\n     <use style=\"fill:#1f77b4;stroke:#1f77b4;\" x=\"167.662054\" xlink:href=\"#m1680e6c474\" y=\"94.617367\"/>\n     <use style=\"fill:#1f77b4;stroke:#1f77b4;\" x=\"68.191819\" xlink:href=\"#m1680e6c474\" y=\"150.362799\"/>\n     <use style=\"fill:#1f77b4;stroke:#1f77b4;\" x=\"207.450149\" xlink:href=\"#m1680e6c474\" y=\"113.199177\"/>\n     <use style=\"fill:#1f77b4;stroke:#1f77b4;\" x=\"187.556101\" xlink:href=\"#m1680e6c474\" y=\"103.908272\"/>\n     <use style=\"fill:#1f77b4;stroke:#1f77b4;\" x=\"88.085866\" xlink:href=\"#m1680e6c474\" y=\"215.399136\"/>\n     <use style=\"fill:#1f77b4;stroke:#1f77b4;\" x=\"68.191819\" xlink:href=\"#m1680e6c474\" y=\"131.780988\"/>\n     <use style=\"fill:#1f77b4;stroke:#1f77b4;\" x=\"187.556101\" xlink:href=\"#m1680e6c474\" y=\"103.908272\"/>\n     <use style=\"fill:#1f77b4;stroke:#1f77b4;\" x=\"207.450149\" xlink:href=\"#m1680e6c474\" y=\"76.035556\"/>\n     <use style=\"fill:#1f77b4;stroke:#1f77b4;\" x=\"147.768007\" xlink:href=\"#m1680e6c474\" y=\"150.362799\"/>\n     <use style=\"fill:#1f77b4;stroke:#1f77b4;\" x=\"207.450149\" xlink:href=\"#m1680e6c474\" y=\"76.035556\"/>\n     <use style=\"fill:#1f77b4;stroke:#1f77b4;\" x=\"107.979913\" xlink:href=\"#m1680e6c474\" y=\"131.780988\"/>\n     <use style=\"fill:#1f77b4;stroke:#1f77b4;\" x=\"247.238243\" xlink:href=\"#m1680e6c474\" y=\"85.326461\"/>\n     <use style=\"fill:#1f77b4;stroke:#1f77b4;\" x=\"187.556101\" xlink:href=\"#m1680e6c474\" y=\"122.490083\"/>\n    </g>\n   </g>\n   <g id=\"PathCollection_2\">\n    <defs>\n     <path d=\"M 0 3 \nC 0.795609 3 1.55874 2.683901 2.12132 2.12132 \nC 2.683901 1.55874 3 0.795609 3 0 \nC 3 -0.795609 2.683901 -1.55874 2.12132 -2.12132 \nC 1.55874 -2.683901 0.795609 -3 0 -3 \nC -0.795609 -3 -1.55874 -2.683901 -2.12132 -2.12132 \nC -2.683901 -1.55874 -3 -0.795609 -3 0 \nC -3 0.795609 -2.683901 1.55874 -2.12132 2.12132 \nC -1.55874 2.683901 -0.795609 3 0 3 \nz\n\" id=\"m9c868c8262\" style=\"stroke:#ff7f0e;\"/>\n    </defs>\n    <g clip-path=\"url(#p5e267e4a17)\">\n     <use style=\"fill:#ff7f0e;stroke:#ff7f0e;\" x=\"207.450149\" xlink:href=\"#m9c868c8262\" y=\"103.652772\"/>\n     <use style=\"fill:#ff7f0e;stroke:#ff7f0e;\" x=\"167.662054\" xlink:href=\"#m9c868c8262\" y=\"118.490348\"/>\n     <use style=\"fill:#ff7f0e;stroke:#ff7f0e;\" x=\"127.87396\" xlink:href=\"#m9c868c8262\" y=\"133.327924\"/>\n     <use style=\"fill:#ff7f0e;stroke:#ff7f0e;\" x=\"107.979913\" xlink:href=\"#m9c868c8262\" y=\"140.746712\"/>\n     <use style=\"fill:#ff7f0e;stroke:#ff7f0e;\" x=\"187.556101\" xlink:href=\"#m9c868c8262\" y=\"111.07156\"/>\n     <use style=\"fill:#ff7f0e;stroke:#ff7f0e;\" x=\"267.13229\" xlink:href=\"#m9c868c8262\" y=\"81.396408\"/>\n     <use style=\"fill:#ff7f0e;stroke:#ff7f0e;\" x=\"107.979913\" xlink:href=\"#m9c868c8262\" y=\"140.746712\"/>\n     <use style=\"fill:#ff7f0e;stroke:#ff7f0e;\" x=\"187.556101\" xlink:href=\"#m9c868c8262\" y=\"111.07156\"/>\n     <use style=\"fill:#ff7f0e;stroke:#ff7f0e;\" x=\"68.191819\" xlink:href=\"#m9c868c8262\" y=\"155.584287\"/>\n     <use style=\"fill:#ff7f0e;stroke:#ff7f0e;\" x=\"167.662054\" xlink:href=\"#m9c868c8262\" y=\"118.490348\"/>\n     <use style=\"fill:#ff7f0e;stroke:#ff7f0e;\" x=\"267.13229\" xlink:href=\"#m9c868c8262\" y=\"81.396408\"/>\n     <use style=\"fill:#ff7f0e;stroke:#ff7f0e;\" x=\"147.768007\" xlink:href=\"#m9c868c8262\" y=\"125.909136\"/>\n     <use style=\"fill:#ff7f0e;stroke:#ff7f0e;\" x=\"147.768007\" xlink:href=\"#m9c868c8262\" y=\"125.909136\"/>\n     <use style=\"fill:#ff7f0e;stroke:#ff7f0e;\" x=\"48.297772\" xlink:href=\"#m9c868c8262\" y=\"163.003075\"/>\n     <use style=\"fill:#ff7f0e;stroke:#ff7f0e;\" x=\"346.708478\" xlink:href=\"#m9c868c8262\" y=\"51.721257\"/>\n     <use style=\"fill:#ff7f0e;stroke:#ff7f0e;\" x=\"326.814431\" xlink:href=\"#m9c868c8262\" y=\"59.140045\"/>\n     <use style=\"fill:#ff7f0e;stroke:#ff7f0e;\" x=\"267.13229\" xlink:href=\"#m9c868c8262\" y=\"81.396408\"/>\n     <use style=\"fill:#ff7f0e;stroke:#ff7f0e;\" x=\"207.450149\" xlink:href=\"#m9c868c8262\" y=\"103.652772\"/>\n     <use style=\"fill:#ff7f0e;stroke:#ff7f0e;\" x=\"326.814431\" xlink:href=\"#m9c868c8262\" y=\"59.140045\"/>\n     <use style=\"fill:#ff7f0e;stroke:#ff7f0e;\" x=\"207.450149\" xlink:href=\"#m9c868c8262\" y=\"103.652772\"/>\n     <use style=\"fill:#ff7f0e;stroke:#ff7f0e;\" x=\"267.13229\" xlink:href=\"#m9c868c8262\" y=\"81.396408\"/>\n     <use style=\"fill:#ff7f0e;stroke:#ff7f0e;\" x=\"207.450149\" xlink:href=\"#m9c868c8262\" y=\"103.652772\"/>\n     <use style=\"fill:#ff7f0e;stroke:#ff7f0e;\" x=\"107.979913\" xlink:href=\"#m9c868c8262\" y=\"140.746712\"/>\n     <use style=\"fill:#ff7f0e;stroke:#ff7f0e;\" x=\"207.450149\" xlink:href=\"#m9c868c8262\" y=\"103.652772\"/>\n     <use style=\"fill:#ff7f0e;stroke:#ff7f0e;\" x=\"147.768007\" xlink:href=\"#m9c868c8262\" y=\"125.909136\"/>\n     <use style=\"fill:#ff7f0e;stroke:#ff7f0e;\" x=\"187.556101\" xlink:href=\"#m9c868c8262\" y=\"111.07156\"/>\n     <use style=\"fill:#ff7f0e;stroke:#ff7f0e;\" x=\"187.556101\" xlink:href=\"#m9c868c8262\" y=\"111.07156\"/>\n     <use style=\"fill:#ff7f0e;stroke:#ff7f0e;\" x=\"227.344196\" xlink:href=\"#m9c868c8262\" y=\"96.233984\"/>\n     <use style=\"fill:#ff7f0e;stroke:#ff7f0e;\" x=\"227.344196\" xlink:href=\"#m9c868c8262\" y=\"96.233984\"/>\n     <use style=\"fill:#ff7f0e;stroke:#ff7f0e;\" x=\"127.87396\" xlink:href=\"#m9c868c8262\" y=\"133.327924\"/>\n     <use style=\"fill:#ff7f0e;stroke:#ff7f0e;\" x=\"147.768007\" xlink:href=\"#m9c868c8262\" y=\"125.909136\"/>\n     <use style=\"fill:#ff7f0e;stroke:#ff7f0e;\" x=\"267.13229\" xlink:href=\"#m9c868c8262\" y=\"81.396408\"/>\n     <use style=\"fill:#ff7f0e;stroke:#ff7f0e;\" x=\"227.344196\" xlink:href=\"#m9c868c8262\" y=\"96.233984\"/>\n     <use style=\"fill:#ff7f0e;stroke:#ff7f0e;\" x=\"287.026337\" xlink:href=\"#m9c868c8262\" y=\"73.97762\"/>\n     <use style=\"fill:#ff7f0e;stroke:#ff7f0e;\" x=\"167.662054\" xlink:href=\"#m9c868c8262\" y=\"118.490348\"/>\n     <use style=\"fill:#ff7f0e;stroke:#ff7f0e;\" x=\"187.556101\" xlink:href=\"#m9c868c8262\" y=\"111.07156\"/>\n     <use style=\"fill:#ff7f0e;stroke:#ff7f0e;\" x=\"287.026337\" xlink:href=\"#m9c868c8262\" y=\"73.97762\"/>\n     <use style=\"fill:#ff7f0e;stroke:#ff7f0e;\" x=\"167.662054\" xlink:href=\"#m9c868c8262\" y=\"118.490348\"/>\n     <use style=\"fill:#ff7f0e;stroke:#ff7f0e;\" x=\"68.191819\" xlink:href=\"#m9c868c8262\" y=\"155.584287\"/>\n     <use style=\"fill:#ff7f0e;stroke:#ff7f0e;\" x=\"207.450149\" xlink:href=\"#m9c868c8262\" y=\"103.652772\"/>\n     <use style=\"fill:#ff7f0e;stroke:#ff7f0e;\" x=\"187.556101\" xlink:href=\"#m9c868c8262\" y=\"111.07156\"/>\n     <use style=\"fill:#ff7f0e;stroke:#ff7f0e;\" x=\"88.085866\" xlink:href=\"#m9c868c8262\" y=\"148.165499\"/>\n     <use style=\"fill:#ff7f0e;stroke:#ff7f0e;\" x=\"68.191819\" xlink:href=\"#m9c868c8262\" y=\"155.584287\"/>\n     <use style=\"fill:#ff7f0e;stroke:#ff7f0e;\" x=\"187.556101\" xlink:href=\"#m9c868c8262\" y=\"111.07156\"/>\n     <use style=\"fill:#ff7f0e;stroke:#ff7f0e;\" x=\"207.450149\" xlink:href=\"#m9c868c8262\" y=\"103.652772\"/>\n     <use style=\"fill:#ff7f0e;stroke:#ff7f0e;\" x=\"147.768007\" xlink:href=\"#m9c868c8262\" y=\"125.909136\"/>\n     <use style=\"fill:#ff7f0e;stroke:#ff7f0e;\" x=\"207.450149\" xlink:href=\"#m9c868c8262\" y=\"103.652772\"/>\n     <use style=\"fill:#ff7f0e;stroke:#ff7f0e;\" x=\"107.979913\" xlink:href=\"#m9c868c8262\" y=\"140.746712\"/>\n     <use style=\"fill:#ff7f0e;stroke:#ff7f0e;\" x=\"247.238243\" xlink:href=\"#m9c868c8262\" y=\"88.815196\"/>\n     <use style=\"fill:#ff7f0e;stroke:#ff7f0e;\" x=\"187.556101\" xlink:href=\"#m9c868c8262\" y=\"111.07156\"/>\n    </g>\n   </g>\n   <g id=\"matplotlib.axis_1\">\n    <g id=\"xtick_1\">\n     <g id=\"line2d_1\">\n      <defs>\n       <path d=\"M 0 0 \nL 0 3.5 \n\" id=\"m017df633bb\" style=\"stroke:#000000;stroke-width:0.8;\"/>\n      </defs>\n      <g>\n       <use style=\"stroke:#000000;stroke-width:0.8;\" x=\"68.191819\" xlink:href=\"#m017df633bb\" y=\"226.56463\"/>\n      </g>\n     </g>\n     <g id=\"text_1\">\n      <!-- 4.4 -->\n      <defs>\n       <path d=\"M 37.796875 64.3125 \nL 12.890625 25.390625 \nL 37.796875 25.390625 \nz\nM 35.203125 72.90625 \nL 47.609375 72.90625 \nL 47.609375 25.390625 \nL 58.015625 25.390625 \nL 58.015625 17.1875 \nL 47.609375 17.1875 \nL 47.609375 0 \nL 37.796875 0 \nL 37.796875 17.1875 \nL 4.890625 17.1875 \nL 4.890625 26.703125 \nz\n\" id=\"DejaVuSans-52\"/>\n       <path d=\"M 10.6875 12.40625 \nL 21 12.40625 \nL 21 0 \nL 10.6875 0 \nz\n\" id=\"DejaVuSans-46\"/>\n      </defs>\n      <g transform=\"translate(60.240257 241.163067)scale(0.1 -0.1)\">\n       <use xlink:href=\"#DejaVuSans-52\"/>\n       <use x=\"63.623047\" xlink:href=\"#DejaVuSans-46\"/>\n       <use x=\"95.410156\" xlink:href=\"#DejaVuSans-52\"/>\n      </g>\n     </g>\n    </g>\n    <g id=\"xtick_2\">\n     <g id=\"line2d_2\">\n      <g>\n       <use style=\"stroke:#000000;stroke-width:0.8;\" x=\"107.979913\" xlink:href=\"#m017df633bb\" y=\"226.56463\"/>\n      </g>\n     </g>\n     <g id=\"text_2\">\n      <!-- 4.6 -->\n      <defs>\n       <path d=\"M 33.015625 40.375 \nQ 26.375 40.375 22.484375 35.828125 \nQ 18.609375 31.296875 18.609375 23.390625 \nQ 18.609375 15.53125 22.484375 10.953125 \nQ 26.375 6.390625 33.015625 6.390625 \nQ 39.65625 6.390625 43.53125 10.953125 \nQ 47.40625 15.53125 47.40625 23.390625 \nQ 47.40625 31.296875 43.53125 35.828125 \nQ 39.65625 40.375 33.015625 40.375 \nz\nM 52.59375 71.296875 \nL 52.59375 62.3125 \nQ 48.875 64.0625 45.09375 64.984375 \nQ 41.3125 65.921875 37.59375 65.921875 \nQ 27.828125 65.921875 22.671875 59.328125 \nQ 17.53125 52.734375 16.796875 39.40625 \nQ 19.671875 43.65625 24.015625 45.921875 \nQ 28.375 48.1875 33.59375 48.1875 \nQ 44.578125 48.1875 50.953125 41.515625 \nQ 57.328125 34.859375 57.328125 23.390625 \nQ 57.328125 12.15625 50.6875 5.359375 \nQ 44.046875 -1.421875 33.015625 -1.421875 \nQ 20.359375 -1.421875 13.671875 8.265625 \nQ 6.984375 17.96875 6.984375 36.375 \nQ 6.984375 53.65625 15.1875 63.9375 \nQ 23.390625 74.21875 37.203125 74.21875 \nQ 40.921875 74.21875 44.703125 73.484375 \nQ 48.484375 72.75 52.59375 71.296875 \nz\n\" id=\"DejaVuSans-54\"/>\n      </defs>\n      <g transform=\"translate(100.028351 241.163067)scale(0.1 -0.1)\">\n       <use xlink:href=\"#DejaVuSans-52\"/>\n       <use x=\"63.623047\" xlink:href=\"#DejaVuSans-46\"/>\n       <use x=\"95.410156\" xlink:href=\"#DejaVuSans-54\"/>\n      </g>\n     </g>\n    </g>\n    <g id=\"xtick_3\">\n     <g id=\"line2d_3\">\n      <g>\n       <use style=\"stroke:#000000;stroke-width:0.8;\" x=\"147.768007\" xlink:href=\"#m017df633bb\" y=\"226.56463\"/>\n      </g>\n     </g>\n     <g id=\"text_3\">\n      <!-- 4.8 -->\n      <defs>\n       <path d=\"M 31.78125 34.625 \nQ 24.75 34.625 20.71875 30.859375 \nQ 16.703125 27.09375 16.703125 20.515625 \nQ 16.703125 13.921875 20.71875 10.15625 \nQ 24.75 6.390625 31.78125 6.390625 \nQ 38.8125 6.390625 42.859375 10.171875 \nQ 46.921875 13.96875 46.921875 20.515625 \nQ 46.921875 27.09375 42.890625 30.859375 \nQ 38.875 34.625 31.78125 34.625 \nz\nM 21.921875 38.8125 \nQ 15.578125 40.375 12.03125 44.71875 \nQ 8.5 49.078125 8.5 55.328125 \nQ 8.5 64.0625 14.71875 69.140625 \nQ 20.953125 74.21875 31.78125 74.21875 \nQ 42.671875 74.21875 48.875 69.140625 \nQ 55.078125 64.0625 55.078125 55.328125 \nQ 55.078125 49.078125 51.53125 44.71875 \nQ 48 40.375 41.703125 38.8125 \nQ 48.828125 37.15625 52.796875 32.3125 \nQ 56.78125 27.484375 56.78125 20.515625 \nQ 56.78125 9.90625 50.3125 4.234375 \nQ 43.84375 -1.421875 31.78125 -1.421875 \nQ 19.734375 -1.421875 13.25 4.234375 \nQ 6.78125 9.90625 6.78125 20.515625 \nQ 6.78125 27.484375 10.78125 32.3125 \nQ 14.796875 37.15625 21.921875 38.8125 \nz\nM 18.3125 54.390625 \nQ 18.3125 48.734375 21.84375 45.5625 \nQ 25.390625 42.390625 31.78125 42.390625 \nQ 38.140625 42.390625 41.71875 45.5625 \nQ 45.3125 48.734375 45.3125 54.390625 \nQ 45.3125 60.0625 41.71875 63.234375 \nQ 38.140625 66.40625 31.78125 66.40625 \nQ 25.390625 66.40625 21.84375 63.234375 \nQ 18.3125 60.0625 18.3125 54.390625 \nz\n\" id=\"DejaVuSans-56\"/>\n      </defs>\n      <g transform=\"translate(139.816445 241.163067)scale(0.1 -0.1)\">\n       <use xlink:href=\"#DejaVuSans-52\"/>\n       <use x=\"63.623047\" xlink:href=\"#DejaVuSans-46\"/>\n       <use x=\"95.410156\" xlink:href=\"#DejaVuSans-56\"/>\n      </g>\n     </g>\n    </g>\n    <g id=\"xtick_4\">\n     <g id=\"line2d_4\">\n      <g>\n       <use style=\"stroke:#000000;stroke-width:0.8;\" x=\"187.556101\" xlink:href=\"#m017df633bb\" y=\"226.56463\"/>\n      </g>\n     </g>\n     <g id=\"text_4\">\n      <!-- 5.0 -->\n      <defs>\n       <path d=\"M 10.796875 72.90625 \nL 49.515625 72.90625 \nL 49.515625 64.59375 \nL 19.828125 64.59375 \nL 19.828125 46.734375 \nQ 21.96875 47.46875 24.109375 47.828125 \nQ 26.265625 48.1875 28.421875 48.1875 \nQ 40.625 48.1875 47.75 41.5 \nQ 54.890625 34.8125 54.890625 23.390625 \nQ 54.890625 11.625 47.5625 5.09375 \nQ 40.234375 -1.421875 26.90625 -1.421875 \nQ 22.3125 -1.421875 17.546875 -0.640625 \nQ 12.796875 0.140625 7.71875 1.703125 \nL 7.71875 11.625 \nQ 12.109375 9.234375 16.796875 8.0625 \nQ 21.484375 6.890625 26.703125 6.890625 \nQ 35.15625 6.890625 40.078125 11.328125 \nQ 45.015625 15.765625 45.015625 23.390625 \nQ 45.015625 31 40.078125 35.4375 \nQ 35.15625 39.890625 26.703125 39.890625 \nQ 22.75 39.890625 18.8125 39.015625 \nQ 14.890625 38.140625 10.796875 36.28125 \nz\n\" id=\"DejaVuSans-53\"/>\n       <path d=\"M 31.78125 66.40625 \nQ 24.171875 66.40625 20.328125 58.90625 \nQ 16.5 51.421875 16.5 36.375 \nQ 16.5 21.390625 20.328125 13.890625 \nQ 24.171875 6.390625 31.78125 6.390625 \nQ 39.453125 6.390625 43.28125 13.890625 \nQ 47.125 21.390625 47.125 36.375 \nQ 47.125 51.421875 43.28125 58.90625 \nQ 39.453125 66.40625 31.78125 66.40625 \nz\nM 31.78125 74.21875 \nQ 44.046875 74.21875 50.515625 64.515625 \nQ 56.984375 54.828125 56.984375 36.375 \nQ 56.984375 17.96875 50.515625 8.265625 \nQ 44.046875 -1.421875 31.78125 -1.421875 \nQ 19.53125 -1.421875 13.0625 8.265625 \nQ 6.59375 17.96875 6.59375 36.375 \nQ 6.59375 54.828125 13.0625 64.515625 \nQ 19.53125 74.21875 31.78125 74.21875 \nz\n\" id=\"DejaVuSans-48\"/>\n      </defs>\n      <g transform=\"translate(179.604539 241.163067)scale(0.1 -0.1)\">\n       <use xlink:href=\"#DejaVuSans-53\"/>\n       <use x=\"63.623047\" xlink:href=\"#DejaVuSans-46\"/>\n       <use x=\"95.410156\" xlink:href=\"#DejaVuSans-48\"/>\n      </g>\n     </g>\n    </g>\n    <g id=\"xtick_5\">\n     <g id=\"line2d_5\">\n      <g>\n       <use style=\"stroke:#000000;stroke-width:0.8;\" x=\"227.344196\" xlink:href=\"#m017df633bb\" y=\"226.56463\"/>\n      </g>\n     </g>\n     <g id=\"text_5\">\n      <!-- 5.2 -->\n      <defs>\n       <path d=\"M 19.1875 8.296875 \nL 53.609375 8.296875 \nL 53.609375 0 \nL 7.328125 0 \nL 7.328125 8.296875 \nQ 12.9375 14.109375 22.625 23.890625 \nQ 32.328125 33.6875 34.8125 36.53125 \nQ 39.546875 41.84375 41.421875 45.53125 \nQ 43.3125 49.21875 43.3125 52.78125 \nQ 43.3125 58.59375 39.234375 62.25 \nQ 35.15625 65.921875 28.609375 65.921875 \nQ 23.96875 65.921875 18.8125 64.3125 \nQ 13.671875 62.703125 7.8125 59.421875 \nL 7.8125 69.390625 \nQ 13.765625 71.78125 18.9375 73 \nQ 24.125 74.21875 28.421875 74.21875 \nQ 39.75 74.21875 46.484375 68.546875 \nQ 53.21875 62.890625 53.21875 53.421875 \nQ 53.21875 48.921875 51.53125 44.890625 \nQ 49.859375 40.875 45.40625 35.40625 \nQ 44.1875 33.984375 37.640625 27.21875 \nQ 31.109375 20.453125 19.1875 8.296875 \nz\n\" id=\"DejaVuSans-50\"/>\n      </defs>\n      <g transform=\"translate(219.392633 241.163067)scale(0.1 -0.1)\">\n       <use xlink:href=\"#DejaVuSans-53\"/>\n       <use x=\"63.623047\" xlink:href=\"#DejaVuSans-46\"/>\n       <use x=\"95.410156\" xlink:href=\"#DejaVuSans-50\"/>\n      </g>\n     </g>\n    </g>\n    <g id=\"xtick_6\">\n     <g id=\"line2d_6\">\n      <g>\n       <use style=\"stroke:#000000;stroke-width:0.8;\" x=\"267.13229\" xlink:href=\"#m017df633bb\" y=\"226.56463\"/>\n      </g>\n     </g>\n     <g id=\"text_6\">\n      <!-- 5.4 -->\n      <g transform=\"translate(259.180727 241.163067)scale(0.1 -0.1)\">\n       <use xlink:href=\"#DejaVuSans-53\"/>\n       <use x=\"63.623047\" xlink:href=\"#DejaVuSans-46\"/>\n       <use x=\"95.410156\" xlink:href=\"#DejaVuSans-52\"/>\n      </g>\n     </g>\n    </g>\n    <g id=\"xtick_7\">\n     <g id=\"line2d_7\">\n      <g>\n       <use style=\"stroke:#000000;stroke-width:0.8;\" x=\"306.920384\" xlink:href=\"#m017df633bb\" y=\"226.56463\"/>\n      </g>\n     </g>\n     <g id=\"text_7\">\n      <!-- 5.6 -->\n      <g transform=\"translate(298.968821 241.163067)scale(0.1 -0.1)\">\n       <use xlink:href=\"#DejaVuSans-53\"/>\n       <use x=\"63.623047\" xlink:href=\"#DejaVuSans-46\"/>\n       <use x=\"95.410156\" xlink:href=\"#DejaVuSans-54\"/>\n      </g>\n     </g>\n    </g>\n    <g id=\"xtick_8\">\n     <g id=\"line2d_8\">\n      <g>\n       <use style=\"stroke:#000000;stroke-width:0.8;\" x=\"346.708478\" xlink:href=\"#m017df633bb\" y=\"226.56463\"/>\n      </g>\n     </g>\n     <g id=\"text_8\">\n      <!-- 5.8 -->\n      <g transform=\"translate(338.756915 241.163067)scale(0.1 -0.1)\">\n       <use xlink:href=\"#DejaVuSans-53\"/>\n       <use x=\"63.623047\" xlink:href=\"#DejaVuSans-46\"/>\n       <use x=\"95.410156\" xlink:href=\"#DejaVuSans-56\"/>\n      </g>\n     </g>\n    </g>\n   </g>\n   <g id=\"matplotlib.axis_2\">\n    <g id=\"ytick_1\">\n     <g id=\"line2d_9\">\n      <defs>\n       <path d=\"M 0 0 \nL -3.5 0 \n\" id=\"m49391ab34f\" style=\"stroke:#000000;stroke-width:0.8;\"/>\n      </defs>\n      <g>\n       <use style=\"stroke:#000000;stroke-width:0.8;\" x=\"30.103125\" xlink:href=\"#m49391ab34f\" y=\"196.817325\"/>\n      </g>\n     </g>\n     <g id=\"text_9\">\n      <!-- 2.5 -->\n      <g transform=\"translate(7.2 200.616544)scale(0.1 -0.1)\">\n       <use xlink:href=\"#DejaVuSans-50\"/>\n       <use x=\"63.623047\" xlink:href=\"#DejaVuSans-46\"/>\n       <use x=\"95.410156\" xlink:href=\"#DejaVuSans-53\"/>\n      </g>\n     </g>\n    </g>\n    <g id=\"ytick_2\">\n     <g id=\"line2d_10\">\n      <g>\n       <use style=\"stroke:#000000;stroke-width:0.8;\" x=\"30.103125\" xlink:href=\"#m49391ab34f\" y=\"150.362799\"/>\n      </g>\n     </g>\n     <g id=\"text_10\">\n      <!-- 3.0 -->\n      <defs>\n       <path d=\"M 40.578125 39.3125 \nQ 47.65625 37.796875 51.625 33 \nQ 55.609375 28.21875 55.609375 21.1875 \nQ 55.609375 10.40625 48.1875 4.484375 \nQ 40.765625 -1.421875 27.09375 -1.421875 \nQ 22.515625 -1.421875 17.65625 -0.515625 \nQ 12.796875 0.390625 7.625 2.203125 \nL 7.625 11.71875 \nQ 11.71875 9.328125 16.59375 8.109375 \nQ 21.484375 6.890625 26.8125 6.890625 \nQ 36.078125 6.890625 40.9375 10.546875 \nQ 45.796875 14.203125 45.796875 21.1875 \nQ 45.796875 27.640625 41.28125 31.265625 \nQ 36.765625 34.90625 28.71875 34.90625 \nL 20.21875 34.90625 \nL 20.21875 43.015625 \nL 29.109375 43.015625 \nQ 36.375 43.015625 40.234375 45.921875 \nQ 44.09375 48.828125 44.09375 54.296875 \nQ 44.09375 59.90625 40.109375 62.90625 \nQ 36.140625 65.921875 28.71875 65.921875 \nQ 24.65625 65.921875 20.015625 65.03125 \nQ 15.375 64.15625 9.8125 62.3125 \nL 9.8125 71.09375 \nQ 15.4375 72.65625 20.34375 73.4375 \nQ 25.25 74.21875 29.59375 74.21875 \nQ 40.828125 74.21875 47.359375 69.109375 \nQ 53.90625 64.015625 53.90625 55.328125 \nQ 53.90625 49.265625 50.4375 45.09375 \nQ 46.96875 40.921875 40.578125 39.3125 \nz\n\" id=\"DejaVuSans-51\"/>\n      </defs>\n      <g transform=\"translate(7.2 154.162017)scale(0.1 -0.1)\">\n       <use xlink:href=\"#DejaVuSans-51\"/>\n       <use x=\"63.623047\" xlink:href=\"#DejaVuSans-46\"/>\n       <use x=\"95.410156\" xlink:href=\"#DejaVuSans-48\"/>\n      </g>\n     </g>\n    </g>\n    <g id=\"ytick_3\">\n     <g id=\"line2d_11\">\n      <g>\n       <use style=\"stroke:#000000;stroke-width:0.8;\" x=\"30.103125\" xlink:href=\"#m49391ab34f\" y=\"103.908272\"/>\n      </g>\n     </g>\n     <g id=\"text_11\">\n      <!-- 3.5 -->\n      <g transform=\"translate(7.2 107.707491)scale(0.1 -0.1)\">\n       <use xlink:href=\"#DejaVuSans-51\"/>\n       <use x=\"63.623047\" xlink:href=\"#DejaVuSans-46\"/>\n       <use x=\"95.410156\" xlink:href=\"#DejaVuSans-53\"/>\n      </g>\n     </g>\n    </g>\n    <g id=\"ytick_4\">\n     <g id=\"line2d_12\">\n      <g>\n       <use style=\"stroke:#000000;stroke-width:0.8;\" x=\"30.103125\" xlink:href=\"#m49391ab34f\" y=\"57.453745\"/>\n      </g>\n     </g>\n     <g id=\"text_12\">\n      <!-- 4.0 -->\n      <g transform=\"translate(7.2 61.252964)scale(0.1 -0.1)\">\n       <use xlink:href=\"#DejaVuSans-52\"/>\n       <use x=\"63.623047\" xlink:href=\"#DejaVuSans-46\"/>\n       <use x=\"95.410156\" xlink:href=\"#DejaVuSans-48\"/>\n      </g>\n     </g>\n    </g>\n    <g id=\"ytick_5\">\n     <g id=\"line2d_13\">\n      <g>\n       <use style=\"stroke:#000000;stroke-width:0.8;\" x=\"30.103125\" xlink:href=\"#m49391ab34f\" y=\"10.999219\"/>\n      </g>\n     </g>\n     <g id=\"text_13\">\n      <!-- 4.5 -->\n      <g transform=\"translate(7.2 14.798437)scale(0.1 -0.1)\">\n       <use xlink:href=\"#DejaVuSans-52\"/>\n       <use x=\"63.623047\" xlink:href=\"#DejaVuSans-46\"/>\n       <use x=\"95.410156\" xlink:href=\"#DejaVuSans-53\"/>\n      </g>\n     </g>\n    </g>\n   </g>\n   <g id=\"patch_3\">\n    <path d=\"M 30.103125 226.56463 \nL 30.103125 9.12463 \n\" style=\"fill:none;stroke:#000000;stroke-linecap:square;stroke-linejoin:miter;stroke-width:0.8;\"/>\n   </g>\n   <g id=\"patch_4\">\n    <path d=\"M 364.903125 226.56463 \nL 364.903125 9.12463 \n\" style=\"fill:none;stroke:#000000;stroke-linecap:square;stroke-linejoin:miter;stroke-width:0.8;\"/>\n   </g>\n   <g id=\"patch_5\">\n    <path d=\"M 30.103125 226.56463 \nL 364.903125 226.56463 \n\" style=\"fill:none;stroke:#000000;stroke-linecap:square;stroke-linejoin:miter;stroke-width:0.8;\"/>\n   </g>\n   <g id=\"patch_6\">\n    <path d=\"M 30.103125 9.12463 \nL 364.903125 9.12463 \n\" style=\"fill:none;stroke:#000000;stroke-linecap:square;stroke-linejoin:miter;stroke-width:0.8;\"/>\n   </g>\n  </g>\n </g>\n <defs>\n  <clipPath id=\"p5e267e4a17\">\n   <rect height=\"217.44\" width=\"334.8\" x=\"30.103125\" y=\"9.12463\"/>\n  </clipPath>\n </defs>\n</svg>\n",
      "text/plain": "<Figure size 432x288 with 1 Axes>"
     },
     "metadata": {
      "needs_background": "light"
     },
     "output_type": "display_data"
    }
   ],
   "source": [
    "plt.scatter(setosa.SepalLength, setosa.SepalWidth)\n",
    "plt.scatter(setosa.SepalLength, hatw)"
   ]
  },
  {
   "cell_type": "code",
   "execution_count": 37,
   "metadata": {},
   "outputs": [],
   "source": [
    "# R^2 measures percentage of variation in data explained by the model"
   ]
  },
  {
   "cell_type": "code",
   "execution_count": 38,
   "metadata": {},
   "outputs": [],
   "source": [
    "states = pd.read_csv('./states.csv.bz2', '\\t')"
   ]
  },
  {
   "cell_type": "code",
   "execution_count": 39,
   "metadata": {},
   "outputs": [
    {
     "data": {
      "text/html": "<div>\n<style scoped>\n    .dataframe tbody tr th:only-of-type {\n        vertical-align: middle;\n    }\n\n    .dataframe tbody tr th {\n        vertical-align: top;\n    }\n\n    .dataframe thead th {\n        text-align: right;\n    }\n</style>\n<table border=\"1\" class=\"dataframe\">\n  <thead>\n    <tr style=\"text-align: right;\">\n      <th></th>\n      <th>Population</th>\n      <th>Income</th>\n      <th>Illiteracy</th>\n      <th>LifeExp</th>\n      <th>Murder</th>\n      <th>HSGrad</th>\n      <th>Frost</th>\n      <th>Area</th>\n    </tr>\n  </thead>\n  <tbody>\n    <tr>\n      <th>0</th>\n      <td>3615</td>\n      <td>3624</td>\n      <td>2.1</td>\n      <td>69.05</td>\n      <td>15.1</td>\n      <td>41.3</td>\n      <td>20</td>\n      <td>50708</td>\n    </tr>\n    <tr>\n      <th>1</th>\n      <td>365</td>\n      <td>6315</td>\n      <td>1.5</td>\n      <td>69.31</td>\n      <td>11.3</td>\n      <td>66.7</td>\n      <td>152</td>\n      <td>566432</td>\n    </tr>\n    <tr>\n      <th>2</th>\n      <td>2212</td>\n      <td>4530</td>\n      <td>1.8</td>\n      <td>70.55</td>\n      <td>7.8</td>\n      <td>58.1</td>\n      <td>15</td>\n      <td>113417</td>\n    </tr>\n    <tr>\n      <th>3</th>\n      <td>2110</td>\n      <td>3378</td>\n      <td>1.9</td>\n      <td>70.66</td>\n      <td>10.1</td>\n      <td>39.9</td>\n      <td>65</td>\n      <td>51945</td>\n    </tr>\n    <tr>\n      <th>4</th>\n      <td>21198</td>\n      <td>5114</td>\n      <td>1.1</td>\n      <td>71.71</td>\n      <td>10.3</td>\n      <td>62.6</td>\n      <td>20</td>\n      <td>156361</td>\n    </tr>\n  </tbody>\n</table>\n</div>",
      "text/plain": "   Population  Income  Illiteracy  LifeExp  Murder  HSGrad  Frost    Area\n0        3615    3624         2.1    69.05    15.1    41.3     20   50708\n1         365    6315         1.5    69.31    11.3    66.7    152  566432\n2        2212    4530         1.8    70.55     7.8    58.1     15  113417\n3        2110    3378         1.9    70.66    10.1    39.9     65   51945\n4       21198    5114         1.1    71.71    10.3    62.6     20  156361"
     },
     "execution_count": 39,
     "metadata": {},
     "output_type": "execute_result"
    }
   ],
   "source": [
    "states.head()"
   ]
  },
  {
   "cell_type": "code",
   "execution_count": 40,
   "metadata": {},
   "outputs": [],
   "source": [
    "import statsmodels.formula.api as smf"
   ]
  },
  {
   "cell_type": "code",
   "execution_count": 43,
   "metadata": {},
   "outputs": [],
   "source": [
    "m = smf.ols(formula = 'Income ~ HSGrad + Illiteracy', data = states).fit()\n",
    "# plus is not mathematical, telling it to include a variable in the model"
   ]
  },
  {
   "cell_type": "code",
   "execution_count": 44,
   "metadata": {},
   "outputs": [
    {
     "data": {
      "text/html": "<table class=\"simpletable\">\n<caption>OLS Regression Results</caption>\n<tr>\n  <th>Dep. Variable:</th>         <td>Income</td>      <th>  R-squared:         </th> <td>   0.386</td>\n</tr>\n<tr>\n  <th>Model:</th>                   <td>OLS</td>       <th>  Adj. R-squared:    </th> <td>   0.360</td>\n</tr>\n<tr>\n  <th>Method:</th>             <td>Least Squares</td>  <th>  F-statistic:       </th> <td>   14.77</td>\n</tr>\n<tr>\n  <th>Date:</th>             <td>Wed, 12 Feb 2020</td> <th>  Prob (F-statistic):</th> <td>1.06e-05</td>\n</tr>\n<tr>\n  <th>Time:</th>                 <td>12:13:49</td>     <th>  Log-Likelihood:    </th> <td> -379.29</td>\n</tr>\n<tr>\n  <th>No. Observations:</th>      <td>    50</td>      <th>  AIC:               </th> <td>   764.6</td>\n</tr>\n<tr>\n  <th>Df Residuals:</th>          <td>    47</td>      <th>  BIC:               </th> <td>   770.3</td>\n</tr>\n<tr>\n  <th>Df Model:</th>              <td>     2</td>      <th>                     </th>     <td> </td>   \n</tr>\n<tr>\n  <th>Covariance Type:</th>      <td>nonrobust</td>    <th>                     </th>     <td> </td>   \n</tr>\n</table>\n<table class=\"simpletable\">\n<tr>\n       <td></td>         <th>coef</th>     <th>std err</th>      <th>t</th>      <th>P>|t|</th>  <th>[0.025</th>    <th>0.975]</th>  \n</tr>\n<tr>\n  <th>Intercept</th>  <td> 2131.3281</td> <td>  745.892</td> <td>    2.857</td> <td> 0.006</td> <td>  630.787</td> <td> 3631.869</td>\n</tr>\n<tr>\n  <th>HSGrad</th>     <td>   44.5518</td> <td>   11.538</td> <td>    3.861</td> <td> 0.000</td> <td>   21.341</td> <td>   67.763</td>\n</tr>\n<tr>\n  <th>Illiteracy</th> <td>  -52.6365</td> <td>  152.888</td> <td>   -0.344</td> <td> 0.732</td> <td> -360.207</td> <td>  254.934</td>\n</tr>\n</table>\n<table class=\"simpletable\">\n<tr>\n  <th>Omnibus:</th>       <td> 1.037</td> <th>  Durbin-Watson:     </th> <td>   2.291</td>\n</tr>\n<tr>\n  <th>Prob(Omnibus):</th> <td> 0.595</td> <th>  Jarque-Bera (JB):  </th> <td>   0.486</td>\n</tr>\n<tr>\n  <th>Skew:</th>          <td> 0.217</td> <th>  Prob(JB):          </th> <td>   0.784</td>\n</tr>\n<tr>\n  <th>Kurtosis:</th>      <td> 3.211</td> <th>  Cond. No.          </th> <td>    584.</td>\n</tr>\n</table><br/><br/>Warnings:<br/>[1] Standard Errors assume that the covariance matrix of the errors is correctly specified.",
      "text/plain": "<class 'statsmodels.iolib.summary.Summary'>\n\"\"\"\n                            OLS Regression Results                            \n==============================================================================\nDep. Variable:                 Income   R-squared:                       0.386\nModel:                            OLS   Adj. R-squared:                  0.360\nMethod:                 Least Squares   F-statistic:                     14.77\nDate:                Wed, 12 Feb 2020   Prob (F-statistic):           1.06e-05\nTime:                        12:13:49   Log-Likelihood:                -379.29\nNo. Observations:                  50   AIC:                             764.6\nDf Residuals:                      47   BIC:                             770.3\nDf Model:                           2                                         \nCovariance Type:            nonrobust                                         \n==============================================================================\n                 coef    std err          t      P>|t|      [0.025      0.975]\n------------------------------------------------------------------------------\nIntercept   2131.3281    745.892      2.857      0.006     630.787    3631.869\nHSGrad        44.5518     11.538      3.861      0.000      21.341      67.763\nIlliteracy   -52.6365    152.888     -0.344      0.732    -360.207     254.934\n==============================================================================\nOmnibus:                        1.037   Durbin-Watson:                   2.291\nProb(Omnibus):                  0.595   Jarque-Bera (JB):                0.486\nSkew:                           0.217   Prob(JB):                        0.784\nKurtosis:                       3.211   Cond. No.                         584.\n==============================================================================\n\nWarnings:\n[1] Standard Errors assume that the covariance matrix of the errors is correctly specified.\n\"\"\""
     },
     "execution_count": 44,
     "metadata": {},
     "output_type": "execute_result"
    }
   ],
   "source": [
    "m.summary()"
   ]
  },
  {
   "cell_type": "code",
   "execution_count": null,
   "metadata": {},
   "outputs": [],
   "source": []
  }
 ]
}