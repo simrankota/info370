{
 "nbformat": 4,
 "nbformat_minor": 2,
 "metadata": {
  "language_info": {
   "name": "python",
   "codemirror_mode": {
    "name": "ipython",
    "version": 3
   },
   "version": "3.7.1-final"
  },
  "orig_nbformat": 2,
  "file_extension": ".py",
  "mimetype": "text/x-python",
  "name": "python",
  "npconvert_exporter": "python",
  "pygments_lexer": "ipython3",
  "version": 3,
  "kernelspec": {
   "name": "python3",
   "display_name": "Python 3"
  }
 },
 "cells": [
  {
   "cell_type": "markdown",
   "metadata": {},
   "source": [
    "## ---------- PS1: how do you feel about these questions? ----------## Write a function `RemoveDigits` that will remove all digits (i.e., 0 through 9) from all elements in a *list of strings* Demonstrate that your approach is successful by passing a list of courses and other objects to your function## For example, RemoveDigits([\"INFO 201\", \"CSE 142\", \"mps-803c\"])## Write an if/else statement that checks to see if your list has any digits left. If it does have## digits, print \"Oh no!\", if it does not then print \"Yay!\""
   ]
  },
  {
   "cell_type": "markdown",
   "metadata": {},
   "source": [
    "## ---------- PS2: ----------\n",
    "## What was the largest plane in terms of seats\n",
    "## that flow to San Diego from NYC?  Tell us it's number of seats, manufacturer, and model.\n",
    "## (5pt) What was the average flight duration to San Diego (arrival minus\n",
    "## departure time)?  How long was the slowest as the fastest flight?\n",
    "##\n",
    "## Compare your results with those you find in flight schedules.  What\n",
    "## do you find?"
   ]
  },
  {
   "cell_type": "code",
   "execution_count": 3,
   "metadata": {},
   "outputs": [],
   "source": [
    "import pandas as pd\n",
    "import numpy as np\n"
   ]
  },
  {
   "cell_type": "markdown",
   "metadata": {},
   "source": [
    "## ---------- PS3: ----------\n",
    "\n",
    "## Inference, MC\n",
    "\n",
    "## Imagine that there is no real\n",
    "## difference between fathers and sons.  Hence whatever we see in the\n",
    "## actual data is just random sampling noise.  We would like to have a\n",
    "## huge number of fathers and sons to test it, but unfortunately we do\n",
    "## not have that.  So what we do instead: we create a huge number of\n",
    "## fathers and sons, drawn from exactly the same distribution.\n",
    "## Thereafter we can sample from our artificial population and see how\n",
    "## often do we get as large a difference as we see in data.\n",
    "## Well, as we deal with random numbers, there is no need to create a\n",
    "## huge random population.  We can always just ask for more similar\n",
    "## random numbers."
   ]
  },
  {
   "cell_type": "code",
   "execution_count": 6,
   "metadata": {},
   "outputs": [],
   "source": [
    "data = pd.read_csv('../assignments/nycflights13.csv.bz2', '\\t')"
   ]
  },
  {
   "cell_type": "code",
   "execution_count": 7,
   "metadata": {},
   "outputs": [
    {
     "data": {
      "text/html": "<div>\n<style scoped>\n    .dataframe tbody tr th:only-of-type {\n        vertical-align: middle;\n    }\n\n    .dataframe tbody tr th {\n        vertical-align: top;\n    }\n\n    .dataframe thead th {\n        text-align: right;\n    }\n</style>\n<table border=\"1\" class=\"dataframe\">\n  <thead>\n    <tr style=\"text-align: right;\">\n      <th></th>\n      <th>year</th>\n      <th>month</th>\n      <th>day</th>\n      <th>dep_time</th>\n      <th>sched_dep_time</th>\n      <th>dep_delay</th>\n      <th>arr_time</th>\n      <th>sched_arr_time</th>\n      <th>arr_delay</th>\n      <th>carrier</th>\n      <th>flight</th>\n      <th>tailnum</th>\n      <th>origin</th>\n      <th>dest</th>\n      <th>air_time</th>\n      <th>distance</th>\n      <th>hour</th>\n      <th>minute</th>\n      <th>time_hour</th>\n    </tr>\n  </thead>\n  <tbody>\n    <tr>\n      <th>0</th>\n      <td>2013</td>\n      <td>1</td>\n      <td>1</td>\n      <td>517.0</td>\n      <td>515</td>\n      <td>2.0</td>\n      <td>830.0</td>\n      <td>819</td>\n      <td>11.0</td>\n      <td>UA</td>\n      <td>1545</td>\n      <td>N14228</td>\n      <td>EWR</td>\n      <td>IAH</td>\n      <td>227.0</td>\n      <td>1400</td>\n      <td>5</td>\n      <td>15</td>\n      <td>2013-01-01T10:00:00Z</td>\n    </tr>\n    <tr>\n      <th>1</th>\n      <td>2013</td>\n      <td>1</td>\n      <td>1</td>\n      <td>533.0</td>\n      <td>529</td>\n      <td>4.0</td>\n      <td>850.0</td>\n      <td>830</td>\n      <td>20.0</td>\n      <td>UA</td>\n      <td>1714</td>\n      <td>N24211</td>\n      <td>LGA</td>\n      <td>IAH</td>\n      <td>227.0</td>\n      <td>1416</td>\n      <td>5</td>\n      <td>29</td>\n      <td>2013-01-01T10:00:00Z</td>\n    </tr>\n    <tr>\n      <th>2</th>\n      <td>2013</td>\n      <td>1</td>\n      <td>1</td>\n      <td>542.0</td>\n      <td>540</td>\n      <td>2.0</td>\n      <td>923.0</td>\n      <td>850</td>\n      <td>33.0</td>\n      <td>AA</td>\n      <td>1141</td>\n      <td>N619AA</td>\n      <td>JFK</td>\n      <td>MIA</td>\n      <td>160.0</td>\n      <td>1089</td>\n      <td>5</td>\n      <td>40</td>\n      <td>2013-01-01T10:00:00Z</td>\n    </tr>\n    <tr>\n      <th>3</th>\n      <td>2013</td>\n      <td>1</td>\n      <td>1</td>\n      <td>544.0</td>\n      <td>545</td>\n      <td>-1.0</td>\n      <td>1004.0</td>\n      <td>1022</td>\n      <td>-18.0</td>\n      <td>B6</td>\n      <td>725</td>\n      <td>N804JB</td>\n      <td>JFK</td>\n      <td>BQN</td>\n      <td>183.0</td>\n      <td>1576</td>\n      <td>5</td>\n      <td>45</td>\n      <td>2013-01-01T10:00:00Z</td>\n    </tr>\n    <tr>\n      <th>4</th>\n      <td>2013</td>\n      <td>1</td>\n      <td>1</td>\n      <td>554.0</td>\n      <td>600</td>\n      <td>-6.0</td>\n      <td>812.0</td>\n      <td>837</td>\n      <td>-25.0</td>\n      <td>DL</td>\n      <td>461</td>\n      <td>N668DN</td>\n      <td>LGA</td>\n      <td>ATL</td>\n      <td>116.0</td>\n      <td>762</td>\n      <td>6</td>\n      <td>0</td>\n      <td>2013-01-01T11:00:00Z</td>\n    </tr>\n  </tbody>\n</table>\n</div>",
      "text/plain": "   year  month  day  dep_time  sched_dep_time  dep_delay  arr_time  \\\n0  2013      1    1     517.0             515        2.0     830.0   \n1  2013      1    1     533.0             529        4.0     850.0   \n2  2013      1    1     542.0             540        2.0     923.0   \n3  2013      1    1     544.0             545       -1.0    1004.0   \n4  2013      1    1     554.0             600       -6.0     812.0   \n\n   sched_arr_time  arr_delay carrier  flight tailnum origin dest  air_time  \\\n0             819       11.0      UA    1545  N14228    EWR  IAH     227.0   \n1             830       20.0      UA    1714  N24211    LGA  IAH     227.0   \n2             850       33.0      AA    1141  N619AA    JFK  MIA     160.0   \n3            1022      -18.0      B6     725  N804JB    JFK  BQN     183.0   \n4             837      -25.0      DL     461  N668DN    LGA  ATL     116.0   \n\n   distance  hour  minute             time_hour  \n0      1400     5      15  2013-01-01T10:00:00Z  \n1      1416     5      29  2013-01-01T10:00:00Z  \n2      1089     5      40  2013-01-01T10:00:00Z  \n3      1576     5      45  2013-01-01T10:00:00Z  \n4       762     6       0  2013-01-01T11:00:00Z  "
     },
     "execution_count": 7,
     "metadata": {},
     "output_type": "execute_result"
    }
   ],
   "source": [
    "data.head()"
   ]
  },
  {
   "cell_type": "code",
   "execution_count": 8,
   "metadata": {},
   "outputs": [
    {
     "data": {
      "text/plain": "(336776, 19)"
     },
     "execution_count": 8,
     "metadata": {},
     "output_type": "execute_result"
    }
   ],
   "source": [
    "data.shape"
   ]
  },
  {
   "cell_type": "code",
   "execution_count": 10,
   "metadata": {},
   "outputs": [],
   "source": [
    "delays = data[['dep_delay', 'arr_delay']]"
   ]
  },
  {
   "cell_type": "code",
   "execution_count": 11,
   "metadata": {},
   "outputs": [
    {
     "data": {
      "text/plain": "dep_delay    12.639070\narr_delay     6.895377\ndtype: float64"
     },
     "execution_count": 11,
     "metadata": {},
     "output_type": "execute_result"
    }
   ],
   "source": [
    "delays.mean()"
   ]
  },
  {
   "cell_type": "code",
   "execution_count": 12,
   "metadata": {},
   "outputs": [
    {
     "data": {
      "text/plain": "pandas.core.frame.DataFrame"
     },
     "execution_count": 12,
     "metadata": {},
     "output_type": "execute_result"
    }
   ],
   "source": [
    "type(delays)"
   ]
  },
  {
   "cell_type": "code",
   "execution_count": 13,
   "metadata": {},
   "outputs": [],
   "source": [
    "delays = data[['dep_delay', 'arr_delay']].values\n",
    "# get same data in matrix form instead of DataFrame\n",
    "# doesn't make sense with different data types"
   ]
  },
  {
   "cell_type": "code",
   "execution_count": 15,
   "metadata": {},
   "outputs": [
    {
     "data": {
      "text/plain": "numpy.ndarray"
     },
     "execution_count": 15,
     "metadata": {},
     "output_type": "execute_result"
    }
   ],
   "source": [
    "type(delays)"
   ]
  },
  {
   "cell_type": "code",
   "execution_count": 16,
   "metadata": {},
   "outputs": [],
   "source": [
    "delays = data[['dep_delay', 'arr_delay']]"
   ]
  },
  {
   "cell_type": "code",
   "execution_count": 17,
   "metadata": {},
   "outputs": [
    {
     "data": {
      "text/plain": "(336776, 2)"
     },
     "execution_count": 17,
     "metadata": {},
     "output_type": "execute_result"
    }
   ],
   "source": [
    "delays.shape"
   ]
  },
  {
   "cell_type": "code",
   "execution_count": 18,
   "metadata": {},
   "outputs": [
    {
     "data": {
      "text/plain": "(327346, 2)"
     },
     "execution_count": 18,
     "metadata": {},
     "output_type": "execute_result"
    }
   ],
   "source": [
    "delays.dropna().shape"
   ]
  },
  {
   "cell_type": "code",
   "execution_count": 19,
   "metadata": {},
   "outputs": [],
   "source": [
    "delays = delays.dropna().values"
   ]
  },
  {
   "cell_type": "code",
   "execution_count": 21,
   "metadata": {},
   "outputs": [],
   "source": [
    "mu = delays.mean()"
   ]
  },
  {
   "cell_type": "code",
   "execution_count": 23,
   "metadata": {},
   "outputs": [],
   "source": [
    "std = delays.std()"
   ]
  },
  {
   "cell_type": "markdown",
   "metadata": {},
   "source": [
    "## Monte Carlo"
   ]
  },
  {
   "cell_type": "markdown",
   "metadata": {},
   "source": [
    "If we create a random normal distribution, how likely is it that this difference in means will exist"
   ]
  },
  {
   "cell_type": "code",
   "execution_count": 24,
   "metadata": {},
   "outputs": [],
   "source": [
    "N = 1000"
   ]
  },
  {
   "cell_type": "code",
   "execution_count": 35,
   "metadata": {},
   "outputs": [],
   "source": [
    "R = 1000"
   ]
  },
  {
   "cell_type": "code",
   "execution_count": 28,
   "metadata": {},
   "outputs": [],
   "source": [
    "da = np.random.normal(mu, std, size=N)"
   ]
  },
  {
   "cell_type": "code",
   "execution_count": 29,
   "metadata": {},
   "outputs": [
    {
     "data": {
      "text/plain": "array([  44.31836222,  -45.90912551, -108.94472791,   91.36179132,\n        -17.94140546,  -52.1019484 ,   -0.30704002,   27.61489427,\n         49.68779227,  -16.88553143,  -62.87431274,  -39.12996675,\n         43.85515083,   87.79119689,  -19.42969085,   19.0799031 ,\n         41.60792138,  -58.55827082,   34.11594713,   -3.77846283])"
     },
     "execution_count": 29,
     "metadata": {},
     "output_type": "execute_result"
    }
   ],
   "source": [
    "da[:20]"
   ]
  },
  {
   "cell_type": "code",
   "execution_count": 30,
   "metadata": {},
   "outputs": [],
   "source": [
    "dd = np.random.normal(mu, std, size=N)"
   ]
  },
  {
   "cell_type": "code",
   "execution_count": 31,
   "metadata": {},
   "outputs": [
    {
     "data": {
      "text/plain": "9.295977143721187"
     },
     "execution_count": 31,
     "metadata": {},
     "output_type": "execute_result"
    }
   ],
   "source": [
    "dd.mean()"
   ]
  },
  {
   "cell_type": "code",
   "execution_count": 32,
   "metadata": {},
   "outputs": [
    {
     "data": {
      "text/plain": "10.894832229868562"
     },
     "execution_count": 32,
     "metadata": {},
     "output_type": "execute_result"
    }
   ],
   "source": [
    "da.mean()"
   ]
  },
  {
   "cell_type": "code",
   "execution_count": 37,
   "metadata": {},
   "outputs": [],
   "source": [
    "dif = np.empty(shape=R)\n",
    "# start with random meaningless values which you will have to fill in\n",
    "for l in range(R):\n",
    "    da = np.random.normal(mu, std, size=N)\n",
    "    dd = np.random.normal(mu, std, size=N)\n",
    "    d = da.mean() - dd.mean()\n",
    "    dif[l] = d\n",
    "    # d.append(d) is very inefficient with large arrays -- computer has to do a lot of memory operations because the list changes its size"
   ]
  },
  {
   "cell_type": "code",
   "execution_count": 38,
   "metadata": {},
   "outputs": [
    {
     "data": {
      "text/plain": "array([ 3.11217307e+00, -2.25961661e+00, -1.92279457e+00, -7.02223008e-02,\n        2.47063236e-02, -4.99531967e-01, -3.18483277e+00,  3.42288178e+00,\n        5.68917279e-03,  5.14566350e-03,  8.11099407e-01, -1.45825046e+00,\n       -1.40661127e+00, -9.97186605e-01,  4.31838210e-01,  3.85736479e-01,\n        8.64863824e-01, -2.65837418e+00, -7.55277362e-01, -7.45689452e-02,\n        2.16772549e+00, -2.09506613e+00, -1.61595257e-01, -9.88214598e-01,\n        4.83180318e-01,  6.56069752e-01,  6.74215417e-01, -6.21538269e-01,\n       -2.35393770e+00,  1.71385146e-01, -1.90014876e+00, -5.30726933e-01,\n       -2.20451388e+00, -2.72929373e+00, -2.01657279e+00, -6.35300907e-01,\n        3.11710876e+00,  1.38484967e+00, -2.65684829e+00,  2.99349001e+00,\n       -3.16474570e-01,  3.85024178e-03, -7.84559945e-01, -1.30054009e+00,\n        1.05720064e+00, -1.00321333e+00, -6.25100420e-01, -8.99400475e-01,\n       -1.62511224e+00, -1.45752395e+00,  5.06914717e-01,  4.55843234e-02,\n        2.29310191e+00,  1.00335417e+00, -6.84771447e-01,  1.94374815e+00,\n        1.72969281e+00,  1.96266479e+00, -4.62763713e+00,  1.26748017e+00,\n       -3.11237723e+00,  6.85981504e-01, -5.41628903e-01,  4.73516912e+00,\n       -4.51172125e-01, -5.31622128e-01,  2.26898538e+00,  3.71554567e-01,\n        7.66303079e-01,  3.41806440e+00, -1.63710289e+00, -2.09937000e+00,\n        1.64717638e+00, -1.09148374e+00,  1.87604069e+00, -1.44643655e+00,\n        1.64334783e-01, -4.90479250e-01,  1.69164973e+00,  1.88312922e+00,\n        1.86624180e+00, -4.09943594e-01, -4.18515527e-01, -9.19390066e-01,\n        4.50589228e+00, -3.85653765e-01,  8.21031275e-01, -1.25986664e+00,\n       -6.92732547e-01,  6.46392826e-01, -6.27967587e-01, -4.41984658e-01,\n        3.52296335e-01, -1.83479577e-01, -3.32794087e+00,  1.64115007e+00,\n        3.31838826e-01,  4.85855576e-01, -9.66250667e-01,  3.95616917e-01,\n        2.74666176e+00,  1.71621971e-01, -4.03769475e-01, -1.05250178e+00,\n       -1.88211372e-01, -4.53094024e-01, -4.33356997e+00,  1.38383728e+00,\n        2.80969654e+00, -9.95138290e-01,  3.24043560e+00,  2.08355804e+00,\n       -6.00365921e-01,  3.97917660e-01,  2.25678859e+00,  6.16005332e-01,\n        3.60583506e+00, -1.53319317e+00,  1.45650094e+00, -1.03772389e+00,\n        1.84466812e+00,  3.65815566e+00, -9.15501896e-01,  2.64011263e+00,\n       -1.18262184e+00,  4.84592519e+00,  2.47764054e+00,  4.73811738e-01,\n       -2.17790277e+00,  2.54924978e+00,  1.84406492e+00,  3.52557968e+00,\n       -1.99471164e+00, -6.95868413e-01, -3.06488853e+00, -2.82369773e-01,\n        3.80147555e+00, -2.92145808e+00, -5.02250746e-02,  3.07601915e-01,\n       -2.14213014e+00, -1.04821637e+00, -8.94194475e-02, -2.79458007e-01,\n       -9.05872473e-01,  2.21440915e+00, -1.23292291e-01, -2.49850883e+00,\n        5.27083562e-02,  5.93565729e-01, -1.21480693e+00, -1.79545157e+00,\n        1.55240339e-01,  1.53100542e+00, -7.94122484e-01,  2.30438797e+00,\n        9.76438339e-01, -9.05101925e-02,  1.50982446e-01, -1.80586487e-01,\n        9.92064943e-01, -2.87502837e+00, -1.85557655e+00,  1.89352943e+00,\n       -4.58309930e+00,  3.52291720e+00, -7.21744369e-01, -1.28936195e-01,\n       -1.22600147e+00, -8.40923513e-01,  1.14888790e-01, -1.34434824e-01,\n       -6.32262232e-01, -5.20797100e-01,  4.61098102e-01,  1.04759068e+00,\n        1.97585286e+00,  1.19618632e+00,  7.28581878e-01,  1.21954085e+00,\n        6.78619364e-01,  9.61685965e-02, -8.64886549e-01,  9.32212757e-01,\n       -6.51326004e-01, -6.70779329e-01,  6.75772143e-01,  5.23687820e-01,\n       -5.10457800e-01,  2.49136597e+00, -1.49726901e-01,  2.72140028e+00,\n        1.29260828e-01, -9.90744096e-01,  5.91509787e-01, -1.89075079e+00,\n       -3.08357105e-02,  3.35281208e+00,  1.80609926e+00,  3.98996455e-01,\n       -8.76159477e-01,  3.69484889e+00, -2.92153499e+00,  2.03321444e+00,\n        6.01667047e-01, -2.26659833e+00,  1.17301056e-01,  2.05372932e+00,\n       -7.11702546e-01, -1.01092996e+00, -2.05253741e-01, -4.21047614e-01,\n       -7.11588143e-01,  3.66811556e+00,  2.47898746e-01, -7.22303508e-01,\n        5.97153285e-01, -4.53552086e-01,  1.44226440e+00, -7.56897660e-01,\n        1.08998392e-01, -9.38310976e-02,  1.01544258e+00,  1.83717281e-02,\n       -3.98859619e-01, -5.33567589e-01, -3.17168789e-01, -1.07343563e+00,\n        3.61960861e+00, -6.63006110e-01,  2.91861872e+00,  9.85171899e-01,\n       -2.46592466e+00,  6.09908070e-02, -4.76649738e-01, -4.41635458e-01,\n        3.06409322e+00, -2.69589259e+00,  1.79777050e+00, -8.31793520e-01,\n       -2.18176739e+00,  1.39096133e+00, -8.07611314e-01, -3.80704834e+00,\n        1.49334444e+00, -9.34294827e-01,  3.57514168e-01, -3.12442954e+00,\n       -6.48759693e-01, -1.67457724e-01,  2.82327208e+00, -3.83189931e-01,\n        1.62757753e+00,  2.33516725e-01, -1.46050046e-02,  1.47373013e+00,\n       -2.75548156e+00,  2.00466940e+00, -3.78251219e-01, -3.66998221e-01,\n       -9.09079463e-01,  1.54160045e+00,  3.09977286e-03, -2.67966303e+00,\n        4.07676554e+00, -1.15404278e+00,  1.16571586e+00, -1.31503708e+00,\n        3.62170891e-03,  7.49047453e-01, -5.80151131e-01,  3.14674041e-01,\n        1.55924913e+00, -7.47077950e-01,  2.42393354e+00, -1.86133747e+00,\n        1.30826678e+00,  3.27041390e+00, -5.21928867e-01,  4.45069208e-01,\n        3.34561230e+00,  1.66613669e+00,  1.03871224e+00,  6.05837606e-01,\n        7.17528406e-01, -3.75739396e+00, -3.00346884e+00,  1.00212729e+00,\n        2.30601229e+00,  9.89540430e-01,  2.75202018e+00,  3.39639780e-01,\n        1.64283515e+00,  1.66343464e+00,  5.12184212e-01, -2.28581602e+00,\n        2.16091746e+00,  1.01849891e+00, -2.20144340e+00,  4.51601987e+00,\n        1.99949308e+00,  4.67267144e+00,  6.37895941e-01,  1.25809519e+00,\n        1.36166990e+00,  1.40129418e+00, -1.52066117e+00, -1.68448399e+00,\n       -2.63774554e+00,  4.13925477e-01,  6.40353745e-02, -2.67329860e-01,\n        2.21278109e+00, -1.17682997e-01, -4.25079153e+00,  2.10211499e+00,\n       -2.10920583e+00, -9.48352482e-01,  1.61992676e+00, -8.85497981e-01,\n       -6.77483647e-02, -4.43423310e-01,  1.69864239e+00, -6.56177114e-01,\n        1.06903972e+00, -3.23173943e+00,  1.88394098e+00,  1.35319157e+00,\n       -1.12985798e+00, -1.70552095e+00,  3.00481593e+00, -2.22572058e-01,\n        1.66758217e+00,  1.18947496e+00,  3.45667571e+00,  3.11983290e-01,\n        1.50390845e+00,  4.46508189e-01, -1.03379481e+00, -1.14202056e+00,\n       -7.05951925e-01,  2.46914262e+00,  9.28199214e-02, -3.06783118e+00,\n       -8.95146809e-02, -2.24463501e+00, -1.65724694e+00, -1.00640584e+00,\n        4.16636085e+00,  8.97658715e-02, -4.35482748e+00,  1.41085435e+00,\n        1.19163810e-01, -2.13496526e+00, -1.72067602e-01, -3.43492814e-01,\n       -5.76540337e-01,  1.98016074e+00,  1.44109679e+00,  3.28420543e-01,\n       -2.03493809e+00, -1.35000223e+00, -2.47066578e+00, -3.30631966e+00,\n       -1.13172410e+00, -2.27865938e+00, -2.46200019e-02,  9.84456473e-02,\n       -1.46496721e+00, -1.61517030e-01,  1.27005779e+00,  1.76209604e+00,\n       -1.71494459e+00, -1.40011334e+00, -1.42289660e-01,  2.60871730e+00,\n       -1.61823760e+00, -1.69967875e+00,  6.68227152e-01,  5.30409798e-01,\n       -3.00942784e+00, -6.38847018e-01,  1.43882008e+00, -8.08670538e-01,\n        8.46434693e-01,  3.00948251e+00,  1.81752612e+00, -2.19937469e-01,\n       -2.40044024e-01,  2.02954980e-01,  2.61970199e+00,  1.78521110e-01,\n       -1.58242843e+00,  9.08871309e-02,  2.48269669e-01, -2.60707408e+00,\n       -2.31693584e-01,  2.21102487e+00, -2.77634360e+00,  1.93924229e+00,\n        5.76219363e-02, -3.24036052e+00, -1.55771108e-01,  5.57192077e-02,\n       -3.73865024e-01, -2.44295168e+00, -8.71650017e-01,  1.36379230e+00,\n       -1.05163347e+00, -5.51364729e-01, -2.01510020e+00, -9.49916925e-01,\n       -1.85551291e+00, -3.09432192e-01, -9.06147977e-01, -1.04032473e+00,\n       -2.89738431e-01,  4.82660386e+00, -3.67292502e+00, -1.28085666e+00,\n       -2.18942142e-01,  1.37373053e+00,  1.73883558e+00, -2.61645750e+00,\n        1.34731081e-01,  5.81701027e-01, -3.10363030e-01,  1.20808560e+00,\n        1.11981028e-01, -3.39461143e+00, -1.89571447e+00, -8.16326183e-01,\n       -3.71305519e+00, -1.33682366e+00, -1.05412857e+00,  3.15641622e-01,\n        3.26001184e-01, -4.09842432e+00,  2.69515591e+00,  2.18509330e+00,\n        1.55627790e+00,  3.99955303e+00, -1.52056054e-03,  3.94204364e-01,\n       -3.70818610e-01,  2.71532741e+00,  4.84360118e-02,  1.96514236e+00,\n        3.32516632e+00,  1.14573944e+00,  1.57549639e+00, -3.20233359e+00,\n       -1.26700650e+00,  7.79012085e-01, -2.37242157e+00,  4.21282452e-01,\n        3.15127775e-01, -5.77319066e-01,  1.59557123e+00, -2.82080839e+00,\n        1.45480857e+00, -2.87547191e+00,  6.14724249e-01,  3.13295321e-01,\n        2.25703079e-01, -8.66412277e-01,  8.92778638e-01, -1.73832794e+00,\n        1.68952722e+00, -1.45311184e+00, -7.78224101e-01, -3.44364506e+00,\n        1.61776603e+00,  3.05080959e+00, -2.30273072e+00, -1.69864715e+00,\n        2.64884507e-01,  1.40489533e+00,  1.13892925e-01, -3.10066350e+00,\n        1.58928902e+00,  2.18511220e+00, -1.58342184e+00,  2.76153781e+00,\n       -1.11446579e-02,  1.99125487e-02, -2.98418181e-01, -1.17522657e+00,\n        2.85683137e+00,  3.22226105e+00, -3.31563808e-01, -1.50695837e+00,\n       -4.27462807e-01,  3.95464461e-01, -3.39970408e-01,  2.51430806e+00,\n        9.99393626e-01,  4.20130606e-01, -5.78744607e-02,  4.61460918e-01,\n        1.11145079e+00, -1.32432131e+00,  1.93200860e+00, -2.73647995e+00,\n        4.74382139e+00, -1.47802670e+00,  1.07234857e+00,  1.78782035e+00,\n        2.85951737e+00,  1.58633642e+00, -1.19431530e-02,  3.47185761e+00,\n       -1.04048889e-01, -2.31964434e+00,  4.04542843e-01, -2.15833373e+00,\n       -1.78635554e+00,  9.75869146e-01,  1.04900114e+00, -5.94615277e-01,\n        1.01415323e+00, -1.42067505e+00, -6.26345643e-01, -1.85081688e+00,\n        3.99044023e+00, -1.39795734e+00,  3.34056732e+00,  1.54415198e+00,\n        1.80075988e+00,  2.77212324e+00, -8.83388258e-01, -3.43285481e-01,\n       -1.14620145e+00, -2.07256488e+00, -2.42623685e+00,  5.36336391e-01,\n       -7.12974216e-02,  7.09438890e-01, -1.24997367e+00, -2.19119426e+00,\n        3.86783353e-01,  1.12653682e+00, -1.15609681e+00, -3.53013436e+00,\n        8.22161336e-01,  1.38157338e+00,  3.14594820e+00,  9.33648029e-01,\n        1.59789413e+00, -3.15072146e+00, -1.27317599e+00,  1.80690116e-01,\n        2.03549100e+00, -1.49774727e+00, -1.65810993e+00,  1.91997803e+00,\n       -1.00091304e+00,  4.31605235e+00,  1.73230616e+00, -1.14654645e+00,\n        2.71202748e-01, -4.84456283e-01, -2.96997857e+00, -2.09636591e+00,\n       -1.01024864e+00, -1.03055417e+00,  2.60674367e+00, -8.45984767e-01,\n        1.83120196e+00,  6.48050200e-01, -4.76243093e-01, -3.36411361e+00,\n        1.65111228e+00,  8.53541305e-01,  2.98620368e+00, -3.94847847e-01,\n       -3.53763812e-01,  1.64951269e+00,  2.01789209e+00,  1.54071468e+00,\n       -1.49790436e+00,  3.73167166e-01,  2.47484441e+00,  8.05278007e-01,\n        2.14681897e-01, -8.39944489e-01,  3.13176881e-01, -1.77222749e+00,\n       -1.43276935e+00,  1.17637842e+00, -1.14618954e+00, -8.63916376e-02,\n        2.68619114e+00, -2.22981716e+00, -3.30721439e+00, -1.22168865e+00,\n        2.59932658e+00,  8.92170025e-01,  2.03372705e+00, -3.75058672e-01,\n        1.66464291e+00, -3.86989973e+00,  3.17880933e+00,  4.11790895e+00,\n        3.58103716e-01, -1.04071270e+00,  8.26660497e-01, -1.33044086e-01,\n       -9.00647621e-01, -9.32037208e-01, -1.01282634e+00, -2.41602845e+00,\n        4.62521862e-01, -1.74734615e+00,  4.81221049e+00, -1.07332531e-01,\n        1.38694524e+00,  8.94593095e-01,  8.22551975e-01,  5.97523142e-01,\n        1.24884296e+00, -3.99076989e-01,  1.00152076e+00, -9.08528526e-01,\n        7.00617766e-01, -7.22128384e-01,  3.82982746e-01, -8.55004175e-01,\n       -3.27706228e+00, -2.82276611e+00,  1.74416088e+00, -2.04417337e+00,\n       -2.96759091e-01,  1.94710376e-01,  2.93871854e+00, -2.75385464e-01,\n       -5.39772907e-01, -3.27481132e-01, -1.80485044e+00, -2.80680766e+00,\n       -4.66568618e-01,  8.24365024e-01, -1.28759738e+00,  4.13612312e+00,\n       -6.41168284e-01, -5.75784105e-01,  2.44008123e+00,  7.18947151e-01,\n        3.40303495e+00,  3.21302043e+00,  2.25293388e+00,  6.97855644e-01,\n        1.37068491e+00, -1.17004782e-01, -1.57516401e-01, -3.61236667e+00,\n       -1.99992344e+00, -2.65327178e+00,  1.06426692e+00, -1.80477302e+00,\n       -7.70883088e-01, -4.76492922e-01,  7.08062347e-01,  1.08812235e+00,\n       -3.37143839e+00,  5.05929878e-01,  2.51871209e+00, -8.88951716e-01,\n        2.10645168e+00,  8.67758839e-01,  2.06264578e+00,  1.20441834e+00,\n       -1.01273029e-02,  2.33247674e+00,  2.58451690e+00,  3.57136929e-02,\n        2.26698493e-01, -4.08740601e-01,  2.08238313e+00, -8.39175283e-01,\n        1.70208389e+00,  1.13322891e+00, -7.33440686e-01, -7.42755216e-01,\n       -3.76528972e+00, -3.96538701e+00, -4.95293604e-01,  8.39838503e-01,\n       -3.14160175e+00, -1.22170628e+00,  1.15629348e+00, -1.00073331e-01,\n       -2.91405471e+00,  1.77374297e-01, -1.32059599e-01,  9.08315098e-01,\n       -7.23542029e-01, -3.00102967e-01, -2.58659572e-01, -2.04837047e+00,\n       -8.65570172e-01,  9.54962997e-02,  1.01184378e+00,  1.34252970e+00,\n       -6.47309582e-01,  3.70907739e-01, -1.19677060e+00,  5.02421376e-01,\n        7.38912687e-01, -1.29730494e-01, -1.65659919e+00, -1.52821037e+00,\n        4.92555547e-01,  1.25720801e+00, -9.09623212e-01,  4.67091464e+00,\n        1.88685671e+00,  3.18719606e+00, -2.37924149e+00, -2.61047367e-01,\n       -4.42704442e+00, -1.83479697e+00,  2.37380522e+00, -5.48038286e-02,\n       -2.53588345e-01, -4.22630601e-01,  4.06103405e+00, -8.62089262e-01,\n        7.92604924e-01, -2.37658042e+00, -9.63556377e-02, -9.17858830e-01,\n       -2.24218137e+00,  5.46647193e+00, -3.52433898e+00, -3.79011633e+00,\n       -1.63449711e+00, -1.92239586e-01, -3.76256172e+00,  1.55151081e+00,\n       -3.33393773e+00,  1.48506208e+00,  2.73056271e-01,  4.00426992e-01,\n       -5.93960716e-01,  3.13196995e+00,  1.05645783e+00, -1.59444551e+00,\n        2.66220752e+00,  3.44368531e+00, -7.94857188e-02, -4.60779647e-01,\n       -2.71436295e-01, -9.81146113e-01,  1.86172680e+00, -3.88377264e-01,\n       -2.63529220e+00, -6.45197147e-02,  4.00826760e-01,  5.44269369e-01,\n        4.60899083e-02,  1.88637712e+00, -5.94592928e-01,  4.33614013e+00,\n       -4.04635520e-01,  1.79461522e+00, -1.82224920e+00, -1.47847105e+00,\n        3.17625601e-01,  3.78400300e+00, -9.06285359e-01,  6.79670604e-01,\n       -7.67083310e-01,  2.32442113e+00, -3.16828096e+00, -6.92512046e-01,\n       -1.56522578e+00, -1.26017226e+00,  1.04568450e+00,  3.03825916e+00,\n        3.38665780e-01,  5.92397443e-01, -2.25411297e+00,  2.63322819e+00,\n       -2.31071789e+00,  9.25815157e-01,  1.40667174e+00, -1.48938480e+00,\n       -2.58500976e-01,  1.43853005e+00, -2.54714574e+00,  2.43899574e+00,\n       -5.40008987e+00,  1.37218209e+00, -1.35774790e+00, -2.07573369e+00,\n       -2.38171763e+00, -4.56229155e-01, -5.03078795e-01, -4.20941545e-01,\n       -1.97942463e+00, -1.09481005e+00,  2.02273516e+00,  4.54381272e+00,\n       -1.43196280e+00, -7.31882641e-01, -5.64996270e-01,  4.47745581e-01,\n       -2.23978402e+00,  3.97938035e+00, -3.37402557e+00,  9.47974893e-02,\n       -1.03114470e+00, -1.08793001e+00, -5.82631675e-01, -2.23906283e+00,\n       -7.47921144e-01,  1.27321597e+00, -1.90626328e+00,  1.22171524e+00,\n       -9.61981207e-01, -2.07359432e+00, -2.49652379e+00, -1.02371497e+00,\n       -2.57001755e+00,  3.87044822e+00, -2.24829758e+00,  3.55331358e+00,\n       -5.93556432e-01,  1.79930063e+00, -8.80845839e-01,  1.04604555e+00,\n        1.12580483e+00,  9.22838608e-01,  1.99654379e-02,  3.19240505e+00,\n       -2.34252558e+00,  1.41439252e+00, -1.09057656e+00,  1.20347747e+00,\n       -3.86294390e+00, -2.01979392e+00,  5.50955762e+00, -2.53535865e+00,\n        2.47216648e+00,  1.42085768e+00, -9.49500292e-01,  8.39300760e-01,\n        1.63514019e-01, -1.56761995e+00,  2.71643341e+00,  4.71863160e+00,\n        2.92420689e+00,  1.83573572e+00, -9.33901346e-01, -9.64971850e-01,\n       -1.41468670e+00,  2.14126080e+00, -2.96332776e+00, -2.19411703e-01,\n        8.78730787e-01, -2.87554922e+00,  1.04816096e+00, -2.27731597e+00,\n        1.41933616e+00,  2.29368888e+00,  3.02817665e-01, -1.27890947e+00,\n       -7.03275596e-02,  5.62657415e-01,  2.14532141e-01, -3.06946801e+00,\n       -3.88694331e+00,  6.00066589e-01, -1.27535493e+00, -1.49663576e+00,\n       -1.57668079e+00,  4.42983097e+00, -1.71137504e+00, -3.73286551e-01,\n        2.78806187e+00, -7.91045235e-01,  1.75582817e+00, -2.68676037e+00,\n       -2.53819470e+00,  5.04402198e-02,  1.43816852e+00, -6.90716038e-01,\n        2.67103899e+00, -1.53958030e+00, -1.12098139e+00, -2.01128080e+00,\n       -3.60574788e-01, -5.22896381e-01, -6.44440256e-01, -2.36848863e-01,\n        9.63178272e-01, -7.79491738e-01, -4.39581578e-01, -4.54698261e-01,\n       -8.24991340e-01, -1.18562996e-01, -2.91067085e-01,  1.45119819e+00,\n        9.05555567e-01,  1.73849973e-01, -1.43995579e+00, -3.32187644e+00,\n        2.46763347e-01, -4.16841959e+00, -3.15119542e+00,  8.50290330e-01,\n        1.18834275e+00, -2.32335958e+00,  1.38996822e+00,  2.35137446e+00,\n       -1.30256692e-01, -7.33994538e-01, -1.55726084e+00, -4.06392586e+00,\n       -1.62814981e+00, -2.77227471e+00,  2.52204225e-01, -5.05060234e-01,\n        1.02487758e+00,  7.04350637e-01,  1.31483875e+00, -6.45571094e-01,\n       -1.61810417e+00, -6.15260295e-01, -2.62980501e+00,  3.66803110e+00,\n       -4.59720027e-01,  2.68831830e+00, -1.29849396e+00, -7.24926138e-01,\n        3.28761999e+00, -1.50560368e+00, -2.75492750e-01,  5.66748585e-01,\n        1.95077383e+00, -2.06498833e+00, -8.27013220e-01, -1.19302831e+00,\n        1.39819742e+00, -3.51339732e+00, -5.02725148e-02,  2.47025216e+00,\n        1.52684066e+00, -1.60863466e+00, -2.46507951e+00, -3.10162416e+00,\n       -2.84160982e+00,  6.68301586e-01,  2.79468300e+00,  3.30325344e-01,\n        5.76284877e-01,  4.13586016e+00,  2.08444075e-01,  1.00310689e+00,\n       -4.24700933e-01,  3.02492308e-01, -9.50893639e-02, -9.66340237e-01,\n       -1.92106493e-01,  1.30105605e+00, -1.37371031e+00,  2.09051028e+00,\n        1.56696253e+00, -1.51991663e-01,  1.14345041e+00, -1.29803154e+00,\n       -3.84667576e+00,  2.47545333e+00, -8.39418210e-01, -3.00904297e-01,\n       -1.08871220e+00, -1.27666228e+00,  7.97232689e-01, -1.23603328e+00,\n       -5.92548278e-01,  1.02441835e+00, -8.46239646e-01,  4.32426681e+00,\n        1.24380916e+00,  4.83401523e-01, -5.08979402e+00,  1.24482660e+00,\n       -2.18200794e+00,  4.36629729e+00,  1.77154709e+00, -1.66914013e+00,\n        3.15996663e+00, -3.97232302e+00,  1.46091349e+00,  1.80121132e+00,\n       -1.32365177e+00, -2.20888382e+00, -3.55485385e-01, -3.73342618e-01])"
     },
     "execution_count": 38,
     "metadata": {},
     "output_type": "execute_result"
    }
   ],
   "source": [
    "dif"
   ]
  },
  {
   "cell_type": "code",
   "execution_count": 39,
   "metadata": {},
   "outputs": [
    {
     "data": {
      "text/plain": "0.023039341912940228"
     },
     "execution_count": 39,
     "metadata": {},
     "output_type": "execute_result"
    }
   ],
   "source": [
    "dif.mean()"
   ]
  },
  {
   "cell_type": "code",
   "execution_count": 40,
   "metadata": {},
   "outputs": [],
   "source": [
    "import matplotlib.pyplot as plt"
   ]
  },
  {
   "cell_type": "code",
   "execution_count": 41,
   "metadata": {},
   "outputs": [
    {
     "data": {
      "text/plain": "(array([ 2.,  0.,  5.,  6., 12., 16., 23., 26., 38., 34., 50., 52., 87.,\n        95., 91., 78., 59., 60., 57., 51., 37., 26., 26., 21., 17.,  7.,\n        10.,  9.,  3.,  2.]),\n array([-5.40008987, -5.03643495, -4.67278003, -4.30912512, -3.9454702 ,\n        -3.58181529, -3.21816037, -2.85450545, -2.49085054, -2.12719562,\n        -1.76354071, -1.39988579, -1.03623087, -0.67257596, -0.30892104,\n         0.05473387,  0.41838879,  0.78204371,  1.14569862,  1.50935354,\n         1.87300846,  2.23666337,  2.60031829,  2.9639732 ,  3.32762812,\n         3.69128304,  4.05493795,  4.41859287,  4.78224778,  5.1459027 ,\n         5.50955762]),\n <a list of 30 Patch objects>)"
     },
     "execution_count": 41,
     "metadata": {},
     "output_type": "execute_result"
    },
    {
     "data": {
      "image/png": "[encoded data removed]",
      "image/svg+xml": "<?xml version=\"1.0\" encoding=\"utf-8\" standalone=\"no\"?>\n<!DOCTYPE svg PUBLIC \"-//W3C//DTD SVG 1.1//EN\"\n  \"http://www.w3.org/Graphics/SVG/1.1/DTD/svg11.dtd\">\n<!-- Created with matplotlib (https://matplotlib.org/) -->\n<svg height=\"252.018125pt\" version=\"1.1\" viewBox=\"0 0 372.425 252.018125\" width=\"372.425pt\" xmlns=\"http://www.w3.org/2000/svg\" xmlns:xlink=\"http://www.w3.org/1999/xlink\">\n <defs>\n  <style type=\"text/css\">\n*{stroke-linecap:butt;stroke-linejoin:round;}\n  </style>\n </defs>\n <g id=\"figure_1\">\n  <g id=\"patch_1\">\n   <path d=\"M -0 252.018125 \nL 372.425 252.018125 \nL 372.425 0 \nL -0 0 \nz\n\" style=\"fill:none;\"/>\n  </g>\n  <g id=\"axes_1\">\n   <g id=\"patch_2\">\n    <path d=\"M 26.925 228.14 \nL 361.725 228.14 \nL 361.725 10.7 \nL 26.925 10.7 \nz\n\" style=\"fill:#ffffff;\"/>\n   </g>\n   <g id=\"patch_3\">\n    <path clip-path=\"url(#p3e86c20f93)\" d=\"M 42.143182 228.14 \nL 52.288636 228.14 \nL 52.288636 223.780301 \nL 42.143182 223.780301 \nz\n\" style=\"fill:#1f77b4;\"/>\n   </g>\n   <g id=\"patch_4\">\n    <path clip-path=\"url(#p3e86c20f93)\" d=\"M 52.288636 228.14 \nL 62.434091 228.14 \nL 62.434091 228.14 \nL 52.288636 228.14 \nz\n\" style=\"fill:#1f77b4;\"/>\n   </g>\n   <g id=\"patch_5\">\n    <path clip-path=\"url(#p3e86c20f93)\" d=\"M 62.434091 228.14 \nL 72.579545 228.14 \nL 72.579545 217.240752 \nL 62.434091 217.240752 \nz\n\" style=\"fill:#1f77b4;\"/>\n   </g>\n   <g id=\"patch_6\">\n    <path clip-path=\"url(#p3e86c20f93)\" d=\"M 72.579545 228.14 \nL 82.725 228.14 \nL 82.725 215.060902 \nL 72.579545 215.060902 \nz\n\" style=\"fill:#1f77b4;\"/>\n   </g>\n   <g id=\"patch_7\">\n    <path clip-path=\"url(#p3e86c20f93)\" d=\"M 82.725 228.14 \nL 92.870455 228.14 \nL 92.870455 201.981805 \nL 82.725 201.981805 \nz\n\" style=\"fill:#1f77b4;\"/>\n   </g>\n   <g id=\"patch_8\">\n    <path clip-path=\"url(#p3e86c20f93)\" d=\"M 92.870455 228.14 \nL 103.015909 228.14 \nL 103.015909 193.262406 \nL 92.870455 193.262406 \nz\n\" style=\"fill:#1f77b4;\"/>\n   </g>\n   <g id=\"patch_9\">\n    <path clip-path=\"url(#p3e86c20f93)\" d=\"M 103.015909 228.14 \nL 113.161364 228.14 \nL 113.161364 178.003459 \nL 103.015909 178.003459 \nz\n\" style=\"fill:#1f77b4;\"/>\n   </g>\n   <g id=\"patch_10\">\n    <path clip-path=\"url(#p3e86c20f93)\" d=\"M 113.161364 228.14 \nL 123.306818 228.14 \nL 123.306818 171.46391 \nL 113.161364 171.46391 \nz\n\" style=\"fill:#1f77b4;\"/>\n   </g>\n   <g id=\"patch_11\">\n    <path clip-path=\"url(#p3e86c20f93)\" d=\"M 123.306818 228.14 \nL 133.452273 228.14 \nL 133.452273 145.305714 \nL 123.306818 145.305714 \nz\n\" style=\"fill:#1f77b4;\"/>\n   </g>\n   <g id=\"patch_12\">\n    <path clip-path=\"url(#p3e86c20f93)\" d=\"M 133.452273 228.14 \nL 143.597727 228.14 \nL 143.597727 154.025113 \nL 133.452273 154.025113 \nz\n\" style=\"fill:#1f77b4;\"/>\n   </g>\n   <g id=\"patch_13\">\n    <path clip-path=\"url(#p3e86c20f93)\" d=\"M 143.597727 228.14 \nL 153.743182 228.14 \nL 153.743182 119.147519 \nL 143.597727 119.147519 \nz\n\" style=\"fill:#1f77b4;\"/>\n   </g>\n   <g id=\"patch_14\">\n    <path clip-path=\"url(#p3e86c20f93)\" d=\"M 153.743182 228.14 \nL 163.888636 228.14 \nL 163.888636 114.78782 \nL 153.743182 114.78782 \nz\n\" style=\"fill:#1f77b4;\"/>\n   </g>\n   <g id=\"patch_15\">\n    <path clip-path=\"url(#p3e86c20f93)\" d=\"M 163.888636 228.14 \nL 174.034091 228.14 \nL 174.034091 38.493083 \nL 163.888636 38.493083 \nz\n\" style=\"fill:#1f77b4;\"/>\n   </g>\n   <g id=\"patch_16\">\n    <path clip-path=\"url(#p3e86c20f93)\" d=\"M 174.034091 228.14 \nL 184.179545 228.14 \nL 184.179545 21.054286 \nL 174.034091 21.054286 \nz\n\" style=\"fill:#1f77b4;\"/>\n   </g>\n   <g id=\"patch_17\">\n    <path clip-path=\"url(#p3e86c20f93)\" d=\"M 184.179545 228.14 \nL 194.325 228.14 \nL 194.325 29.773684 \nL 184.179545 29.773684 \nz\n\" style=\"fill:#1f77b4;\"/>\n   </g>\n   <g id=\"patch_18\">\n    <path clip-path=\"url(#p3e86c20f93)\" d=\"M 194.325 228.14 \nL 204.470455 228.14 \nL 204.470455 58.111729 \nL 194.325 58.111729 \nz\n\" style=\"fill:#1f77b4;\"/>\n   </g>\n   <g id=\"patch_19\">\n    <path clip-path=\"url(#p3e86c20f93)\" d=\"M 204.470455 228.14 \nL 214.615909 228.14 \nL 214.615909 99.528872 \nL 204.470455 99.528872 \nz\n\" style=\"fill:#1f77b4;\"/>\n   </g>\n   <g id=\"patch_20\">\n    <path clip-path=\"url(#p3e86c20f93)\" d=\"M 214.615909 228.14 \nL 224.761364 228.14 \nL 224.761364 97.349023 \nL 214.615909 97.349023 \nz\n\" style=\"fill:#1f77b4;\"/>\n   </g>\n   <g id=\"patch_21\">\n    <path clip-path=\"url(#p3e86c20f93)\" d=\"M 224.761364 228.14 \nL 234.906818 228.14 \nL 234.906818 103.888571 \nL 224.761364 103.888571 \nz\n\" style=\"fill:#1f77b4;\"/>\n   </g>\n   <g id=\"patch_22\">\n    <path clip-path=\"url(#p3e86c20f93)\" d=\"M 234.906818 228.14 \nL 245.052273 228.14 \nL 245.052273 116.967669 \nL 234.906818 116.967669 \nz\n\" style=\"fill:#1f77b4;\"/>\n   </g>\n   <g id=\"patch_23\">\n    <path clip-path=\"url(#p3e86c20f93)\" d=\"M 245.052273 228.14 \nL 255.197727 228.14 \nL 255.197727 147.485564 \nL 245.052273 147.485564 \nz\n\" style=\"fill:#1f77b4;\"/>\n   </g>\n   <g id=\"patch_24\">\n    <path clip-path=\"url(#p3e86c20f93)\" d=\"M 255.197727 228.14 \nL 265.343182 228.14 \nL 265.343182 171.46391 \nL 255.197727 171.46391 \nz\n\" style=\"fill:#1f77b4;\"/>\n   </g>\n   <g id=\"patch_25\">\n    <path clip-path=\"url(#p3e86c20f93)\" d=\"M 265.343182 228.14 \nL 275.488636 228.14 \nL 275.488636 171.46391 \nL 265.343182 171.46391 \nz\n\" style=\"fill:#1f77b4;\"/>\n   </g>\n   <g id=\"patch_26\">\n    <path clip-path=\"url(#p3e86c20f93)\" d=\"M 275.488636 228.14 \nL 285.634091 228.14 \nL 285.634091 182.363158 \nL 275.488636 182.363158 \nz\n\" style=\"fill:#1f77b4;\"/>\n   </g>\n   <g id=\"patch_27\">\n    <path clip-path=\"url(#p3e86c20f93)\" d=\"M 285.634091 228.14 \nL 295.779545 228.14 \nL 295.779545 191.082556 \nL 285.634091 191.082556 \nz\n\" style=\"fill:#1f77b4;\"/>\n   </g>\n   <g id=\"patch_28\">\n    <path clip-path=\"url(#p3e86c20f93)\" d=\"M 295.779545 228.14 \nL 305.925 228.14 \nL 305.925 212.881053 \nL 295.779545 212.881053 \nz\n\" style=\"fill:#1f77b4;\"/>\n   </g>\n   <g id=\"patch_29\">\n    <path clip-path=\"url(#p3e86c20f93)\" d=\"M 305.925 228.14 \nL 316.070455 228.14 \nL 316.070455 206.341504 \nL 305.925 206.341504 \nz\n\" style=\"fill:#1f77b4;\"/>\n   </g>\n   <g id=\"patch_30\">\n    <path clip-path=\"url(#p3e86c20f93)\" d=\"M 316.070455 228.14 \nL 326.215909 228.14 \nL 326.215909 208.521353 \nL 316.070455 208.521353 \nz\n\" style=\"fill:#1f77b4;\"/>\n   </g>\n   <g id=\"patch_31\">\n    <path clip-path=\"url(#p3e86c20f93)\" d=\"M 326.215909 228.14 \nL 336.361364 228.14 \nL 336.361364 221.600451 \nL 326.215909 221.600451 \nz\n\" style=\"fill:#1f77b4;\"/>\n   </g>\n   <g id=\"patch_32\">\n    <path clip-path=\"url(#p3e86c20f93)\" d=\"M 336.361364 228.14 \nL 346.506818 228.14 \nL 346.506818 223.780301 \nL 336.361364 223.780301 \nz\n\" style=\"fill:#1f77b4;\"/>\n   </g>\n   <g id=\"matplotlib.axis_1\">\n    <g id=\"xtick_1\">\n     <g id=\"line2d_1\">\n      <defs>\n       <path d=\"M 0 0 \nL 0 3.5 \n\" id=\"mb1dbc4059f\" style=\"stroke:#000000;stroke-width:0.8;\"/>\n      </defs>\n      <g>\n       <use style=\"stroke:#000000;stroke-width:0.8;\" x=\"81.203696\" xlink:href=\"#mb1dbc4059f\" y=\"228.14\"/>\n      </g>\n     </g>\n     <g id=\"text_1\">\n      <!-- −4 -->\n      <defs>\n       <path d=\"M 10.59375 35.5 \nL 73.1875 35.5 \nL 73.1875 27.203125 \nL 10.59375 27.203125 \nz\n\" id=\"DejaVuSans-8722\"/>\n       <path d=\"M 37.796875 64.3125 \nL 12.890625 25.390625 \nL 37.796875 25.390625 \nz\nM 35.203125 72.90625 \nL 47.609375 72.90625 \nL 47.609375 25.390625 \nL 58.015625 25.390625 \nL 58.015625 17.1875 \nL 47.609375 17.1875 \nL 47.609375 0 \nL 37.796875 0 \nL 37.796875 17.1875 \nL 4.890625 17.1875 \nL 4.890625 26.703125 \nz\n\" id=\"DejaVuSans-52\"/>\n      </defs>\n      <g transform=\"translate(73.832602 242.738437)scale(0.1 -0.1)\">\n       <use xlink:href=\"#DejaVuSans-8722\"/>\n       <use x=\"83.789062\" xlink:href=\"#DejaVuSans-52\"/>\n      </g>\n     </g>\n    </g>\n    <g id=\"xtick_2\">\n     <g id=\"line2d_2\">\n      <g>\n       <use style=\"stroke:#000000;stroke-width:0.8;\" x=\"137.00085\" xlink:href=\"#mb1dbc4059f\" y=\"228.14\"/>\n      </g>\n     </g>\n     <g id=\"text_2\">\n      <!-- −2 -->\n      <defs>\n       <path d=\"M 19.1875 8.296875 \nL 53.609375 8.296875 \nL 53.609375 0 \nL 7.328125 0 \nL 7.328125 8.296875 \nQ 12.9375 14.109375 22.625 23.890625 \nQ 32.328125 33.6875 34.8125 36.53125 \nQ 39.546875 41.84375 41.421875 45.53125 \nQ 43.3125 49.21875 43.3125 52.78125 \nQ 43.3125 58.59375 39.234375 62.25 \nQ 35.15625 65.921875 28.609375 65.921875 \nQ 23.96875 65.921875 18.8125 64.3125 \nQ 13.671875 62.703125 7.8125 59.421875 \nL 7.8125 69.390625 \nQ 13.765625 71.78125 18.9375 73 \nQ 24.125 74.21875 28.421875 74.21875 \nQ 39.75 74.21875 46.484375 68.546875 \nQ 53.21875 62.890625 53.21875 53.421875 \nQ 53.21875 48.921875 51.53125 44.890625 \nQ 49.859375 40.875 45.40625 35.40625 \nQ 44.1875 33.984375 37.640625 27.21875 \nQ 31.109375 20.453125 19.1875 8.296875 \nz\n\" id=\"DejaVuSans-50\"/>\n      </defs>\n      <g transform=\"translate(129.629756 242.738437)scale(0.1 -0.1)\">\n       <use xlink:href=\"#DejaVuSans-8722\"/>\n       <use x=\"83.789062\" xlink:href=\"#DejaVuSans-50\"/>\n      </g>\n     </g>\n    </g>\n    <g id=\"xtick_3\">\n     <g id=\"line2d_3\">\n      <g>\n       <use style=\"stroke:#000000;stroke-width:0.8;\" x=\"192.798003\" xlink:href=\"#mb1dbc4059f\" y=\"228.14\"/>\n      </g>\n     </g>\n     <g id=\"text_3\">\n      <!-- 0 -->\n      <defs>\n       <path d=\"M 31.78125 66.40625 \nQ 24.171875 66.40625 20.328125 58.90625 \nQ 16.5 51.421875 16.5 36.375 \nQ 16.5 21.390625 20.328125 13.890625 \nQ 24.171875 6.390625 31.78125 6.390625 \nQ 39.453125 6.390625 43.28125 13.890625 \nQ 47.125 21.390625 47.125 36.375 \nQ 47.125 51.421875 43.28125 58.90625 \nQ 39.453125 66.40625 31.78125 66.40625 \nz\nM 31.78125 74.21875 \nQ 44.046875 74.21875 50.515625 64.515625 \nQ 56.984375 54.828125 56.984375 36.375 \nQ 56.984375 17.96875 50.515625 8.265625 \nQ 44.046875 -1.421875 31.78125 -1.421875 \nQ 19.53125 -1.421875 13.0625 8.265625 \nQ 6.59375 17.96875 6.59375 36.375 \nQ 6.59375 54.828125 13.0625 64.515625 \nQ 19.53125 74.21875 31.78125 74.21875 \nz\n\" id=\"DejaVuSans-48\"/>\n      </defs>\n      <g transform=\"translate(189.616753 242.738437)scale(0.1 -0.1)\">\n       <use xlink:href=\"#DejaVuSans-48\"/>\n      </g>\n     </g>\n    </g>\n    <g id=\"xtick_4\">\n     <g id=\"line2d_4\">\n      <g>\n       <use style=\"stroke:#000000;stroke-width:0.8;\" x=\"248.595156\" xlink:href=\"#mb1dbc4059f\" y=\"228.14\"/>\n      </g>\n     </g>\n     <g id=\"text_4\">\n      <!-- 2 -->\n      <g transform=\"translate(245.413906 242.738437)scale(0.1 -0.1)\">\n       <use xlink:href=\"#DejaVuSans-50\"/>\n      </g>\n     </g>\n    </g>\n    <g id=\"xtick_5\">\n     <g id=\"line2d_5\">\n      <g>\n       <use style=\"stroke:#000000;stroke-width:0.8;\" x=\"304.392309\" xlink:href=\"#mb1dbc4059f\" y=\"228.14\"/>\n      </g>\n     </g>\n     <g id=\"text_5\">\n      <!-- 4 -->\n      <g transform=\"translate(301.211059 242.738437)scale(0.1 -0.1)\">\n       <use xlink:href=\"#DejaVuSans-52\"/>\n      </g>\n     </g>\n    </g>\n    <g id=\"xtick_6\">\n     <g id=\"line2d_6\">\n      <g>\n       <use style=\"stroke:#000000;stroke-width:0.8;\" x=\"360.189463\" xlink:href=\"#mb1dbc4059f\" y=\"228.14\"/>\n      </g>\n     </g>\n     <g id=\"text_6\">\n      <!-- 6 -->\n      <defs>\n       <path d=\"M 33.015625 40.375 \nQ 26.375 40.375 22.484375 35.828125 \nQ 18.609375 31.296875 18.609375 23.390625 \nQ 18.609375 15.53125 22.484375 10.953125 \nQ 26.375 6.390625 33.015625 6.390625 \nQ 39.65625 6.390625 43.53125 10.953125 \nQ 47.40625 15.53125 47.40625 23.390625 \nQ 47.40625 31.296875 43.53125 35.828125 \nQ 39.65625 40.375 33.015625 40.375 \nz\nM 52.59375 71.296875 \nL 52.59375 62.3125 \nQ 48.875 64.0625 45.09375 64.984375 \nQ 41.3125 65.921875 37.59375 65.921875 \nQ 27.828125 65.921875 22.671875 59.328125 \nQ 17.53125 52.734375 16.796875 39.40625 \nQ 19.671875 43.65625 24.015625 45.921875 \nQ 28.375 48.1875 33.59375 48.1875 \nQ 44.578125 48.1875 50.953125 41.515625 \nQ 57.328125 34.859375 57.328125 23.390625 \nQ 57.328125 12.15625 50.6875 5.359375 \nQ 44.046875 -1.421875 33.015625 -1.421875 \nQ 20.359375 -1.421875 13.671875 8.265625 \nQ 6.984375 17.96875 6.984375 36.375 \nQ 6.984375 53.65625 15.1875 63.9375 \nQ 23.390625 74.21875 37.203125 74.21875 \nQ 40.921875 74.21875 44.703125 73.484375 \nQ 48.484375 72.75 52.59375 71.296875 \nz\n\" id=\"DejaVuSans-54\"/>\n      </defs>\n      <g transform=\"translate(357.008213 242.738437)scale(0.1 -0.1)\">\n       <use xlink:href=\"#DejaVuSans-54\"/>\n      </g>\n     </g>\n    </g>\n   </g>\n   <g id=\"matplotlib.axis_2\">\n    <g id=\"ytick_1\">\n     <g id=\"line2d_7\">\n      <defs>\n       <path d=\"M 0 0 \nL -3.5 0 \n\" id=\"m9446b10f2f\" style=\"stroke:#000000;stroke-width:0.8;\"/>\n      </defs>\n      <g>\n       <use style=\"stroke:#000000;stroke-width:0.8;\" x=\"26.925\" xlink:href=\"#m9446b10f2f\" y=\"228.14\"/>\n      </g>\n     </g>\n     <g id=\"text_7\">\n      <!-- 0 -->\n      <g transform=\"translate(13.5625 231.939219)scale(0.1 -0.1)\">\n       <use xlink:href=\"#DejaVuSans-48\"/>\n      </g>\n     </g>\n    </g>\n    <g id=\"ytick_2\">\n     <g id=\"line2d_8\">\n      <g>\n       <use style=\"stroke:#000000;stroke-width:0.8;\" x=\"26.925\" xlink:href=\"#m9446b10f2f\" y=\"184.543008\"/>\n      </g>\n     </g>\n     <g id=\"text_8\">\n      <!-- 20 -->\n      <g transform=\"translate(7.2 188.342226)scale(0.1 -0.1)\">\n       <use xlink:href=\"#DejaVuSans-50\"/>\n       <use x=\"63.623047\" xlink:href=\"#DejaVuSans-48\"/>\n      </g>\n     </g>\n    </g>\n    <g id=\"ytick_3\">\n     <g id=\"line2d_9\">\n      <g>\n       <use style=\"stroke:#000000;stroke-width:0.8;\" x=\"26.925\" xlink:href=\"#m9446b10f2f\" y=\"140.946015\"/>\n      </g>\n     </g>\n     <g id=\"text_9\">\n      <!-- 40 -->\n      <g transform=\"translate(7.2 144.745234)scale(0.1 -0.1)\">\n       <use xlink:href=\"#DejaVuSans-52\"/>\n       <use x=\"63.623047\" xlink:href=\"#DejaVuSans-48\"/>\n      </g>\n     </g>\n    </g>\n    <g id=\"ytick_4\">\n     <g id=\"line2d_10\">\n      <g>\n       <use style=\"stroke:#000000;stroke-width:0.8;\" x=\"26.925\" xlink:href=\"#m9446b10f2f\" y=\"97.349023\"/>\n      </g>\n     </g>\n     <g id=\"text_10\">\n      <!-- 60 -->\n      <g transform=\"translate(7.2 101.148241)scale(0.1 -0.1)\">\n       <use xlink:href=\"#DejaVuSans-54\"/>\n       <use x=\"63.623047\" xlink:href=\"#DejaVuSans-48\"/>\n      </g>\n     </g>\n    </g>\n    <g id=\"ytick_5\">\n     <g id=\"line2d_11\">\n      <g>\n       <use style=\"stroke:#000000;stroke-width:0.8;\" x=\"26.925\" xlink:href=\"#m9446b10f2f\" y=\"53.75203\"/>\n      </g>\n     </g>\n     <g id=\"text_11\">\n      <!-- 80 -->\n      <defs>\n       <path d=\"M 31.78125 34.625 \nQ 24.75 34.625 20.71875 30.859375 \nQ 16.703125 27.09375 16.703125 20.515625 \nQ 16.703125 13.921875 20.71875 10.15625 \nQ 24.75 6.390625 31.78125 6.390625 \nQ 38.8125 6.390625 42.859375 10.171875 \nQ 46.921875 13.96875 46.921875 20.515625 \nQ 46.921875 27.09375 42.890625 30.859375 \nQ 38.875 34.625 31.78125 34.625 \nz\nM 21.921875 38.8125 \nQ 15.578125 40.375 12.03125 44.71875 \nQ 8.5 49.078125 8.5 55.328125 \nQ 8.5 64.0625 14.71875 69.140625 \nQ 20.953125 74.21875 31.78125 74.21875 \nQ 42.671875 74.21875 48.875 69.140625 \nQ 55.078125 64.0625 55.078125 55.328125 \nQ 55.078125 49.078125 51.53125 44.71875 \nQ 48 40.375 41.703125 38.8125 \nQ 48.828125 37.15625 52.796875 32.3125 \nQ 56.78125 27.484375 56.78125 20.515625 \nQ 56.78125 9.90625 50.3125 4.234375 \nQ 43.84375 -1.421875 31.78125 -1.421875 \nQ 19.734375 -1.421875 13.25 4.234375 \nQ 6.78125 9.90625 6.78125 20.515625 \nQ 6.78125 27.484375 10.78125 32.3125 \nQ 14.796875 37.15625 21.921875 38.8125 \nz\nM 18.3125 54.390625 \nQ 18.3125 48.734375 21.84375 45.5625 \nQ 25.390625 42.390625 31.78125 42.390625 \nQ 38.140625 42.390625 41.71875 45.5625 \nQ 45.3125 48.734375 45.3125 54.390625 \nQ 45.3125 60.0625 41.71875 63.234375 \nQ 38.140625 66.40625 31.78125 66.40625 \nQ 25.390625 66.40625 21.84375 63.234375 \nQ 18.3125 60.0625 18.3125 54.390625 \nz\n\" id=\"DejaVuSans-56\"/>\n      </defs>\n      <g transform=\"translate(7.2 57.551249)scale(0.1 -0.1)\">\n       <use xlink:href=\"#DejaVuSans-56\"/>\n       <use x=\"63.623047\" xlink:href=\"#DejaVuSans-48\"/>\n      </g>\n     </g>\n    </g>\n   </g>\n   <g id=\"patch_33\">\n    <path d=\"M 26.925 228.14 \nL 26.925 10.7 \n\" style=\"fill:none;stroke:#000000;stroke-linecap:square;stroke-linejoin:miter;stroke-width:0.8;\"/>\n   </g>\n   <g id=\"patch_34\">\n    <path d=\"M 361.725 228.14 \nL 361.725 10.7 \n\" style=\"fill:none;stroke:#000000;stroke-linecap:square;stroke-linejoin:miter;stroke-width:0.8;\"/>\n   </g>\n   <g id=\"patch_35\">\n    <path d=\"M 26.925 228.14 \nL 361.725 228.14 \n\" style=\"fill:none;stroke:#000000;stroke-linecap:square;stroke-linejoin:miter;stroke-width:0.8;\"/>\n   </g>\n   <g id=\"patch_36\">\n    <path d=\"M 26.925 10.7 \nL 361.725 10.7 \n\" style=\"fill:none;stroke:#000000;stroke-linecap:square;stroke-linejoin:miter;stroke-width:0.8;\"/>\n   </g>\n  </g>\n </g>\n <defs>\n  <clipPath id=\"p3e86c20f93\">\n   <rect height=\"217.44\" width=\"334.8\" x=\"26.925\" y=\"10.7\"/>\n  </clipPath>\n </defs>\n</svg>\n",
      "text/plain": "<Figure size 432x288 with 1 Axes>"
     },
     "metadata": {
      "needs_background": "light"
     },
     "output_type": "display_data"
    }
   ],
   "source": [
    "plt.hist(dif, bins=30)"
   ]
  },
  {
   "cell_type": "code",
   "execution_count": 42,
   "metadata": {},
   "outputs": [
    {
     "data": {
      "text/plain": "-3.532190169389417"
     },
     "execution_count": 42,
     "metadata": {},
     "output_type": "execute_result"
    }
   ],
   "source": [
    "np.percentile(dif, 2.5)"
   ]
  },
  {
   "cell_type": "code",
   "execution_count": 43,
   "metadata": {},
   "outputs": [],
   "source": [
    "# 2.5% of simulations are smaller than -3.5"
   ]
  },
  {
   "cell_type": "code",
   "execution_count": 44,
   "metadata": {},
   "outputs": [
    {
     "data": {
      "text/plain": "3.99066805290734"
     },
     "execution_count": 44,
     "metadata": {},
     "output_type": "execute_result"
    }
   ],
   "source": [
    "np.percentile(dif, 97.5)"
   ]
  },
  {
   "cell_type": "code",
   "execution_count": 45,
   "metadata": {},
   "outputs": [],
   "source": [
    "# 95% CI: [-3.5, 3.99]"
   ]
  },
  {
   "cell_type": "code",
   "execution_count": 47,
   "metadata": {},
   "outputs": [
    {
     "data": {
      "text/plain": "array([-3.53219017,  3.99066805])"
     },
     "execution_count": 47,
     "metadata": {},
     "output_type": "execute_result"
    }
   ],
   "source": [
    "np.percentile(dif, [2.5, 97.5])"
   ]
  },
  {
   "cell_type": "code",
   "execution_count": 48,
   "metadata": {},
   "outputs": [
    {
     "data": {
      "text/plain": "(327346, 2)"
     },
     "execution_count": 48,
     "metadata": {},
     "output_type": "execute_result"
    }
   ],
   "source": [
    "delays.shape"
   ]
  },
  {
   "cell_type": "code",
   "execution_count": 49,
   "metadata": {},
   "outputs": [],
   "source": [
    "N = 327346\n",
    "# we must have the correct number since the mean difference reduces the larger the sample size"
   ]
  },
  {
   "cell_type": "code",
   "execution_count": 50,
   "metadata": {},
   "outputs": [],
   "source": [
    "dif = np.empty(R)\n",
    "for l in range(R):\n",
    "    da = np.random.normal(mu, std, size = N)\n",
    "    dd = np.random.normal(mu, std, size = N)\n",
    "    d = da.mean() - dd.mean()\n",
    "    dif[l] = d\n"
   ]
  },
  {
   "cell_type": "code",
   "execution_count": 51,
   "metadata": {},
   "outputs": [
    {
     "data": {
      "text/plain": "(array([ 2.,  3.,  6., 10., 10., 25., 26., 41., 38., 62., 67., 74., 97.,\n        79., 88., 77., 69., 52., 49., 36., 33., 22., 15.,  6.,  7.,  3.,\n         2.,  0.,  0.,  1.]),\n array([-0.31032494, -0.28743089, -0.26453684, -0.2416428 , -0.21874875,\n        -0.19585471, -0.17296066, -0.15006661, -0.12717257, -0.10427852,\n        -0.08138448, -0.05849043, -0.03559638, -0.01270234,  0.01019171,\n         0.03308576,  0.0559798 ,  0.07887385,  0.10176789,  0.12466194,\n         0.14755599,  0.17045003,  0.19334408,  0.21623813,  0.23913217,\n         0.26202622,  0.28492026,  0.30781431,  0.33070836,  0.3536024 ,\n         0.37649645]),\n <a list of 30 Patch objects>)"
     },
     "execution_count": 51,
     "metadata": {},
     "output_type": "execute_result"
    },
    {
     "data": {
      "image/png": "[encoded data removed]",
      "image/svg+xml": "<?xml version=\"1.0\" encoding=\"utf-8\" standalone=\"no\"?>\n<!DOCTYPE svg PUBLIC \"-//W3C//DTD SVG 1.1//EN\"\n  \"http://www.w3.org/Graphics/SVG/1.1/DTD/svg11.dtd\">\n<!-- Created with matplotlib (https://matplotlib.org/) -->\n<svg height=\"252.018125pt\" version=\"1.1\" viewBox=\"0 0 378.7875 252.018125\" width=\"378.7875pt\" xmlns=\"http://www.w3.org/2000/svg\" xmlns:xlink=\"http://www.w3.org/1999/xlink\">\n <defs>\n  <style type=\"text/css\">\n*{stroke-linecap:butt;stroke-linejoin:round;}\n  </style>\n </defs>\n <g id=\"figure_1\">\n  <g id=\"patch_1\">\n   <path d=\"M 0 252.018125 \nL 378.7875 252.018125 \nL 378.7875 0 \nL 0 0 \nz\n\" style=\"fill:none;\"/>\n  </g>\n  <g id=\"axes_1\">\n   <g id=\"patch_2\">\n    <path d=\"M 33.2875 228.14 \nL 368.0875 228.14 \nL 368.0875 10.7 \nL 33.2875 10.7 \nz\n\" style=\"fill:#ffffff;\"/>\n   </g>\n   <g id=\"patch_3\">\n    <path clip-path=\"url(#pc047e24cf3)\" d=\"M 48.505682 228.14 \nL 58.651136 228.14 \nL 58.651136 223.870191 \nL 48.505682 223.870191 \nz\n\" style=\"fill:#1f77b4;\"/>\n   </g>\n   <g id=\"patch_4\">\n    <path clip-path=\"url(#pc047e24cf3)\" d=\"M 58.651136 228.14 \nL 68.796591 228.14 \nL 68.796591 221.735287 \nL 58.651136 221.735287 \nz\n\" style=\"fill:#1f77b4;\"/>\n   </g>\n   <g id=\"patch_5\">\n    <path clip-path=\"url(#pc047e24cf3)\" d=\"M 68.796591 228.14 \nL 78.942045 228.14 \nL 78.942045 215.330574 \nL 68.796591 215.330574 \nz\n\" style=\"fill:#1f77b4;\"/>\n   </g>\n   <g id=\"patch_6\">\n    <path clip-path=\"url(#pc047e24cf3)\" d=\"M 78.942045 228.14 \nL 89.0875 228.14 \nL 89.0875 206.790957 \nL 78.942045 206.790957 \nz\n\" style=\"fill:#1f77b4;\"/>\n   </g>\n   <g id=\"patch_7\">\n    <path clip-path=\"url(#pc047e24cf3)\" d=\"M 89.0875 228.14 \nL 99.232955 228.14 \nL 99.232955 206.790957 \nL 89.0875 206.790957 \nz\n\" style=\"fill:#1f77b4;\"/>\n   </g>\n   <g id=\"patch_8\">\n    <path clip-path=\"url(#pc047e24cf3)\" d=\"M 99.232955 228.14 \nL 109.378409 228.14 \nL 109.378409 174.767393 \nL 99.232955 174.767393 \nz\n\" style=\"fill:#1f77b4;\"/>\n   </g>\n   <g id=\"patch_9\">\n    <path clip-path=\"url(#pc047e24cf3)\" d=\"M 109.378409 228.14 \nL 119.523864 228.14 \nL 119.523864 172.632489 \nL 109.378409 172.632489 \nz\n\" style=\"fill:#1f77b4;\"/>\n   </g>\n   <g id=\"patch_10\">\n    <path clip-path=\"url(#pc047e24cf3)\" d=\"M 119.523864 228.14 \nL 129.669318 228.14 \nL 129.669318 140.608925 \nL 119.523864 140.608925 \nz\n\" style=\"fill:#1f77b4;\"/>\n   </g>\n   <g id=\"patch_11\">\n    <path clip-path=\"url(#pc047e24cf3)\" d=\"M 129.669318 228.14 \nL 139.814773 228.14 \nL 139.814773 147.013638 \nL 129.669318 147.013638 \nz\n\" style=\"fill:#1f77b4;\"/>\n   </g>\n   <g id=\"patch_12\">\n    <path clip-path=\"url(#pc047e24cf3)\" d=\"M 139.814773 228.14 \nL 149.960227 228.14 \nL 149.960227 95.775935 \nL 139.814773 95.775935 \nz\n\" style=\"fill:#1f77b4;\"/>\n   </g>\n   <g id=\"patch_13\">\n    <path clip-path=\"url(#pc047e24cf3)\" d=\"M 149.960227 228.14 \nL 160.105682 228.14 \nL 160.105682 85.101414 \nL 149.960227 85.101414 \nz\n\" style=\"fill:#1f77b4;\"/>\n   </g>\n   <g id=\"patch_14\">\n    <path clip-path=\"url(#pc047e24cf3)\" d=\"M 160.105682 228.14 \nL 170.251136 228.14 \nL 170.251136 70.157084 \nL 160.105682 70.157084 \nz\n\" style=\"fill:#1f77b4;\"/>\n   </g>\n   <g id=\"patch_15\">\n    <path clip-path=\"url(#pc047e24cf3)\" d=\"M 170.251136 228.14 \nL 180.396591 228.14 \nL 180.396591 21.054286 \nL 170.251136 21.054286 \nz\n\" style=\"fill:#1f77b4;\"/>\n   </g>\n   <g id=\"patch_16\">\n    <path clip-path=\"url(#pc047e24cf3)\" d=\"M 180.396591 228.14 \nL 190.542045 228.14 \nL 190.542045 59.482563 \nL 180.396591 59.482563 \nz\n\" style=\"fill:#1f77b4;\"/>\n   </g>\n   <g id=\"patch_17\">\n    <path clip-path=\"url(#pc047e24cf3)\" d=\"M 190.542045 228.14 \nL 200.6875 228.14 \nL 200.6875 40.268424 \nL 190.542045 40.268424 \nz\n\" style=\"fill:#1f77b4;\"/>\n   </g>\n   <g id=\"patch_18\">\n    <path clip-path=\"url(#pc047e24cf3)\" d=\"M 200.6875 228.14 \nL 210.832955 228.14 \nL 210.832955 63.752371 \nL 200.6875 63.752371 \nz\n\" style=\"fill:#1f77b4;\"/>\n   </g>\n   <g id=\"patch_19\">\n    <path clip-path=\"url(#pc047e24cf3)\" d=\"M 210.832955 228.14 \nL 220.978409 228.14 \nL 220.978409 80.831605 \nL 210.832955 80.831605 \nz\n\" style=\"fill:#1f77b4;\"/>\n   </g>\n   <g id=\"patch_20\">\n    <path clip-path=\"url(#pc047e24cf3)\" d=\"M 220.978409 228.14 \nL 231.123864 228.14 \nL 231.123864 117.124978 \nL 220.978409 117.124978 \nz\n\" style=\"fill:#1f77b4;\"/>\n   </g>\n   <g id=\"patch_21\">\n    <path clip-path=\"url(#pc047e24cf3)\" d=\"M 231.123864 228.14 \nL 241.269318 228.14 \nL 241.269318 123.529691 \nL 231.123864 123.529691 \nz\n\" style=\"fill:#1f77b4;\"/>\n   </g>\n   <g id=\"patch_22\">\n    <path clip-path=\"url(#pc047e24cf3)\" d=\"M 241.269318 228.14 \nL 251.414773 228.14 \nL 251.414773 151.283446 \nL 241.269318 151.283446 \nz\n\" style=\"fill:#1f77b4;\"/>\n   </g>\n   <g id=\"patch_23\">\n    <path clip-path=\"url(#pc047e24cf3)\" d=\"M 251.414773 228.14 \nL 261.560227 228.14 \nL 261.560227 157.688159 \nL 251.414773 157.688159 \nz\n\" style=\"fill:#1f77b4;\"/>\n   </g>\n   <g id=\"patch_24\">\n    <path clip-path=\"url(#pc047e24cf3)\" d=\"M 261.560227 228.14 \nL 271.705682 228.14 \nL 271.705682 181.172106 \nL 261.560227 181.172106 \nz\n\" style=\"fill:#1f77b4;\"/>\n   </g>\n   <g id=\"patch_25\">\n    <path clip-path=\"url(#pc047e24cf3)\" d=\"M 271.705682 228.14 \nL 281.851136 228.14 \nL 281.851136 196.116436 \nL 271.705682 196.116436 \nz\n\" style=\"fill:#1f77b4;\"/>\n   </g>\n   <g id=\"patch_26\">\n    <path clip-path=\"url(#pc047e24cf3)\" d=\"M 281.851136 228.14 \nL 291.996591 228.14 \nL 291.996591 215.330574 \nL 281.851136 215.330574 \nz\n\" style=\"fill:#1f77b4;\"/>\n   </g>\n   <g id=\"patch_27\">\n    <path clip-path=\"url(#pc047e24cf3)\" d=\"M 291.996591 228.14 \nL 302.142045 228.14 \nL 302.142045 213.19567 \nL 291.996591 213.19567 \nz\n\" style=\"fill:#1f77b4;\"/>\n   </g>\n   <g id=\"patch_28\">\n    <path clip-path=\"url(#pc047e24cf3)\" d=\"M 302.142045 228.14 \nL 312.2875 228.14 \nL 312.2875 221.735287 \nL 302.142045 221.735287 \nz\n\" style=\"fill:#1f77b4;\"/>\n   </g>\n   <g id=\"patch_29\">\n    <path clip-path=\"url(#pc047e24cf3)\" d=\"M 312.2875 228.14 \nL 322.432955 228.14 \nL 322.432955 223.870191 \nL 312.2875 223.870191 \nz\n\" style=\"fill:#1f77b4;\"/>\n   </g>\n   <g id=\"patch_30\">\n    <path clip-path=\"url(#pc047e24cf3)\" d=\"M 322.432955 228.14 \nL 332.578409 228.14 \nL 332.578409 228.14 \nL 322.432955 228.14 \nz\n\" style=\"fill:#1f77b4;\"/>\n   </g>\n   <g id=\"patch_31\">\n    <path clip-path=\"url(#pc047e24cf3)\" d=\"M 332.578409 228.14 \nL 342.723864 228.14 \nL 342.723864 228.14 \nL 332.578409 228.14 \nz\n\" style=\"fill:#1f77b4;\"/>\n   </g>\n   <g id=\"patch_32\">\n    <path clip-path=\"url(#pc047e24cf3)\" d=\"M 342.723864 228.14 \nL 352.869318 228.14 \nL 352.869318 226.005096 \nL 342.723864 226.005096 \nz\n\" style=\"fill:#1f77b4;\"/>\n   </g>\n   <g id=\"matplotlib.axis_1\">\n    <g id=\"xtick_1\">\n     <g id=\"line2d_1\">\n      <defs>\n       <path d=\"M 0 0 \nL 0 3.5 \n\" id=\"m15ec517d6f\" style=\"stroke:#000000;stroke-width:0.8;\"/>\n      </defs>\n      <g>\n       <use style=\"stroke:#000000;stroke-width:0.8;\" x=\"53.081159\" xlink:href=\"#m15ec517d6f\" y=\"228.14\"/>\n      </g>\n     </g>\n     <g id=\"text_1\">\n      <!-- −0.3 -->\n      <defs>\n       <path d=\"M 10.59375 35.5 \nL 73.1875 35.5 \nL 73.1875 27.203125 \nL 10.59375 27.203125 \nz\n\" id=\"DejaVuSans-8722\"/>\n       <path d=\"M 31.78125 66.40625 \nQ 24.171875 66.40625 20.328125 58.90625 \nQ 16.5 51.421875 16.5 36.375 \nQ 16.5 21.390625 20.328125 13.890625 \nQ 24.171875 6.390625 31.78125 6.390625 \nQ 39.453125 6.390625 43.28125 13.890625 \nQ 47.125 21.390625 47.125 36.375 \nQ 47.125 51.421875 43.28125 58.90625 \nQ 39.453125 66.40625 31.78125 66.40625 \nz\nM 31.78125 74.21875 \nQ 44.046875 74.21875 50.515625 64.515625 \nQ 56.984375 54.828125 56.984375 36.375 \nQ 56.984375 17.96875 50.515625 8.265625 \nQ 44.046875 -1.421875 31.78125 -1.421875 \nQ 19.53125 -1.421875 13.0625 8.265625 \nQ 6.59375 17.96875 6.59375 36.375 \nQ 6.59375 54.828125 13.0625 64.515625 \nQ 19.53125 74.21875 31.78125 74.21875 \nz\n\" id=\"DejaVuSans-48\"/>\n       <path d=\"M 10.6875 12.40625 \nL 21 12.40625 \nL 21 0 \nL 10.6875 0 \nz\n\" id=\"DejaVuSans-46\"/>\n       <path d=\"M 40.578125 39.3125 \nQ 47.65625 37.796875 51.625 33 \nQ 55.609375 28.21875 55.609375 21.1875 \nQ 55.609375 10.40625 48.1875 4.484375 \nQ 40.765625 -1.421875 27.09375 -1.421875 \nQ 22.515625 -1.421875 17.65625 -0.515625 \nQ 12.796875 0.390625 7.625 2.203125 \nL 7.625 11.71875 \nQ 11.71875 9.328125 16.59375 8.109375 \nQ 21.484375 6.890625 26.8125 6.890625 \nQ 36.078125 6.890625 40.9375 10.546875 \nQ 45.796875 14.203125 45.796875 21.1875 \nQ 45.796875 27.640625 41.28125 31.265625 \nQ 36.765625 34.90625 28.71875 34.90625 \nL 20.21875 34.90625 \nL 20.21875 43.015625 \nL 29.109375 43.015625 \nQ 36.375 43.015625 40.234375 45.921875 \nQ 44.09375 48.828125 44.09375 54.296875 \nQ 44.09375 59.90625 40.109375 62.90625 \nQ 36.140625 65.921875 28.71875 65.921875 \nQ 24.65625 65.921875 20.015625 65.03125 \nQ 15.375 64.15625 9.8125 62.3125 \nL 9.8125 71.09375 \nQ 15.4375 72.65625 20.34375 73.4375 \nQ 25.25 74.21875 29.59375 74.21875 \nQ 40.828125 74.21875 47.359375 69.109375 \nQ 53.90625 64.015625 53.90625 55.328125 \nQ 53.90625 49.265625 50.4375 45.09375 \nQ 46.96875 40.921875 40.578125 39.3125 \nz\n\" id=\"DejaVuSans-51\"/>\n      </defs>\n      <g transform=\"translate(40.939753 242.738437)scale(0.1 -0.1)\">\n       <use xlink:href=\"#DejaVuSans-8722\"/>\n       <use x=\"83.789062\" xlink:href=\"#DejaVuSans-48\"/>\n       <use x=\"147.412109\" xlink:href=\"#DejaVuSans-46\"/>\n       <use x=\"179.199219\" xlink:href=\"#DejaVuSans-51\"/>\n      </g>\n     </g>\n    </g>\n    <g id=\"xtick_2\">\n     <g id=\"line2d_2\">\n      <g>\n       <use style=\"stroke:#000000;stroke-width:0.8;\" x=\"97.395975\" xlink:href=\"#m15ec517d6f\" y=\"228.14\"/>\n      </g>\n     </g>\n     <g id=\"text_2\">\n      <!-- −0.2 -->\n      <defs>\n       <path d=\"M 19.1875 8.296875 \nL 53.609375 8.296875 \nL 53.609375 0 \nL 7.328125 0 \nL 7.328125 8.296875 \nQ 12.9375 14.109375 22.625 23.890625 \nQ 32.328125 33.6875 34.8125 36.53125 \nQ 39.546875 41.84375 41.421875 45.53125 \nQ 43.3125 49.21875 43.3125 52.78125 \nQ 43.3125 58.59375 39.234375 62.25 \nQ 35.15625 65.921875 28.609375 65.921875 \nQ 23.96875 65.921875 18.8125 64.3125 \nQ 13.671875 62.703125 7.8125 59.421875 \nL 7.8125 69.390625 \nQ 13.765625 71.78125 18.9375 73 \nQ 24.125 74.21875 28.421875 74.21875 \nQ 39.75 74.21875 46.484375 68.546875 \nQ 53.21875 62.890625 53.21875 53.421875 \nQ 53.21875 48.921875 51.53125 44.890625 \nQ 49.859375 40.875 45.40625 35.40625 \nQ 44.1875 33.984375 37.640625 27.21875 \nQ 31.109375 20.453125 19.1875 8.296875 \nz\n\" id=\"DejaVuSans-50\"/>\n      </defs>\n      <g transform=\"translate(85.254569 242.738437)scale(0.1 -0.1)\">\n       <use xlink:href=\"#DejaVuSans-8722\"/>\n       <use x=\"83.789062\" xlink:href=\"#DejaVuSans-48\"/>\n       <use x=\"147.412109\" xlink:href=\"#DejaVuSans-46\"/>\n       <use x=\"179.199219\" xlink:href=\"#DejaVuSans-50\"/>\n      </g>\n     </g>\n    </g>\n    <g id=\"xtick_3\">\n     <g id=\"line2d_3\">\n      <g>\n       <use style=\"stroke:#000000;stroke-width:0.8;\" x=\"141.710792\" xlink:href=\"#m15ec517d6f\" y=\"228.14\"/>\n      </g>\n     </g>\n     <g id=\"text_3\">\n      <!-- −0.1 -->\n      <defs>\n       <path d=\"M 12.40625 8.296875 \nL 28.515625 8.296875 \nL 28.515625 63.921875 \nL 10.984375 60.40625 \nL 10.984375 69.390625 \nL 28.421875 72.90625 \nL 38.28125 72.90625 \nL 38.28125 8.296875 \nL 54.390625 8.296875 \nL 54.390625 0 \nL 12.40625 0 \nz\n\" id=\"DejaVuSans-49\"/>\n      </defs>\n      <g transform=\"translate(129.569385 242.738437)scale(0.1 -0.1)\">\n       <use xlink:href=\"#DejaVuSans-8722\"/>\n       <use x=\"83.789062\" xlink:href=\"#DejaVuSans-48\"/>\n       <use x=\"147.412109\" xlink:href=\"#DejaVuSans-46\"/>\n       <use x=\"179.199219\" xlink:href=\"#DejaVuSans-49\"/>\n      </g>\n     </g>\n    </g>\n    <g id=\"xtick_4\">\n     <g id=\"line2d_4\">\n      <g>\n       <use style=\"stroke:#000000;stroke-width:0.8;\" x=\"186.025608\" xlink:href=\"#m15ec517d6f\" y=\"228.14\"/>\n      </g>\n     </g>\n     <g id=\"text_4\">\n      <!-- 0.0 -->\n      <g transform=\"translate(178.074045 242.738437)scale(0.1 -0.1)\">\n       <use xlink:href=\"#DejaVuSans-48\"/>\n       <use x=\"63.623047\" xlink:href=\"#DejaVuSans-46\"/>\n       <use x=\"95.410156\" xlink:href=\"#DejaVuSans-48\"/>\n      </g>\n     </g>\n    </g>\n    <g id=\"xtick_5\">\n     <g id=\"line2d_5\">\n      <g>\n       <use style=\"stroke:#000000;stroke-width:0.8;\" x=\"230.340424\" xlink:href=\"#m15ec517d6f\" y=\"228.14\"/>\n      </g>\n     </g>\n     <g id=\"text_5\">\n      <!-- 0.1 -->\n      <g transform=\"translate(222.388862 242.738437)scale(0.1 -0.1)\">\n       <use xlink:href=\"#DejaVuSans-48\"/>\n       <use x=\"63.623047\" xlink:href=\"#DejaVuSans-46\"/>\n       <use x=\"95.410156\" xlink:href=\"#DejaVuSans-49\"/>\n      </g>\n     </g>\n    </g>\n    <g id=\"xtick_6\">\n     <g id=\"line2d_6\">\n      <g>\n       <use style=\"stroke:#000000;stroke-width:0.8;\" x=\"274.655241\" xlink:href=\"#m15ec517d6f\" y=\"228.14\"/>\n      </g>\n     </g>\n     <g id=\"text_6\">\n      <!-- 0.2 -->\n      <g transform=\"translate(266.703678 242.738437)scale(0.1 -0.1)\">\n       <use xlink:href=\"#DejaVuSans-48\"/>\n       <use x=\"63.623047\" xlink:href=\"#DejaVuSans-46\"/>\n       <use x=\"95.410156\" xlink:href=\"#DejaVuSans-50\"/>\n      </g>\n     </g>\n    </g>\n    <g id=\"xtick_7\">\n     <g id=\"line2d_7\">\n      <g>\n       <use style=\"stroke:#000000;stroke-width:0.8;\" x=\"318.970057\" xlink:href=\"#m15ec517d6f\" y=\"228.14\"/>\n      </g>\n     </g>\n     <g id=\"text_7\">\n      <!-- 0.3 -->\n      <g transform=\"translate(311.018495 242.738437)scale(0.1 -0.1)\">\n       <use xlink:href=\"#DejaVuSans-48\"/>\n       <use x=\"63.623047\" xlink:href=\"#DejaVuSans-46\"/>\n       <use x=\"95.410156\" xlink:href=\"#DejaVuSans-51\"/>\n      </g>\n     </g>\n    </g>\n    <g id=\"xtick_8\">\n     <g id=\"line2d_8\">\n      <g>\n       <use style=\"stroke:#000000;stroke-width:0.8;\" x=\"363.284874\" xlink:href=\"#m15ec517d6f\" y=\"228.14\"/>\n      </g>\n     </g>\n     <g id=\"text_8\">\n      <!-- 0.4 -->\n      <defs>\n       <path d=\"M 37.796875 64.3125 \nL 12.890625 25.390625 \nL 37.796875 25.390625 \nz\nM 35.203125 72.90625 \nL 47.609375 72.90625 \nL 47.609375 25.390625 \nL 58.015625 25.390625 \nL 58.015625 17.1875 \nL 47.609375 17.1875 \nL 47.609375 0 \nL 37.796875 0 \nL 37.796875 17.1875 \nL 4.890625 17.1875 \nL 4.890625 26.703125 \nz\n\" id=\"DejaVuSans-52\"/>\n      </defs>\n      <g transform=\"translate(355.333311 242.738437)scale(0.1 -0.1)\">\n       <use xlink:href=\"#DejaVuSans-48\"/>\n       <use x=\"63.623047\" xlink:href=\"#DejaVuSans-46\"/>\n       <use x=\"95.410156\" xlink:href=\"#DejaVuSans-52\"/>\n      </g>\n     </g>\n    </g>\n   </g>\n   <g id=\"matplotlib.axis_2\">\n    <g id=\"ytick_1\">\n     <g id=\"line2d_9\">\n      <defs>\n       <path d=\"M 0 0 \nL -3.5 0 \n\" id=\"m658953623c\" style=\"stroke:#000000;stroke-width:0.8;\"/>\n      </defs>\n      <g>\n       <use style=\"stroke:#000000;stroke-width:0.8;\" x=\"33.2875\" xlink:href=\"#m658953623c\" y=\"228.14\"/>\n      </g>\n     </g>\n     <g id=\"text_9\">\n      <!-- 0 -->\n      <g transform=\"translate(19.925 231.939219)scale(0.1 -0.1)\">\n       <use xlink:href=\"#DejaVuSans-48\"/>\n      </g>\n     </g>\n    </g>\n    <g id=\"ytick_2\">\n     <g id=\"line2d_10\">\n      <g>\n       <use style=\"stroke:#000000;stroke-width:0.8;\" x=\"33.2875\" xlink:href=\"#m658953623c\" y=\"185.441915\"/>\n      </g>\n     </g>\n     <g id=\"text_10\">\n      <!-- 20 -->\n      <g transform=\"translate(13.5625 189.241133)scale(0.1 -0.1)\">\n       <use xlink:href=\"#DejaVuSans-50\"/>\n       <use x=\"63.623047\" xlink:href=\"#DejaVuSans-48\"/>\n      </g>\n     </g>\n    </g>\n    <g id=\"ytick_3\">\n     <g id=\"line2d_11\">\n      <g>\n       <use style=\"stroke:#000000;stroke-width:0.8;\" x=\"33.2875\" xlink:href=\"#m658953623c\" y=\"142.743829\"/>\n      </g>\n     </g>\n     <g id=\"text_11\">\n      <!-- 40 -->\n      <g transform=\"translate(13.5625 146.543048)scale(0.1 -0.1)\">\n       <use xlink:href=\"#DejaVuSans-52\"/>\n       <use x=\"63.623047\" xlink:href=\"#DejaVuSans-48\"/>\n      </g>\n     </g>\n    </g>\n    <g id=\"ytick_4\">\n     <g id=\"line2d_12\">\n      <g>\n       <use style=\"stroke:#000000;stroke-width:0.8;\" x=\"33.2875\" xlink:href=\"#m658953623c\" y=\"100.045744\"/>\n      </g>\n     </g>\n     <g id=\"text_12\">\n      <!-- 60 -->\n      <defs>\n       <path d=\"M 33.015625 40.375 \nQ 26.375 40.375 22.484375 35.828125 \nQ 18.609375 31.296875 18.609375 23.390625 \nQ 18.609375 15.53125 22.484375 10.953125 \nQ 26.375 6.390625 33.015625 6.390625 \nQ 39.65625 6.390625 43.53125 10.953125 \nQ 47.40625 15.53125 47.40625 23.390625 \nQ 47.40625 31.296875 43.53125 35.828125 \nQ 39.65625 40.375 33.015625 40.375 \nz\nM 52.59375 71.296875 \nL 52.59375 62.3125 \nQ 48.875 64.0625 45.09375 64.984375 \nQ 41.3125 65.921875 37.59375 65.921875 \nQ 27.828125 65.921875 22.671875 59.328125 \nQ 17.53125 52.734375 16.796875 39.40625 \nQ 19.671875 43.65625 24.015625 45.921875 \nQ 28.375 48.1875 33.59375 48.1875 \nQ 44.578125 48.1875 50.953125 41.515625 \nQ 57.328125 34.859375 57.328125 23.390625 \nQ 57.328125 12.15625 50.6875 5.359375 \nQ 44.046875 -1.421875 33.015625 -1.421875 \nQ 20.359375 -1.421875 13.671875 8.265625 \nQ 6.984375 17.96875 6.984375 36.375 \nQ 6.984375 53.65625 15.1875 63.9375 \nQ 23.390625 74.21875 37.203125 74.21875 \nQ 40.921875 74.21875 44.703125 73.484375 \nQ 48.484375 72.75 52.59375 71.296875 \nz\n\" id=\"DejaVuSans-54\"/>\n      </defs>\n      <g transform=\"translate(13.5625 103.844962)scale(0.1 -0.1)\">\n       <use xlink:href=\"#DejaVuSans-54\"/>\n       <use x=\"63.623047\" xlink:href=\"#DejaVuSans-48\"/>\n      </g>\n     </g>\n    </g>\n    <g id=\"ytick_5\">\n     <g id=\"line2d_13\">\n      <g>\n       <use style=\"stroke:#000000;stroke-width:0.8;\" x=\"33.2875\" xlink:href=\"#m658953623c\" y=\"57.347658\"/>\n      </g>\n     </g>\n     <g id=\"text_13\">\n      <!-- 80 -->\n      <defs>\n       <path d=\"M 31.78125 34.625 \nQ 24.75 34.625 20.71875 30.859375 \nQ 16.703125 27.09375 16.703125 20.515625 \nQ 16.703125 13.921875 20.71875 10.15625 \nQ 24.75 6.390625 31.78125 6.390625 \nQ 38.8125 6.390625 42.859375 10.171875 \nQ 46.921875 13.96875 46.921875 20.515625 \nQ 46.921875 27.09375 42.890625 30.859375 \nQ 38.875 34.625 31.78125 34.625 \nz\nM 21.921875 38.8125 \nQ 15.578125 40.375 12.03125 44.71875 \nQ 8.5 49.078125 8.5 55.328125 \nQ 8.5 64.0625 14.71875 69.140625 \nQ 20.953125 74.21875 31.78125 74.21875 \nQ 42.671875 74.21875 48.875 69.140625 \nQ 55.078125 64.0625 55.078125 55.328125 \nQ 55.078125 49.078125 51.53125 44.71875 \nQ 48 40.375 41.703125 38.8125 \nQ 48.828125 37.15625 52.796875 32.3125 \nQ 56.78125 27.484375 56.78125 20.515625 \nQ 56.78125 9.90625 50.3125 4.234375 \nQ 43.84375 -1.421875 31.78125 -1.421875 \nQ 19.734375 -1.421875 13.25 4.234375 \nQ 6.78125 9.90625 6.78125 20.515625 \nQ 6.78125 27.484375 10.78125 32.3125 \nQ 14.796875 37.15625 21.921875 38.8125 \nz\nM 18.3125 54.390625 \nQ 18.3125 48.734375 21.84375 45.5625 \nQ 25.390625 42.390625 31.78125 42.390625 \nQ 38.140625 42.390625 41.71875 45.5625 \nQ 45.3125 48.734375 45.3125 54.390625 \nQ 45.3125 60.0625 41.71875 63.234375 \nQ 38.140625 66.40625 31.78125 66.40625 \nQ 25.390625 66.40625 21.84375 63.234375 \nQ 18.3125 60.0625 18.3125 54.390625 \nz\n\" id=\"DejaVuSans-56\"/>\n      </defs>\n      <g transform=\"translate(13.5625 61.146877)scale(0.1 -0.1)\">\n       <use xlink:href=\"#DejaVuSans-56\"/>\n       <use x=\"63.623047\" xlink:href=\"#DejaVuSans-48\"/>\n      </g>\n     </g>\n    </g>\n    <g id=\"ytick_6\">\n     <g id=\"line2d_14\">\n      <g>\n       <use style=\"stroke:#000000;stroke-width:0.8;\" x=\"33.2875\" xlink:href=\"#m658953623c\" y=\"14.649573\"/>\n      </g>\n     </g>\n     <g id=\"text_14\">\n      <!-- 100 -->\n      <g transform=\"translate(7.2 18.448792)scale(0.1 -0.1)\">\n       <use xlink:href=\"#DejaVuSans-49\"/>\n       <use x=\"63.623047\" xlink:href=\"#DejaVuSans-48\"/>\n       <use x=\"127.246094\" xlink:href=\"#DejaVuSans-48\"/>\n      </g>\n     </g>\n    </g>\n   </g>\n   <g id=\"patch_33\">\n    <path d=\"M 33.2875 228.14 \nL 33.2875 10.7 \n\" style=\"fill:none;stroke:#000000;stroke-linecap:square;stroke-linejoin:miter;stroke-width:0.8;\"/>\n   </g>\n   <g id=\"patch_34\">\n    <path d=\"M 368.0875 228.14 \nL 368.0875 10.7 \n\" style=\"fill:none;stroke:#000000;stroke-linecap:square;stroke-linejoin:miter;stroke-width:0.8;\"/>\n   </g>\n   <g id=\"patch_35\">\n    <path d=\"M 33.2875 228.14 \nL 368.0875 228.14 \n\" style=\"fill:none;stroke:#000000;stroke-linecap:square;stroke-linejoin:miter;stroke-width:0.8;\"/>\n   </g>\n   <g id=\"patch_36\">\n    <path d=\"M 33.2875 10.7 \nL 368.0875 10.7 \n\" style=\"fill:none;stroke:#000000;stroke-linecap:square;stroke-linejoin:miter;stroke-width:0.8;\"/>\n   </g>\n  </g>\n </g>\n <defs>\n  <clipPath id=\"pc047e24cf3\">\n   <rect height=\"217.44\" width=\"334.8\" x=\"33.2875\" y=\"10.7\"/>\n  </clipPath>\n </defs>\n</svg>\n",
      "text/plain": "<Figure size 432x288 with 1 Axes>"
     },
     "metadata": {
      "needs_background": "light"
     },
     "output_type": "display_data"
    }
   ],
   "source": [
    "plt.hist(dif, bins=30)"
   ]
  },
  {
   "cell_type": "code",
   "execution_count": 52,
   "metadata": {},
   "outputs": [
    {
     "data": {
      "text/plain": "array([-0.20599056,  0.19979423])"
     },
     "execution_count": 52,
     "metadata": {},
     "output_type": "execute_result"
    }
   ],
   "source": [
    "np.percentile(dif, [2.5, 97.5])"
   ]
  },
  {
   "cell_type": "code",
   "execution_count": 54,
   "metadata": {},
   "outputs": [],
   "source": [
    "# 6 minutes is way larger than CI\n",
    "# Hypothesis: dep delay same as arr delay is highly unlikely\n",
    "# currently the same as saying: no way it can be by chance that the delay is 6 minutes"
   ]
  },
  {
   "cell_type": "markdown",
   "metadata": {},
   "source": [
    "## T-test"
   ]
  },
  {
   "cell_type": "code",
   "execution_count": 56,
   "metadata": {},
   "outputs": [
    {
     "data": {
      "text/plain": "6.89537675731489"
     },
     "execution_count": 56,
     "metadata": {},
     "output_type": "execute_result"
    }
   ],
   "source": [
    "ma = data.arr_delay.mean()\n",
    "ma"
   ]
  },
  {
   "cell_type": "code",
   "execution_count": 58,
   "metadata": {},
   "outputs": [
    {
     "data": {
      "text/plain": "12.639070257304708"
     },
     "execution_count": 58,
     "metadata": {},
     "output_type": "execute_result"
    }
   ],
   "source": [
    "md = data.dep_delay.mean()\n",
    "md"
   ]
  },
  {
   "cell_type": "code",
   "execution_count": 60,
   "metadata": {},
   "outputs": [
    {
     "data": {
      "text/plain": "-5.743693499989818"
     },
     "execution_count": 60,
     "metadata": {},
     "output_type": "execute_result"
    }
   ],
   "source": [
    "dif = ma - md\n",
    "dif"
   ]
  },
  {
   "cell_type": "code",
   "execution_count": 61,
   "metadata": {},
   "outputs": [],
   "source": [
    "# t = (ma - md)/(std of (ma - md))\n",
    "# t = effect size/standard deviation"
   ]
  },
  {
   "cell_type": "code",
   "execution_count": 62,
   "metadata": {},
   "outputs": [],
   "source": [
    "stddiff = np.sqrt(np.var(data.dep_delay)/len(data) + np.var(data.arr_delay)/len(data))"
   ]
  },
  {
   "cell_type": "code",
   "execution_count": 63,
   "metadata": {},
   "outputs": [
    {
     "data": {
      "text/plain": "0.1035192201369706"
     },
     "execution_count": 63,
     "metadata": {},
     "output_type": "execute_result"
    }
   ],
   "source": [
    "stddiff"
   ]
  },
  {
   "cell_type": "code",
   "execution_count": 64,
   "metadata": {},
   "outputs": [],
   "source": [
    "t = (ma - md)/stddiff"
   ]
  },
  {
   "cell_type": "code",
   "execution_count": 65,
   "metadata": {},
   "outputs": [
    {
     "data": {
      "text/plain": "-55.48431964991716"
     },
     "execution_count": 65,
     "metadata": {},
     "output_type": "execute_result"
    }
   ],
   "source": [
    "t"
   ]
  },
  {
   "cell_type": "code",
   "execution_count": 66,
   "metadata": {},
   "outputs": [],
   "source": [
    "# t = -55, df = 300000 (num observations)\n",
    "# google t-test table\n",
    "# top row shows how likely difference is due to chance alone -- becaause t value is 55, it is essentially impossible that it is from chance alone"
   ]
  },
  {
   "cell_type": "code",
   "execution_count": 69,
   "metadata": {},
   "outputs": [],
   "source": [
    "text = pd.read_csv('../assignments/texts-test.csv.bz2', '\\t')"
   ]
  },
  {
   "cell_type": "code",
   "execution_count": 70,
   "metadata": {},
   "outputs": [
    {
     "data": {
      "text/html": "<div>\n<style scoped>\n    .dataframe tbody tr th:only-of-type {\n        vertical-align: middle;\n    }\n\n    .dataframe tbody tr th {\n        vertical-align: top;\n    }\n\n    .dataframe thead th {\n        text-align: right;\n    }\n</style>\n<table border=\"1\" class=\"dataframe\">\n  <thead>\n    <tr style=\"text-align: right;\">\n      <th></th>\n      <th>name</th>\n      <th>size</th>\n      <th>lines</th>\n      <th>pagenr</th>\n      <th>text</th>\n    </tr>\n  </thead>\n  <tbody>\n    <tr>\n      <th>0</th>\n      <td>laozi</td>\n      <td>1</td>\n      <td>1</td>\n      <td>1</td>\n      <td>Knowing others is, knowing yourself is</td>\n    </tr>\n    <tr>\n      <th>1</th>\n      <td>laozi</td>\n      <td>1</td>\n      <td>1</td>\n      <td>2</td>\n      <td>Mastering others is strength. Mastering yourse...</td>\n    </tr>\n    <tr>\n      <th>2</th>\n      <td>so</td>\n      <td>1</td>\n      <td>1</td>\n      <td>1</td>\n      <td>I tried using L.index() the mastering the</td>\n    </tr>\n    <tr>\n      <th>3</th>\n      <td>so</td>\n      <td>1</td>\n      <td>1</td>\n      <td>2</td>\n      <td>I tried running loop L using L.index(R)</td>\n    </tr>\n  </tbody>\n</table>\n</div>",
      "text/plain": "    name  size  lines  pagenr  \\\n0  laozi     1      1       1   \n1  laozi     1      1       2   \n2     so     1      1       1   \n3     so     1      1       2   \n\n                                                text  \n0             Knowing others is, knowing yourself is  \n1  Mastering others is strength. Mastering yourse...  \n2          I tried using L.index() the mastering the  \n3            I tried running loop L using L.index(R)  "
     },
     "execution_count": 70,
     "metadata": {},
     "output_type": "execute_result"
    }
   ],
   "source": [
    "text"
   ]
  },
  {
   "cell_type": "code",
   "execution_count": 71,
   "metadata": {},
   "outputs": [],
   "source": [
    "from sklearn.feature_extraction.text import CountVectorizer"
   ]
  },
  {
   "cell_type": "code",
   "execution_count": 72,
   "metadata": {},
   "outputs": [],
   "source": [
    "vr = CountVectorizer()"
   ]
  },
  {
   "cell_type": "code",
   "execution_count": 73,
   "metadata": {},
   "outputs": [
    {
     "data": {
      "text/plain": "CountVectorizer(analyzer='word', binary=False, decode_error='strict',\n        dtype=<class 'numpy.int64'>, encoding='utf-8', input='content',\n        lowercase=True, max_df=1.0, max_features=None, min_df=1,\n        ngram_range=(1, 1), preprocessor=None, stop_words=None,\n        strip_accents=None, token_pattern='(?u)\\\\b\\\\w\\\\w+\\\\b',\n        tokenizer=None, vocabulary=None)"
     },
     "execution_count": 73,
     "metadata": {},
     "output_type": "execute_result"
    }
   ],
   "source": [
    "vr.fit(text.text)"
   ]
  },
  {
   "cell_type": "code",
   "execution_count": 77,
   "metadata": {},
   "outputs": [],
   "source": [
    "X = vr.transform(text.text).toarray()"
   ]
  },
  {
   "cell_type": "code",
   "execution_count": 76,
   "metadata": {},
   "outputs": [
    {
     "data": {
      "text/plain": "['index',\n 'is',\n 'knowing',\n 'loop',\n 'mastering',\n 'others',\n 'running',\n 'strength',\n 'the',\n 'tried',\n 'using',\n 'yourself']"
     },
     "execution_count": 76,
     "metadata": {},
     "output_type": "execute_result"
    }
   ],
   "source": [
    "vr.get_feature_names()"
   ]
  },
  {
   "cell_type": "code",
   "execution_count": 78,
   "metadata": {},
   "outputs": [],
   "source": [
    "df = pd.DataFrame(X, columns=vr.get_feature_names())"
   ]
  },
  {
   "cell_type": "code",
   "execution_count": 79,
   "metadata": {},
   "outputs": [
    {
     "data": {
      "text/html": "<div>\n<style scoped>\n    .dataframe tbody tr th:only-of-type {\n        vertical-align: middle;\n    }\n\n    .dataframe tbody tr th {\n        vertical-align: top;\n    }\n\n    .dataframe thead th {\n        text-align: right;\n    }\n</style>\n<table border=\"1\" class=\"dataframe\">\n  <thead>\n    <tr style=\"text-align: right;\">\n      <th></th>\n      <th>index</th>\n      <th>is</th>\n      <th>knowing</th>\n      <th>loop</th>\n      <th>mastering</th>\n      <th>others</th>\n      <th>running</th>\n      <th>strength</th>\n      <th>the</th>\n      <th>tried</th>\n      <th>using</th>\n      <th>yourself</th>\n    </tr>\n  </thead>\n  <tbody>\n    <tr>\n      <th>0</th>\n      <td>0</td>\n      <td>2</td>\n      <td>2</td>\n      <td>0</td>\n      <td>0</td>\n      <td>1</td>\n      <td>0</td>\n      <td>0</td>\n      <td>0</td>\n      <td>0</td>\n      <td>0</td>\n      <td>1</td>\n    </tr>\n    <tr>\n      <th>1</th>\n      <td>0</td>\n      <td>2</td>\n      <td>0</td>\n      <td>1</td>\n      <td>2</td>\n      <td>1</td>\n      <td>0</td>\n      <td>1</td>\n      <td>0</td>\n      <td>0</td>\n      <td>0</td>\n      <td>1</td>\n    </tr>\n    <tr>\n      <th>2</th>\n      <td>1</td>\n      <td>0</td>\n      <td>0</td>\n      <td>0</td>\n      <td>1</td>\n      <td>0</td>\n      <td>0</td>\n      <td>0</td>\n      <td>2</td>\n      <td>1</td>\n      <td>1</td>\n      <td>0</td>\n    </tr>\n    <tr>\n      <th>3</th>\n      <td>1</td>\n      <td>0</td>\n      <td>0</td>\n      <td>1</td>\n      <td>0</td>\n      <td>0</td>\n      <td>1</td>\n      <td>0</td>\n      <td>0</td>\n      <td>1</td>\n      <td>1</td>\n      <td>0</td>\n    </tr>\n  </tbody>\n</table>\n</div>",
      "text/plain": "   index  is  knowing  loop  mastering  others  running  strength  the  tried  \\\n0      0   2        2     0          0       1        0         0    0      0   \n1      0   2        0     1          2       1        0         1    0      0   \n2      1   0        0     0          1       0        0         0    2      1   \n3      1   0        0     1          0       0        1         0    0      1   \n\n   using  yourself  \n0      0         1  \n1      0         1  \n2      1         0  \n3      1         0  "
     },
     "execution_count": 79,
     "metadata": {},
     "output_type": "execute_result"
    }
   ],
   "source": [
    "df"
   ]
  },
  {
   "cell_type": "code",
   "execution_count": 80,
   "metadata": {},
   "outputs": [],
   "source": [
    "from sklearn.model_selection import train_test_split"
   ]
  },
  {
   "cell_type": "code",
   "execution_count": 81,
   "metadata": {},
   "outputs": [],
   "source": [
    "Xtrain, Xvalid, ytrain, yvalid = train_test_split(X, text.name.values)"
   ]
  },
  {
   "cell_type": "code",
   "execution_count": 82,
   "metadata": {},
   "outputs": [
    {
     "data": {
      "text/plain": "array([[1, 0, 0, 0, 1, 0, 0, 0, 2, 1, 1, 0],\n       [0, 2, 0, 1, 2, 1, 0, 1, 0, 0, 0, 1],\n       [0, 2, 2, 0, 0, 1, 0, 0, 0, 0, 0, 1]])"
     },
     "execution_count": 82,
     "metadata": {},
     "output_type": "execute_result"
    }
   ],
   "source": [
    "Xtrain"
   ]
  },
  {
   "cell_type": "code",
   "execution_count": 84,
   "metadata": {},
   "outputs": [
    {
     "data": {
      "text/plain": "array([[1, 0, 0, 1, 0, 0, 1, 0, 0, 1, 1, 0]])"
     },
     "execution_count": 84,
     "metadata": {},
     "output_type": "execute_result"
    }
   ],
   "source": [
    "Xvalid"
   ]
  },
  {
   "cell_type": "code",
   "execution_count": 85,
   "metadata": {},
   "outputs": [
    {
     "data": {
      "text/plain": "array(['so', 'laozi', 'laozi'], dtype=object)"
     },
     "execution_count": 85,
     "metadata": {},
     "output_type": "execute_result"
    }
   ],
   "source": [
    "ytrain"
   ]
  },
  {
   "cell_type": "code",
   "execution_count": 86,
   "metadata": {},
   "outputs": [
    {
     "data": {
      "text/plain": "array(['so'], dtype=object)"
     },
     "execution_count": 86,
     "metadata": {},
     "output_type": "execute_result"
    }
   ],
   "source": [
    "yvalid"
   ]
  },
  {
   "cell_type": "code",
   "execution_count": null,
   "metadata": {},
   "outputs": [],
   "source": []
  }
 ]
}