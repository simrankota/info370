{
 "nbformat": 4,
 "nbformat_minor": 2,
 "metadata": {
  "language_info": {
   "name": "python",
   "codemirror_mode": {
    "name": "ipython",
    "version": 3
   },
   "version": "3.7.4-final"
  },
  "orig_nbformat": 2,
  "file_extension": ".py",
  "mimetype": "text/x-python",
  "name": "python",
  "npconvert_exporter": "python",
  "pygments_lexer": "ipython3",
  "version": 3,
  "kernelspec": {
   "name": "python37464bit846a6cfd2b20454eb3388c4dd73faf33",
   "display_name": "Python 3.7.4 64-bit"
  }
 },
 "cells": [
  {
   "cell_type": "markdown",
   "execution_count": 4,
   "metadata": {},
   "outputs": [],
   "source": [
    "# demo notebook"
   ]
  },
  {
   "cell_type": "code",
   "execution_count": 5,
   "metadata": {},
   "outputs": [
    {
     "data": {
      "text/plain": "2"
     },
     "execution_count": 5,
     "metadata": {},
     "output_type": "execute_result"
    }
   ],
   "source": [
    "1 + 1"
   ]
  },
  {
   "cell_type": "code",
   "execution_count": 6,
   "metadata": {},
   "outputs": [
    {
     "data": {
      "text/plain": "{0: 0, 1: 1, 2: 4, 3: 9, 4: 16, 5: 25, 6: 36, 7: 49, 8: 64, 9: 81}"
     },
     "execution_count": 6,
     "metadata": {},
     "output_type": "execute_result"
    }
   ],
   "source": [
    "{ i:i * i for i in range(10)}"
   ]
  },
  {
   "cell_type": "markdown",
   "execution_count": 7,
   "metadata": {},
   "outputs": [
    {
     "ename": "SyntaxError",
     "evalue": "invalid syntax (<ipython-input-7-ab928e350d07>, line 1)",
     "output_type": "error",
     "traceback": [
      "\u001b[0;36m  File \u001b[0;32m\"<ipython-input-7-ab928e350d07>\"\u001b[0;36m, line \u001b[0;32m1\u001b[0m\n\u001b[0;31m    This demonstrates _dict comprehension_. It creates a dict with keys of $i = 0\\dots10$ pointing to the corrresponding *squares*\u001b[0m\n\u001b[0m                    ^\u001b[0m\n\u001b[0;31mSyntaxError\u001b[0m\u001b[0;31m:\u001b[0m invalid syntax\n"
     ]
    }
   ],
   "source": [
    "This demonstrates _dict comprehension_. It creates a dict with keys of $i = 0\\dots10$ pointing to the corrresponding *squares*"
   ]
  },
  {
   "cell_type": "code",
   "execution_count": 12,
   "metadata": {},
   "outputs": [],
   "source": [
    "import numpy as np"
   ]
  },
  {
   "cell_type": "code",
   "execution_count": 13,
   "metadata": {},
   "outputs": [
    {
     "name": "stdout",
     "output_type": "stream",
     "text": "[[ 1.2857697   0.52113613 -0.75623288]\n [ 1.18578897  2.1016428  -0.35880136]\n [ 0.06179434  0.58010947  0.08141587]\n [-1.22568691  1.21328513 -1.75169178]]\n"
    }
   ],
   "source": [
    "c = np.random.normal(size=(4,3))\n",
    "print(c)"
   ]
  },
  {
   "cell_type": "code",
   "execution_count": 14,
   "metadata": {},
   "outputs": [
    {
     "data": {
      "text/plain": "array([[ 1.2857697 ,  0.52113613, -0.75623288],\n       [ 1.18578897,  2.1016428 , -0.35880136]])"
     },
     "execution_count": 14,
     "metadata": {},
     "output_type": "execute_result"
    }
   ],
   "source": [
    "c[:2]"
   ]
  },
  {
   "cell_type": "code",
   "execution_count": 15,
   "metadata": {},
   "outputs": [
    {
     "data": {
      "text/plain": "array([[ 0.52113613, -0.75623288],\n       [ 2.1016428 , -0.35880136]])"
     },
     "execution_count": 15,
     "metadata": {},
     "output_type": "execute_result"
    }
   ],
   "source": [
    "c[:2, 1:]"
   ]
  },
  {
   "cell_type": "code",
   "execution_count": 16,
   "metadata": {},
   "outputs": [
    {
     "data": {
      "text/plain": "array([[-0.75623288,  0.52113613,  1.2857697 ],\n       [ 0.08141587,  0.58010947,  0.06179434]])"
     },
     "execution_count": 16,
     "metadata": {},
     "output_type": "execute_result"
    }
   ],
   "source": [
    "c[::2, ::-1]"
   ]
  },
  {
   "cell_type": "code",
   "execution_count": 21,
   "metadata": {},
   "outputs": [
    {
     "data": {
      "text/plain": "array([[ 2,  4,  6,  8, 10],\n       [12, 14, 16, 18, 20],\n       [22, 24, 26, 28, 30],\n       [32, 34, 36, 38, 40]])"
     },
     "execution_count": 21,
     "metadata": {},
     "output_type": "execute_result"
    }
   ],
   "source": [
    "d = 2 * (1 + np.arange(20))\n",
    "d.reshape(4, 5)"
   ]
  },
  {
   "cell_type": "code",
   "execution_count": 22,
   "metadata": {},
   "outputs": [],
   "source": [
    "import pandas as pd"
   ]
  },
  {
   "cell_type": "code",
   "execution_count": 26,
   "metadata": {},
   "outputs": [
    {
     "data": {
      "text/plain": "blue      12.95\nmaroon    19.50\nazure     99.95\nkhaki      5.00\ndtype: float64"
     },
     "execution_count": 26,
     "metadata": {},
     "output_type": "execute_result"
    }
   ],
   "source": [
    "pd.Series([12.95, 19.50, 99.95, 5.00], index = ['blue', 'maroon', 'azure', 'khaki'])"
   ]
  },
  {
   "cell_type": "code",
   "execution_count": 27,
   "metadata": {},
   "outputs": [
    {
     "data": {
      "text/plain": "Seattle            178000\nNew York City    54000000\nPortland            68000\nLos Angeles        730000\ndtype: int64"
     },
     "execution_count": 27,
     "metadata": {},
     "output_type": "execute_result"
    }
   ],
   "source": [
    "pd.Series([178000, 54000000, 68000, 730000], index = ['Seattle', 'New York City', 'Portland', 'Los Angeles'])"
   ]
  },
  {
   "cell_type": "code",
   "execution_count": 29,
   "metadata": {},
   "outputs": [
    {
     "data": {
      "text/html": "<div>\n<style scoped>\n    .dataframe tbody tr th:only-of-type {\n        vertical-align: middle;\n    }\n\n    .dataframe tbody tr th {\n        vertical-align: top;\n    }\n\n    .dataframe thead th {\n        text-align: right;\n    }\n</style>\n<table border=\"1\" class=\"dataframe\">\n  <thead>\n    <tr style=\"text-align: right;\">\n      <th></th>\n      <th>a</th>\n      <th>'b</th>\n      <th>c</th>\n    </tr>\n  </thead>\n  <tbody>\n    <tr>\n      <th>Bangkok</th>\n      <td>1</td>\n      <td>4</td>\n      <td>a</td>\n    </tr>\n    <tr>\n      <th>Shanghai</th>\n      <td>2</td>\n      <td>5</td>\n      <td>a</td>\n    </tr>\n    <tr>\n      <th>Cairo</th>\n      <td>3</td>\n      <td>6</td>\n      <td>a</td>\n    </tr>\n  </tbody>\n</table>\n</div>",
      "text/plain": "          a  'b  c\nBangkok   1   4  a\nShanghai  2   5  a\nCairo     3   6  a"
     },
     "execution_count": 29,
     "metadata": {},
     "output_type": "execute_result"
    }
   ],
   "source": [
    "pd.DataFrame({'a':[1,2,3], \"'b\":[4,5,6], 'c':'a'}, index=['Bangkok', 'Shanghai', 'Cairo'])"
   ]
  },
  {
   "cell_type": "code",
   "execution_count": 30,
   "metadata": {},
   "outputs": [
    {
     "data": {
      "text/html": "<div>\n<style scoped>\n    .dataframe tbody tr th:only-of-type {\n        vertical-align: middle;\n    }\n\n    .dataframe tbody tr th {\n        vertical-align: top;\n    }\n\n    .dataframe thead th {\n        text-align: right;\n    }\n</style>\n<table border=\"1\" class=\"dataframe\">\n  <thead>\n    <tr style=\"text-align: right;\">\n      <th></th>\n      <th>Population</th>\n      <th>Capital</th>\n    </tr>\n  </thead>\n  <tbody>\n    <tr>\n      <th>USA</th>\n      <td>7000000</td>\n      <td>Washington DC</td>\n    </tr>\n    <tr>\n      <th>Egypt</th>\n      <td>5000035</td>\n      <td>Cairo</td>\n    </tr>\n    <tr>\n      <th>India</th>\n      <td>78914921</td>\n      <td>New Delhi</td>\n    </tr>\n  </tbody>\n</table>\n</div>",
      "text/plain": "       Population        Capital\nUSA       7000000  Washington DC\nEgypt     5000035          Cairo\nIndia    78914921      New Delhi"
     },
     "execution_count": 30,
     "metadata": {},
     "output_type": "execute_result"
    }
   ],
   "source": [
    "pd.DataFrame({'Population':[7000000, 5000035, 78914921], 'Capital':['Washington DC', 'Cairo', 'New Delhi']}, index=['USA', 'Egypt', 'India'])"
   ]
  },
  {
   "cell_type": "code",
   "execution_count": 32,
   "metadata": {},
   "outputs": [],
   "source": [
    "titanic = pd.read_csv('./titanic.csv.bz2')"
   ]
  },
  {
   "cell_type": "code",
   "execution_count": 33,
   "metadata": {},
   "outputs": [
    {
     "data": {
      "text/plain": "(1309, 14)"
     },
     "execution_count": 33,
     "metadata": {},
     "output_type": "execute_result"
    }
   ],
   "source": [
    "titanic.shape"
   ]
  },
  {
   "cell_type": "code",
   "execution_count": 34,
   "metadata": {},
   "outputs": [],
   "source": [
    "import os"
   ]
  },
  {
   "cell_type": "code",
   "execution_count": 35,
   "metadata": {},
   "outputs": [
    {
     "data": {
      "text/plain": "'/Users/simrankota/Desktop/UW/Senior Year 2019-20/INFO 370'"
     },
     "execution_count": 35,
     "metadata": {},
     "output_type": "execute_result"
    }
   ],
   "source": [
    "os.getcwd()"
   ]
  },
  {
   "cell_type": "code",
   "execution_count": 36,
   "metadata": {},
   "outputs": [
    {
     "data": {
      "text/html": "<div>\n<style scoped>\n    .dataframe tbody tr th:only-of-type {\n        vertical-align: middle;\n    }\n\n    .dataframe tbody tr th {\n        vertical-align: top;\n    }\n\n    .dataframe thead th {\n        text-align: right;\n    }\n</style>\n<table border=\"1\" class=\"dataframe\">\n  <thead>\n    <tr style=\"text-align: right;\">\n      <th></th>\n      <th>pclass</th>\n      <th>survived</th>\n      <th>name</th>\n      <th>sex</th>\n      <th>age</th>\n      <th>sibsp</th>\n      <th>parch</th>\n      <th>ticket</th>\n      <th>fare</th>\n      <th>cabin</th>\n      <th>embarked</th>\n      <th>boat</th>\n      <th>body</th>\n      <th>home.dest</th>\n    </tr>\n  </thead>\n  <tbody>\n    <tr>\n      <th>0</th>\n      <td>1</td>\n      <td>1</td>\n      <td>Allen, Miss. Elisabeth Walton</td>\n      <td>female</td>\n      <td>29.0000</td>\n      <td>0</td>\n      <td>0</td>\n      <td>24160</td>\n      <td>211.3375</td>\n      <td>B5</td>\n      <td>S</td>\n      <td>2</td>\n      <td>NaN</td>\n      <td>St Louis, MO</td>\n    </tr>\n    <tr>\n      <th>1</th>\n      <td>1</td>\n      <td>1</td>\n      <td>Allison, Master. Hudson Trevor</td>\n      <td>male</td>\n      <td>0.9167</td>\n      <td>1</td>\n      <td>2</td>\n      <td>113781</td>\n      <td>151.5500</td>\n      <td>C22 C26</td>\n      <td>S</td>\n      <td>11</td>\n      <td>NaN</td>\n      <td>Montreal, PQ / Chesterville, ON</td>\n    </tr>\n    <tr>\n      <th>2</th>\n      <td>1</td>\n      <td>0</td>\n      <td>Allison, Miss. Helen Loraine</td>\n      <td>female</td>\n      <td>2.0000</td>\n      <td>1</td>\n      <td>2</td>\n      <td>113781</td>\n      <td>151.5500</td>\n      <td>C22 C26</td>\n      <td>S</td>\n      <td>NaN</td>\n      <td>NaN</td>\n      <td>Montreal, PQ / Chesterville, ON</td>\n    </tr>\n    <tr>\n      <th>3</th>\n      <td>1</td>\n      <td>0</td>\n      <td>Allison, Mr. Hudson Joshua Creighton</td>\n      <td>male</td>\n      <td>30.0000</td>\n      <td>1</td>\n      <td>2</td>\n      <td>113781</td>\n      <td>151.5500</td>\n      <td>C22 C26</td>\n      <td>S</td>\n      <td>NaN</td>\n      <td>135.0</td>\n      <td>Montreal, PQ / Chesterville, ON</td>\n    </tr>\n    <tr>\n      <th>4</th>\n      <td>1</td>\n      <td>0</td>\n      <td>Allison, Mrs. Hudson J C (Bessie Waldo Daniels)</td>\n      <td>female</td>\n      <td>25.0000</td>\n      <td>1</td>\n      <td>2</td>\n      <td>113781</td>\n      <td>151.5500</td>\n      <td>C22 C26</td>\n      <td>S</td>\n      <td>NaN</td>\n      <td>NaN</td>\n      <td>Montreal, PQ / Chesterville, ON</td>\n    </tr>\n  </tbody>\n</table>\n</div>",
      "text/plain": "   pclass  survived                                             name     sex  \\\n0       1         1                    Allen, Miss. Elisabeth Walton  female   \n1       1         1                   Allison, Master. Hudson Trevor    male   \n2       1         0                     Allison, Miss. Helen Loraine  female   \n3       1         0             Allison, Mr. Hudson Joshua Creighton    male   \n4       1         0  Allison, Mrs. Hudson J C (Bessie Waldo Daniels)  female   \n\n       age  sibsp  parch  ticket      fare    cabin embarked boat   body  \\\n0  29.0000      0      0   24160  211.3375       B5        S    2    NaN   \n1   0.9167      1      2  113781  151.5500  C22 C26        S   11    NaN   \n2   2.0000      1      2  113781  151.5500  C22 C26        S  NaN    NaN   \n3  30.0000      1      2  113781  151.5500  C22 C26        S  NaN  135.0   \n4  25.0000      1      2  113781  151.5500  C22 C26        S  NaN    NaN   \n\n                         home.dest  \n0                     St Louis, MO  \n1  Montreal, PQ / Chesterville, ON  \n2  Montreal, PQ / Chesterville, ON  \n3  Montreal, PQ / Chesterville, ON  \n4  Montreal, PQ / Chesterville, ON  "
     },
     "execution_count": 36,
     "metadata": {},
     "output_type": "execute_result"
    }
   ],
   "source": [
    "titanic.head(5)"
   ]
  },
  {
   "cell_type": "code",
   "execution_count": 37,
   "metadata": {},
   "outputs": [
    {
     "data": {
      "text/html": "<div>\n<style scoped>\n    .dataframe tbody tr th:only-of-type {\n        vertical-align: middle;\n    }\n\n    .dataframe tbody tr th {\n        vertical-align: top;\n    }\n\n    .dataframe thead th {\n        text-align: right;\n    }\n</style>\n<table border=\"1\" class=\"dataframe\">\n  <thead>\n    <tr style=\"text-align: right;\">\n      <th></th>\n      <th>pclass</th>\n      <th>survived</th>\n      <th>name</th>\n      <th>sex</th>\n      <th>age</th>\n      <th>sibsp</th>\n      <th>parch</th>\n      <th>ticket</th>\n      <th>fare</th>\n      <th>cabin</th>\n      <th>embarked</th>\n      <th>boat</th>\n      <th>body</th>\n      <th>home.dest</th>\n    </tr>\n  </thead>\n  <tbody>\n    <tr>\n      <th>1304</th>\n      <td>3</td>\n      <td>0</td>\n      <td>Zabour, Miss. Hileni</td>\n      <td>female</td>\n      <td>14.5</td>\n      <td>1</td>\n      <td>0</td>\n      <td>2665</td>\n      <td>14.4542</td>\n      <td>NaN</td>\n      <td>C</td>\n      <td>NaN</td>\n      <td>328.0</td>\n      <td>NaN</td>\n    </tr>\n    <tr>\n      <th>1305</th>\n      <td>3</td>\n      <td>0</td>\n      <td>Zabour, Miss. Thamine</td>\n      <td>female</td>\n      <td>NaN</td>\n      <td>1</td>\n      <td>0</td>\n      <td>2665</td>\n      <td>14.4542</td>\n      <td>NaN</td>\n      <td>C</td>\n      <td>NaN</td>\n      <td>NaN</td>\n      <td>NaN</td>\n    </tr>\n    <tr>\n      <th>1306</th>\n      <td>3</td>\n      <td>0</td>\n      <td>Zakarian, Mr. Mapriededer</td>\n      <td>male</td>\n      <td>26.5</td>\n      <td>0</td>\n      <td>0</td>\n      <td>2656</td>\n      <td>7.2250</td>\n      <td>NaN</td>\n      <td>C</td>\n      <td>NaN</td>\n      <td>304.0</td>\n      <td>NaN</td>\n    </tr>\n    <tr>\n      <th>1307</th>\n      <td>3</td>\n      <td>0</td>\n      <td>Zakarian, Mr. Ortin</td>\n      <td>male</td>\n      <td>27.0</td>\n      <td>0</td>\n      <td>0</td>\n      <td>2670</td>\n      <td>7.2250</td>\n      <td>NaN</td>\n      <td>C</td>\n      <td>NaN</td>\n      <td>NaN</td>\n      <td>NaN</td>\n    </tr>\n    <tr>\n      <th>1308</th>\n      <td>3</td>\n      <td>0</td>\n      <td>Zimmerman, Mr. Leo</td>\n      <td>male</td>\n      <td>29.0</td>\n      <td>0</td>\n      <td>0</td>\n      <td>315082</td>\n      <td>7.8750</td>\n      <td>NaN</td>\n      <td>S</td>\n      <td>NaN</td>\n      <td>NaN</td>\n      <td>NaN</td>\n    </tr>\n  </tbody>\n</table>\n</div>",
      "text/plain": "      pclass  survived                       name     sex   age  sibsp  parch  \\\n1304       3         0       Zabour, Miss. Hileni  female  14.5      1      0   \n1305       3         0      Zabour, Miss. Thamine  female   NaN      1      0   \n1306       3         0  Zakarian, Mr. Mapriededer    male  26.5      0      0   \n1307       3         0        Zakarian, Mr. Ortin    male  27.0      0      0   \n1308       3         0         Zimmerman, Mr. Leo    male  29.0      0      0   \n\n      ticket     fare cabin embarked boat   body home.dest  \n1304    2665  14.4542   NaN        C  NaN  328.0       NaN  \n1305    2665  14.4542   NaN        C  NaN    NaN       NaN  \n1306    2656   7.2250   NaN        C  NaN  304.0       NaN  \n1307    2670   7.2250   NaN        C  NaN    NaN       NaN  \n1308  315082   7.8750   NaN        S  NaN    NaN       NaN  "
     },
     "execution_count": 37,
     "metadata": {},
     "output_type": "execute_result"
    }
   ],
   "source": [
    "titanic.tail(5)"
   ]
  },
  {
   "cell_type": "code",
   "execution_count": 38,
   "metadata": {},
   "outputs": [
    {
     "data": {
      "text/html": "<div>\n<style scoped>\n    .dataframe tbody tr th:only-of-type {\n        vertical-align: middle;\n    }\n\n    .dataframe tbody tr th {\n        vertical-align: top;\n    }\n\n    .dataframe thead th {\n        text-align: right;\n    }\n</style>\n<table border=\"1\" class=\"dataframe\">\n  <thead>\n    <tr style=\"text-align: right;\">\n      <th></th>\n      <th>pclass</th>\n      <th>survived</th>\n      <th>name</th>\n      <th>sex</th>\n      <th>age</th>\n      <th>sibsp</th>\n      <th>parch</th>\n      <th>ticket</th>\n      <th>fare</th>\n      <th>cabin</th>\n      <th>embarked</th>\n      <th>boat</th>\n      <th>body</th>\n      <th>home.dest</th>\n    </tr>\n  </thead>\n  <tbody>\n    <tr>\n      <th>1152</th>\n      <td>3</td>\n      <td>0</td>\n      <td>Robins, Mr. Alexander A</td>\n      <td>male</td>\n      <td>50.0</td>\n      <td>1</td>\n      <td>0</td>\n      <td>A/5. 3337</td>\n      <td>14.5000</td>\n      <td>NaN</td>\n      <td>S</td>\n      <td>NaN</td>\n      <td>119.0</td>\n      <td>NaN</td>\n    </tr>\n    <tr>\n      <th>725</th>\n      <td>3</td>\n      <td>1</td>\n      <td>Connolly, Miss. Kate</td>\n      <td>female</td>\n      <td>22.0</td>\n      <td>0</td>\n      <td>0</td>\n      <td>370373</td>\n      <td>7.7500</td>\n      <td>NaN</td>\n      <td>Q</td>\n      <td>13</td>\n      <td>NaN</td>\n      <td>Ireland</td>\n    </tr>\n    <tr>\n      <th>659</th>\n      <td>3</td>\n      <td>1</td>\n      <td>Baclini, Miss. Marie Catherine</td>\n      <td>female</td>\n      <td>5.0</td>\n      <td>2</td>\n      <td>1</td>\n      <td>2666</td>\n      <td>19.2583</td>\n      <td>NaN</td>\n      <td>C</td>\n      <td>C</td>\n      <td>NaN</td>\n      <td>Syria New York, NY</td>\n    </tr>\n    <tr>\n      <th>479</th>\n      <td>2</td>\n      <td>1</td>\n      <td>Laroche, Miss. Simonne Marie Anne Andree</td>\n      <td>female</td>\n      <td>3.0</td>\n      <td>1</td>\n      <td>2</td>\n      <td>SC/Paris 2123</td>\n      <td>41.5792</td>\n      <td>NaN</td>\n      <td>C</td>\n      <td>14</td>\n      <td>NaN</td>\n      <td>Paris / Haiti</td>\n    </tr>\n    <tr>\n      <th>227</th>\n      <td>1</td>\n      <td>1</td>\n      <td>Pears, Mrs. Thomas (Edith Wearne)</td>\n      <td>female</td>\n      <td>22.0</td>\n      <td>1</td>\n      <td>0</td>\n      <td>113776</td>\n      <td>66.6000</td>\n      <td>C2</td>\n      <td>S</td>\n      <td>8</td>\n      <td>NaN</td>\n      <td>Isleworth, England</td>\n    </tr>\n  </tbody>\n</table>\n</div>",
      "text/plain": "      pclass  survived                                      name     sex  \\\n1152       3         0                   Robins, Mr. Alexander A    male   \n725        3         1                      Connolly, Miss. Kate  female   \n659        3         1            Baclini, Miss. Marie Catherine  female   \n479        2         1  Laroche, Miss. Simonne Marie Anne Andree  female   \n227        1         1         Pears, Mrs. Thomas (Edith Wearne)  female   \n\n       age  sibsp  parch         ticket     fare cabin embarked boat   body  \\\n1152  50.0      1      0      A/5. 3337  14.5000   NaN        S  NaN  119.0   \n725   22.0      0      0         370373   7.7500   NaN        Q   13    NaN   \n659    5.0      2      1           2666  19.2583   NaN        C    C    NaN   \n479    3.0      1      2  SC/Paris 2123  41.5792   NaN        C   14    NaN   \n227   22.0      1      0         113776  66.6000    C2        S    8    NaN   \n\n               home.dest  \n1152                 NaN  \n725              Ireland  \n659   Syria New York, NY  \n479        Paris / Haiti  \n227   Isleworth, England  "
     },
     "execution_count": 38,
     "metadata": {},
     "output_type": "execute_result"
    }
   ],
   "source": [
    "titanic.sample(5)"
   ]
  },
  {
   "cell_type": "code",
   "execution_count": 39,
   "metadata": {},
   "outputs": [
    {
     "data": {
      "text/plain": "pclass                                   1\nsurvived                                 1\nname         Allen, Miss. Elisabeth Walton\nsex                                 female\nage                                     29\nsibsp                                    0\nparch                                    0\nticket                               24160\nfare                               211.338\ncabin                                   B5\nembarked                                 S\nboat                                     2\nbody                                   NaN\nhome.dest                     St Louis, MO\nName: 0, dtype: object"
     },
     "execution_count": 39,
     "metadata": {},
     "output_type": "execute_result"
    }
   ],
   "source": [
    "titanic.iloc[0]"
   ]
  },
  {
   "cell_type": "code",
   "execution_count": 40,
   "metadata": {},
   "outputs": [
    {
     "data": {
      "text/html": "<div>\n<style scoped>\n    .dataframe tbody tr th:only-of-type {\n        vertical-align: middle;\n    }\n\n    .dataframe tbody tr th {\n        vertical-align: top;\n    }\n\n    .dataframe thead th {\n        text-align: right;\n    }\n</style>\n<table border=\"1\" class=\"dataframe\">\n  <thead>\n    <tr style=\"text-align: right;\">\n      <th></th>\n      <th>pclass</th>\n      <th>survived</th>\n      <th>name</th>\n      <th>sex</th>\n      <th>age</th>\n      <th>sibsp</th>\n      <th>parch</th>\n      <th>ticket</th>\n      <th>fare</th>\n      <th>cabin</th>\n      <th>embarked</th>\n      <th>boat</th>\n      <th>body</th>\n      <th>home.dest</th>\n    </tr>\n  </thead>\n  <tbody>\n    <tr>\n      <th>0</th>\n      <td>1</td>\n      <td>1</td>\n      <td>Allen, Miss. Elisabeth Walton</td>\n      <td>female</td>\n      <td>29.0</td>\n      <td>0</td>\n      <td>0</td>\n      <td>24160</td>\n      <td>211.3375</td>\n      <td>B5</td>\n      <td>S</td>\n      <td>2</td>\n      <td>NaN</td>\n      <td>St Louis, MO</td>\n    </tr>\n  </tbody>\n</table>\n</div>",
      "text/plain": "   pclass  survived                           name     sex   age  sibsp  \\\n0       1         1  Allen, Miss. Elisabeth Walton  female  29.0      0   \n\n   parch ticket      fare cabin embarked boat  body     home.dest  \n0      0  24160  211.3375    B5        S    2   NaN  St Louis, MO  "
     },
     "execution_count": 40,
     "metadata": {},
     "output_type": "execute_result"
    }
   ],
   "source": [
    "titanic.iloc[[0]]"
   ]
  },
  {
   "cell_type": "code",
   "execution_count": 41,
   "metadata": {},
   "outputs": [
    {
     "data": {
      "text/html": "<div>\n<style scoped>\n    .dataframe tbody tr th:only-of-type {\n        vertical-align: middle;\n    }\n\n    .dataframe tbody tr th {\n        vertical-align: top;\n    }\n\n    .dataframe thead th {\n        text-align: right;\n    }\n</style>\n<table border=\"1\" class=\"dataframe\">\n  <thead>\n    <tr style=\"text-align: right;\">\n      <th></th>\n      <th>pclass</th>\n      <th>survived</th>\n      <th>name</th>\n      <th>sex</th>\n      <th>age</th>\n      <th>sibsp</th>\n      <th>parch</th>\n      <th>ticket</th>\n      <th>fare</th>\n      <th>cabin</th>\n      <th>embarked</th>\n      <th>boat</th>\n      <th>body</th>\n      <th>home.dest</th>\n    </tr>\n  </thead>\n  <tbody>\n    <tr>\n      <th>0</th>\n      <td>1</td>\n      <td>1</td>\n      <td>Allen, Miss. Elisabeth Walton</td>\n      <td>female</td>\n      <td>29.0000</td>\n      <td>0</td>\n      <td>0</td>\n      <td>24160</td>\n      <td>211.3375</td>\n      <td>B5</td>\n      <td>S</td>\n      <td>2</td>\n      <td>NaN</td>\n      <td>St Louis, MO</td>\n    </tr>\n    <tr>\n      <th>1</th>\n      <td>1</td>\n      <td>1</td>\n      <td>Allison, Master. Hudson Trevor</td>\n      <td>male</td>\n      <td>0.9167</td>\n      <td>1</td>\n      <td>2</td>\n      <td>113781</td>\n      <td>151.5500</td>\n      <td>C22 C26</td>\n      <td>S</td>\n      <td>11</td>\n      <td>NaN</td>\n      <td>Montreal, PQ / Chesterville, ON</td>\n    </tr>\n    <tr>\n      <th>11</th>\n      <td>1</td>\n      <td>1</td>\n      <td>Astor, Mrs. John Jacob (Madeleine Talmadge Force)</td>\n      <td>female</td>\n      <td>18.0000</td>\n      <td>1</td>\n      <td>0</td>\n      <td>PC 17757</td>\n      <td>227.5250</td>\n      <td>C62 C64</td>\n      <td>C</td>\n      <td>4</td>\n      <td>NaN</td>\n      <td>New York, NY</td>\n    </tr>\n    <tr>\n      <th>111</th>\n      <td>1</td>\n      <td>1</td>\n      <td>Fortune, Miss. Alice Elizabeth</td>\n      <td>female</td>\n      <td>24.0000</td>\n      <td>3</td>\n      <td>2</td>\n      <td>19950</td>\n      <td>263.0000</td>\n      <td>C23 C25 C27</td>\n      <td>S</td>\n      <td>10</td>\n      <td>NaN</td>\n      <td>Winnipeg, MB</td>\n    </tr>\n    <tr>\n      <th>1111</th>\n      <td>3</td>\n      <td>0</td>\n      <td>Peacock, Master. Alfred Edward</td>\n      <td>male</td>\n      <td>0.7500</td>\n      <td>1</td>\n      <td>1</td>\n      <td>SOTON/O.Q. 3101315</td>\n      <td>13.7750</td>\n      <td>NaN</td>\n      <td>S</td>\n      <td>NaN</td>\n      <td>NaN</td>\n      <td>NaN</td>\n    </tr>\n  </tbody>\n</table>\n</div>",
      "text/plain": "      pclass  survived                                               name  \\\n0          1         1                      Allen, Miss. Elisabeth Walton   \n1          1         1                     Allison, Master. Hudson Trevor   \n11         1         1  Astor, Mrs. John Jacob (Madeleine Talmadge Force)   \n111        1         1                     Fortune, Miss. Alice Elizabeth   \n1111       3         0                     Peacock, Master. Alfred Edward   \n\n         sex      age  sibsp  parch              ticket      fare  \\\n0     female  29.0000      0      0               24160  211.3375   \n1       male   0.9167      1      2              113781  151.5500   \n11    female  18.0000      1      0            PC 17757  227.5250   \n111   female  24.0000      3      2               19950  263.0000   \n1111    male   0.7500      1      1  SOTON/O.Q. 3101315   13.7750   \n\n            cabin embarked boat  body                        home.dest  \n0              B5        S    2   NaN                     St Louis, MO  \n1         C22 C26        S   11   NaN  Montreal, PQ / Chesterville, ON  \n11        C62 C64        C    4   NaN                     New York, NY  \n111   C23 C25 C27        S   10   NaN                     Winnipeg, MB  \n1111          NaN        S  NaN   NaN                              NaN  "
     },
     "execution_count": 41,
     "metadata": {},
     "output_type": "execute_result"
    }
   ],
   "source": [
    "titanic.iloc[[0,1,11,111,1111]]"
   ]
  },
  {
   "cell_type": "code",
   "execution_count": 43,
   "metadata": {},
   "outputs": [
    {
     "data": {
      "text/plain": "0                           Allen, Miss. Elisabeth Walton\n1                          Allison, Master. Hudson Trevor\n11      Astor, Mrs. John Jacob (Madeleine Talmadge Force)\n111                        Fortune, Miss. Alice Elizabeth\n1111                       Peacock, Master. Alfred Edward\nName: name, dtype: object"
     },
     "execution_count": 43,
     "metadata": {},
     "output_type": "execute_result"
    }
   ],
   "source": [
    "titanic.iloc[[0,1,11,111,1111], 2]"
   ]
  },
  {
   "cell_type": "code",
   "execution_count": 44,
   "metadata": {},
   "outputs": [
    {
     "data": {
      "text/html": "<div>\n<style scoped>\n    .dataframe tbody tr th:only-of-type {\n        vertical-align: middle;\n    }\n\n    .dataframe tbody tr th {\n        vertical-align: top;\n    }\n\n    .dataframe thead th {\n        text-align: right;\n    }\n</style>\n<table border=\"1\" class=\"dataframe\">\n  <thead>\n    <tr style=\"text-align: right;\">\n      <th></th>\n      <th>survived</th>\n      <th>name</th>\n    </tr>\n  </thead>\n  <tbody>\n    <tr>\n      <th>0</th>\n      <td>1</td>\n      <td>Allen, Miss. Elisabeth Walton</td>\n    </tr>\n    <tr>\n      <th>1</th>\n      <td>1</td>\n      <td>Allison, Master. Hudson Trevor</td>\n    </tr>\n    <tr>\n      <th>11</th>\n      <td>1</td>\n      <td>Astor, Mrs. John Jacob (Madeleine Talmadge Force)</td>\n    </tr>\n    <tr>\n      <th>111</th>\n      <td>1</td>\n      <td>Fortune, Miss. Alice Elizabeth</td>\n    </tr>\n    <tr>\n      <th>1111</th>\n      <td>0</td>\n      <td>Peacock, Master. Alfred Edward</td>\n    </tr>\n  </tbody>\n</table>\n</div>",
      "text/plain": "      survived                                               name\n0            1                      Allen, Miss. Elisabeth Walton\n1            1                     Allison, Master. Hudson Trevor\n11           1  Astor, Mrs. John Jacob (Madeleine Talmadge Force)\n111          1                     Fortune, Miss. Alice Elizabeth\n1111         0                     Peacock, Master. Alfred Edward"
     },
     "execution_count": 44,
     "metadata": {},
     "output_type": "execute_result"
    }
   ],
   "source": [
    "titanic.iloc[[0,1,11,111,1111], [1,2]]"
   ]
  },
  {
   "cell_type": "code",
   "execution_count": 45,
   "metadata": {},
   "outputs": [
    {
     "data": {
      "text/html": "<div>\n<style scoped>\n    .dataframe tbody tr th:only-of-type {\n        vertical-align: middle;\n    }\n\n    .dataframe tbody tr th {\n        vertical-align: top;\n    }\n\n    .dataframe thead th {\n        text-align: right;\n    }\n</style>\n<table border=\"1\" class=\"dataframe\">\n  <thead>\n    <tr style=\"text-align: right;\">\n      <th></th>\n      <th>survived</th>\n      <th>name</th>\n    </tr>\n  </thead>\n  <tbody>\n    <tr>\n      <th>0</th>\n      <td>1</td>\n      <td>Allen, Miss. Elisabeth Walton</td>\n    </tr>\n    <tr>\n      <th>1</th>\n      <td>1</td>\n      <td>Allison, Master. Hudson Trevor</td>\n    </tr>\n    <tr>\n      <th>11</th>\n      <td>1</td>\n      <td>Astor, Mrs. John Jacob (Madeleine Talmadge Force)</td>\n    </tr>\n    <tr>\n      <th>111</th>\n      <td>1</td>\n      <td>Fortune, Miss. Alice Elizabeth</td>\n    </tr>\n    <tr>\n      <th>1111</th>\n      <td>0</td>\n      <td>Peacock, Master. Alfred Edward</td>\n    </tr>\n  </tbody>\n</table>\n</div>",
      "text/plain": "      survived                                               name\n0            1                      Allen, Miss. Elisabeth Walton\n1            1                     Allison, Master. Hudson Trevor\n11           1  Astor, Mrs. John Jacob (Madeleine Talmadge Force)\n111          1                     Fortune, Miss. Alice Elizabeth\n1111         0                     Peacock, Master. Alfred Edward"
     },
     "execution_count": 45,
     "metadata": {},
     "output_type": "execute_result"
    }
   ],
   "source": [
    "titanic.loc[[0, 1, 11, 111, 1111], ['survived', 'name']]"
   ]
  },
  {
   "cell_type": "code",
   "execution_count": 46,
   "metadata": {},
   "outputs": [
    {
     "data": {
      "text/html": "<div>\n<style scoped>\n    .dataframe tbody tr th:only-of-type {\n        vertical-align: middle;\n    }\n\n    .dataframe tbody tr th {\n        vertical-align: top;\n    }\n\n    .dataframe thead th {\n        text-align: right;\n    }\n</style>\n<table border=\"1\" class=\"dataframe\">\n  <thead>\n    <tr style=\"text-align: right;\">\n      <th></th>\n      <th>survived</th>\n      <th>name</th>\n    </tr>\n  </thead>\n  <tbody>\n    <tr>\n      <th>0</th>\n      <td>1</td>\n      <td>Allen, Miss. Elisabeth Walton</td>\n    </tr>\n    <tr>\n      <th>1</th>\n      <td>1</td>\n      <td>Allison, Master. Hudson Trevor</td>\n    </tr>\n    <tr>\n      <th>2</th>\n      <td>0</td>\n      <td>Allison, Miss. Helen Loraine</td>\n    </tr>\n    <tr>\n      <th>3</th>\n      <td>0</td>\n      <td>Allison, Mr. Hudson Joshua Creighton</td>\n    </tr>\n    <tr>\n      <th>4</th>\n      <td>0</td>\n      <td>Allison, Mrs. Hudson J C (Bessie Waldo Daniels)</td>\n    </tr>\n    <tr>\n      <th>...</th>\n      <td>...</td>\n      <td>...</td>\n    </tr>\n    <tr>\n      <th>1304</th>\n      <td>0</td>\n      <td>Zabour, Miss. Hileni</td>\n    </tr>\n    <tr>\n      <th>1305</th>\n      <td>0</td>\n      <td>Zabour, Miss. Thamine</td>\n    </tr>\n    <tr>\n      <th>1306</th>\n      <td>0</td>\n      <td>Zakarian, Mr. Mapriededer</td>\n    </tr>\n    <tr>\n      <th>1307</th>\n      <td>0</td>\n      <td>Zakarian, Mr. Ortin</td>\n    </tr>\n    <tr>\n      <th>1308</th>\n      <td>0</td>\n      <td>Zimmerman, Mr. Leo</td>\n    </tr>\n  </tbody>\n</table>\n<p>1309 rows × 2 columns</p>\n</div>",
      "text/plain": "      survived                                             name\n0            1                    Allen, Miss. Elisabeth Walton\n1            1                   Allison, Master. Hudson Trevor\n2            0                     Allison, Miss. Helen Loraine\n3            0             Allison, Mr. Hudson Joshua Creighton\n4            0  Allison, Mrs. Hudson J C (Bessie Waldo Daniels)\n...        ...                                              ...\n1304         0                             Zabour, Miss. Hileni\n1305         0                            Zabour, Miss. Thamine\n1306         0                        Zakarian, Mr. Mapriededer\n1307         0                              Zakarian, Mr. Ortin\n1308         0                               Zimmerman, Mr. Leo\n\n[1309 rows x 2 columns]"
     },
     "execution_count": 46,
     "metadata": {},
     "output_type": "execute_result"
    }
   ],
   "source": [
    "titanic[['survived', 'name']]"
   ]
  },
  {
   "cell_type": "code",
   "execution_count": 47,
   "metadata": {},
   "outputs": [
    {
     "data": {
      "text/plain": "0                         Allen, Miss. Elisabeth Walton\n1                        Allison, Master. Hudson Trevor\n2                          Allison, Miss. Helen Loraine\n3                  Allison, Mr. Hudson Joshua Creighton\n4       Allison, Mrs. Hudson J C (Bessie Waldo Daniels)\n                             ...                       \n1304                               Zabour, Miss. Hileni\n1305                              Zabour, Miss. Thamine\n1306                          Zakarian, Mr. Mapriededer\n1307                                Zakarian, Mr. Ortin\n1308                                 Zimmerman, Mr. Leo\nName: name, Length: 1309, dtype: object"
     },
     "execution_count": 47,
     "metadata": {},
     "output_type": "execute_result"
    }
   ],
   "source": [
    "titanic['name']"
   ]
  },
  {
   "cell_type": "code",
   "execution_count": 48,
   "metadata": {},
   "outputs": [
    {
     "data": {
      "text/plain": "0                         Allen, Miss. Elisabeth Walton\n1                        Allison, Master. Hudson Trevor\n2                          Allison, Miss. Helen Loraine\n3                  Allison, Mr. Hudson Joshua Creighton\n4       Allison, Mrs. Hudson J C (Bessie Waldo Daniels)\n                             ...                       \n1304                               Zabour, Miss. Hileni\n1305                              Zabour, Miss. Thamine\n1306                          Zakarian, Mr. Mapriededer\n1307                                Zakarian, Mr. Ortin\n1308                                 Zimmerman, Mr. Leo\nName: name, Length: 1309, dtype: object"
     },
     "execution_count": 48,
     "metadata": {},
     "output_type": "execute_result"
    }
   ],
   "source": [
    "titanic.name"
   ]
  },
  {
   "cell_type": "code",
   "execution_count": 52,
   "metadata": {},
   "outputs": [],
   "source": [
    "titanic['died'] = 1 - titanic.survived"
   ]
  },
  {
   "cell_type": "code",
   "execution_count": 58,
   "metadata": {},
   "outputs": [],
   "source": [
    "theluckyones = titanic[titanic.survived == 1].copy()"
   ]
  },
  {
   "cell_type": "code",
   "execution_count": 59,
   "metadata": {},
   "outputs": [
    {
     "data": {
      "text/plain": "(500, 15)"
     },
     "execution_count": 59,
     "metadata": {},
     "output_type": "execute_result"
    }
   ],
   "source": [
    "theluckyones.shape"
   ]
  },
  {
   "cell_type": "code",
   "execution_count": 60,
   "metadata": {},
   "outputs": [
    {
     "data": {
      "text/html": "<div>\n<style scoped>\n    .dataframe tbody tr th:only-of-type {\n        vertical-align: middle;\n    }\n\n    .dataframe tbody tr th {\n        vertical-align: top;\n    }\n\n    .dataframe thead th {\n        text-align: right;\n    }\n</style>\n<table border=\"1\" class=\"dataframe\">\n  <thead>\n    <tr style=\"text-align: right;\">\n      <th></th>\n      <th>pclass</th>\n      <th>survived</th>\n      <th>name</th>\n      <th>sex</th>\n      <th>age</th>\n      <th>sibsp</th>\n      <th>parch</th>\n      <th>ticket</th>\n      <th>fare</th>\n      <th>cabin</th>\n      <th>embarked</th>\n      <th>boat</th>\n      <th>body</th>\n      <th>home.dest</th>\n      <th>died</th>\n    </tr>\n  </thead>\n  <tbody>\n    <tr>\n      <th>0</th>\n      <td>1</td>\n      <td>1</td>\n      <td>Allen, Miss. Elisabeth Walton</td>\n      <td>female</td>\n      <td>29.0000</td>\n      <td>0</td>\n      <td>0</td>\n      <td>24160</td>\n      <td>211.3375</td>\n      <td>B5</td>\n      <td>S</td>\n      <td>2</td>\n      <td>NaN</td>\n      <td>St Louis, MO</td>\n      <td>0</td>\n    </tr>\n    <tr>\n      <th>1</th>\n      <td>1</td>\n      <td>1</td>\n      <td>Allison, Master. Hudson Trevor</td>\n      <td>male</td>\n      <td>0.9167</td>\n      <td>1</td>\n      <td>2</td>\n      <td>113781</td>\n      <td>151.5500</td>\n      <td>C22 C26</td>\n      <td>S</td>\n      <td>11</td>\n      <td>NaN</td>\n      <td>Montreal, PQ / Chesterville, ON</td>\n      <td>0</td>\n    </tr>\n    <tr>\n      <th>5</th>\n      <td>1</td>\n      <td>1</td>\n      <td>Anderson, Mr. Harry</td>\n      <td>male</td>\n      <td>48.0000</td>\n      <td>0</td>\n      <td>0</td>\n      <td>19952</td>\n      <td>26.5500</td>\n      <td>E12</td>\n      <td>S</td>\n      <td>3</td>\n      <td>NaN</td>\n      <td>New York, NY</td>\n      <td>0</td>\n    </tr>\n    <tr>\n      <th>6</th>\n      <td>1</td>\n      <td>1</td>\n      <td>Andrews, Miss. Kornelia Theodosia</td>\n      <td>female</td>\n      <td>63.0000</td>\n      <td>1</td>\n      <td>0</td>\n      <td>13502</td>\n      <td>77.9583</td>\n      <td>D7</td>\n      <td>S</td>\n      <td>10</td>\n      <td>NaN</td>\n      <td>Hudson, NY</td>\n      <td>0</td>\n    </tr>\n    <tr>\n      <th>8</th>\n      <td>1</td>\n      <td>1</td>\n      <td>Appleton, Mrs. Edward Dale (Charlotte Lamson)</td>\n      <td>female</td>\n      <td>53.0000</td>\n      <td>2</td>\n      <td>0</td>\n      <td>11769</td>\n      <td>51.4792</td>\n      <td>C101</td>\n      <td>S</td>\n      <td>D</td>\n      <td>NaN</td>\n      <td>Bayside, Queens, NY</td>\n      <td>0</td>\n    </tr>\n    <tr>\n      <th>...</th>\n      <td>...</td>\n      <td>...</td>\n      <td>...</td>\n      <td>...</td>\n      <td>...</td>\n      <td>...</td>\n      <td>...</td>\n      <td>...</td>\n      <td>...</td>\n      <td>...</td>\n      <td>...</td>\n      <td>...</td>\n      <td>...</td>\n      <td>...</td>\n      <td>...</td>\n    </tr>\n    <tr>\n      <th>1261</th>\n      <td>3</td>\n      <td>1</td>\n      <td>Turkula, Mrs. (Hedwig)</td>\n      <td>female</td>\n      <td>63.0000</td>\n      <td>0</td>\n      <td>0</td>\n      <td>4134</td>\n      <td>9.5875</td>\n      <td>NaN</td>\n      <td>S</td>\n      <td>15</td>\n      <td>NaN</td>\n      <td>NaN</td>\n      <td>0</td>\n    </tr>\n    <tr>\n      <th>1277</th>\n      <td>3</td>\n      <td>1</td>\n      <td>Vartanian, Mr. David</td>\n      <td>male</td>\n      <td>22.0000</td>\n      <td>0</td>\n      <td>0</td>\n      <td>2658</td>\n      <td>7.2250</td>\n      <td>NaN</td>\n      <td>C</td>\n      <td>13 15</td>\n      <td>NaN</td>\n      <td>NaN</td>\n      <td>0</td>\n    </tr>\n    <tr>\n      <th>1286</th>\n      <td>3</td>\n      <td>1</td>\n      <td>Whabee, Mrs. George Joseph (Shawneene Abi-Saab)</td>\n      <td>female</td>\n      <td>38.0000</td>\n      <td>0</td>\n      <td>0</td>\n      <td>2688</td>\n      <td>7.2292</td>\n      <td>NaN</td>\n      <td>C</td>\n      <td>C</td>\n      <td>NaN</td>\n      <td>NaN</td>\n      <td>0</td>\n    </tr>\n    <tr>\n      <th>1290</th>\n      <td>3</td>\n      <td>1</td>\n      <td>Wilkes, Mrs. James (Ellen Needs)</td>\n      <td>female</td>\n      <td>47.0000</td>\n      <td>1</td>\n      <td>0</td>\n      <td>363272</td>\n      <td>7.0000</td>\n      <td>NaN</td>\n      <td>S</td>\n      <td>NaN</td>\n      <td>NaN</td>\n      <td>NaN</td>\n      <td>0</td>\n    </tr>\n    <tr>\n      <th>1300</th>\n      <td>3</td>\n      <td>1</td>\n      <td>Yasbeck, Mrs. Antoni (Selini Alexander)</td>\n      <td>female</td>\n      <td>15.0000</td>\n      <td>1</td>\n      <td>0</td>\n      <td>2659</td>\n      <td>14.4542</td>\n      <td>NaN</td>\n      <td>C</td>\n      <td>NaN</td>\n      <td>NaN</td>\n      <td>NaN</td>\n      <td>0</td>\n    </tr>\n  </tbody>\n</table>\n<p>500 rows × 15 columns</p>\n</div>",
      "text/plain": "      pclass  survived                                             name  \\\n0          1         1                    Allen, Miss. Elisabeth Walton   \n1          1         1                   Allison, Master. Hudson Trevor   \n5          1         1                              Anderson, Mr. Harry   \n6          1         1                Andrews, Miss. Kornelia Theodosia   \n8          1         1    Appleton, Mrs. Edward Dale (Charlotte Lamson)   \n...      ...       ...                                              ...   \n1261       3         1                           Turkula, Mrs. (Hedwig)   \n1277       3         1                             Vartanian, Mr. David   \n1286       3         1  Whabee, Mrs. George Joseph (Shawneene Abi-Saab)   \n1290       3         1                 Wilkes, Mrs. James (Ellen Needs)   \n1300       3         1          Yasbeck, Mrs. Antoni (Selini Alexander)   \n\n         sex      age  sibsp  parch  ticket      fare    cabin embarked  \\\n0     female  29.0000      0      0   24160  211.3375       B5        S   \n1       male   0.9167      1      2  113781  151.5500  C22 C26        S   \n5       male  48.0000      0      0   19952   26.5500      E12        S   \n6     female  63.0000      1      0   13502   77.9583       D7        S   \n8     female  53.0000      2      0   11769   51.4792     C101        S   \n...      ...      ...    ...    ...     ...       ...      ...      ...   \n1261  female  63.0000      0      0    4134    9.5875      NaN        S   \n1277    male  22.0000      0      0    2658    7.2250      NaN        C   \n1286  female  38.0000      0      0    2688    7.2292      NaN        C   \n1290  female  47.0000      1      0  363272    7.0000      NaN        S   \n1300  female  15.0000      1      0    2659   14.4542      NaN        C   \n\n       boat  body                        home.dest  died  \n0         2   NaN                     St Louis, MO     0  \n1        11   NaN  Montreal, PQ / Chesterville, ON     0  \n5         3   NaN                     New York, NY     0  \n6        10   NaN                       Hudson, NY     0  \n8         D   NaN              Bayside, Queens, NY     0  \n...     ...   ...                              ...   ...  \n1261     15   NaN                              NaN     0  \n1277  13 15   NaN                              NaN     0  \n1286      C   NaN                              NaN     0  \n1290    NaN   NaN                              NaN     0  \n1300    NaN   NaN                              NaN     0  \n\n[500 rows x 15 columns]"
     },
     "execution_count": 60,
     "metadata": {},
     "output_type": "execute_result"
    }
   ],
   "source": [
    "theluckyones"
   ]
  },
  {
   "cell_type": "code",
   "execution_count": 61,
   "metadata": {},
   "outputs": [],
   "source": [
    "theluckyones['x'] = np.random.randint(1, 7, size = 500)"
   ]
  },
  {
   "cell_type": "code",
   "execution_count": 62,
   "metadata": {},
   "outputs": [
    {
     "data": {
      "text/html": "<div>\n<style scoped>\n    .dataframe tbody tr th:only-of-type {\n        vertical-align: middle;\n    }\n\n    .dataframe tbody tr th {\n        vertical-align: top;\n    }\n\n    .dataframe thead th {\n        text-align: right;\n    }\n</style>\n<table border=\"1\" class=\"dataframe\">\n  <thead>\n    <tr style=\"text-align: right;\">\n      <th></th>\n      <th>pclass</th>\n      <th>survived</th>\n      <th>name</th>\n      <th>sex</th>\n      <th>age</th>\n      <th>sibsp</th>\n      <th>parch</th>\n      <th>ticket</th>\n      <th>fare</th>\n      <th>cabin</th>\n      <th>embarked</th>\n      <th>boat</th>\n      <th>body</th>\n      <th>home.dest</th>\n      <th>died</th>\n      <th>x</th>\n    </tr>\n  </thead>\n  <tbody>\n    <tr>\n      <th>0</th>\n      <td>1</td>\n      <td>1</td>\n      <td>Allen, Miss. Elisabeth Walton</td>\n      <td>female</td>\n      <td>29.0000</td>\n      <td>0</td>\n      <td>0</td>\n      <td>24160</td>\n      <td>211.3375</td>\n      <td>B5</td>\n      <td>S</td>\n      <td>2</td>\n      <td>NaN</td>\n      <td>St Louis, MO</td>\n      <td>0</td>\n      <td>3</td>\n    </tr>\n    <tr>\n      <th>1</th>\n      <td>1</td>\n      <td>1</td>\n      <td>Allison, Master. Hudson Trevor</td>\n      <td>male</td>\n      <td>0.9167</td>\n      <td>1</td>\n      <td>2</td>\n      <td>113781</td>\n      <td>151.5500</td>\n      <td>C22 C26</td>\n      <td>S</td>\n      <td>11</td>\n      <td>NaN</td>\n      <td>Montreal, PQ / Chesterville, ON</td>\n      <td>0</td>\n      <td>4</td>\n    </tr>\n    <tr>\n      <th>5</th>\n      <td>1</td>\n      <td>1</td>\n      <td>Anderson, Mr. Harry</td>\n      <td>male</td>\n      <td>48.0000</td>\n      <td>0</td>\n      <td>0</td>\n      <td>19952</td>\n      <td>26.5500</td>\n      <td>E12</td>\n      <td>S</td>\n      <td>3</td>\n      <td>NaN</td>\n      <td>New York, NY</td>\n      <td>0</td>\n      <td>2</td>\n    </tr>\n    <tr>\n      <th>6</th>\n      <td>1</td>\n      <td>1</td>\n      <td>Andrews, Miss. Kornelia Theodosia</td>\n      <td>female</td>\n      <td>63.0000</td>\n      <td>1</td>\n      <td>0</td>\n      <td>13502</td>\n      <td>77.9583</td>\n      <td>D7</td>\n      <td>S</td>\n      <td>10</td>\n      <td>NaN</td>\n      <td>Hudson, NY</td>\n      <td>0</td>\n      <td>3</td>\n    </tr>\n    <tr>\n      <th>8</th>\n      <td>1</td>\n      <td>1</td>\n      <td>Appleton, Mrs. Edward Dale (Charlotte Lamson)</td>\n      <td>female</td>\n      <td>53.0000</td>\n      <td>2</td>\n      <td>0</td>\n      <td>11769</td>\n      <td>51.4792</td>\n      <td>C101</td>\n      <td>S</td>\n      <td>D</td>\n      <td>NaN</td>\n      <td>Bayside, Queens, NY</td>\n      <td>0</td>\n      <td>5</td>\n    </tr>\n    <tr>\n      <th>...</th>\n      <td>...</td>\n      <td>...</td>\n      <td>...</td>\n      <td>...</td>\n      <td>...</td>\n      <td>...</td>\n      <td>...</td>\n      <td>...</td>\n      <td>...</td>\n      <td>...</td>\n      <td>...</td>\n      <td>...</td>\n      <td>...</td>\n      <td>...</td>\n      <td>...</td>\n      <td>...</td>\n    </tr>\n    <tr>\n      <th>1261</th>\n      <td>3</td>\n      <td>1</td>\n      <td>Turkula, Mrs. (Hedwig)</td>\n      <td>female</td>\n      <td>63.0000</td>\n      <td>0</td>\n      <td>0</td>\n      <td>4134</td>\n      <td>9.5875</td>\n      <td>NaN</td>\n      <td>S</td>\n      <td>15</td>\n      <td>NaN</td>\n      <td>NaN</td>\n      <td>0</td>\n      <td>6</td>\n    </tr>\n    <tr>\n      <th>1277</th>\n      <td>3</td>\n      <td>1</td>\n      <td>Vartanian, Mr. David</td>\n      <td>male</td>\n      <td>22.0000</td>\n      <td>0</td>\n      <td>0</td>\n      <td>2658</td>\n      <td>7.2250</td>\n      <td>NaN</td>\n      <td>C</td>\n      <td>13 15</td>\n      <td>NaN</td>\n      <td>NaN</td>\n      <td>0</td>\n      <td>1</td>\n    </tr>\n    <tr>\n      <th>1286</th>\n      <td>3</td>\n      <td>1</td>\n      <td>Whabee, Mrs. George Joseph (Shawneene Abi-Saab)</td>\n      <td>female</td>\n      <td>38.0000</td>\n      <td>0</td>\n      <td>0</td>\n      <td>2688</td>\n      <td>7.2292</td>\n      <td>NaN</td>\n      <td>C</td>\n      <td>C</td>\n      <td>NaN</td>\n      <td>NaN</td>\n      <td>0</td>\n      <td>6</td>\n    </tr>\n    <tr>\n      <th>1290</th>\n      <td>3</td>\n      <td>1</td>\n      <td>Wilkes, Mrs. James (Ellen Needs)</td>\n      <td>female</td>\n      <td>47.0000</td>\n      <td>1</td>\n      <td>0</td>\n      <td>363272</td>\n      <td>7.0000</td>\n      <td>NaN</td>\n      <td>S</td>\n      <td>NaN</td>\n      <td>NaN</td>\n      <td>NaN</td>\n      <td>0</td>\n      <td>5</td>\n    </tr>\n    <tr>\n      <th>1300</th>\n      <td>3</td>\n      <td>1</td>\n      <td>Yasbeck, Mrs. Antoni (Selini Alexander)</td>\n      <td>female</td>\n      <td>15.0000</td>\n      <td>1</td>\n      <td>0</td>\n      <td>2659</td>\n      <td>14.4542</td>\n      <td>NaN</td>\n      <td>C</td>\n      <td>NaN</td>\n      <td>NaN</td>\n      <td>NaN</td>\n      <td>0</td>\n      <td>1</td>\n    </tr>\n  </tbody>\n</table>\n<p>500 rows × 16 columns</p>\n</div>",
      "text/plain": "      pclass  survived                                             name  \\\n0          1         1                    Allen, Miss. Elisabeth Walton   \n1          1         1                   Allison, Master. Hudson Trevor   \n5          1         1                              Anderson, Mr. Harry   \n6          1         1                Andrews, Miss. Kornelia Theodosia   \n8          1         1    Appleton, Mrs. Edward Dale (Charlotte Lamson)   \n...      ...       ...                                              ...   \n1261       3         1                           Turkula, Mrs. (Hedwig)   \n1277       3         1                             Vartanian, Mr. David   \n1286       3         1  Whabee, Mrs. George Joseph (Shawneene Abi-Saab)   \n1290       3         1                 Wilkes, Mrs. James (Ellen Needs)   \n1300       3         1          Yasbeck, Mrs. Antoni (Selini Alexander)   \n\n         sex      age  sibsp  parch  ticket      fare    cabin embarked  \\\n0     female  29.0000      0      0   24160  211.3375       B5        S   \n1       male   0.9167      1      2  113781  151.5500  C22 C26        S   \n5       male  48.0000      0      0   19952   26.5500      E12        S   \n6     female  63.0000      1      0   13502   77.9583       D7        S   \n8     female  53.0000      2      0   11769   51.4792     C101        S   \n...      ...      ...    ...    ...     ...       ...      ...      ...   \n1261  female  63.0000      0      0    4134    9.5875      NaN        S   \n1277    male  22.0000      0      0    2658    7.2250      NaN        C   \n1286  female  38.0000      0      0    2688    7.2292      NaN        C   \n1290  female  47.0000      1      0  363272    7.0000      NaN        S   \n1300  female  15.0000      1      0    2659   14.4542      NaN        C   \n\n       boat  body                        home.dest  died  x  \n0         2   NaN                     St Louis, MO     0  3  \n1        11   NaN  Montreal, PQ / Chesterville, ON     0  4  \n5         3   NaN                     New York, NY     0  2  \n6        10   NaN                       Hudson, NY     0  3  \n8         D   NaN              Bayside, Queens, NY     0  5  \n...     ...   ...                              ...   ... ..  \n1261     15   NaN                              NaN     0  6  \n1277  13 15   NaN                              NaN     0  1  \n1286      C   NaN                              NaN     0  6  \n1290    NaN   NaN                              NaN     0  5  \n1300    NaN   NaN                              NaN     0  1  \n\n[500 rows x 16 columns]"
     },
     "execution_count": 62,
     "metadata": {},
     "output_type": "execute_result"
    }
   ],
   "source": [
    "theluckyones"
   ]
  },
  {
   "cell_type": "code",
   "execution_count": null,
   "metadata": {},
   "outputs": [],
   "source": []
  }
 ]
}