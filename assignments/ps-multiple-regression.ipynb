{
 "nbformat": 4,
 "nbformat_minor": 2,
 "metadata": {
  "language_info": {
   "name": "python",
   "codemirror_mode": {
    "name": "ipython",
    "version": 3
   },
   "version": "3.7.1-final"
  },
  "orig_nbformat": 2,
  "file_extension": ".py",
  "mimetype": "text/x-python",
  "name": "python",
  "npconvert_exporter": "python",
  "pygments_lexer": "ipython3",
  "version": 3,
  "kernelspec": {
   "name": "python3",
   "display_name": "Python 3"
  }
 },
 "cells": [
  {
   "cell_type": "code",
   "execution_count": 2,
   "metadata": {},
   "outputs": [],
   "source": [
    "import numpy as np\n",
    "import pandas as pd"
   ]
  },
  {
   "cell_type": "markdown",
   "metadata": {},
   "source": [
    "# 1. Credit Data"
   ]
  },
  {
   "cell_type": "code",
   "execution_count": 3,
   "metadata": {},
   "outputs": [],
   "source": [
    "c = pd.read_csv('./credit.tsv.bz2', '\\t')"
   ]
  },
  {
   "cell_type": "markdown",
   "metadata": {},
   "source": [
    "## 1.1"
   ]
  },
  {
   "cell_type": "code",
   "execution_count": 4,
   "metadata": {},
   "outputs": [
    {
     "data": {
      "text/plain": "(400, 12)"
     },
     "execution_count": 4,
     "metadata": {},
     "output_type": "execute_result"
    }
   ],
   "source": [
    "c.shape"
   ]
  },
  {
   "cell_type": "code",
   "execution_count": 5,
   "metadata": {},
   "outputs": [
    {
     "data": {
      "text/plain": "ID           400\nIncome       400\nLimit        400\nRating       400\nCards        400\nAge          400\nEducation    400\nGender       400\nStudent      400\nMarried      400\nEthnicity    400\nBalance      400\ndtype: int64"
     },
     "execution_count": 5,
     "metadata": {},
     "output_type": "execute_result"
    }
   ],
   "source": [
    "c.count()"
   ]
  },
  {
   "cell_type": "code",
   "execution_count": 6,
   "metadata": {},
   "outputs": [
    {
     "data": {
      "text/plain": "ID             int64\nIncome       float64\nLimit          int64\nRating         int64\nCards          int64\nAge            int64\nEducation      int64\nGender        object\nStudent       object\nMarried       object\nEthnicity     object\nBalance        int64\ndtype: object"
     },
     "execution_count": 6,
     "metadata": {},
     "output_type": "execute_result"
    }
   ],
   "source": [
    "c.dtypes"
   ]
  },
  {
   "cell_type": "markdown",
   "metadata": {},
   "source": [
    "## 1.2"
   ]
  },
  {
   "cell_type": "code",
   "execution_count": 7,
   "metadata": {},
   "outputs": [],
   "source": [
    "import statsmodels.formula.api as smf"
   ]
  },
  {
   "cell_type": "code",
   "execution_count": 8,
   "metadata": {},
   "outputs": [],
   "source": [
    "r = smf.ols(formula = 'Balance ~ Student', data = c).fit()"
   ]
  },
  {
   "cell_type": "code",
   "execution_count": 9,
   "metadata": {},
   "outputs": [
    {
     "data": {
      "text/html": "<table class=\"simpletable\">\n<caption>OLS Regression Results</caption>\n<tr>\n  <th>Dep. Variable:</th>         <td>Balance</td>     <th>  R-squared:         </th> <td>   0.067</td>\n</tr>\n<tr>\n  <th>Model:</th>                   <td>OLS</td>       <th>  Adj. R-squared:    </th> <td>   0.065</td>\n</tr>\n<tr>\n  <th>Method:</th>             <td>Least Squares</td>  <th>  F-statistic:       </th> <td>   28.62</td>\n</tr>\n<tr>\n  <th>Date:</th>             <td>Mon, 24 Feb 2020</td> <th>  Prob (F-statistic):</th> <td>1.49e-07</td>\n</tr>\n<tr>\n  <th>Time:</th>                 <td>21:11:06</td>     <th>  Log-Likelihood:    </th> <td> -3005.5</td>\n</tr>\n<tr>\n  <th>No. Observations:</th>      <td>   400</td>      <th>  AIC:               </th> <td>   6015.</td>\n</tr>\n<tr>\n  <th>Df Residuals:</th>          <td>   398</td>      <th>  BIC:               </th> <td>   6023.</td>\n</tr>\n<tr>\n  <th>Df Model:</th>              <td>     1</td>      <th>                     </th>     <td> </td>   \n</tr>\n<tr>\n  <th>Covariance Type:</th>      <td>nonrobust</td>    <th>                     </th>     <td> </td>   \n</tr>\n</table>\n<table class=\"simpletable\">\n<tr>\n         <td></td>           <th>coef</th>     <th>std err</th>      <th>t</th>      <th>P>|t|</th>  <th>[0.025</th>    <th>0.975]</th>  \n</tr>\n<tr>\n  <th>Intercept</th>      <td>  480.3694</td> <td>   23.434</td> <td>   20.499</td> <td> 0.000</td> <td>  434.300</td> <td>  526.439</td>\n</tr>\n<tr>\n  <th>Student[T.Yes]</th> <td>  396.4556</td> <td>   74.104</td> <td>    5.350</td> <td> 0.000</td> <td>  250.771</td> <td>  542.140</td>\n</tr>\n</table>\n<table class=\"simpletable\">\n<tr>\n  <th>Omnibus:</th>       <td>20.866</td> <th>  Durbin-Watson:     </th> <td>   1.950</td>\n</tr>\n<tr>\n  <th>Prob(Omnibus):</th> <td> 0.000</td> <th>  Jarque-Bera (JB):  </th> <td>  21.920</td>\n</tr>\n<tr>\n  <th>Skew:</th>          <td> 0.544</td> <th>  Prob(JB):          </th> <td>1.74e-05</td>\n</tr>\n<tr>\n  <th>Kurtosis:</th>      <td> 2.637</td> <th>  Cond. No.          </th> <td>    3.37</td>\n</tr>\n</table><br/><br/>Warnings:<br/>[1] Standard Errors assume that the covariance matrix of the errors is correctly specified.",
      "text/plain": "<class 'statsmodels.iolib.summary.Summary'>\n\"\"\"\n                            OLS Regression Results                            \n==============================================================================\nDep. Variable:                Balance   R-squared:                       0.067\nModel:                            OLS   Adj. R-squared:                  0.065\nMethod:                 Least Squares   F-statistic:                     28.62\nDate:                Mon, 24 Feb 2020   Prob (F-statistic):           1.49e-07\nTime:                        21:11:06   Log-Likelihood:                -3005.5\nNo. Observations:                 400   AIC:                             6015.\nDf Residuals:                     398   BIC:                             6023.\nDf Model:                           1                                         \nCovariance Type:            nonrobust                                         \n==================================================================================\n                     coef    std err          t      P>|t|      [0.025      0.975]\n----------------------------------------------------------------------------------\nIntercept        480.3694     23.434     20.499      0.000     434.300     526.439\nStudent[T.Yes]   396.4556     74.104      5.350      0.000     250.771     542.140\n==============================================================================\nOmnibus:                       20.866   Durbin-Watson:                   1.950\nProb(Omnibus):                  0.000   Jarque-Bera (JB):               21.920\nSkew:                           0.544   Prob(JB):                     1.74e-05\nKurtosis:                       2.637   Cond. No.                         3.37\n==============================================================================\n\nWarnings:\n[1] Standard Errors assume that the covariance matrix of the errors is correctly specified.\n\"\"\""
     },
     "execution_count": 9,
     "metadata": {},
     "output_type": "execute_result"
    }
   ],
   "source": [
    "r.summary()"
   ]
  },
  {
   "cell_type": "markdown",
   "metadata": {},
   "source": [
    "The predicted balance for someone who is not a student is 480.37. This number increased by 396.46 when the person is a student. This is statistically significant due to the p-value of 0."
   ]
  },
  {
   "cell_type": "markdown",
   "metadata": {},
   "source": [
    "## 1.3"
   ]
  },
  {
   "cell_type": "code",
   "execution_count": 10,
   "metadata": {},
   "outputs": [],
   "source": [
    "r = smf.ols(formula = 'Balance ~ Ethnicity', data=c).fit()"
   ]
  },
  {
   "cell_type": "code",
   "execution_count": 11,
   "metadata": {},
   "outputs": [
    {
     "data": {
      "text/html": "<table class=\"simpletable\">\n<caption>OLS Regression Results</caption>\n<tr>\n  <th>Dep. Variable:</th>         <td>Balance</td>     <th>  R-squared:         </th> <td>   0.000</td>\n</tr>\n<tr>\n  <th>Model:</th>                   <td>OLS</td>       <th>  Adj. R-squared:    </th> <td>  -0.005</td>\n</tr>\n<tr>\n  <th>Method:</th>             <td>Least Squares</td>  <th>  F-statistic:       </th> <td> 0.04344</td>\n</tr>\n<tr>\n  <th>Date:</th>             <td>Mon, 24 Feb 2020</td> <th>  Prob (F-statistic):</th>  <td> 0.957</td> \n</tr>\n<tr>\n  <th>Time:</th>                 <td>21:11:06</td>     <th>  Log-Likelihood:    </th> <td> -3019.3</td>\n</tr>\n<tr>\n  <th>No. Observations:</th>      <td>   400</td>      <th>  AIC:               </th> <td>   6045.</td>\n</tr>\n<tr>\n  <th>Df Residuals:</th>          <td>   397</td>      <th>  BIC:               </th> <td>   6057.</td>\n</tr>\n<tr>\n  <th>Df Model:</th>              <td>     2</td>      <th>                     </th>     <td> </td>   \n</tr>\n<tr>\n  <th>Covariance Type:</th>      <td>nonrobust</td>    <th>                     </th>     <td> </td>   \n</tr>\n</table>\n<table class=\"simpletable\">\n<tr>\n             <td></td>               <th>coef</th>     <th>std err</th>      <th>t</th>      <th>P>|t|</th>  <th>[0.025</th>    <th>0.975]</th>  \n</tr>\n<tr>\n  <th>Intercept</th>              <td>  531.0000</td> <td>   46.319</td> <td>   11.464</td> <td> 0.000</td> <td>  439.939</td> <td>  622.061</td>\n</tr>\n<tr>\n  <th>Ethnicity[T.Asian]</th>     <td>  -18.6863</td> <td>   65.021</td> <td>   -0.287</td> <td> 0.774</td> <td> -146.515</td> <td>  109.142</td>\n</tr>\n<tr>\n  <th>Ethnicity[T.Caucasian]</th> <td>  -12.5025</td> <td>   56.681</td> <td>   -0.221</td> <td> 0.826</td> <td> -123.935</td> <td>   98.930</td>\n</tr>\n</table>\n<table class=\"simpletable\">\n<tr>\n  <th>Omnibus:</th>       <td>28.829</td> <th>  Durbin-Watson:     </th> <td>   1.946</td>\n</tr>\n<tr>\n  <th>Prob(Omnibus):</th> <td> 0.000</td> <th>  Jarque-Bera (JB):  </th> <td>  27.395</td>\n</tr>\n<tr>\n  <th>Skew:</th>          <td> 0.581</td> <th>  Prob(JB):          </th> <td>1.13e-06</td>\n</tr>\n<tr>\n  <th>Kurtosis:</th>      <td> 2.460</td> <th>  Cond. No.          </th> <td>    4.39</td>\n</tr>\n</table><br/><br/>Warnings:<br/>[1] Standard Errors assume that the covariance matrix of the errors is correctly specified.",
      "text/plain": "<class 'statsmodels.iolib.summary.Summary'>\n\"\"\"\n                            OLS Regression Results                            \n==============================================================================\nDep. Variable:                Balance   R-squared:                       0.000\nModel:                            OLS   Adj. R-squared:                 -0.005\nMethod:                 Least Squares   F-statistic:                   0.04344\nDate:                Mon, 24 Feb 2020   Prob (F-statistic):              0.957\nTime:                        21:11:06   Log-Likelihood:                -3019.3\nNo. Observations:                 400   AIC:                             6045.\nDf Residuals:                     397   BIC:                             6057.\nDf Model:                           2                                         \nCovariance Type:            nonrobust                                         \n==========================================================================================\n                             coef    std err          t      P>|t|      [0.025      0.975]\n------------------------------------------------------------------------------------------\nIntercept                531.0000     46.319     11.464      0.000     439.939     622.061\nEthnicity[T.Asian]       -18.6863     65.021     -0.287      0.774    -146.515     109.142\nEthnicity[T.Caucasian]   -12.5025     56.681     -0.221      0.826    -123.935      98.930\n==============================================================================\nOmnibus:                       28.829   Durbin-Watson:                   1.946\nProb(Omnibus):                  0.000   Jarque-Bera (JB):               27.395\nSkew:                           0.581   Prob(JB):                     1.13e-06\nKurtosis:                       2.460   Cond. No.                         4.39\n==============================================================================\n\nWarnings:\n[1] Standard Errors assume that the covariance matrix of the errors is correctly specified.\n\"\"\""
     },
     "execution_count": 11,
     "metadata": {},
     "output_type": "execute_result"
    }
   ],
   "source": [
    "r.summary()"
   ]
  },
  {
   "cell_type": "code",
   "execution_count": 12,
   "metadata": {},
   "outputs": [
    {
     "data": {
      "text/plain": "Caucasian           199\nAsian               102\nAfrican American     99\nName: Ethnicity, dtype: int64"
     },
     "execution_count": 12,
     "metadata": {},
     "output_type": "execute_result"
    }
   ],
   "source": [
    "c.Ethnicity.value_counts()"
   ]
  },
  {
   "cell_type": "markdown",
   "metadata": {},
   "source": [
    "Since there are 3 values of Ethnicity, but only two displayed in the regression model, this means that the missing value (African American), is represented by the intercept. Based on this, the balance of an African American is 531. This balance reduces by 18.69 for an Asian, and 12.5 for a Caucasian. However, only the balance for African Americans is statistically significant, as the other two have high p-values, indicating that this relationship could occur purely due to chance."
   ]
  },
  {
   "cell_type": "markdown",
   "metadata": {},
   "source": [
    "## 1.4"
   ]
  },
  {
   "cell_type": "code",
   "execution_count": 13,
   "metadata": {},
   "outputs": [],
   "source": [
    "r = smf.ols(formula = 'Balance ~ Cards', data = c).fit()"
   ]
  },
  {
   "cell_type": "code",
   "execution_count": 14,
   "metadata": {},
   "outputs": [
    {
     "data": {
      "text/html": "<table class=\"simpletable\">\n<caption>OLS Regression Results</caption>\n<tr>\n  <th>Dep. Variable:</th>         <td>Balance</td>     <th>  R-squared:         </th> <td>   0.007</td>\n</tr>\n<tr>\n  <th>Model:</th>                   <td>OLS</td>       <th>  Adj. R-squared:    </th> <td>   0.005</td>\n</tr>\n<tr>\n  <th>Method:</th>             <td>Least Squares</td>  <th>  F-statistic:       </th> <td>   2.997</td>\n</tr>\n<tr>\n  <th>Date:</th>             <td>Mon, 24 Feb 2020</td> <th>  Prob (F-statistic):</th>  <td>0.0842</td> \n</tr>\n<tr>\n  <th>Time:</th>                 <td>21:11:06</td>     <th>  Log-Likelihood:    </th> <td> -3017.9</td>\n</tr>\n<tr>\n  <th>No. Observations:</th>      <td>   400</td>      <th>  AIC:               </th> <td>   6040.</td>\n</tr>\n<tr>\n  <th>Df Residuals:</th>          <td>   398</td>      <th>  BIC:               </th> <td>   6048.</td>\n</tr>\n<tr>\n  <th>Df Model:</th>              <td>     1</td>      <th>                     </th>     <td> </td>   \n</tr>\n<tr>\n  <th>Covariance Type:</th>      <td>nonrobust</td>    <th>                     </th>     <td> </td>   \n</tr>\n</table>\n<table class=\"simpletable\">\n<tr>\n      <td></td>         <th>coef</th>     <th>std err</th>      <th>t</th>      <th>P>|t|</th>  <th>[0.025</th>    <th>0.975]</th>  \n</tr>\n<tr>\n  <th>Intercept</th> <td>  434.2861</td> <td>   54.569</td> <td>    7.958</td> <td> 0.000</td> <td>  327.006</td> <td>  541.566</td>\n</tr>\n<tr>\n  <th>Cards</th>     <td>   28.9869</td> <td>   16.743</td> <td>    1.731</td> <td> 0.084</td> <td>   -3.929</td> <td>   61.903</td>\n</tr>\n</table>\n<table class=\"simpletable\">\n<tr>\n  <th>Omnibus:</th>       <td>28.964</td> <th>  Durbin-Watson:     </th> <td>   1.957</td>\n</tr>\n<tr>\n  <th>Prob(Omnibus):</th> <td> 0.000</td> <th>  Jarque-Bera (JB):  </th> <td>  26.603</td>\n</tr>\n<tr>\n  <th>Skew:</th>          <td> 0.566</td> <th>  Prob(JB):          </th> <td>1.67e-06</td>\n</tr>\n<tr>\n  <th>Kurtosis:</th>      <td> 2.437</td> <th>  Cond. No.          </th> <td>    8.37</td>\n</tr>\n</table><br/><br/>Warnings:<br/>[1] Standard Errors assume that the covariance matrix of the errors is correctly specified.",
      "text/plain": "<class 'statsmodels.iolib.summary.Summary'>\n\"\"\"\n                            OLS Regression Results                            \n==============================================================================\nDep. Variable:                Balance   R-squared:                       0.007\nModel:                            OLS   Adj. R-squared:                  0.005\nMethod:                 Least Squares   F-statistic:                     2.997\nDate:                Mon, 24 Feb 2020   Prob (F-statistic):             0.0842\nTime:                        21:11:06   Log-Likelihood:                -3017.9\nNo. Observations:                 400   AIC:                             6040.\nDf Residuals:                     398   BIC:                             6048.\nDf Model:                           1                                         \nCovariance Type:            nonrobust                                         \n==============================================================================\n                 coef    std err          t      P>|t|      [0.025      0.975]\n------------------------------------------------------------------------------\nIntercept    434.2861     54.569      7.958      0.000     327.006     541.566\nCards         28.9869     16.743      1.731      0.084      -3.929      61.903\n==============================================================================\nOmnibus:                       28.964   Durbin-Watson:                   1.957\nProb(Omnibus):                  0.000   Jarque-Bera (JB):               26.603\nSkew:                           0.566   Prob(JB):                     1.67e-06\nKurtosis:                       2.437   Cond. No.                         8.37\n==============================================================================\n\nWarnings:\n[1] Standard Errors assume that the covariance matrix of the errors is correctly specified.\n\"\"\""
     },
     "execution_count": 14,
     "metadata": {},
     "output_type": "execute_result"
    }
   ],
   "source": [
    "r.summary()"
   ]
  },
  {
   "cell_type": "markdown",
   "metadata": {},
   "source": [
    "In this model, the balance of a person with no cards is 434.29, and for every additional card the person has, this balance increases by 28.99. Howver, there is a chance that this relationship occurs purely due to chance, indicated by the low but non-zero p-value."
   ]
  },
  {
   "cell_type": "code",
   "execution_count": 15,
   "metadata": {},
   "outputs": [],
   "source": [
    "r = smf.ols(formula = 'Balance ~ C(Cards)', data = c).fit()"
   ]
  },
  {
   "cell_type": "code",
   "execution_count": 16,
   "metadata": {},
   "outputs": [
    {
     "data": {
      "text/html": "<table class=\"simpletable\">\n<caption>OLS Regression Results</caption>\n<tr>\n  <th>Dep. Variable:</th>         <td>Balance</td>     <th>  R-squared:         </th> <td>   0.023</td>\n</tr>\n<tr>\n  <th>Model:</th>                   <td>OLS</td>       <th>  Adj. R-squared:    </th> <td>   0.003</td>\n</tr>\n<tr>\n  <th>Method:</th>             <td>Least Squares</td>  <th>  F-statistic:       </th> <td>   1.144</td>\n</tr>\n<tr>\n  <th>Date:</th>             <td>Mon, 24 Feb 2020</td> <th>  Prob (F-statistic):</th>  <td> 0.332</td> \n</tr>\n<tr>\n  <th>Time:</th>                 <td>21:11:07</td>     <th>  Log-Likelihood:    </th> <td> -3014.7</td>\n</tr>\n<tr>\n  <th>No. Observations:</th>      <td>   400</td>      <th>  AIC:               </th> <td>   6047.</td>\n</tr>\n<tr>\n  <th>Df Residuals:</th>          <td>   391</td>      <th>  BIC:               </th> <td>   6083.</td>\n</tr>\n<tr>\n  <th>Df Model:</th>              <td>     8</td>      <th>                     </th>     <td> </td>   \n</tr>\n<tr>\n  <th>Covariance Type:</th>      <td>nonrobust</td>    <th>                     </th>     <td> </td>   \n</tr>\n</table>\n<table class=\"simpletable\">\n<tr>\n        <td></td>           <th>coef</th>     <th>std err</th>      <th>t</th>      <th>P>|t|</th>  <th>[0.025</th>    <th>0.975]</th>  \n</tr>\n<tr>\n  <th>Intercept</th>     <td>  531.1373</td> <td>   64.286</td> <td>    8.262</td> <td> 0.000</td> <td>  404.748</td> <td>  657.527</td>\n</tr>\n<tr>\n  <th>C(Cards)[T.2]</th> <td>  -58.1720</td> <td>   77.236</td> <td>   -0.753</td> <td> 0.452</td> <td> -210.023</td> <td>   93.679</td>\n</tr>\n<tr>\n  <th>C(Cards)[T.3]</th> <td>  -39.0742</td> <td>   77.663</td> <td>   -0.503</td> <td> 0.615</td> <td> -191.763</td> <td>  113.615</td>\n</tr>\n<tr>\n  <th>C(Cards)[T.4]</th> <td>   45.2794</td> <td>   84.024</td> <td>    0.539</td> <td> 0.590</td> <td> -119.916</td> <td>  210.475</td>\n</tr>\n<tr>\n  <th>C(Cards)[T.5]</th> <td>   -8.1373</td> <td>  101.645</td> <td>   -0.080</td> <td> 0.936</td> <td> -207.977</td> <td>  191.702</td>\n</tr>\n<tr>\n  <th>C(Cards)[T.6]</th> <td>  149.6809</td> <td>  152.622</td> <td>    0.981</td> <td> 0.327</td> <td> -150.381</td> <td>  449.743</td>\n</tr>\n<tr>\n  <th>C(Cards)[T.7]</th> <td>  497.6127</td> <td>  238.379</td> <td>    2.087</td> <td> 0.037</td> <td>   28.947</td> <td>  966.278</td>\n</tr>\n<tr>\n  <th>C(Cards)[T.8]</th> <td>  106.8627</td> <td>  463.574</td> <td>    0.231</td> <td> 0.818</td> <td> -804.547</td> <td> 1018.272</td>\n</tr>\n<tr>\n  <th>C(Cards)[T.9]</th> <td> -149.1373</td> <td>  463.574</td> <td>   -0.322</td> <td> 0.748</td> <td>-1060.547</td> <td>  762.272</td>\n</tr>\n</table>\n<table class=\"simpletable\">\n<tr>\n  <th>Omnibus:</th>       <td>28.038</td> <th>  Durbin-Watson:     </th> <td>   1.928</td>\n</tr>\n<tr>\n  <th>Prob(Omnibus):</th> <td> 0.000</td> <th>  Jarque-Bera (JB):  </th> <td>  26.387</td>\n</tr>\n<tr>\n  <th>Skew:</th>          <td> 0.568</td> <th>  Prob(JB):          </th> <td>1.86e-06</td>\n</tr>\n<tr>\n  <th>Kurtosis:</th>      <td> 2.459</td> <th>  Cond. No.          </th> <td>    22.5</td>\n</tr>\n</table><br/><br/>Warnings:<br/>[1] Standard Errors assume that the covariance matrix of the errors is correctly specified.",
      "text/plain": "<class 'statsmodels.iolib.summary.Summary'>\n\"\"\"\n                            OLS Regression Results                            \n==============================================================================\nDep. Variable:                Balance   R-squared:                       0.023\nModel:                            OLS   Adj. R-squared:                  0.003\nMethod:                 Least Squares   F-statistic:                     1.144\nDate:                Mon, 24 Feb 2020   Prob (F-statistic):              0.332\nTime:                        21:11:07   Log-Likelihood:                -3014.7\nNo. Observations:                 400   AIC:                             6047.\nDf Residuals:                     391   BIC:                             6083.\nDf Model:                           8                                         \nCovariance Type:            nonrobust                                         \n=================================================================================\n                    coef    std err          t      P>|t|      [0.025      0.975]\n---------------------------------------------------------------------------------\nIntercept       531.1373     64.286      8.262      0.000     404.748     657.527\nC(Cards)[T.2]   -58.1720     77.236     -0.753      0.452    -210.023      93.679\nC(Cards)[T.3]   -39.0742     77.663     -0.503      0.615    -191.763     113.615\nC(Cards)[T.4]    45.2794     84.024      0.539      0.590    -119.916     210.475\nC(Cards)[T.5]    -8.1373    101.645     -0.080      0.936    -207.977     191.702\nC(Cards)[T.6]   149.6809    152.622      0.981      0.327    -150.381     449.743\nC(Cards)[T.7]   497.6127    238.379      2.087      0.037      28.947     966.278\nC(Cards)[T.8]   106.8627    463.574      0.231      0.818    -804.547    1018.272\nC(Cards)[T.9]  -149.1373    463.574     -0.322      0.748   -1060.547     762.272\n==============================================================================\nOmnibus:                       28.038   Durbin-Watson:                   1.928\nProb(Omnibus):                  0.000   Jarque-Bera (JB):               26.387\nSkew:                           0.568   Prob(JB):                     1.86e-06\nKurtosis:                       2.459   Cond. No.                         22.5\n==============================================================================\n\nWarnings:\n[1] Standard Errors assume that the covariance matrix of the errors is correctly specified.\n\"\"\""
     },
     "execution_count": 16,
     "metadata": {},
     "output_type": "execute_result"
    }
   ],
   "source": [
    "r.summary()"
   ]
  },
  {
   "cell_type": "markdown",
   "metadata": {},
   "source": [
    "Making Cards a categorical variable separates each value out into its own variable. In this model, we find that having no cards results in a balance of 531.14. If a person has two, three, or nine cards, this balance will reduce, while if they have four, six, seven, or eight cards this balance will increase. If this seems a little random, it is because non of these values (except the intercept -- 0 cards) is statstically significant, indicated by non-zero p-values across the board."
   ]
  },
  {
   "cell_type": "markdown",
   "metadata": {},
   "source": [
    "# 2. Implement Categorical to Dummies"
   ]
  },
  {
   "cell_type": "markdown",
   "metadata": {},
   "source": [
    "## 2.1"
   ]
  },
  {
   "cell_type": "code",
   "execution_count": 17,
   "metadata": {},
   "outputs": [],
   "source": [
    "def makeDummies(var, name, ref):\n",
    "    values = var.unique()\n",
    "    data = pd.DataFrame({name + str(i): [0 for j in range(len(var))] for i in values})\n",
    "    for i in values:\n",
    "        indices = c.index[var == i]\n",
    "        for j in indices:\n",
    "            data.loc[j, name + str(i)] = 1\n",
    "    data = data.drop(name + ref, 1)\n",
    "    return data"
   ]
  },
  {
   "cell_type": "markdown",
   "metadata": {},
   "source": [
    "##  2.2"
   ]
  },
  {
   "cell_type": "code",
   "execution_count": 18,
   "metadata": {},
   "outputs": [
    {
     "data": {
      "text/html": "<div>\n<style scoped>\n    .dataframe tbody tr th:only-of-type {\n        vertical-align: middle;\n    }\n\n    .dataframe tbody tr th {\n        vertical-align: top;\n    }\n\n    .dataframe thead th {\n        text-align: right;\n    }\n</style>\n<table border=\"1\" class=\"dataframe\">\n  <thead>\n    <tr style=\"text-align: right;\">\n      <th></th>\n      <th>studentYes</th>\n    </tr>\n  </thead>\n  <tbody>\n    <tr>\n      <th>0</th>\n      <td>0</td>\n    </tr>\n    <tr>\n      <th>1</th>\n      <td>1</td>\n    </tr>\n    <tr>\n      <th>2</th>\n      <td>0</td>\n    </tr>\n    <tr>\n      <th>3</th>\n      <td>0</td>\n    </tr>\n    <tr>\n      <th>4</th>\n      <td>0</td>\n    </tr>\n    <tr>\n      <th>5</th>\n      <td>0</td>\n    </tr>\n    <tr>\n      <th>6</th>\n      <td>0</td>\n    </tr>\n    <tr>\n      <th>7</th>\n      <td>0</td>\n    </tr>\n    <tr>\n      <th>8</th>\n      <td>0</td>\n    </tr>\n    <tr>\n      <th>9</th>\n      <td>1</td>\n    </tr>\n  </tbody>\n</table>\n</div>",
      "text/plain": "   studentYes\n0           0\n1           1\n2           0\n3           0\n4           0\n5           0\n6           0\n7           0\n8           0\n9           1"
     },
     "execution_count": 18,
     "metadata": {},
     "output_type": "execute_result"
    }
   ],
   "source": [
    "test1 = makeDummies(c.Student, 'student', 'No')\n",
    "test1.head(10)"
   ]
  },
  {
   "cell_type": "code",
   "execution_count": 19,
   "metadata": {},
   "outputs": [
    {
     "data": {
      "text/html": "<div>\n<style scoped>\n    .dataframe tbody tr th:only-of-type {\n        vertical-align: middle;\n    }\n\n    .dataframe tbody tr th {\n        vertical-align: top;\n    }\n\n    .dataframe thead th {\n        text-align: right;\n    }\n</style>\n<table border=\"1\" class=\"dataframe\">\n  <thead>\n    <tr style=\"text-align: right;\">\n      <th></th>\n      <th>ethnCaucasian</th>\n      <th>ethnAsian</th>\n    </tr>\n  </thead>\n  <tbody>\n    <tr>\n      <th>0</th>\n      <td>1</td>\n      <td>0</td>\n    </tr>\n    <tr>\n      <th>1</th>\n      <td>0</td>\n      <td>1</td>\n    </tr>\n    <tr>\n      <th>2</th>\n      <td>0</td>\n      <td>1</td>\n    </tr>\n    <tr>\n      <th>3</th>\n      <td>0</td>\n      <td>1</td>\n    </tr>\n    <tr>\n      <th>4</th>\n      <td>1</td>\n      <td>0</td>\n    </tr>\n    <tr>\n      <th>5</th>\n      <td>1</td>\n      <td>0</td>\n    </tr>\n    <tr>\n      <th>6</th>\n      <td>0</td>\n      <td>0</td>\n    </tr>\n    <tr>\n      <th>7</th>\n      <td>0</td>\n      <td>1</td>\n    </tr>\n    <tr>\n      <th>8</th>\n      <td>1</td>\n      <td>0</td>\n    </tr>\n    <tr>\n      <th>9</th>\n      <td>0</td>\n      <td>0</td>\n    </tr>\n  </tbody>\n</table>\n</div>",
      "text/plain": "   ethnCaucasian  ethnAsian\n0              1          0\n1              0          1\n2              0          1\n3              0          1\n4              1          0\n5              1          0\n6              0          0\n7              0          1\n8              1          0\n9              0          0"
     },
     "execution_count": 19,
     "metadata": {},
     "output_type": "execute_result"
    }
   ],
   "source": [
    "test2 = makeDummies(c.Ethnicity, 'ethn', 'African American')\n",
    "test2.head(10)"
   ]
  },
  {
   "cell_type": "code",
   "execution_count": 20,
   "metadata": {},
   "outputs": [
    {
     "data": {
      "text/html": "<div>\n<style scoped>\n    .dataframe tbody tr th:only-of-type {\n        vertical-align: middle;\n    }\n\n    .dataframe tbody tr th {\n        vertical-align: top;\n    }\n\n    .dataframe thead th {\n        text-align: right;\n    }\n</style>\n<table border=\"1\" class=\"dataframe\">\n  <thead>\n    <tr style=\"text-align: right;\">\n      <th></th>\n      <th>card2</th>\n      <th>card3</th>\n      <th>card4</th>\n      <th>card5</th>\n      <th>card6</th>\n      <th>card7</th>\n      <th>card8</th>\n      <th>card9</th>\n    </tr>\n  </thead>\n  <tbody>\n    <tr>\n      <th>0</th>\n      <td>1</td>\n      <td>0</td>\n      <td>0</td>\n      <td>0</td>\n      <td>0</td>\n      <td>0</td>\n      <td>0</td>\n      <td>0</td>\n    </tr>\n    <tr>\n      <th>1</th>\n      <td>0</td>\n      <td>1</td>\n      <td>0</td>\n      <td>0</td>\n      <td>0</td>\n      <td>0</td>\n      <td>0</td>\n      <td>0</td>\n    </tr>\n    <tr>\n      <th>2</th>\n      <td>0</td>\n      <td>0</td>\n      <td>1</td>\n      <td>0</td>\n      <td>0</td>\n      <td>0</td>\n      <td>0</td>\n      <td>0</td>\n    </tr>\n    <tr>\n      <th>3</th>\n      <td>0</td>\n      <td>1</td>\n      <td>0</td>\n      <td>0</td>\n      <td>0</td>\n      <td>0</td>\n      <td>0</td>\n      <td>0</td>\n    </tr>\n    <tr>\n      <th>4</th>\n      <td>1</td>\n      <td>0</td>\n      <td>0</td>\n      <td>0</td>\n      <td>0</td>\n      <td>0</td>\n      <td>0</td>\n      <td>0</td>\n    </tr>\n    <tr>\n      <th>5</th>\n      <td>0</td>\n      <td>0</td>\n      <td>1</td>\n      <td>0</td>\n      <td>0</td>\n      <td>0</td>\n      <td>0</td>\n      <td>0</td>\n    </tr>\n    <tr>\n      <th>6</th>\n      <td>1</td>\n      <td>0</td>\n      <td>0</td>\n      <td>0</td>\n      <td>0</td>\n      <td>0</td>\n      <td>0</td>\n      <td>0</td>\n    </tr>\n    <tr>\n      <th>7</th>\n      <td>1</td>\n      <td>0</td>\n      <td>0</td>\n      <td>0</td>\n      <td>0</td>\n      <td>0</td>\n      <td>0</td>\n      <td>0</td>\n    </tr>\n    <tr>\n      <th>8</th>\n      <td>0</td>\n      <td>0</td>\n      <td>0</td>\n      <td>1</td>\n      <td>0</td>\n      <td>0</td>\n      <td>0</td>\n      <td>0</td>\n    </tr>\n    <tr>\n      <th>9</th>\n      <td>0</td>\n      <td>1</td>\n      <td>0</td>\n      <td>0</td>\n      <td>0</td>\n      <td>0</td>\n      <td>0</td>\n      <td>0</td>\n    </tr>\n  </tbody>\n</table>\n</div>",
      "text/plain": "   card2  card3  card4  card5  card6  card7  card8  card9\n0      1      0      0      0      0      0      0      0\n1      0      1      0      0      0      0      0      0\n2      0      0      1      0      0      0      0      0\n3      0      1      0      0      0      0      0      0\n4      1      0      0      0      0      0      0      0\n5      0      0      1      0      0      0      0      0\n6      1      0      0      0      0      0      0      0\n7      1      0      0      0      0      0      0      0\n8      0      0      0      1      0      0      0      0\n9      0      1      0      0      0      0      0      0"
     },
     "execution_count": 20,
     "metadata": {},
     "output_type": "execute_result"
    }
   ],
   "source": [
    "test3 = makeDummies(c.Cards, 'card', '1')\n",
    "test3.head(10)"
   ]
  },
  {
   "cell_type": "markdown",
   "metadata": {},
   "source": [
    "## 2.3"
   ]
  },
  {
   "cell_type": "markdown",
   "metadata": {},
   "source": [
    "### Cards"
   ]
  },
  {
   "cell_type": "code",
   "execution_count": 21,
   "metadata": {},
   "outputs": [],
   "source": [
    "test3['Balance'] = c.Balance"
   ]
  },
  {
   "cell_type": "code",
   "execution_count": 22,
   "metadata": {},
   "outputs": [],
   "source": [
    "r = smf.ols(formula = 'Balance ~ card2 + card3 + card4 + card5 + card6 + card7 + card8 + card9', data = test3).fit()"
   ]
  },
  {
   "cell_type": "code",
   "execution_count": 23,
   "metadata": {},
   "outputs": [
    {
     "data": {
      "text/html": "<table class=\"simpletable\">\n<caption>OLS Regression Results</caption>\n<tr>\n  <th>Dep. Variable:</th>         <td>Balance</td>     <th>  R-squared:         </th> <td>   0.023</td>\n</tr>\n<tr>\n  <th>Model:</th>                   <td>OLS</td>       <th>  Adj. R-squared:    </th> <td>   0.003</td>\n</tr>\n<tr>\n  <th>Method:</th>             <td>Least Squares</td>  <th>  F-statistic:       </th> <td>   1.144</td>\n</tr>\n<tr>\n  <th>Date:</th>             <td>Mon, 24 Feb 2020</td> <th>  Prob (F-statistic):</th>  <td> 0.332</td> \n</tr>\n<tr>\n  <th>Time:</th>                 <td>21:11:09</td>     <th>  Log-Likelihood:    </th> <td> -3014.7</td>\n</tr>\n<tr>\n  <th>No. Observations:</th>      <td>   400</td>      <th>  AIC:               </th> <td>   6047.</td>\n</tr>\n<tr>\n  <th>Df Residuals:</th>          <td>   391</td>      <th>  BIC:               </th> <td>   6083.</td>\n</tr>\n<tr>\n  <th>Df Model:</th>              <td>     8</td>      <th>                     </th>     <td> </td>   \n</tr>\n<tr>\n  <th>Covariance Type:</th>      <td>nonrobust</td>    <th>                     </th>     <td> </td>   \n</tr>\n</table>\n<table class=\"simpletable\">\n<tr>\n      <td></td>         <th>coef</th>     <th>std err</th>      <th>t</th>      <th>P>|t|</th>  <th>[0.025</th>    <th>0.975]</th>  \n</tr>\n<tr>\n  <th>Intercept</th> <td>  531.1373</td> <td>   64.286</td> <td>    8.262</td> <td> 0.000</td> <td>  404.748</td> <td>  657.527</td>\n</tr>\n<tr>\n  <th>card2</th>     <td>  -58.1720</td> <td>   77.236</td> <td>   -0.753</td> <td> 0.452</td> <td> -210.023</td> <td>   93.679</td>\n</tr>\n<tr>\n  <th>card3</th>     <td>  -39.0742</td> <td>   77.663</td> <td>   -0.503</td> <td> 0.615</td> <td> -191.763</td> <td>  113.615</td>\n</tr>\n<tr>\n  <th>card4</th>     <td>   45.2794</td> <td>   84.024</td> <td>    0.539</td> <td> 0.590</td> <td> -119.916</td> <td>  210.475</td>\n</tr>\n<tr>\n  <th>card5</th>     <td>   -8.1373</td> <td>  101.645</td> <td>   -0.080</td> <td> 0.936</td> <td> -207.977</td> <td>  191.702</td>\n</tr>\n<tr>\n  <th>card6</th>     <td>  149.6809</td> <td>  152.622</td> <td>    0.981</td> <td> 0.327</td> <td> -150.381</td> <td>  449.743</td>\n</tr>\n<tr>\n  <th>card7</th>     <td>  497.6127</td> <td>  238.379</td> <td>    2.087</td> <td> 0.037</td> <td>   28.947</td> <td>  966.278</td>\n</tr>\n<tr>\n  <th>card8</th>     <td>  106.8627</td> <td>  463.574</td> <td>    0.231</td> <td> 0.818</td> <td> -804.547</td> <td> 1018.272</td>\n</tr>\n<tr>\n  <th>card9</th>     <td> -149.1373</td> <td>  463.574</td> <td>   -0.322</td> <td> 0.748</td> <td>-1060.547</td> <td>  762.272</td>\n</tr>\n</table>\n<table class=\"simpletable\">\n<tr>\n  <th>Omnibus:</th>       <td>28.038</td> <th>  Durbin-Watson:     </th> <td>   1.928</td>\n</tr>\n<tr>\n  <th>Prob(Omnibus):</th> <td> 0.000</td> <th>  Jarque-Bera (JB):  </th> <td>  26.387</td>\n</tr>\n<tr>\n  <th>Skew:</th>          <td> 0.568</td> <th>  Prob(JB):          </th> <td>1.86e-06</td>\n</tr>\n<tr>\n  <th>Kurtosis:</th>      <td> 2.459</td> <th>  Cond. No.          </th> <td>    22.5</td>\n</tr>\n</table><br/><br/>Warnings:<br/>[1] Standard Errors assume that the covariance matrix of the errors is correctly specified.",
      "text/plain": "<class 'statsmodels.iolib.summary.Summary'>\n\"\"\"\n                            OLS Regression Results                            \n==============================================================================\nDep. Variable:                Balance   R-squared:                       0.023\nModel:                            OLS   Adj. R-squared:                  0.003\nMethod:                 Least Squares   F-statistic:                     1.144\nDate:                Mon, 24 Feb 2020   Prob (F-statistic):              0.332\nTime:                        21:11:09   Log-Likelihood:                -3014.7\nNo. Observations:                 400   AIC:                             6047.\nDf Residuals:                     391   BIC:                             6083.\nDf Model:                           8                                         \nCovariance Type:            nonrobust                                         \n==============================================================================\n                 coef    std err          t      P>|t|      [0.025      0.975]\n------------------------------------------------------------------------------\nIntercept    531.1373     64.286      8.262      0.000     404.748     657.527\ncard2        -58.1720     77.236     -0.753      0.452    -210.023      93.679\ncard3        -39.0742     77.663     -0.503      0.615    -191.763     113.615\ncard4         45.2794     84.024      0.539      0.590    -119.916     210.475\ncard5         -8.1373    101.645     -0.080      0.936    -207.977     191.702\ncard6        149.6809    152.622      0.981      0.327    -150.381     449.743\ncard7        497.6127    238.379      2.087      0.037      28.947     966.278\ncard8        106.8627    463.574      0.231      0.818    -804.547    1018.272\ncard9       -149.1373    463.574     -0.322      0.748   -1060.547     762.272\n==============================================================================\nOmnibus:                       28.038   Durbin-Watson:                   1.928\nProb(Omnibus):                  0.000   Jarque-Bera (JB):               26.387\nSkew:                           0.568   Prob(JB):                     1.86e-06\nKurtosis:                       2.459   Cond. No.                         22.5\n==============================================================================\n\nWarnings:\n[1] Standard Errors assume that the covariance matrix of the errors is correctly specified.\n\"\"\""
     },
     "execution_count": 23,
     "metadata": {},
     "output_type": "execute_result"
    }
   ],
   "source": [
    "r.summary()"
   ]
  },
  {
   "cell_type": "markdown",
   "metadata": {},
   "source": [
    "The results for cards are the same as the above"
   ]
  },
  {
   "cell_type": "markdown",
   "metadata": {},
   "source": [
    "### Ethnicity"
   ]
  },
  {
   "cell_type": "code",
   "execution_count": 24,
   "metadata": {},
   "outputs": [],
   "source": [
    "test2['Balance'] = c.Balance"
   ]
  },
  {
   "cell_type": "code",
   "execution_count": 25,
   "metadata": {},
   "outputs": [],
   "source": [
    "r = smf.ols(formula = 'Balance ~ ethnAsian + ethnCaucasian', data = test2).fit()"
   ]
  },
  {
   "cell_type": "code",
   "execution_count": 26,
   "metadata": {},
   "outputs": [
    {
     "data": {
      "text/html": "<table class=\"simpletable\">\n<caption>OLS Regression Results</caption>\n<tr>\n  <th>Dep. Variable:</th>         <td>Balance</td>     <th>  R-squared:         </th> <td>   0.000</td>\n</tr>\n<tr>\n  <th>Model:</th>                   <td>OLS</td>       <th>  Adj. R-squared:    </th> <td>  -0.005</td>\n</tr>\n<tr>\n  <th>Method:</th>             <td>Least Squares</td>  <th>  F-statistic:       </th> <td> 0.04344</td>\n</tr>\n<tr>\n  <th>Date:</th>             <td>Mon, 24 Feb 2020</td> <th>  Prob (F-statistic):</th>  <td> 0.957</td> \n</tr>\n<tr>\n  <th>Time:</th>                 <td>21:11:10</td>     <th>  Log-Likelihood:    </th> <td> -3019.3</td>\n</tr>\n<tr>\n  <th>No. Observations:</th>      <td>   400</td>      <th>  AIC:               </th> <td>   6045.</td>\n</tr>\n<tr>\n  <th>Df Residuals:</th>          <td>   397</td>      <th>  BIC:               </th> <td>   6057.</td>\n</tr>\n<tr>\n  <th>Df Model:</th>              <td>     2</td>      <th>                     </th>     <td> </td>   \n</tr>\n<tr>\n  <th>Covariance Type:</th>      <td>nonrobust</td>    <th>                     </th>     <td> </td>   \n</tr>\n</table>\n<table class=\"simpletable\">\n<tr>\n        <td></td>           <th>coef</th>     <th>std err</th>      <th>t</th>      <th>P>|t|</th>  <th>[0.025</th>    <th>0.975]</th>  \n</tr>\n<tr>\n  <th>Intercept</th>     <td>  531.0000</td> <td>   46.319</td> <td>   11.464</td> <td> 0.000</td> <td>  439.939</td> <td>  622.061</td>\n</tr>\n<tr>\n  <th>ethnAsian</th>     <td>  -18.6863</td> <td>   65.021</td> <td>   -0.287</td> <td> 0.774</td> <td> -146.515</td> <td>  109.142</td>\n</tr>\n<tr>\n  <th>ethnCaucasian</th> <td>  -12.5025</td> <td>   56.681</td> <td>   -0.221</td> <td> 0.826</td> <td> -123.935</td> <td>   98.930</td>\n</tr>\n</table>\n<table class=\"simpletable\">\n<tr>\n  <th>Omnibus:</th>       <td>28.829</td> <th>  Durbin-Watson:     </th> <td>   1.946</td>\n</tr>\n<tr>\n  <th>Prob(Omnibus):</th> <td> 0.000</td> <th>  Jarque-Bera (JB):  </th> <td>  27.395</td>\n</tr>\n<tr>\n  <th>Skew:</th>          <td> 0.581</td> <th>  Prob(JB):          </th> <td>1.13e-06</td>\n</tr>\n<tr>\n  <th>Kurtosis:</th>      <td> 2.460</td> <th>  Cond. No.          </th> <td>    4.39</td>\n</tr>\n</table><br/><br/>Warnings:<br/>[1] Standard Errors assume that the covariance matrix of the errors is correctly specified.",
      "text/plain": "<class 'statsmodels.iolib.summary.Summary'>\n\"\"\"\n                            OLS Regression Results                            \n==============================================================================\nDep. Variable:                Balance   R-squared:                       0.000\nModel:                            OLS   Adj. R-squared:                 -0.005\nMethod:                 Least Squares   F-statistic:                   0.04344\nDate:                Mon, 24 Feb 2020   Prob (F-statistic):              0.957\nTime:                        21:11:10   Log-Likelihood:                -3019.3\nNo. Observations:                 400   AIC:                             6045.\nDf Residuals:                     397   BIC:                             6057.\nDf Model:                           2                                         \nCovariance Type:            nonrobust                                         \n=================================================================================\n                    coef    std err          t      P>|t|      [0.025      0.975]\n---------------------------------------------------------------------------------\nIntercept       531.0000     46.319     11.464      0.000     439.939     622.061\nethnAsian       -18.6863     65.021     -0.287      0.774    -146.515     109.142\nethnCaucasian   -12.5025     56.681     -0.221      0.826    -123.935      98.930\n==============================================================================\nOmnibus:                       28.829   Durbin-Watson:                   1.946\nProb(Omnibus):                  0.000   Jarque-Bera (JB):               27.395\nSkew:                           0.581   Prob(JB):                     1.13e-06\nKurtosis:                       2.460   Cond. No.                         4.39\n==============================================================================\n\nWarnings:\n[1] Standard Errors assume that the covariance matrix of the errors is correctly specified.\n\"\"\""
     },
     "execution_count": 26,
     "metadata": {},
     "output_type": "execute_result"
    }
   ],
   "source": [
    "r.summary()"
   ]
  },
  {
   "cell_type": "markdown",
   "metadata": {},
   "source": [
    "The results for ethnicity are the same as above"
   ]
  },
  {
   "cell_type": "markdown",
   "metadata": {},
   "source": [
    "### Student"
   ]
  },
  {
   "cell_type": "code",
   "execution_count": 27,
   "metadata": {},
   "outputs": [],
   "source": [
    "test1['Balance'] = c.Balance"
   ]
  },
  {
   "cell_type": "code",
   "execution_count": 28,
   "metadata": {},
   "outputs": [],
   "source": [
    "r = smf.ols(formula = 'Balance ~ studentYes', data = test1).fit()"
   ]
  },
  {
   "cell_type": "code",
   "execution_count": 29,
   "metadata": {},
   "outputs": [
    {
     "data": {
      "text/html": "<table class=\"simpletable\">\n<caption>OLS Regression Results</caption>\n<tr>\n  <th>Dep. Variable:</th>         <td>Balance</td>     <th>  R-squared:         </th> <td>   0.067</td>\n</tr>\n<tr>\n  <th>Model:</th>                   <td>OLS</td>       <th>  Adj. R-squared:    </th> <td>   0.065</td>\n</tr>\n<tr>\n  <th>Method:</th>             <td>Least Squares</td>  <th>  F-statistic:       </th> <td>   28.62</td>\n</tr>\n<tr>\n  <th>Date:</th>             <td>Mon, 24 Feb 2020</td> <th>  Prob (F-statistic):</th> <td>1.49e-07</td>\n</tr>\n<tr>\n  <th>Time:</th>                 <td>21:11:11</td>     <th>  Log-Likelihood:    </th> <td> -3005.5</td>\n</tr>\n<tr>\n  <th>No. Observations:</th>      <td>   400</td>      <th>  AIC:               </th> <td>   6015.</td>\n</tr>\n<tr>\n  <th>Df Residuals:</th>          <td>   398</td>      <th>  BIC:               </th> <td>   6023.</td>\n</tr>\n<tr>\n  <th>Df Model:</th>              <td>     1</td>      <th>                     </th>     <td> </td>   \n</tr>\n<tr>\n  <th>Covariance Type:</th>      <td>nonrobust</td>    <th>                     </th>     <td> </td>   \n</tr>\n</table>\n<table class=\"simpletable\">\n<tr>\n       <td></td>         <th>coef</th>     <th>std err</th>      <th>t</th>      <th>P>|t|</th>  <th>[0.025</th>    <th>0.975]</th>  \n</tr>\n<tr>\n  <th>Intercept</th>  <td>  480.3694</td> <td>   23.434</td> <td>   20.499</td> <td> 0.000</td> <td>  434.300</td> <td>  526.439</td>\n</tr>\n<tr>\n  <th>studentYes</th> <td>  396.4556</td> <td>   74.104</td> <td>    5.350</td> <td> 0.000</td> <td>  250.771</td> <td>  542.140</td>\n</tr>\n</table>\n<table class=\"simpletable\">\n<tr>\n  <th>Omnibus:</th>       <td>20.866</td> <th>  Durbin-Watson:     </th> <td>   1.950</td>\n</tr>\n<tr>\n  <th>Prob(Omnibus):</th> <td> 0.000</td> <th>  Jarque-Bera (JB):  </th> <td>  21.920</td>\n</tr>\n<tr>\n  <th>Skew:</th>          <td> 0.544</td> <th>  Prob(JB):          </th> <td>1.74e-05</td>\n</tr>\n<tr>\n  <th>Kurtosis:</th>      <td> 2.637</td> <th>  Cond. No.          </th> <td>    3.37</td>\n</tr>\n</table><br/><br/>Warnings:<br/>[1] Standard Errors assume that the covariance matrix of the errors is correctly specified.",
      "text/plain": "<class 'statsmodels.iolib.summary.Summary'>\n\"\"\"\n                            OLS Regression Results                            \n==============================================================================\nDep. Variable:                Balance   R-squared:                       0.067\nModel:                            OLS   Adj. R-squared:                  0.065\nMethod:                 Least Squares   F-statistic:                     28.62\nDate:                Mon, 24 Feb 2020   Prob (F-statistic):           1.49e-07\nTime:                        21:11:11   Log-Likelihood:                -3005.5\nNo. Observations:                 400   AIC:                             6015.\nDf Residuals:                     398   BIC:                             6023.\nDf Model:                           1                                         \nCovariance Type:            nonrobust                                         \n==============================================================================\n                 coef    std err          t      P>|t|      [0.025      0.975]\n------------------------------------------------------------------------------\nIntercept    480.3694     23.434     20.499      0.000     434.300     526.439\nstudentYes   396.4556     74.104      5.350      0.000     250.771     542.140\n==============================================================================\nOmnibus:                       20.866   Durbin-Watson:                   1.950\nProb(Omnibus):                  0.000   Jarque-Bera (JB):               21.920\nSkew:                           0.544   Prob(JB):                     1.74e-05\nKurtosis:                       2.637   Cond. No.                         3.37\n==============================================================================\n\nWarnings:\n[1] Standard Errors assume that the covariance matrix of the errors is correctly specified.\n\"\"\""
     },
     "execution_count": 29,
     "metadata": {},
     "output_type": "execute_result"
    }
   ],
   "source": [
    "r.summary()"
   ]
  },
  {
   "cell_type": "markdown",
   "metadata": {},
   "source": [
    "The results for student are the same as above."
   ]
  },
  {
   "cell_type": "markdown",
   "metadata": {},
   "source": [
    "# 3. Model AirBnB Price"
   ]
  },
  {
   "cell_type": "markdown",
   "metadata": {},
   "source": [
    "## 3.1"
   ]
  },
  {
   "cell_type": "code",
   "execution_count": 30,
   "metadata": {},
   "outputs": [],
   "source": [
    "l = pd.read_csv('./listings.csv', usecols = ['price', 'bedrooms', 'room_type', 'accommodates', 'bathrooms'])"
   ]
  },
  {
   "cell_type": "code",
   "execution_count": 31,
   "metadata": {},
   "outputs": [
    {
     "data": {
      "text/plain": "(38814, 5)"
     },
     "execution_count": 31,
     "metadata": {},
     "output_type": "execute_result"
    }
   ],
   "source": [
    "l.shape"
   ]
  },
  {
   "cell_type": "code",
   "execution_count": 32,
   "metadata": {},
   "outputs": [
    {
     "data": {
      "text/plain": "room_type       38814\naccommodates    38814\nbathrooms       38807\nbedrooms        38700\nprice           38814\ndtype: int64"
     },
     "execution_count": 32,
     "metadata": {},
     "output_type": "execute_result"
    }
   ],
   "source": [
    "l.count()"
   ]
  },
  {
   "cell_type": "markdown",
   "metadata": {},
   "source": [
    "There appear to be nulls in this dataset, since there are 38814 observations, but some variables have fewer values."
   ]
  },
  {
   "cell_type": "markdown",
   "metadata": {},
   "source": [
    "## 3.2"
   ]
  },
  {
   "cell_type": "markdown",
   "metadata": {},
   "source": [
    "### 3.2a"
   ]
  },
  {
   "cell_type": "code",
   "execution_count": 33,
   "metadata": {},
   "outputs": [],
   "source": [
    "l['price'] = l.price.str.replace('[\\$,]', '', regex=True).astype(float)"
   ]
  },
  {
   "cell_type": "markdown",
   "metadata": {},
   "source": [
    "### 3.2b"
   ]
  },
  {
   "cell_type": "code",
   "execution_count": 34,
   "metadata": {},
   "outputs": [],
   "source": [
    "l = l.dropna()"
   ]
  },
  {
   "cell_type": "code",
   "execution_count": 35,
   "metadata": {},
   "outputs": [
    {
     "data": {
      "text/plain": "(38695, 5)"
     },
     "execution_count": 35,
     "metadata": {},
     "output_type": "execute_result"
    }
   ],
   "source": [
    "l.shape"
   ]
  },
  {
   "cell_type": "code",
   "execution_count": 36,
   "metadata": {},
   "outputs": [
    {
     "data": {
      "text/plain": "room_type       38695\naccommodates    38695\nbathrooms       38695\nbedrooms        38695\nprice           38695\ndtype: int64"
     },
     "execution_count": 36,
     "metadata": {},
     "output_type": "execute_result"
    }
   ],
   "source": [
    "l.count()"
   ]
  },
  {
   "cell_type": "markdown",
   "metadata": {},
   "source": [
    "## 3.3"
   ]
  },
  {
   "cell_type": "code",
   "execution_count": 37,
   "metadata": {},
   "outputs": [],
   "source": [
    "import matplotlib.pyplot as plt"
   ]
  },
  {
   "cell_type": "code",
   "execution_count": 38,
   "metadata": {},
   "outputs": [
    {
     "data": {
      "image/png": "[encoded data removed]",
      "image/svg+xml": "<?xml version=\"1.0\" encoding=\"utf-8\" standalone=\"no\"?>\n<!DOCTYPE svg PUBLIC \"-//W3C//DTD SVG 1.1//EN\"\n  \"http://www.w3.org/Graphics/SVG/1.1/DTD/svg11.dtd\">\n<!-- Created with matplotlib (https://matplotlib.org/) -->\n<svg height=\"252.018125pt\" version=\"1.1\" viewBox=\"0 0 391.5125 252.018125\" width=\"391.5125pt\" xmlns=\"http://www.w3.org/2000/svg\" xmlns:xlink=\"http://www.w3.org/1999/xlink\">\n <defs>\n  <style type=\"text/css\">\n*{stroke-linecap:butt;stroke-linejoin:round;}\n  </style>\n </defs>\n <g id=\"figure_1\">\n  <g id=\"patch_1\">\n   <path d=\"M 0 252.018125 \nL 391.5125 252.018125 \nL 391.5125 0 \nL 0 0 \nz\n\" style=\"fill:none;\"/>\n  </g>\n  <g id=\"axes_1\">\n   <g id=\"patch_2\">\n    <path d=\"M 46.0125 228.14 \nL 380.8125 228.14 \nL 380.8125 10.7 \nL 46.0125 10.7 \nz\n\" style=\"fill:#ffffff;\"/>\n   </g>\n   <g id=\"patch_3\">\n    <path clip-path=\"url(#p534bc2074e)\" d=\"M 61.230682 228.14 \nL 61.839409 228.14 \nL 61.839409 171.407056 \nL 61.230682 171.407056 \nz\n\" style=\"fill:#1f77b4;\"/>\n   </g>\n   <g id=\"patch_4\">\n    <path clip-path=\"url(#p534bc2074e)\" d=\"M 61.839409 228.14 \nL 62.448136 228.14 \nL 62.448136 48.750849 \nL 61.839409 48.750849 \nz\n\" style=\"fill:#1f77b4;\"/>\n   </g>\n   <g id=\"patch_5\">\n    <path clip-path=\"url(#p534bc2074e)\" d=\"M 62.448136 228.14 \nL 63.056864 228.14 \nL 63.056864 21.054286 \nL 62.448136 21.054286 \nz\n\" style=\"fill:#1f77b4;\"/>\n   </g>\n   <g id=\"patch_6\">\n    <path clip-path=\"url(#p534bc2074e)\" d=\"M 63.056864 228.14 \nL 63.665591 228.14 \nL 63.665591 103.641542 \nL 63.056864 103.641542 \nz\n\" style=\"fill:#1f77b4;\"/>\n   </g>\n   <g id=\"patch_7\">\n    <path clip-path=\"url(#p534bc2074e)\" d=\"M 63.665591 228.14 \nL 64.274318 228.14 \nL 64.274318 140.905248 \nL 63.665591 140.905248 \nz\n\" style=\"fill:#1f77b4;\"/>\n   </g>\n   <g id=\"patch_8\">\n    <path clip-path=\"url(#p534bc2074e)\" d=\"M 64.274318 228.14 \nL 64.883045 228.14 \nL 64.883045 198.663991 \nL 64.274318 198.663991 \nz\n\" style=\"fill:#1f77b4;\"/>\n   </g>\n   <g id=\"patch_9\">\n    <path clip-path=\"url(#p534bc2074e)\" d=\"M 64.883045 228.14 \nL 65.491773 228.14 \nL 65.491773 195.398183 \nL 64.883045 195.398183 \nz\n\" style=\"fill:#1f77b4;\"/>\n   </g>\n   <g id=\"patch_10\">\n    <path clip-path=\"url(#p534bc2074e)\" d=\"M 65.491773 228.14 \nL 66.1005 228.14 \nL 66.1005 221.650254 \nL 65.491773 221.650254 \nz\n\" style=\"fill:#1f77b4;\"/>\n   </g>\n   <g id=\"patch_11\">\n    <path clip-path=\"url(#p534bc2074e)\" d=\"M 66.1005 228.14 \nL 66.709227 228.14 \nL 66.709227 215.767613 \nL 66.1005 215.767613 \nz\n\" style=\"fill:#1f77b4;\"/>\n   </g>\n   <g id=\"patch_12\">\n    <path clip-path=\"url(#p534bc2074e)\" d=\"M 66.709227 228.14 \nL 67.317955 228.14 \nL 67.317955 220.896606 \nL 66.709227 220.896606 \nz\n\" style=\"fill:#1f77b4;\"/>\n   </g>\n   <g id=\"patch_13\">\n    <path clip-path=\"url(#p534bc2074e)\" d=\"M 67.317955 228.14 \nL 67.926682 228.14 \nL 67.926682 223.366896 \nL 67.317955 223.366896 \nz\n\" style=\"fill:#1f77b4;\"/>\n   </g>\n   <g id=\"patch_14\">\n    <path clip-path=\"url(#p534bc2074e)\" d=\"M 67.926682 228.14 \nL 68.535409 228.14 \nL 68.535409 218.384446 \nL 67.926682 218.384446 \nz\n\" style=\"fill:#1f77b4;\"/>\n   </g>\n   <g id=\"patch_15\">\n    <path clip-path=\"url(#p534bc2074e)\" d=\"M 68.535409 228.14 \nL 69.144136 228.14 \nL 69.144136 225.376624 \nL 68.535409 225.376624 \nz\n\" style=\"fill:#1f77b4;\"/>\n   </g>\n   <g id=\"patch_16\">\n    <path clip-path=\"url(#p534bc2074e)\" d=\"M 69.144136 228.14 \nL 69.752864 228.14 \nL 69.752864 218.698466 \nL 69.144136 218.698466 \nz\n\" style=\"fill:#1f77b4;\"/>\n   </g>\n   <g id=\"patch_17\">\n    <path clip-path=\"url(#p534bc2074e)\" d=\"M 69.752864 228.14 \nL 70.361591 228.14 \nL 70.361591 226.716443 \nL 69.752864 226.716443 \nz\n\" style=\"fill:#1f77b4;\"/>\n   </g>\n   <g id=\"patch_18\">\n    <path clip-path=\"url(#p534bc2074e)\" d=\"M 70.361591 228.14 \nL 70.970318 228.14 \nL 70.970318 225.585971 \nL 70.361591 225.585971 \nz\n\" style=\"fill:#1f77b4;\"/>\n   </g>\n   <g id=\"patch_19\">\n    <path clip-path=\"url(#p534bc2074e)\" d=\"M 70.970318 228.14 \nL 71.579045 228.14 \nL 71.579045 225.983729 \nL 70.970318 225.983729 \nz\n\" style=\"fill:#1f77b4;\"/>\n   </g>\n   <g id=\"patch_20\">\n    <path clip-path=\"url(#p534bc2074e)\" d=\"M 71.579045 228.14 \nL 72.187773 228.14 \nL 72.187773 226.611769 \nL 71.579045 226.611769 \nz\n\" style=\"fill:#1f77b4;\"/>\n   </g>\n   <g id=\"patch_21\">\n    <path clip-path=\"url(#p534bc2074e)\" d=\"M 72.187773 228.14 \nL 72.7965 228.14 \nL 72.7965 224.476433 \nL 72.187773 224.476433 \nz\n\" style=\"fill:#1f77b4;\"/>\n   </g>\n   <g id=\"patch_22\">\n    <path clip-path=\"url(#p534bc2074e)\" d=\"M 72.7965 228.14 \nL 73.405227 228.14 \nL 73.405227 226.632704 \nL 72.7965 226.632704 \nz\n\" style=\"fill:#1f77b4;\"/>\n   </g>\n   <g id=\"patch_23\">\n    <path clip-path=\"url(#p534bc2074e)\" d=\"M 73.405227 228.14 \nL 74.013955 228.14 \nL 74.013955 223.325027 \nL 73.405227 223.325027 \nz\n\" style=\"fill:#1f77b4;\"/>\n   </g>\n   <g id=\"patch_24\">\n    <path clip-path=\"url(#p534bc2074e)\" d=\"M 74.013955 228.14 \nL 74.622682 228.14 \nL 74.622682 227.867849 \nL 74.013955 227.867849 \nz\n\" style=\"fill:#1f77b4;\"/>\n   </g>\n   <g id=\"patch_25\">\n    <path clip-path=\"url(#p534bc2074e)\" d=\"M 74.622682 228.14 \nL 75.231409 228.14 \nL 75.231409 226.716443 \nL 74.622682 226.716443 \nz\n\" style=\"fill:#1f77b4;\"/>\n   </g>\n   <g id=\"patch_26\">\n    <path clip-path=\"url(#p534bc2074e)\" d=\"M 75.231409 228.14 \nL 75.840136 228.14 \nL 75.840136 226.716443 \nL 75.231409 226.716443 \nz\n\" style=\"fill:#1f77b4;\"/>\n   </g>\n   <g id=\"patch_27\">\n    <path clip-path=\"url(#p534bc2074e)\" d=\"M 75.840136 228.14 \nL 76.448864 228.14 \nL 76.448864 227.19794 \nL 75.840136 227.19794 \nz\n\" style=\"fill:#1f77b4;\"/>\n   </g>\n   <g id=\"patch_28\">\n    <path clip-path=\"url(#p534bc2074e)\" d=\"M 76.448864 228.14 \nL 77.057591 228.14 \nL 77.057591 225.816252 \nL 76.448864 225.816252 \nz\n\" style=\"fill:#1f77b4;\"/>\n   </g>\n   <g id=\"patch_29\">\n    <path clip-path=\"url(#p534bc2074e)\" d=\"M 77.057591 228.14 \nL 77.666318 228.14 \nL 77.666318 227.491025 \nL 77.057591 227.491025 \nz\n\" style=\"fill:#1f77b4;\"/>\n   </g>\n   <g id=\"patch_30\">\n    <path clip-path=\"url(#p534bc2074e)\" d=\"M 77.666318 228.14 \nL 78.275045 228.14 \nL 78.275045 225.146343 \nL 77.666318 225.146343 \nz\n\" style=\"fill:#1f77b4;\"/>\n   </g>\n   <g id=\"patch_31\">\n    <path clip-path=\"url(#p534bc2074e)\" d=\"M 78.275045 228.14 \nL 78.883773 228.14 \nL 78.883773 227.867849 \nL 78.275045 227.867849 \nz\n\" style=\"fill:#1f77b4;\"/>\n   </g>\n   <g id=\"patch_32\">\n    <path clip-path=\"url(#p534bc2074e)\" d=\"M 78.883773 228.14 \nL 79.4925 228.14 \nL 79.4925 227.553829 \nL 78.883773 227.553829 \nz\n\" style=\"fill:#1f77b4;\"/>\n   </g>\n   <g id=\"patch_33\">\n    <path clip-path=\"url(#p534bc2074e)\" d=\"M 79.4925 228.14 \nL 80.101227 228.14 \nL 80.101227 227.637568 \nL 79.4925 227.637568 \nz\n\" style=\"fill:#1f77b4;\"/>\n   </g>\n   <g id=\"patch_34\">\n    <path clip-path=\"url(#p534bc2074e)\" d=\"M 80.101227 228.14 \nL 80.709955 228.14 \nL 80.709955 227.679437 \nL 80.101227 227.679437 \nz\n\" style=\"fill:#1f77b4;\"/>\n   </g>\n   <g id=\"patch_35\">\n    <path clip-path=\"url(#p534bc2074e)\" d=\"M 80.709955 228.14 \nL 81.318682 228.14 \nL 81.318682 227.51196 \nL 80.709955 227.51196 \nz\n\" style=\"fill:#1f77b4;\"/>\n   </g>\n   <g id=\"patch_36\">\n    <path clip-path=\"url(#p534bc2074e)\" d=\"M 81.318682 228.14 \nL 81.927409 228.14 \nL 81.927409 227.470091 \nL 81.318682 227.470091 \nz\n\" style=\"fill:#1f77b4;\"/>\n   </g>\n   <g id=\"patch_37\">\n    <path clip-path=\"url(#p534bc2074e)\" d=\"M 81.927409 228.14 \nL 82.536136 228.14 \nL 82.536136 226.486161 \nL 81.927409 226.486161 \nz\n\" style=\"fill:#1f77b4;\"/>\n   </g>\n   <g id=\"patch_38\">\n    <path clip-path=\"url(#p534bc2074e)\" d=\"M 82.536136 228.14 \nL 83.144864 228.14 \nL 83.144864 228.098131 \nL 82.536136 228.098131 \nz\n\" style=\"fill:#1f77b4;\"/>\n   </g>\n   <g id=\"patch_39\">\n    <path clip-path=\"url(#p534bc2074e)\" d=\"M 83.144864 228.14 \nL 83.753591 228.14 \nL 83.753591 227.888784 \nL 83.144864 227.888784 \nz\n\" style=\"fill:#1f77b4;\"/>\n   </g>\n   <g id=\"patch_40\">\n    <path clip-path=\"url(#p534bc2074e)\" d=\"M 83.753591 228.14 \nL 84.362318 228.14 \nL 84.362318 228.014392 \nL 83.753591 228.014392 \nz\n\" style=\"fill:#1f77b4;\"/>\n   </g>\n   <g id=\"patch_41\">\n    <path clip-path=\"url(#p534bc2074e)\" d=\"M 84.362318 228.14 \nL 84.971045 228.14 \nL 84.971045 227.784111 \nL 84.362318 227.784111 \nz\n\" style=\"fill:#1f77b4;\"/>\n   </g>\n   <g id=\"patch_42\">\n    <path clip-path=\"url(#p534bc2074e)\" d=\"M 84.971045 228.14 \nL 85.579773 228.14 \nL 85.579773 227.930653 \nL 84.971045 227.930653 \nz\n\" style=\"fill:#1f77b4;\"/>\n   </g>\n   <g id=\"patch_43\">\n    <path clip-path=\"url(#p534bc2074e)\" d=\"M 85.579773 228.14 \nL 86.1885 228.14 \nL 86.1885 227.930653 \nL 85.579773 227.930653 \nz\n\" style=\"fill:#1f77b4;\"/>\n   </g>\n   <g id=\"patch_44\">\n    <path clip-path=\"url(#p534bc2074e)\" d=\"M 86.1885 228.14 \nL 86.797227 228.14 \nL 86.797227 226.946724 \nL 86.1885 226.946724 \nz\n\" style=\"fill:#1f77b4;\"/>\n   </g>\n   <g id=\"patch_45\">\n    <path clip-path=\"url(#p534bc2074e)\" d=\"M 86.797227 228.14 \nL 87.405955 228.14 \nL 87.405955 228.098131 \nL 86.797227 228.098131 \nz\n\" style=\"fill:#1f77b4;\"/>\n   </g>\n   <g id=\"patch_46\">\n    <path clip-path=\"url(#p534bc2074e)\" d=\"M 87.405955 228.14 \nL 88.014682 228.14 \nL 88.014682 227.951588 \nL 87.405955 227.951588 \nz\n\" style=\"fill:#1f77b4;\"/>\n   </g>\n   <g id=\"patch_47\">\n    <path clip-path=\"url(#p534bc2074e)\" d=\"M 88.014682 228.14 \nL 88.623409 228.14 \nL 88.623409 228.077196 \nL 88.014682 228.077196 \nz\n\" style=\"fill:#1f77b4;\"/>\n   </g>\n   <g id=\"patch_48\">\n    <path clip-path=\"url(#p534bc2074e)\" d=\"M 88.623409 228.14 \nL 89.232136 228.14 \nL 89.232136 227.972523 \nL 88.623409 227.972523 \nz\n\" style=\"fill:#1f77b4;\"/>\n   </g>\n   <g id=\"patch_49\">\n    <path clip-path=\"url(#p534bc2074e)\" d=\"M 89.232136 228.14 \nL 89.840864 228.14 \nL 89.840864 227.867849 \nL 89.232136 227.867849 \nz\n\" style=\"fill:#1f77b4;\"/>\n   </g>\n   <g id=\"patch_50\">\n    <path clip-path=\"url(#p534bc2074e)\" d=\"M 89.840864 228.14 \nL 90.449591 228.14 \nL 90.449591 227.909719 \nL 89.840864 227.909719 \nz\n\" style=\"fill:#1f77b4;\"/>\n   </g>\n   <g id=\"patch_51\">\n    <path clip-path=\"url(#p534bc2074e)\" d=\"M 90.449591 228.14 \nL 91.058318 228.14 \nL 91.058318 227.888784 \nL 90.449591 227.888784 \nz\n\" style=\"fill:#1f77b4;\"/>\n   </g>\n   <g id=\"patch_52\">\n    <path clip-path=\"url(#p534bc2074e)\" d=\"M 91.058318 228.14 \nL 91.667045 228.14 \nL 91.667045 228.056261 \nL 91.058318 228.056261 \nz\n\" style=\"fill:#1f77b4;\"/>\n   </g>\n   <g id=\"patch_53\">\n    <path clip-path=\"url(#p534bc2074e)\" d=\"M 91.667045 228.14 \nL 92.275773 228.14 \nL 92.275773 228.119065 \nL 91.667045 228.119065 \nz\n\" style=\"fill:#1f77b4;\"/>\n   </g>\n   <g id=\"patch_54\">\n    <path clip-path=\"url(#p534bc2074e)\" d=\"M 92.275773 228.14 \nL 92.8845 228.14 \nL 92.8845 228.14 \nL 92.275773 228.14 \nz\n\" style=\"fill:#1f77b4;\"/>\n   </g>\n   <g id=\"patch_55\">\n    <path clip-path=\"url(#p534bc2074e)\" d=\"M 92.8845 228.14 \nL 93.493227 228.14 \nL 93.493227 228.14 \nL 92.8845 228.14 \nz\n\" style=\"fill:#1f77b4;\"/>\n   </g>\n   <g id=\"patch_56\">\n    <path clip-path=\"url(#p534bc2074e)\" d=\"M 93.493227 228.14 \nL 94.101955 228.14 \nL 94.101955 228.119065 \nL 93.493227 228.119065 \nz\n\" style=\"fill:#1f77b4;\"/>\n   </g>\n   <g id=\"patch_57\">\n    <path clip-path=\"url(#p534bc2074e)\" d=\"M 94.101955 228.14 \nL 94.710682 228.14 \nL 94.710682 228.035327 \nL 94.101955 228.035327 \nz\n\" style=\"fill:#1f77b4;\"/>\n   </g>\n   <g id=\"patch_58\">\n    <path clip-path=\"url(#p534bc2074e)\" d=\"M 94.710682 228.14 \nL 95.319409 228.14 \nL 95.319409 227.867849 \nL 94.710682 227.867849 \nz\n\" style=\"fill:#1f77b4;\"/>\n   </g>\n   <g id=\"patch_59\">\n    <path clip-path=\"url(#p534bc2074e)\" d=\"M 95.319409 228.14 \nL 95.928136 228.14 \nL 95.928136 228.119065 \nL 95.319409 228.119065 \nz\n\" style=\"fill:#1f77b4;\"/>\n   </g>\n   <g id=\"patch_60\">\n    <path clip-path=\"url(#p534bc2074e)\" d=\"M 95.928136 228.14 \nL 96.536864 228.14 \nL 96.536864 228.119065 \nL 95.928136 228.119065 \nz\n\" style=\"fill:#1f77b4;\"/>\n   </g>\n   <g id=\"patch_61\">\n    <path clip-path=\"url(#p534bc2074e)\" d=\"M 96.536864 228.14 \nL 97.145591 228.14 \nL 97.145591 228.119065 \nL 96.536864 228.119065 \nz\n\" style=\"fill:#1f77b4;\"/>\n   </g>\n   <g id=\"patch_62\">\n    <path clip-path=\"url(#p534bc2074e)\" d=\"M 97.145591 228.14 \nL 97.754318 228.14 \nL 97.754318 228.077196 \nL 97.145591 228.077196 \nz\n\" style=\"fill:#1f77b4;\"/>\n   </g>\n   <g id=\"patch_63\">\n    <path clip-path=\"url(#p534bc2074e)\" d=\"M 97.754318 228.14 \nL 98.363045 228.14 \nL 98.363045 228.098131 \nL 97.754318 228.098131 \nz\n\" style=\"fill:#1f77b4;\"/>\n   </g>\n   <g id=\"patch_64\">\n    <path clip-path=\"url(#p534bc2074e)\" d=\"M 98.363045 228.14 \nL 98.971773 228.14 \nL 98.971773 227.993457 \nL 98.363045 227.993457 \nz\n\" style=\"fill:#1f77b4;\"/>\n   </g>\n   <g id=\"patch_65\">\n    <path clip-path=\"url(#p534bc2074e)\" d=\"M 98.971773 228.14 \nL 99.5805 228.14 \nL 99.5805 227.784111 \nL 98.971773 227.784111 \nz\n\" style=\"fill:#1f77b4;\"/>\n   </g>\n   <g id=\"patch_66\">\n    <path clip-path=\"url(#p534bc2074e)\" d=\"M 99.5805 228.14 \nL 100.189227 228.14 \nL 100.189227 228.14 \nL 99.5805 228.14 \nz\n\" style=\"fill:#1f77b4;\"/>\n   </g>\n   <g id=\"patch_67\">\n    <path clip-path=\"url(#p534bc2074e)\" d=\"M 100.189227 228.14 \nL 100.797955 228.14 \nL 100.797955 228.14 \nL 100.189227 228.14 \nz\n\" style=\"fill:#1f77b4;\"/>\n   </g>\n   <g id=\"patch_68\">\n    <path clip-path=\"url(#p534bc2074e)\" d=\"M 100.797955 228.14 \nL 101.406682 228.14 \nL 101.406682 228.14 \nL 100.797955 228.14 \nz\n\" style=\"fill:#1f77b4;\"/>\n   </g>\n   <g id=\"patch_69\">\n    <path clip-path=\"url(#p534bc2074e)\" d=\"M 101.406682 228.14 \nL 102.015409 228.14 \nL 102.015409 228.077196 \nL 101.406682 228.077196 \nz\n\" style=\"fill:#1f77b4;\"/>\n   </g>\n   <g id=\"patch_70\">\n    <path clip-path=\"url(#p534bc2074e)\" d=\"M 102.015409 228.14 \nL 102.624136 228.14 \nL 102.624136 228.119065 \nL 102.015409 228.119065 \nz\n\" style=\"fill:#1f77b4;\"/>\n   </g>\n   <g id=\"patch_71\">\n    <path clip-path=\"url(#p534bc2074e)\" d=\"M 102.624136 228.14 \nL 103.232864 228.14 \nL 103.232864 227.951588 \nL 102.624136 227.951588 \nz\n\" style=\"fill:#1f77b4;\"/>\n   </g>\n   <g id=\"patch_72\">\n    <path clip-path=\"url(#p534bc2074e)\" d=\"M 103.232864 228.14 \nL 103.841591 228.14 \nL 103.841591 227.177005 \nL 103.232864 227.177005 \nz\n\" style=\"fill:#1f77b4;\"/>\n   </g>\n   <g id=\"patch_73\">\n    <path clip-path=\"url(#p534bc2074e)\" d=\"M 103.841591 228.14 \nL 104.450318 228.14 \nL 104.450318 228.14 \nL 103.841591 228.14 \nz\n\" style=\"fill:#1f77b4;\"/>\n   </g>\n   <g id=\"patch_74\">\n    <path clip-path=\"url(#p534bc2074e)\" d=\"M 104.450318 228.14 \nL 105.059045 228.14 \nL 105.059045 228.119065 \nL 104.450318 228.119065 \nz\n\" style=\"fill:#1f77b4;\"/>\n   </g>\n   <g id=\"patch_75\">\n    <path clip-path=\"url(#p534bc2074e)\" d=\"M 105.059045 228.14 \nL 105.667773 228.14 \nL 105.667773 228.14 \nL 105.059045 228.14 \nz\n\" style=\"fill:#1f77b4;\"/>\n   </g>\n   <g id=\"patch_76\">\n    <path clip-path=\"url(#p534bc2074e)\" d=\"M 105.667773 228.14 \nL 106.2765 228.14 \nL 106.2765 228.119065 \nL 105.667773 228.119065 \nz\n\" style=\"fill:#1f77b4;\"/>\n   </g>\n   <g id=\"patch_77\">\n    <path clip-path=\"url(#p534bc2074e)\" d=\"M 106.2765 228.14 \nL 106.885227 228.14 \nL 106.885227 228.119065 \nL 106.2765 228.119065 \nz\n\" style=\"fill:#1f77b4;\"/>\n   </g>\n   <g id=\"patch_78\">\n    <path clip-path=\"url(#p534bc2074e)\" d=\"M 106.885227 228.14 \nL 107.493955 228.14 \nL 107.493955 228.098131 \nL 106.885227 228.098131 \nz\n\" style=\"fill:#1f77b4;\"/>\n   </g>\n   <g id=\"patch_79\">\n    <path clip-path=\"url(#p534bc2074e)\" d=\"M 107.493955 228.14 \nL 108.102682 228.14 \nL 108.102682 228.098131 \nL 107.493955 228.098131 \nz\n\" style=\"fill:#1f77b4;\"/>\n   </g>\n   <g id=\"patch_80\">\n    <path clip-path=\"url(#p534bc2074e)\" d=\"M 108.102682 228.14 \nL 108.711409 228.14 \nL 108.711409 228.14 \nL 108.102682 228.14 \nz\n\" style=\"fill:#1f77b4;\"/>\n   </g>\n   <g id=\"patch_81\">\n    <path clip-path=\"url(#p534bc2074e)\" d=\"M 108.711409 228.14 \nL 109.320136 228.14 \nL 109.320136 228.119065 \nL 108.711409 228.119065 \nz\n\" style=\"fill:#1f77b4;\"/>\n   </g>\n   <g id=\"patch_82\">\n    <path clip-path=\"url(#p534bc2074e)\" d=\"M 109.320136 228.14 \nL 109.928864 228.14 \nL 109.928864 228.14 \nL 109.320136 228.14 \nz\n\" style=\"fill:#1f77b4;\"/>\n   </g>\n   <g id=\"patch_83\">\n    <path clip-path=\"url(#p534bc2074e)\" d=\"M 109.928864 228.14 \nL 110.537591 228.14 \nL 110.537591 228.14 \nL 109.928864 228.14 \nz\n\" style=\"fill:#1f77b4;\"/>\n   </g>\n   <g id=\"patch_84\">\n    <path clip-path=\"url(#p534bc2074e)\" d=\"M 110.537591 228.14 \nL 111.146318 228.14 \nL 111.146318 228.14 \nL 110.537591 228.14 \nz\n\" style=\"fill:#1f77b4;\"/>\n   </g>\n   <g id=\"patch_85\">\n    <path clip-path=\"url(#p534bc2074e)\" d=\"M 111.146318 228.14 \nL 111.755045 228.14 \nL 111.755045 228.077196 \nL 111.146318 228.077196 \nz\n\" style=\"fill:#1f77b4;\"/>\n   </g>\n   <g id=\"patch_86\">\n    <path clip-path=\"url(#p534bc2074e)\" d=\"M 111.755045 228.14 \nL 112.363773 228.14 \nL 112.363773 228.098131 \nL 111.755045 228.098131 \nz\n\" style=\"fill:#1f77b4;\"/>\n   </g>\n   <g id=\"patch_87\">\n    <path clip-path=\"url(#p534bc2074e)\" d=\"M 112.363773 228.14 \nL 112.9725 228.14 \nL 112.9725 228.14 \nL 112.363773 228.14 \nz\n\" style=\"fill:#1f77b4;\"/>\n   </g>\n   <g id=\"patch_88\">\n    <path clip-path=\"url(#p534bc2074e)\" d=\"M 112.9725 228.14 \nL 113.581227 228.14 \nL 113.581227 228.14 \nL 112.9725 228.14 \nz\n\" style=\"fill:#1f77b4;\"/>\n   </g>\n   <g id=\"patch_89\">\n    <path clip-path=\"url(#p534bc2074e)\" d=\"M 113.581227 228.14 \nL 114.189955 228.14 \nL 114.189955 228.14 \nL 113.581227 228.14 \nz\n\" style=\"fill:#1f77b4;\"/>\n   </g>\n   <g id=\"patch_90\">\n    <path clip-path=\"url(#p534bc2074e)\" d=\"M 114.189955 228.14 \nL 114.798682 228.14 \nL 114.798682 228.119065 \nL 114.189955 228.119065 \nz\n\" style=\"fill:#1f77b4;\"/>\n   </g>\n   <g id=\"patch_91\">\n    <path clip-path=\"url(#p534bc2074e)\" d=\"M 114.798682 228.14 \nL 115.407409 228.14 \nL 115.407409 228.119065 \nL 114.798682 228.119065 \nz\n\" style=\"fill:#1f77b4;\"/>\n   </g>\n   <g id=\"patch_92\">\n    <path clip-path=\"url(#p534bc2074e)\" d=\"M 115.407409 228.14 \nL 116.016136 228.14 \nL 116.016136 228.035327 \nL 115.407409 228.035327 \nz\n\" style=\"fill:#1f77b4;\"/>\n   </g>\n   <g id=\"patch_93\">\n    <path clip-path=\"url(#p534bc2074e)\" d=\"M 116.016136 228.14 \nL 116.624864 228.14 \nL 116.624864 228.077196 \nL 116.016136 228.077196 \nz\n\" style=\"fill:#1f77b4;\"/>\n   </g>\n   <g id=\"patch_94\">\n    <path clip-path=\"url(#p534bc2074e)\" d=\"M 116.624864 228.14 \nL 117.233591 228.14 \nL 117.233591 228.14 \nL 116.624864 228.14 \nz\n\" style=\"fill:#1f77b4;\"/>\n   </g>\n   <g id=\"patch_95\">\n    <path clip-path=\"url(#p534bc2074e)\" d=\"M 117.233591 228.14 \nL 117.842318 228.14 \nL 117.842318 228.077196 \nL 117.233591 228.077196 \nz\n\" style=\"fill:#1f77b4;\"/>\n   </g>\n   <g id=\"patch_96\">\n    <path clip-path=\"url(#p534bc2074e)\" d=\"M 117.842318 228.14 \nL 118.451045 228.14 \nL 118.451045 228.14 \nL 117.842318 228.14 \nz\n\" style=\"fill:#1f77b4;\"/>\n   </g>\n   <g id=\"patch_97\">\n    <path clip-path=\"url(#p534bc2074e)\" d=\"M 118.451045 228.14 \nL 119.059773 228.14 \nL 119.059773 228.14 \nL 118.451045 228.14 \nz\n\" style=\"fill:#1f77b4;\"/>\n   </g>\n   <g id=\"patch_98\">\n    <path clip-path=\"url(#p534bc2074e)\" d=\"M 119.059773 228.14 \nL 119.6685 228.14 \nL 119.6685 228.14 \nL 119.059773 228.14 \nz\n\" style=\"fill:#1f77b4;\"/>\n   </g>\n   <g id=\"patch_99\">\n    <path clip-path=\"url(#p534bc2074e)\" d=\"M 119.6685 228.14 \nL 120.277227 228.14 \nL 120.277227 228.119065 \nL 119.6685 228.119065 \nz\n\" style=\"fill:#1f77b4;\"/>\n   </g>\n   <g id=\"patch_100\">\n    <path clip-path=\"url(#p534bc2074e)\" d=\"M 120.277227 228.14 \nL 120.885955 228.14 \nL 120.885955 228.077196 \nL 120.277227 228.077196 \nz\n\" style=\"fill:#1f77b4;\"/>\n   </g>\n   <g id=\"patch_101\">\n    <path clip-path=\"url(#p534bc2074e)\" d=\"M 120.885955 228.14 \nL 121.494682 228.14 \nL 121.494682 228.119065 \nL 120.885955 228.119065 \nz\n\" style=\"fill:#1f77b4;\"/>\n   </g>\n   <g id=\"patch_102\">\n    <path clip-path=\"url(#p534bc2074e)\" d=\"M 121.494682 228.14 \nL 122.103409 228.14 \nL 122.103409 228.14 \nL 121.494682 228.14 \nz\n\" style=\"fill:#1f77b4;\"/>\n   </g>\n   <g id=\"patch_103\">\n    <path clip-path=\"url(#p534bc2074e)\" d=\"M 122.103409 228.14 \nL 122.712136 228.14 \nL 122.712136 228.14 \nL 122.103409 228.14 \nz\n\" style=\"fill:#1f77b4;\"/>\n   </g>\n   <g id=\"patch_104\">\n    <path clip-path=\"url(#p534bc2074e)\" d=\"M 122.712136 228.14 \nL 123.320864 228.14 \nL 123.320864 228.14 \nL 122.712136 228.14 \nz\n\" style=\"fill:#1f77b4;\"/>\n   </g>\n   <g id=\"patch_105\">\n    <path clip-path=\"url(#p534bc2074e)\" d=\"M 123.320864 228.14 \nL 123.929591 228.14 \nL 123.929591 228.14 \nL 123.320864 228.14 \nz\n\" style=\"fill:#1f77b4;\"/>\n   </g>\n   <g id=\"patch_106\">\n    <path clip-path=\"url(#p534bc2074e)\" d=\"M 123.929591 228.14 \nL 124.538318 228.14 \nL 124.538318 228.14 \nL 123.929591 228.14 \nz\n\" style=\"fill:#1f77b4;\"/>\n   </g>\n   <g id=\"patch_107\">\n    <path clip-path=\"url(#p534bc2074e)\" d=\"M 124.538318 228.14 \nL 125.147045 228.14 \nL 125.147045 228.098131 \nL 124.538318 228.098131 \nz\n\" style=\"fill:#1f77b4;\"/>\n   </g>\n   <g id=\"patch_108\">\n    <path clip-path=\"url(#p534bc2074e)\" d=\"M 125.147045 228.14 \nL 125.755773 228.14 \nL 125.755773 228.14 \nL 125.147045 228.14 \nz\n\" style=\"fill:#1f77b4;\"/>\n   </g>\n   <g id=\"patch_109\">\n    <path clip-path=\"url(#p534bc2074e)\" d=\"M 125.755773 228.14 \nL 126.3645 228.14 \nL 126.3645 228.14 \nL 125.755773 228.14 \nz\n\" style=\"fill:#1f77b4;\"/>\n   </g>\n   <g id=\"patch_110\">\n    <path clip-path=\"url(#p534bc2074e)\" d=\"M 126.3645 228.14 \nL 126.973227 228.14 \nL 126.973227 228.14 \nL 126.3645 228.14 \nz\n\" style=\"fill:#1f77b4;\"/>\n   </g>\n   <g id=\"patch_111\">\n    <path clip-path=\"url(#p534bc2074e)\" d=\"M 126.973227 228.14 \nL 127.581955 228.14 \nL 127.581955 228.119065 \nL 126.973227 228.119065 \nz\n\" style=\"fill:#1f77b4;\"/>\n   </g>\n   <g id=\"patch_112\">\n    <path clip-path=\"url(#p534bc2074e)\" d=\"M 127.581955 228.14 \nL 128.190682 228.14 \nL 128.190682 228.14 \nL 127.581955 228.14 \nz\n\" style=\"fill:#1f77b4;\"/>\n   </g>\n   <g id=\"patch_113\">\n    <path clip-path=\"url(#p534bc2074e)\" d=\"M 128.190682 228.14 \nL 128.799409 228.14 \nL 128.799409 228.056261 \nL 128.190682 228.056261 \nz\n\" style=\"fill:#1f77b4;\"/>\n   </g>\n   <g id=\"patch_114\">\n    <path clip-path=\"url(#p534bc2074e)\" d=\"M 128.799409 228.14 \nL 129.408136 228.14 \nL 129.408136 228.119065 \nL 128.799409 228.119065 \nz\n\" style=\"fill:#1f77b4;\"/>\n   </g>\n   <g id=\"patch_115\">\n    <path clip-path=\"url(#p534bc2074e)\" d=\"M 129.408136 228.14 \nL 130.016864 228.14 \nL 130.016864 228.14 \nL 129.408136 228.14 \nz\n\" style=\"fill:#1f77b4;\"/>\n   </g>\n   <g id=\"patch_116\">\n    <path clip-path=\"url(#p534bc2074e)\" d=\"M 130.016864 228.14 \nL 130.625591 228.14 \nL 130.625591 228.14 \nL 130.016864 228.14 \nz\n\" style=\"fill:#1f77b4;\"/>\n   </g>\n   <g id=\"patch_117\">\n    <path clip-path=\"url(#p534bc2074e)\" d=\"M 130.625591 228.14 \nL 131.234318 228.14 \nL 131.234318 228.14 \nL 130.625591 228.14 \nz\n\" style=\"fill:#1f77b4;\"/>\n   </g>\n   <g id=\"patch_118\">\n    <path clip-path=\"url(#p534bc2074e)\" d=\"M 131.234318 228.14 \nL 131.843045 228.14 \nL 131.843045 228.14 \nL 131.234318 228.14 \nz\n\" style=\"fill:#1f77b4;\"/>\n   </g>\n   <g id=\"patch_119\">\n    <path clip-path=\"url(#p534bc2074e)\" d=\"M 131.843045 228.14 \nL 132.451773 228.14 \nL 132.451773 228.14 \nL 131.843045 228.14 \nz\n\" style=\"fill:#1f77b4;\"/>\n   </g>\n   <g id=\"patch_120\">\n    <path clip-path=\"url(#p534bc2074e)\" d=\"M 132.451773 228.14 \nL 133.0605 228.14 \nL 133.0605 228.14 \nL 132.451773 228.14 \nz\n\" style=\"fill:#1f77b4;\"/>\n   </g>\n   <g id=\"patch_121\">\n    <path clip-path=\"url(#p534bc2074e)\" d=\"M 133.0605 228.14 \nL 133.669227 228.14 \nL 133.669227 228.14 \nL 133.0605 228.14 \nz\n\" style=\"fill:#1f77b4;\"/>\n   </g>\n   <g id=\"patch_122\">\n    <path clip-path=\"url(#p534bc2074e)\" d=\"M 133.669227 228.14 \nL 134.277955 228.14 \nL 134.277955 228.14 \nL 133.669227 228.14 \nz\n\" style=\"fill:#1f77b4;\"/>\n   </g>\n   <g id=\"patch_123\">\n    <path clip-path=\"url(#p534bc2074e)\" d=\"M 134.277955 228.14 \nL 134.886682 228.14 \nL 134.886682 228.14 \nL 134.277955 228.14 \nz\n\" style=\"fill:#1f77b4;\"/>\n   </g>\n   <g id=\"patch_124\">\n    <path clip-path=\"url(#p534bc2074e)\" d=\"M 134.886682 228.14 \nL 135.495409 228.14 \nL 135.495409 228.14 \nL 134.886682 228.14 \nz\n\" style=\"fill:#1f77b4;\"/>\n   </g>\n   <g id=\"patch_125\">\n    <path clip-path=\"url(#p534bc2074e)\" d=\"M 135.495409 228.14 \nL 136.104136 228.14 \nL 136.104136 228.14 \nL 135.495409 228.14 \nz\n\" style=\"fill:#1f77b4;\"/>\n   </g>\n   <g id=\"patch_126\">\n    <path clip-path=\"url(#p534bc2074e)\" d=\"M 136.104136 228.14 \nL 136.712864 228.14 \nL 136.712864 228.14 \nL 136.104136 228.14 \nz\n\" style=\"fill:#1f77b4;\"/>\n   </g>\n   <g id=\"patch_127\">\n    <path clip-path=\"url(#p534bc2074e)\" d=\"M 136.712864 228.14 \nL 137.321591 228.14 \nL 137.321591 228.14 \nL 136.712864 228.14 \nz\n\" style=\"fill:#1f77b4;\"/>\n   </g>\n   <g id=\"patch_128\">\n    <path clip-path=\"url(#p534bc2074e)\" d=\"M 137.321591 228.14 \nL 137.930318 228.14 \nL 137.930318 228.14 \nL 137.321591 228.14 \nz\n\" style=\"fill:#1f77b4;\"/>\n   </g>\n   <g id=\"patch_129\">\n    <path clip-path=\"url(#p534bc2074e)\" d=\"M 137.930318 228.14 \nL 138.539045 228.14 \nL 138.539045 228.119065 \nL 137.930318 228.119065 \nz\n\" style=\"fill:#1f77b4;\"/>\n   </g>\n   <g id=\"patch_130\">\n    <path clip-path=\"url(#p534bc2074e)\" d=\"M 138.539045 228.14 \nL 139.147773 228.14 \nL 139.147773 228.14 \nL 138.539045 228.14 \nz\n\" style=\"fill:#1f77b4;\"/>\n   </g>\n   <g id=\"patch_131\">\n    <path clip-path=\"url(#p534bc2074e)\" d=\"M 139.147773 228.14 \nL 139.7565 228.14 \nL 139.7565 228.14 \nL 139.147773 228.14 \nz\n\" style=\"fill:#1f77b4;\"/>\n   </g>\n   <g id=\"patch_132\">\n    <path clip-path=\"url(#p534bc2074e)\" d=\"M 139.7565 228.14 \nL 140.365227 228.14 \nL 140.365227 228.14 \nL 139.7565 228.14 \nz\n\" style=\"fill:#1f77b4;\"/>\n   </g>\n   <g id=\"patch_133\">\n    <path clip-path=\"url(#p534bc2074e)\" d=\"M 140.365227 228.14 \nL 140.973955 228.14 \nL 140.973955 228.14 \nL 140.365227 228.14 \nz\n\" style=\"fill:#1f77b4;\"/>\n   </g>\n   <g id=\"patch_134\">\n    <path clip-path=\"url(#p534bc2074e)\" d=\"M 140.973955 228.14 \nL 141.582682 228.14 \nL 141.582682 228.14 \nL 140.973955 228.14 \nz\n\" style=\"fill:#1f77b4;\"/>\n   </g>\n   <g id=\"patch_135\">\n    <path clip-path=\"url(#p534bc2074e)\" d=\"M 141.582682 228.14 \nL 142.191409 228.14 \nL 142.191409 228.119065 \nL 141.582682 228.119065 \nz\n\" style=\"fill:#1f77b4;\"/>\n   </g>\n   <g id=\"patch_136\">\n    <path clip-path=\"url(#p534bc2074e)\" d=\"M 142.191409 228.14 \nL 142.800136 228.14 \nL 142.800136 228.14 \nL 142.191409 228.14 \nz\n\" style=\"fill:#1f77b4;\"/>\n   </g>\n   <g id=\"patch_137\">\n    <path clip-path=\"url(#p534bc2074e)\" d=\"M 142.800136 228.14 \nL 143.408864 228.14 \nL 143.408864 228.14 \nL 142.800136 228.14 \nz\n\" style=\"fill:#1f77b4;\"/>\n   </g>\n   <g id=\"patch_138\">\n    <path clip-path=\"url(#p534bc2074e)\" d=\"M 143.408864 228.14 \nL 144.017591 228.14 \nL 144.017591 228.14 \nL 143.408864 228.14 \nz\n\" style=\"fill:#1f77b4;\"/>\n   </g>\n   <g id=\"patch_139\">\n    <path clip-path=\"url(#p534bc2074e)\" d=\"M 144.017591 228.14 \nL 144.626318 228.14 \nL 144.626318 228.14 \nL 144.017591 228.14 \nz\n\" style=\"fill:#1f77b4;\"/>\n   </g>\n   <g id=\"patch_140\">\n    <path clip-path=\"url(#p534bc2074e)\" d=\"M 144.626318 228.14 \nL 145.235045 228.14 \nL 145.235045 228.14 \nL 144.626318 228.14 \nz\n\" style=\"fill:#1f77b4;\"/>\n   </g>\n   <g id=\"patch_141\">\n    <path clip-path=\"url(#p534bc2074e)\" d=\"M 145.235045 228.14 \nL 145.843773 228.14 \nL 145.843773 228.14 \nL 145.235045 228.14 \nz\n\" style=\"fill:#1f77b4;\"/>\n   </g>\n   <g id=\"patch_142\">\n    <path clip-path=\"url(#p534bc2074e)\" d=\"M 145.843773 228.14 \nL 146.4525 228.14 \nL 146.4525 228.119065 \nL 145.843773 228.119065 \nz\n\" style=\"fill:#1f77b4;\"/>\n   </g>\n   <g id=\"patch_143\">\n    <path clip-path=\"url(#p534bc2074e)\" d=\"M 146.4525 228.14 \nL 147.061227 228.14 \nL 147.061227 228.119065 \nL 146.4525 228.119065 \nz\n\" style=\"fill:#1f77b4;\"/>\n   </g>\n   <g id=\"patch_144\">\n    <path clip-path=\"url(#p534bc2074e)\" d=\"M 147.061227 228.14 \nL 147.669955 228.14 \nL 147.669955 228.119065 \nL 147.061227 228.119065 \nz\n\" style=\"fill:#1f77b4;\"/>\n   </g>\n   <g id=\"patch_145\">\n    <path clip-path=\"url(#p534bc2074e)\" d=\"M 147.669955 228.14 \nL 148.278682 228.14 \nL 148.278682 228.14 \nL 147.669955 228.14 \nz\n\" style=\"fill:#1f77b4;\"/>\n   </g>\n   <g id=\"patch_146\">\n    <path clip-path=\"url(#p534bc2074e)\" d=\"M 148.278682 228.14 \nL 148.887409 228.14 \nL 148.887409 228.14 \nL 148.278682 228.14 \nz\n\" style=\"fill:#1f77b4;\"/>\n   </g>\n   <g id=\"patch_147\">\n    <path clip-path=\"url(#p534bc2074e)\" d=\"M 148.887409 228.14 \nL 149.496136 228.14 \nL 149.496136 228.14 \nL 148.887409 228.14 \nz\n\" style=\"fill:#1f77b4;\"/>\n   </g>\n   <g id=\"patch_148\">\n    <path clip-path=\"url(#p534bc2074e)\" d=\"M 149.496136 228.14 \nL 150.104864 228.14 \nL 150.104864 228.14 \nL 149.496136 228.14 \nz\n\" style=\"fill:#1f77b4;\"/>\n   </g>\n   <g id=\"patch_149\">\n    <path clip-path=\"url(#p534bc2074e)\" d=\"M 150.104864 228.14 \nL 150.713591 228.14 \nL 150.713591 228.14 \nL 150.104864 228.14 \nz\n\" style=\"fill:#1f77b4;\"/>\n   </g>\n   <g id=\"patch_150\">\n    <path clip-path=\"url(#p534bc2074e)\" d=\"M 150.713591 228.14 \nL 151.322318 228.14 \nL 151.322318 228.14 \nL 150.713591 228.14 \nz\n\" style=\"fill:#1f77b4;\"/>\n   </g>\n   <g id=\"patch_151\">\n    <path clip-path=\"url(#p534bc2074e)\" d=\"M 151.322318 228.14 \nL 151.931045 228.14 \nL 151.931045 228.14 \nL 151.322318 228.14 \nz\n\" style=\"fill:#1f77b4;\"/>\n   </g>\n   <g id=\"patch_152\">\n    <path clip-path=\"url(#p534bc2074e)\" d=\"M 151.931045 228.14 \nL 152.539773 228.14 \nL 152.539773 228.14 \nL 151.931045 228.14 \nz\n\" style=\"fill:#1f77b4;\"/>\n   </g>\n   <g id=\"patch_153\">\n    <path clip-path=\"url(#p534bc2074e)\" d=\"M 152.539773 228.14 \nL 153.1485 228.14 \nL 153.1485 228.14 \nL 152.539773 228.14 \nz\n\" style=\"fill:#1f77b4;\"/>\n   </g>\n   <g id=\"patch_154\">\n    <path clip-path=\"url(#p534bc2074e)\" d=\"M 153.1485 228.14 \nL 153.757227 228.14 \nL 153.757227 228.14 \nL 153.1485 228.14 \nz\n\" style=\"fill:#1f77b4;\"/>\n   </g>\n   <g id=\"patch_155\">\n    <path clip-path=\"url(#p534bc2074e)\" d=\"M 153.757227 228.14 \nL 154.365955 228.14 \nL 154.365955 228.119065 \nL 153.757227 228.119065 \nz\n\" style=\"fill:#1f77b4;\"/>\n   </g>\n   <g id=\"patch_156\">\n    <path clip-path=\"url(#p534bc2074e)\" d=\"M 154.365955 228.14 \nL 154.974682 228.14 \nL 154.974682 228.14 \nL 154.365955 228.14 \nz\n\" style=\"fill:#1f77b4;\"/>\n   </g>\n   <g id=\"patch_157\">\n    <path clip-path=\"url(#p534bc2074e)\" d=\"M 154.974682 228.14 \nL 155.583409 228.14 \nL 155.583409 228.14 \nL 154.974682 228.14 \nz\n\" style=\"fill:#1f77b4;\"/>\n   </g>\n   <g id=\"patch_158\">\n    <path clip-path=\"url(#p534bc2074e)\" d=\"M 155.583409 228.14 \nL 156.192136 228.14 \nL 156.192136 228.14 \nL 155.583409 228.14 \nz\n\" style=\"fill:#1f77b4;\"/>\n   </g>\n   <g id=\"patch_159\">\n    <path clip-path=\"url(#p534bc2074e)\" d=\"M 156.192136 228.14 \nL 156.800864 228.14 \nL 156.800864 228.14 \nL 156.192136 228.14 \nz\n\" style=\"fill:#1f77b4;\"/>\n   </g>\n   <g id=\"patch_160\">\n    <path clip-path=\"url(#p534bc2074e)\" d=\"M 156.800864 228.14 \nL 157.409591 228.14 \nL 157.409591 228.14 \nL 156.800864 228.14 \nz\n\" style=\"fill:#1f77b4;\"/>\n   </g>\n   <g id=\"patch_161\">\n    <path clip-path=\"url(#p534bc2074e)\" d=\"M 157.409591 228.14 \nL 158.018318 228.14 \nL 158.018318 228.14 \nL 157.409591 228.14 \nz\n\" style=\"fill:#1f77b4;\"/>\n   </g>\n   <g id=\"patch_162\">\n    <path clip-path=\"url(#p534bc2074e)\" d=\"M 158.018318 228.14 \nL 158.627045 228.14 \nL 158.627045 228.14 \nL 158.018318 228.14 \nz\n\" style=\"fill:#1f77b4;\"/>\n   </g>\n   <g id=\"patch_163\">\n    <path clip-path=\"url(#p534bc2074e)\" d=\"M 158.627045 228.14 \nL 159.235773 228.14 \nL 159.235773 228.14 \nL 158.627045 228.14 \nz\n\" style=\"fill:#1f77b4;\"/>\n   </g>\n   <g id=\"patch_164\">\n    <path clip-path=\"url(#p534bc2074e)\" d=\"M 159.235773 228.14 \nL 159.8445 228.14 \nL 159.8445 228.14 \nL 159.235773 228.14 \nz\n\" style=\"fill:#1f77b4;\"/>\n   </g>\n   <g id=\"patch_165\">\n    <path clip-path=\"url(#p534bc2074e)\" d=\"M 159.8445 228.14 \nL 160.453227 228.14 \nL 160.453227 228.14 \nL 159.8445 228.14 \nz\n\" style=\"fill:#1f77b4;\"/>\n   </g>\n   <g id=\"patch_166\">\n    <path clip-path=\"url(#p534bc2074e)\" d=\"M 160.453227 228.14 \nL 161.061955 228.14 \nL 161.061955 228.14 \nL 160.453227 228.14 \nz\n\" style=\"fill:#1f77b4;\"/>\n   </g>\n   <g id=\"patch_167\">\n    <path clip-path=\"url(#p534bc2074e)\" d=\"M 161.061955 228.14 \nL 161.670682 228.14 \nL 161.670682 228.14 \nL 161.061955 228.14 \nz\n\" style=\"fill:#1f77b4;\"/>\n   </g>\n   <g id=\"patch_168\">\n    <path clip-path=\"url(#p534bc2074e)\" d=\"M 161.670682 228.14 \nL 162.279409 228.14 \nL 162.279409 228.14 \nL 161.670682 228.14 \nz\n\" style=\"fill:#1f77b4;\"/>\n   </g>\n   <g id=\"patch_169\">\n    <path clip-path=\"url(#p534bc2074e)\" d=\"M 162.279409 228.14 \nL 162.888136 228.14 \nL 162.888136 228.14 \nL 162.279409 228.14 \nz\n\" style=\"fill:#1f77b4;\"/>\n   </g>\n   <g id=\"patch_170\">\n    <path clip-path=\"url(#p534bc2074e)\" d=\"M 162.888136 228.14 \nL 163.496864 228.14 \nL 163.496864 228.119065 \nL 162.888136 228.119065 \nz\n\" style=\"fill:#1f77b4;\"/>\n   </g>\n   <g id=\"patch_171\">\n    <path clip-path=\"url(#p534bc2074e)\" d=\"M 163.496864 228.14 \nL 164.105591 228.14 \nL 164.105591 228.14 \nL 163.496864 228.14 \nz\n\" style=\"fill:#1f77b4;\"/>\n   </g>\n   <g id=\"patch_172\">\n    <path clip-path=\"url(#p534bc2074e)\" d=\"M 164.105591 228.14 \nL 164.714318 228.14 \nL 164.714318 228.14 \nL 164.105591 228.14 \nz\n\" style=\"fill:#1f77b4;\"/>\n   </g>\n   <g id=\"patch_173\">\n    <path clip-path=\"url(#p534bc2074e)\" d=\"M 164.714318 228.14 \nL 165.323045 228.14 \nL 165.323045 228.14 \nL 164.714318 228.14 \nz\n\" style=\"fill:#1f77b4;\"/>\n   </g>\n   <g id=\"patch_174\">\n    <path clip-path=\"url(#p534bc2074e)\" d=\"M 165.323045 228.14 \nL 165.931773 228.14 \nL 165.931773 228.14 \nL 165.323045 228.14 \nz\n\" style=\"fill:#1f77b4;\"/>\n   </g>\n   <g id=\"patch_175\">\n    <path clip-path=\"url(#p534bc2074e)\" d=\"M 165.931773 228.14 \nL 166.5405 228.14 \nL 166.5405 228.14 \nL 165.931773 228.14 \nz\n\" style=\"fill:#1f77b4;\"/>\n   </g>\n   <g id=\"patch_176\">\n    <path clip-path=\"url(#p534bc2074e)\" d=\"M 166.5405 228.14 \nL 167.149227 228.14 \nL 167.149227 228.14 \nL 166.5405 228.14 \nz\n\" style=\"fill:#1f77b4;\"/>\n   </g>\n   <g id=\"patch_177\">\n    <path clip-path=\"url(#p534bc2074e)\" d=\"M 167.149227 228.14 \nL 167.757955 228.14 \nL 167.757955 228.119065 \nL 167.149227 228.119065 \nz\n\" style=\"fill:#1f77b4;\"/>\n   </g>\n   <g id=\"patch_178\">\n    <path clip-path=\"url(#p534bc2074e)\" d=\"M 167.757955 228.14 \nL 168.366682 228.14 \nL 168.366682 228.14 \nL 167.757955 228.14 \nz\n\" style=\"fill:#1f77b4;\"/>\n   </g>\n   <g id=\"patch_179\">\n    <path clip-path=\"url(#p534bc2074e)\" d=\"M 168.366682 228.14 \nL 168.975409 228.14 \nL 168.975409 228.14 \nL 168.366682 228.14 \nz\n\" style=\"fill:#1f77b4;\"/>\n   </g>\n   <g id=\"patch_180\">\n    <path clip-path=\"url(#p534bc2074e)\" d=\"M 168.975409 228.14 \nL 169.584136 228.14 \nL 169.584136 228.14 \nL 168.975409 228.14 \nz\n\" style=\"fill:#1f77b4;\"/>\n   </g>\n   <g id=\"patch_181\">\n    <path clip-path=\"url(#p534bc2074e)\" d=\"M 169.584136 228.14 \nL 170.192864 228.14 \nL 170.192864 228.14 \nL 169.584136 228.14 \nz\n\" style=\"fill:#1f77b4;\"/>\n   </g>\n   <g id=\"patch_182\">\n    <path clip-path=\"url(#p534bc2074e)\" d=\"M 170.192864 228.14 \nL 170.801591 228.14 \nL 170.801591 228.14 \nL 170.192864 228.14 \nz\n\" style=\"fill:#1f77b4;\"/>\n   </g>\n   <g id=\"patch_183\">\n    <path clip-path=\"url(#p534bc2074e)\" d=\"M 170.801591 228.14 \nL 171.410318 228.14 \nL 171.410318 228.14 \nL 170.801591 228.14 \nz\n\" style=\"fill:#1f77b4;\"/>\n   </g>\n   <g id=\"patch_184\">\n    <path clip-path=\"url(#p534bc2074e)\" d=\"M 171.410318 228.14 \nL 172.019045 228.14 \nL 172.019045 228.077196 \nL 171.410318 228.077196 \nz\n\" style=\"fill:#1f77b4;\"/>\n   </g>\n   <g id=\"patch_185\">\n    <path clip-path=\"url(#p534bc2074e)\" d=\"M 172.019045 228.14 \nL 172.627773 228.14 \nL 172.627773 228.14 \nL 172.019045 228.14 \nz\n\" style=\"fill:#1f77b4;\"/>\n   </g>\n   <g id=\"patch_186\">\n    <path clip-path=\"url(#p534bc2074e)\" d=\"M 172.627773 228.14 \nL 173.2365 228.14 \nL 173.2365 228.14 \nL 172.627773 228.14 \nz\n\" style=\"fill:#1f77b4;\"/>\n   </g>\n   <g id=\"patch_187\">\n    <path clip-path=\"url(#p534bc2074e)\" d=\"M 173.2365 228.14 \nL 173.845227 228.14 \nL 173.845227 228.14 \nL 173.2365 228.14 \nz\n\" style=\"fill:#1f77b4;\"/>\n   </g>\n   <g id=\"patch_188\">\n    <path clip-path=\"url(#p534bc2074e)\" d=\"M 173.845227 228.14 \nL 174.453955 228.14 \nL 174.453955 228.119065 \nL 173.845227 228.119065 \nz\n\" style=\"fill:#1f77b4;\"/>\n   </g>\n   <g id=\"patch_189\">\n    <path clip-path=\"url(#p534bc2074e)\" d=\"M 174.453955 228.14 \nL 175.062682 228.14 \nL 175.062682 228.119065 \nL 174.453955 228.119065 \nz\n\" style=\"fill:#1f77b4;\"/>\n   </g>\n   <g id=\"patch_190\">\n    <path clip-path=\"url(#p534bc2074e)\" d=\"M 175.062682 228.14 \nL 175.671409 228.14 \nL 175.671409 228.14 \nL 175.062682 228.14 \nz\n\" style=\"fill:#1f77b4;\"/>\n   </g>\n   <g id=\"patch_191\">\n    <path clip-path=\"url(#p534bc2074e)\" d=\"M 175.671409 228.14 \nL 176.280136 228.14 \nL 176.280136 228.14 \nL 175.671409 228.14 \nz\n\" style=\"fill:#1f77b4;\"/>\n   </g>\n   <g id=\"patch_192\">\n    <path clip-path=\"url(#p534bc2074e)\" d=\"M 176.280136 228.14 \nL 176.888864 228.14 \nL 176.888864 228.14 \nL 176.280136 228.14 \nz\n\" style=\"fill:#1f77b4;\"/>\n   </g>\n   <g id=\"patch_193\">\n    <path clip-path=\"url(#p534bc2074e)\" d=\"M 176.888864 228.14 \nL 177.497591 228.14 \nL 177.497591 228.14 \nL 176.888864 228.14 \nz\n\" style=\"fill:#1f77b4;\"/>\n   </g>\n   <g id=\"patch_194\">\n    <path clip-path=\"url(#p534bc2074e)\" d=\"M 177.497591 228.14 \nL 178.106318 228.14 \nL 178.106318 228.14 \nL 177.497591 228.14 \nz\n\" style=\"fill:#1f77b4;\"/>\n   </g>\n   <g id=\"patch_195\">\n    <path clip-path=\"url(#p534bc2074e)\" d=\"M 178.106318 228.14 \nL 178.715045 228.14 \nL 178.715045 228.14 \nL 178.106318 228.14 \nz\n\" style=\"fill:#1f77b4;\"/>\n   </g>\n   <g id=\"patch_196\">\n    <path clip-path=\"url(#p534bc2074e)\" d=\"M 178.715045 228.14 \nL 179.323773 228.14 \nL 179.323773 228.14 \nL 178.715045 228.14 \nz\n\" style=\"fill:#1f77b4;\"/>\n   </g>\n   <g id=\"patch_197\">\n    <path clip-path=\"url(#p534bc2074e)\" d=\"M 179.323773 228.14 \nL 179.9325 228.14 \nL 179.9325 228.14 \nL 179.323773 228.14 \nz\n\" style=\"fill:#1f77b4;\"/>\n   </g>\n   <g id=\"patch_198\">\n    <path clip-path=\"url(#p534bc2074e)\" d=\"M 179.9325 228.14 \nL 180.541227 228.14 \nL 180.541227 228.119065 \nL 179.9325 228.119065 \nz\n\" style=\"fill:#1f77b4;\"/>\n   </g>\n   <g id=\"patch_199\">\n    <path clip-path=\"url(#p534bc2074e)\" d=\"M 180.541227 228.14 \nL 181.149955 228.14 \nL 181.149955 228.098131 \nL 180.541227 228.098131 \nz\n\" style=\"fill:#1f77b4;\"/>\n   </g>\n   <g id=\"patch_200\">\n    <path clip-path=\"url(#p534bc2074e)\" d=\"M 181.149955 228.14 \nL 181.758682 228.14 \nL 181.758682 228.14 \nL 181.149955 228.14 \nz\n\" style=\"fill:#1f77b4;\"/>\n   </g>\n   <g id=\"patch_201\">\n    <path clip-path=\"url(#p534bc2074e)\" d=\"M 181.758682 228.14 \nL 182.367409 228.14 \nL 182.367409 228.14 \nL 181.758682 228.14 \nz\n\" style=\"fill:#1f77b4;\"/>\n   </g>\n   <g id=\"patch_202\">\n    <path clip-path=\"url(#p534bc2074e)\" d=\"M 182.367409 228.14 \nL 182.976136 228.14 \nL 182.976136 228.119065 \nL 182.367409 228.119065 \nz\n\" style=\"fill:#1f77b4;\"/>\n   </g>\n   <g id=\"patch_203\">\n    <path clip-path=\"url(#p534bc2074e)\" d=\"M 182.976136 228.14 \nL 183.584864 228.14 \nL 183.584864 228.14 \nL 182.976136 228.14 \nz\n\" style=\"fill:#1f77b4;\"/>\n   </g>\n   <g id=\"patch_204\">\n    <path clip-path=\"url(#p534bc2074e)\" d=\"M 183.584864 228.14 \nL 184.193591 228.14 \nL 184.193591 228.14 \nL 183.584864 228.14 \nz\n\" style=\"fill:#1f77b4;\"/>\n   </g>\n   <g id=\"patch_205\">\n    <path clip-path=\"url(#p534bc2074e)\" d=\"M 184.193591 228.14 \nL 184.802318 228.14 \nL 184.802318 228.14 \nL 184.193591 228.14 \nz\n\" style=\"fill:#1f77b4;\"/>\n   </g>\n   <g id=\"patch_206\">\n    <path clip-path=\"url(#p534bc2074e)\" d=\"M 184.802318 228.14 \nL 185.411045 228.14 \nL 185.411045 228.14 \nL 184.802318 228.14 \nz\n\" style=\"fill:#1f77b4;\"/>\n   </g>\n   <g id=\"patch_207\">\n    <path clip-path=\"url(#p534bc2074e)\" d=\"M 185.411045 228.14 \nL 186.019773 228.14 \nL 186.019773 228.14 \nL 185.411045 228.14 \nz\n\" style=\"fill:#1f77b4;\"/>\n   </g>\n   <g id=\"patch_208\">\n    <path clip-path=\"url(#p534bc2074e)\" d=\"M 186.019773 228.14 \nL 186.6285 228.14 \nL 186.6285 228.14 \nL 186.019773 228.14 \nz\n\" style=\"fill:#1f77b4;\"/>\n   </g>\n   <g id=\"patch_209\">\n    <path clip-path=\"url(#p534bc2074e)\" d=\"M 186.6285 228.14 \nL 187.237227 228.14 \nL 187.237227 228.14 \nL 186.6285 228.14 \nz\n\" style=\"fill:#1f77b4;\"/>\n   </g>\n   <g id=\"patch_210\">\n    <path clip-path=\"url(#p534bc2074e)\" d=\"M 187.237227 228.14 \nL 187.845955 228.14 \nL 187.845955 228.14 \nL 187.237227 228.14 \nz\n\" style=\"fill:#1f77b4;\"/>\n   </g>\n   <g id=\"patch_211\">\n    <path clip-path=\"url(#p534bc2074e)\" d=\"M 187.845955 228.14 \nL 188.454682 228.14 \nL 188.454682 228.14 \nL 187.845955 228.14 \nz\n\" style=\"fill:#1f77b4;\"/>\n   </g>\n   <g id=\"patch_212\">\n    <path clip-path=\"url(#p534bc2074e)\" d=\"M 188.454682 228.14 \nL 189.063409 228.14 \nL 189.063409 228.119065 \nL 188.454682 228.119065 \nz\n\" style=\"fill:#1f77b4;\"/>\n   </g>\n   <g id=\"patch_213\">\n    <path clip-path=\"url(#p534bc2074e)\" d=\"M 189.063409 228.14 \nL 189.672136 228.14 \nL 189.672136 228.14 \nL 189.063409 228.14 \nz\n\" style=\"fill:#1f77b4;\"/>\n   </g>\n   <g id=\"patch_214\">\n    <path clip-path=\"url(#p534bc2074e)\" d=\"M 189.672136 228.14 \nL 190.280864 228.14 \nL 190.280864 228.14 \nL 189.672136 228.14 \nz\n\" style=\"fill:#1f77b4;\"/>\n   </g>\n   <g id=\"patch_215\">\n    <path clip-path=\"url(#p534bc2074e)\" d=\"M 190.280864 228.14 \nL 190.889591 228.14 \nL 190.889591 228.14 \nL 190.280864 228.14 \nz\n\" style=\"fill:#1f77b4;\"/>\n   </g>\n   <g id=\"patch_216\">\n    <path clip-path=\"url(#p534bc2074e)\" d=\"M 190.889591 228.14 \nL 191.498318 228.14 \nL 191.498318 228.14 \nL 190.889591 228.14 \nz\n\" style=\"fill:#1f77b4;\"/>\n   </g>\n   <g id=\"patch_217\">\n    <path clip-path=\"url(#p534bc2074e)\" d=\"M 191.498318 228.14 \nL 192.107045 228.14 \nL 192.107045 228.14 \nL 191.498318 228.14 \nz\n\" style=\"fill:#1f77b4;\"/>\n   </g>\n   <g id=\"patch_218\">\n    <path clip-path=\"url(#p534bc2074e)\" d=\"M 192.107045 228.14 \nL 192.715773 228.14 \nL 192.715773 228.14 \nL 192.107045 228.14 \nz\n\" style=\"fill:#1f77b4;\"/>\n   </g>\n   <g id=\"patch_219\">\n    <path clip-path=\"url(#p534bc2074e)\" d=\"M 192.715773 228.14 \nL 193.3245 228.14 \nL 193.3245 228.14 \nL 192.715773 228.14 \nz\n\" style=\"fill:#1f77b4;\"/>\n   </g>\n   <g id=\"patch_220\">\n    <path clip-path=\"url(#p534bc2074e)\" d=\"M 193.3245 228.14 \nL 193.933227 228.14 \nL 193.933227 228.14 \nL 193.3245 228.14 \nz\n\" style=\"fill:#1f77b4;\"/>\n   </g>\n   <g id=\"patch_221\">\n    <path clip-path=\"url(#p534bc2074e)\" d=\"M 193.933227 228.14 \nL 194.541955 228.14 \nL 194.541955 228.14 \nL 193.933227 228.14 \nz\n\" style=\"fill:#1f77b4;\"/>\n   </g>\n   <g id=\"patch_222\">\n    <path clip-path=\"url(#p534bc2074e)\" d=\"M 194.541955 228.14 \nL 195.150682 228.14 \nL 195.150682 228.14 \nL 194.541955 228.14 \nz\n\" style=\"fill:#1f77b4;\"/>\n   </g>\n   <g id=\"patch_223\">\n    <path clip-path=\"url(#p534bc2074e)\" d=\"M 195.150682 228.14 \nL 195.759409 228.14 \nL 195.759409 228.14 \nL 195.150682 228.14 \nz\n\" style=\"fill:#1f77b4;\"/>\n   </g>\n   <g id=\"patch_224\">\n    <path clip-path=\"url(#p534bc2074e)\" d=\"M 195.759409 228.14 \nL 196.368136 228.14 \nL 196.368136 228.14 \nL 195.759409 228.14 \nz\n\" style=\"fill:#1f77b4;\"/>\n   </g>\n   <g id=\"patch_225\">\n    <path clip-path=\"url(#p534bc2074e)\" d=\"M 196.368136 228.14 \nL 196.976864 228.14 \nL 196.976864 228.14 \nL 196.368136 228.14 \nz\n\" style=\"fill:#1f77b4;\"/>\n   </g>\n   <g id=\"patch_226\">\n    <path clip-path=\"url(#p534bc2074e)\" d=\"M 196.976864 228.14 \nL 197.585591 228.14 \nL 197.585591 228.14 \nL 196.976864 228.14 \nz\n\" style=\"fill:#1f77b4;\"/>\n   </g>\n   <g id=\"patch_227\">\n    <path clip-path=\"url(#p534bc2074e)\" d=\"M 197.585591 228.14 \nL 198.194318 228.14 \nL 198.194318 228.14 \nL 197.585591 228.14 \nz\n\" style=\"fill:#1f77b4;\"/>\n   </g>\n   <g id=\"patch_228\">\n    <path clip-path=\"url(#p534bc2074e)\" d=\"M 198.194318 228.14 \nL 198.803045 228.14 \nL 198.803045 228.14 \nL 198.194318 228.14 \nz\n\" style=\"fill:#1f77b4;\"/>\n   </g>\n   <g id=\"patch_229\">\n    <path clip-path=\"url(#p534bc2074e)\" d=\"M 198.803045 228.14 \nL 199.411773 228.14 \nL 199.411773 228.14 \nL 198.803045 228.14 \nz\n\" style=\"fill:#1f77b4;\"/>\n   </g>\n   <g id=\"patch_230\">\n    <path clip-path=\"url(#p534bc2074e)\" d=\"M 199.411773 228.14 \nL 200.0205 228.14 \nL 200.0205 228.14 \nL 199.411773 228.14 \nz\n\" style=\"fill:#1f77b4;\"/>\n   </g>\n   <g id=\"patch_231\">\n    <path clip-path=\"url(#p534bc2074e)\" d=\"M 200.0205 228.14 \nL 200.629227 228.14 \nL 200.629227 228.14 \nL 200.0205 228.14 \nz\n\" style=\"fill:#1f77b4;\"/>\n   </g>\n   <g id=\"patch_232\">\n    <path clip-path=\"url(#p534bc2074e)\" d=\"M 200.629227 228.14 \nL 201.237955 228.14 \nL 201.237955 228.14 \nL 200.629227 228.14 \nz\n\" style=\"fill:#1f77b4;\"/>\n   </g>\n   <g id=\"patch_233\">\n    <path clip-path=\"url(#p534bc2074e)\" d=\"M 201.237955 228.14 \nL 201.846682 228.14 \nL 201.846682 228.14 \nL 201.237955 228.14 \nz\n\" style=\"fill:#1f77b4;\"/>\n   </g>\n   <g id=\"patch_234\">\n    <path clip-path=\"url(#p534bc2074e)\" d=\"M 201.846682 228.14 \nL 202.455409 228.14 \nL 202.455409 228.14 \nL 201.846682 228.14 \nz\n\" style=\"fill:#1f77b4;\"/>\n   </g>\n   <g id=\"patch_235\">\n    <path clip-path=\"url(#p534bc2074e)\" d=\"M 202.455409 228.14 \nL 203.064136 228.14 \nL 203.064136 228.14 \nL 202.455409 228.14 \nz\n\" style=\"fill:#1f77b4;\"/>\n   </g>\n   <g id=\"patch_236\">\n    <path clip-path=\"url(#p534bc2074e)\" d=\"M 203.064136 228.14 \nL 203.672864 228.14 \nL 203.672864 228.14 \nL 203.064136 228.14 \nz\n\" style=\"fill:#1f77b4;\"/>\n   </g>\n   <g id=\"patch_237\">\n    <path clip-path=\"url(#p534bc2074e)\" d=\"M 203.672864 228.14 \nL 204.281591 228.14 \nL 204.281591 228.14 \nL 203.672864 228.14 \nz\n\" style=\"fill:#1f77b4;\"/>\n   </g>\n   <g id=\"patch_238\">\n    <path clip-path=\"url(#p534bc2074e)\" d=\"M 204.281591 228.14 \nL 204.890318 228.14 \nL 204.890318 228.14 \nL 204.281591 228.14 \nz\n\" style=\"fill:#1f77b4;\"/>\n   </g>\n   <g id=\"patch_239\">\n    <path clip-path=\"url(#p534bc2074e)\" d=\"M 204.890318 228.14 \nL 205.499045 228.14 \nL 205.499045 228.14 \nL 204.890318 228.14 \nz\n\" style=\"fill:#1f77b4;\"/>\n   </g>\n   <g id=\"patch_240\">\n    <path clip-path=\"url(#p534bc2074e)\" d=\"M 205.499045 228.14 \nL 206.107773 228.14 \nL 206.107773 228.14 \nL 205.499045 228.14 \nz\n\" style=\"fill:#1f77b4;\"/>\n   </g>\n   <g id=\"patch_241\">\n    <path clip-path=\"url(#p534bc2074e)\" d=\"M 206.107773 228.14 \nL 206.7165 228.14 \nL 206.7165 228.14 \nL 206.107773 228.14 \nz\n\" style=\"fill:#1f77b4;\"/>\n   </g>\n   <g id=\"patch_242\">\n    <path clip-path=\"url(#p534bc2074e)\" d=\"M 206.7165 228.14 \nL 207.325227 228.14 \nL 207.325227 228.14 \nL 206.7165 228.14 \nz\n\" style=\"fill:#1f77b4;\"/>\n   </g>\n   <g id=\"patch_243\">\n    <path clip-path=\"url(#p534bc2074e)\" d=\"M 207.325227 228.14 \nL 207.933955 228.14 \nL 207.933955 228.14 \nL 207.325227 228.14 \nz\n\" style=\"fill:#1f77b4;\"/>\n   </g>\n   <g id=\"patch_244\">\n    <path clip-path=\"url(#p534bc2074e)\" d=\"M 207.933955 228.14 \nL 208.542682 228.14 \nL 208.542682 228.14 \nL 207.933955 228.14 \nz\n\" style=\"fill:#1f77b4;\"/>\n   </g>\n   <g id=\"patch_245\">\n    <path clip-path=\"url(#p534bc2074e)\" d=\"M 208.542682 228.14 \nL 209.151409 228.14 \nL 209.151409 228.14 \nL 208.542682 228.14 \nz\n\" style=\"fill:#1f77b4;\"/>\n   </g>\n   <g id=\"patch_246\">\n    <path clip-path=\"url(#p534bc2074e)\" d=\"M 209.151409 228.14 \nL 209.760136 228.14 \nL 209.760136 228.14 \nL 209.151409 228.14 \nz\n\" style=\"fill:#1f77b4;\"/>\n   </g>\n   <g id=\"patch_247\">\n    <path clip-path=\"url(#p534bc2074e)\" d=\"M 209.760136 228.14 \nL 210.368864 228.14 \nL 210.368864 228.14 \nL 209.760136 228.14 \nz\n\" style=\"fill:#1f77b4;\"/>\n   </g>\n   <g id=\"patch_248\">\n    <path clip-path=\"url(#p534bc2074e)\" d=\"M 210.368864 228.14 \nL 210.977591 228.14 \nL 210.977591 228.14 \nL 210.368864 228.14 \nz\n\" style=\"fill:#1f77b4;\"/>\n   </g>\n   <g id=\"patch_249\">\n    <path clip-path=\"url(#p534bc2074e)\" d=\"M 210.977591 228.14 \nL 211.586318 228.14 \nL 211.586318 228.14 \nL 210.977591 228.14 \nz\n\" style=\"fill:#1f77b4;\"/>\n   </g>\n   <g id=\"patch_250\">\n    <path clip-path=\"url(#p534bc2074e)\" d=\"M 211.586318 228.14 \nL 212.195045 228.14 \nL 212.195045 228.14 \nL 211.586318 228.14 \nz\n\" style=\"fill:#1f77b4;\"/>\n   </g>\n   <g id=\"patch_251\">\n    <path clip-path=\"url(#p534bc2074e)\" d=\"M 212.195045 228.14 \nL 212.803773 228.14 \nL 212.803773 228.14 \nL 212.195045 228.14 \nz\n\" style=\"fill:#1f77b4;\"/>\n   </g>\n   <g id=\"patch_252\">\n    <path clip-path=\"url(#p534bc2074e)\" d=\"M 212.803773 228.14 \nL 213.4125 228.14 \nL 213.4125 228.14 \nL 212.803773 228.14 \nz\n\" style=\"fill:#1f77b4;\"/>\n   </g>\n   <g id=\"patch_253\">\n    <path clip-path=\"url(#p534bc2074e)\" d=\"M 213.4125 228.14 \nL 214.021227 228.14 \nL 214.021227 228.14 \nL 213.4125 228.14 \nz\n\" style=\"fill:#1f77b4;\"/>\n   </g>\n   <g id=\"patch_254\">\n    <path clip-path=\"url(#p534bc2074e)\" d=\"M 214.021227 228.14 \nL 214.629955 228.14 \nL 214.629955 228.14 \nL 214.021227 228.14 \nz\n\" style=\"fill:#1f77b4;\"/>\n   </g>\n   <g id=\"patch_255\">\n    <path clip-path=\"url(#p534bc2074e)\" d=\"M 214.629955 228.14 \nL 215.238682 228.14 \nL 215.238682 228.14 \nL 214.629955 228.14 \nz\n\" style=\"fill:#1f77b4;\"/>\n   </g>\n   <g id=\"patch_256\">\n    <path clip-path=\"url(#p534bc2074e)\" d=\"M 215.238682 228.14 \nL 215.847409 228.14 \nL 215.847409 228.14 \nL 215.238682 228.14 \nz\n\" style=\"fill:#1f77b4;\"/>\n   </g>\n   <g id=\"patch_257\">\n    <path clip-path=\"url(#p534bc2074e)\" d=\"M 215.847409 228.14 \nL 216.456136 228.14 \nL 216.456136 228.119065 \nL 215.847409 228.119065 \nz\n\" style=\"fill:#1f77b4;\"/>\n   </g>\n   <g id=\"patch_258\">\n    <path clip-path=\"url(#p534bc2074e)\" d=\"M 216.456136 228.14 \nL 217.064864 228.14 \nL 217.064864 228.14 \nL 216.456136 228.14 \nz\n\" style=\"fill:#1f77b4;\"/>\n   </g>\n   <g id=\"patch_259\">\n    <path clip-path=\"url(#p534bc2074e)\" d=\"M 217.064864 228.14 \nL 217.673591 228.14 \nL 217.673591 228.14 \nL 217.064864 228.14 \nz\n\" style=\"fill:#1f77b4;\"/>\n   </g>\n   <g id=\"patch_260\">\n    <path clip-path=\"url(#p534bc2074e)\" d=\"M 217.673591 228.14 \nL 218.282318 228.14 \nL 218.282318 228.14 \nL 217.673591 228.14 \nz\n\" style=\"fill:#1f77b4;\"/>\n   </g>\n   <g id=\"patch_261\">\n    <path clip-path=\"url(#p534bc2074e)\" d=\"M 218.282318 228.14 \nL 218.891045 228.14 \nL 218.891045 228.14 \nL 218.282318 228.14 \nz\n\" style=\"fill:#1f77b4;\"/>\n   </g>\n   <g id=\"patch_262\">\n    <path clip-path=\"url(#p534bc2074e)\" d=\"M 218.891045 228.14 \nL 219.499773 228.14 \nL 219.499773 228.119065 \nL 218.891045 228.119065 \nz\n\" style=\"fill:#1f77b4;\"/>\n   </g>\n   <g id=\"patch_263\">\n    <path clip-path=\"url(#p534bc2074e)\" d=\"M 219.499773 228.14 \nL 220.1085 228.14 \nL 220.1085 228.14 \nL 219.499773 228.14 \nz\n\" style=\"fill:#1f77b4;\"/>\n   </g>\n   <g id=\"patch_264\">\n    <path clip-path=\"url(#p534bc2074e)\" d=\"M 220.1085 228.14 \nL 220.717227 228.14 \nL 220.717227 228.14 \nL 220.1085 228.14 \nz\n\" style=\"fill:#1f77b4;\"/>\n   </g>\n   <g id=\"patch_265\">\n    <path clip-path=\"url(#p534bc2074e)\" d=\"M 220.717227 228.14 \nL 221.325955 228.14 \nL 221.325955 228.14 \nL 220.717227 228.14 \nz\n\" style=\"fill:#1f77b4;\"/>\n   </g>\n   <g id=\"patch_266\">\n    <path clip-path=\"url(#p534bc2074e)\" d=\"M 221.325955 228.14 \nL 221.934682 228.14 \nL 221.934682 228.14 \nL 221.325955 228.14 \nz\n\" style=\"fill:#1f77b4;\"/>\n   </g>\n   <g id=\"patch_267\">\n    <path clip-path=\"url(#p534bc2074e)\" d=\"M 221.934682 228.14 \nL 222.543409 228.14 \nL 222.543409 228.14 \nL 221.934682 228.14 \nz\n\" style=\"fill:#1f77b4;\"/>\n   </g>\n   <g id=\"patch_268\">\n    <path clip-path=\"url(#p534bc2074e)\" d=\"M 222.543409 228.14 \nL 223.152136 228.14 \nL 223.152136 228.14 \nL 222.543409 228.14 \nz\n\" style=\"fill:#1f77b4;\"/>\n   </g>\n   <g id=\"patch_269\">\n    <path clip-path=\"url(#p534bc2074e)\" d=\"M 223.152136 228.14 \nL 223.760864 228.14 \nL 223.760864 228.14 \nL 223.152136 228.14 \nz\n\" style=\"fill:#1f77b4;\"/>\n   </g>\n   <g id=\"patch_270\">\n    <path clip-path=\"url(#p534bc2074e)\" d=\"M 223.760864 228.14 \nL 224.369591 228.14 \nL 224.369591 228.14 \nL 223.760864 228.14 \nz\n\" style=\"fill:#1f77b4;\"/>\n   </g>\n   <g id=\"patch_271\">\n    <path clip-path=\"url(#p534bc2074e)\" d=\"M 224.369591 228.14 \nL 224.978318 228.14 \nL 224.978318 228.14 \nL 224.369591 228.14 \nz\n\" style=\"fill:#1f77b4;\"/>\n   </g>\n   <g id=\"patch_272\">\n    <path clip-path=\"url(#p534bc2074e)\" d=\"M 224.978318 228.14 \nL 225.587045 228.14 \nL 225.587045 228.14 \nL 224.978318 228.14 \nz\n\" style=\"fill:#1f77b4;\"/>\n   </g>\n   <g id=\"patch_273\">\n    <path clip-path=\"url(#p534bc2074e)\" d=\"M 225.587045 228.14 \nL 226.195773 228.14 \nL 226.195773 228.14 \nL 225.587045 228.14 \nz\n\" style=\"fill:#1f77b4;\"/>\n   </g>\n   <g id=\"patch_274\">\n    <path clip-path=\"url(#p534bc2074e)\" d=\"M 226.195773 228.14 \nL 226.8045 228.14 \nL 226.8045 228.14 \nL 226.195773 228.14 \nz\n\" style=\"fill:#1f77b4;\"/>\n   </g>\n   <g id=\"patch_275\">\n    <path clip-path=\"url(#p534bc2074e)\" d=\"M 226.8045 228.14 \nL 227.413227 228.14 \nL 227.413227 228.119065 \nL 226.8045 228.119065 \nz\n\" style=\"fill:#1f77b4;\"/>\n   </g>\n   <g id=\"patch_276\">\n    <path clip-path=\"url(#p534bc2074e)\" d=\"M 227.413227 228.14 \nL 228.021955 228.14 \nL 228.021955 228.14 \nL 227.413227 228.14 \nz\n\" style=\"fill:#1f77b4;\"/>\n   </g>\n   <g id=\"patch_277\">\n    <path clip-path=\"url(#p534bc2074e)\" d=\"M 228.021955 228.14 \nL 228.630682 228.14 \nL 228.630682 228.14 \nL 228.021955 228.14 \nz\n\" style=\"fill:#1f77b4;\"/>\n   </g>\n   <g id=\"patch_278\">\n    <path clip-path=\"url(#p534bc2074e)\" d=\"M 228.630682 228.14 \nL 229.239409 228.14 \nL 229.239409 228.14 \nL 228.630682 228.14 \nz\n\" style=\"fill:#1f77b4;\"/>\n   </g>\n   <g id=\"patch_279\">\n    <path clip-path=\"url(#p534bc2074e)\" d=\"M 229.239409 228.14 \nL 229.848136 228.14 \nL 229.848136 228.14 \nL 229.239409 228.14 \nz\n\" style=\"fill:#1f77b4;\"/>\n   </g>\n   <g id=\"patch_280\">\n    <path clip-path=\"url(#p534bc2074e)\" d=\"M 229.848136 228.14 \nL 230.456864 228.14 \nL 230.456864 228.14 \nL 229.848136 228.14 \nz\n\" style=\"fill:#1f77b4;\"/>\n   </g>\n   <g id=\"patch_281\">\n    <path clip-path=\"url(#p534bc2074e)\" d=\"M 230.456864 228.14 \nL 231.065591 228.14 \nL 231.065591 228.14 \nL 230.456864 228.14 \nz\n\" style=\"fill:#1f77b4;\"/>\n   </g>\n   <g id=\"patch_282\">\n    <path clip-path=\"url(#p534bc2074e)\" d=\"M 231.065591 228.14 \nL 231.674318 228.14 \nL 231.674318 228.14 \nL 231.065591 228.14 \nz\n\" style=\"fill:#1f77b4;\"/>\n   </g>\n   <g id=\"patch_283\">\n    <path clip-path=\"url(#p534bc2074e)\" d=\"M 231.674318 228.14 \nL 232.283045 228.14 \nL 232.283045 228.14 \nL 231.674318 228.14 \nz\n\" style=\"fill:#1f77b4;\"/>\n   </g>\n   <g id=\"patch_284\">\n    <path clip-path=\"url(#p534bc2074e)\" d=\"M 232.283045 228.14 \nL 232.891773 228.14 \nL 232.891773 228.14 \nL 232.283045 228.14 \nz\n\" style=\"fill:#1f77b4;\"/>\n   </g>\n   <g id=\"patch_285\">\n    <path clip-path=\"url(#p534bc2074e)\" d=\"M 232.891773 228.14 \nL 233.5005 228.14 \nL 233.5005 228.14 \nL 232.891773 228.14 \nz\n\" style=\"fill:#1f77b4;\"/>\n   </g>\n   <g id=\"patch_286\">\n    <path clip-path=\"url(#p534bc2074e)\" d=\"M 233.5005 228.14 \nL 234.109227 228.14 \nL 234.109227 228.14 \nL 233.5005 228.14 \nz\n\" style=\"fill:#1f77b4;\"/>\n   </g>\n   <g id=\"patch_287\">\n    <path clip-path=\"url(#p534bc2074e)\" d=\"M 234.109227 228.14 \nL 234.717955 228.14 \nL 234.717955 228.14 \nL 234.109227 228.14 \nz\n\" style=\"fill:#1f77b4;\"/>\n   </g>\n   <g id=\"patch_288\">\n    <path clip-path=\"url(#p534bc2074e)\" d=\"M 234.717955 228.14 \nL 235.326682 228.14 \nL 235.326682 228.14 \nL 234.717955 228.14 \nz\n\" style=\"fill:#1f77b4;\"/>\n   </g>\n   <g id=\"patch_289\">\n    <path clip-path=\"url(#p534bc2074e)\" d=\"M 235.326682 228.14 \nL 235.935409 228.14 \nL 235.935409 228.14 \nL 235.326682 228.14 \nz\n\" style=\"fill:#1f77b4;\"/>\n   </g>\n   <g id=\"patch_290\">\n    <path clip-path=\"url(#p534bc2074e)\" d=\"M 235.935409 228.14 \nL 236.544136 228.14 \nL 236.544136 228.14 \nL 235.935409 228.14 \nz\n\" style=\"fill:#1f77b4;\"/>\n   </g>\n   <g id=\"patch_291\">\n    <path clip-path=\"url(#p534bc2074e)\" d=\"M 236.544136 228.14 \nL 237.152864 228.14 \nL 237.152864 228.14 \nL 236.544136 228.14 \nz\n\" style=\"fill:#1f77b4;\"/>\n   </g>\n   <g id=\"patch_292\">\n    <path clip-path=\"url(#p534bc2074e)\" d=\"M 237.152864 228.14 \nL 237.761591 228.14 \nL 237.761591 228.14 \nL 237.152864 228.14 \nz\n\" style=\"fill:#1f77b4;\"/>\n   </g>\n   <g id=\"patch_293\">\n    <path clip-path=\"url(#p534bc2074e)\" d=\"M 237.761591 228.14 \nL 238.370318 228.14 \nL 238.370318 228.14 \nL 237.761591 228.14 \nz\n\" style=\"fill:#1f77b4;\"/>\n   </g>\n   <g id=\"patch_294\">\n    <path clip-path=\"url(#p534bc2074e)\" d=\"M 238.370318 228.14 \nL 238.979045 228.14 \nL 238.979045 228.14 \nL 238.370318 228.14 \nz\n\" style=\"fill:#1f77b4;\"/>\n   </g>\n   <g id=\"patch_295\">\n    <path clip-path=\"url(#p534bc2074e)\" d=\"M 238.979045 228.14 \nL 239.587773 228.14 \nL 239.587773 228.14 \nL 238.979045 228.14 \nz\n\" style=\"fill:#1f77b4;\"/>\n   </g>\n   <g id=\"patch_296\">\n    <path clip-path=\"url(#p534bc2074e)\" d=\"M 239.587773 228.14 \nL 240.1965 228.14 \nL 240.1965 228.14 \nL 239.587773 228.14 \nz\n\" style=\"fill:#1f77b4;\"/>\n   </g>\n   <g id=\"patch_297\">\n    <path clip-path=\"url(#p534bc2074e)\" d=\"M 240.1965 228.14 \nL 240.805227 228.14 \nL 240.805227 228.14 \nL 240.1965 228.14 \nz\n\" style=\"fill:#1f77b4;\"/>\n   </g>\n   <g id=\"patch_298\">\n    <path clip-path=\"url(#p534bc2074e)\" d=\"M 240.805227 228.14 \nL 241.413955 228.14 \nL 241.413955 228.14 \nL 240.805227 228.14 \nz\n\" style=\"fill:#1f77b4;\"/>\n   </g>\n   <g id=\"patch_299\">\n    <path clip-path=\"url(#p534bc2074e)\" d=\"M 241.413955 228.14 \nL 242.022682 228.14 \nL 242.022682 228.14 \nL 241.413955 228.14 \nz\n\" style=\"fill:#1f77b4;\"/>\n   </g>\n   <g id=\"patch_300\">\n    <path clip-path=\"url(#p534bc2074e)\" d=\"M 242.022682 228.14 \nL 242.631409 228.14 \nL 242.631409 228.14 \nL 242.022682 228.14 \nz\n\" style=\"fill:#1f77b4;\"/>\n   </g>\n   <g id=\"patch_301\">\n    <path clip-path=\"url(#p534bc2074e)\" d=\"M 242.631409 228.14 \nL 243.240136 228.14 \nL 243.240136 228.14 \nL 242.631409 228.14 \nz\n\" style=\"fill:#1f77b4;\"/>\n   </g>\n   <g id=\"patch_302\">\n    <path clip-path=\"url(#p534bc2074e)\" d=\"M 243.240136 228.14 \nL 243.848864 228.14 \nL 243.848864 228.14 \nL 243.240136 228.14 \nz\n\" style=\"fill:#1f77b4;\"/>\n   </g>\n   <g id=\"patch_303\">\n    <path clip-path=\"url(#p534bc2074e)\" d=\"M 243.848864 228.14 \nL 244.457591 228.14 \nL 244.457591 228.14 \nL 243.848864 228.14 \nz\n\" style=\"fill:#1f77b4;\"/>\n   </g>\n   <g id=\"patch_304\">\n    <path clip-path=\"url(#p534bc2074e)\" d=\"M 244.457591 228.14 \nL 245.066318 228.14 \nL 245.066318 228.14 \nL 244.457591 228.14 \nz\n\" style=\"fill:#1f77b4;\"/>\n   </g>\n   <g id=\"patch_305\">\n    <path clip-path=\"url(#p534bc2074e)\" d=\"M 245.066318 228.14 \nL 245.675045 228.14 \nL 245.675045 228.14 \nL 245.066318 228.14 \nz\n\" style=\"fill:#1f77b4;\"/>\n   </g>\n   <g id=\"patch_306\">\n    <path clip-path=\"url(#p534bc2074e)\" d=\"M 245.675045 228.14 \nL 246.283773 228.14 \nL 246.283773 228.14 \nL 245.675045 228.14 \nz\n\" style=\"fill:#1f77b4;\"/>\n   </g>\n   <g id=\"patch_307\">\n    <path clip-path=\"url(#p534bc2074e)\" d=\"M 246.283773 228.14 \nL 246.8925 228.14 \nL 246.8925 228.14 \nL 246.283773 228.14 \nz\n\" style=\"fill:#1f77b4;\"/>\n   </g>\n   <g id=\"patch_308\">\n    <path clip-path=\"url(#p534bc2074e)\" d=\"M 246.8925 228.14 \nL 247.501227 228.14 \nL 247.501227 228.119065 \nL 246.8925 228.119065 \nz\n\" style=\"fill:#1f77b4;\"/>\n   </g>\n   <g id=\"patch_309\">\n    <path clip-path=\"url(#p534bc2074e)\" d=\"M 247.501227 228.14 \nL 248.109955 228.14 \nL 248.109955 228.14 \nL 247.501227 228.14 \nz\n\" style=\"fill:#1f77b4;\"/>\n   </g>\n   <g id=\"patch_310\">\n    <path clip-path=\"url(#p534bc2074e)\" d=\"M 248.109955 228.14 \nL 248.718682 228.14 \nL 248.718682 228.14 \nL 248.109955 228.14 \nz\n\" style=\"fill:#1f77b4;\"/>\n   </g>\n   <g id=\"patch_311\">\n    <path clip-path=\"url(#p534bc2074e)\" d=\"M 248.718682 228.14 \nL 249.327409 228.14 \nL 249.327409 228.14 \nL 248.718682 228.14 \nz\n\" style=\"fill:#1f77b4;\"/>\n   </g>\n   <g id=\"patch_312\">\n    <path clip-path=\"url(#p534bc2074e)\" d=\"M 249.327409 228.14 \nL 249.936136 228.14 \nL 249.936136 228.14 \nL 249.327409 228.14 \nz\n\" style=\"fill:#1f77b4;\"/>\n   </g>\n   <g id=\"patch_313\">\n    <path clip-path=\"url(#p534bc2074e)\" d=\"M 249.936136 228.14 \nL 250.544864 228.14 \nL 250.544864 228.14 \nL 249.936136 228.14 \nz\n\" style=\"fill:#1f77b4;\"/>\n   </g>\n   <g id=\"patch_314\">\n    <path clip-path=\"url(#p534bc2074e)\" d=\"M 250.544864 228.14 \nL 251.153591 228.14 \nL 251.153591 228.14 \nL 250.544864 228.14 \nz\n\" style=\"fill:#1f77b4;\"/>\n   </g>\n   <g id=\"patch_315\">\n    <path clip-path=\"url(#p534bc2074e)\" d=\"M 251.153591 228.14 \nL 251.762318 228.14 \nL 251.762318 228.14 \nL 251.153591 228.14 \nz\n\" style=\"fill:#1f77b4;\"/>\n   </g>\n   <g id=\"patch_316\">\n    <path clip-path=\"url(#p534bc2074e)\" d=\"M 251.762318 228.14 \nL 252.371045 228.14 \nL 252.371045 228.14 \nL 251.762318 228.14 \nz\n\" style=\"fill:#1f77b4;\"/>\n   </g>\n   <g id=\"patch_317\">\n    <path clip-path=\"url(#p534bc2074e)\" d=\"M 252.371045 228.14 \nL 252.979773 228.14 \nL 252.979773 228.14 \nL 252.371045 228.14 \nz\n\" style=\"fill:#1f77b4;\"/>\n   </g>\n   <g id=\"patch_318\">\n    <path clip-path=\"url(#p534bc2074e)\" d=\"M 252.979773 228.14 \nL 253.5885 228.14 \nL 253.5885 228.14 \nL 252.979773 228.14 \nz\n\" style=\"fill:#1f77b4;\"/>\n   </g>\n   <g id=\"patch_319\">\n    <path clip-path=\"url(#p534bc2074e)\" d=\"M 253.5885 228.14 \nL 254.197227 228.14 \nL 254.197227 228.14 \nL 253.5885 228.14 \nz\n\" style=\"fill:#1f77b4;\"/>\n   </g>\n   <g id=\"patch_320\">\n    <path clip-path=\"url(#p534bc2074e)\" d=\"M 254.197227 228.14 \nL 254.805955 228.14 \nL 254.805955 228.14 \nL 254.197227 228.14 \nz\n\" style=\"fill:#1f77b4;\"/>\n   </g>\n   <g id=\"patch_321\">\n    <path clip-path=\"url(#p534bc2074e)\" d=\"M 254.805955 228.14 \nL 255.414682 228.14 \nL 255.414682 228.14 \nL 254.805955 228.14 \nz\n\" style=\"fill:#1f77b4;\"/>\n   </g>\n   <g id=\"patch_322\">\n    <path clip-path=\"url(#p534bc2074e)\" d=\"M 255.414682 228.14 \nL 256.023409 228.14 \nL 256.023409 228.14 \nL 255.414682 228.14 \nz\n\" style=\"fill:#1f77b4;\"/>\n   </g>\n   <g id=\"patch_323\">\n    <path clip-path=\"url(#p534bc2074e)\" d=\"M 256.023409 228.14 \nL 256.632136 228.14 \nL 256.632136 228.14 \nL 256.023409 228.14 \nz\n\" style=\"fill:#1f77b4;\"/>\n   </g>\n   <g id=\"patch_324\">\n    <path clip-path=\"url(#p534bc2074e)\" d=\"M 256.632136 228.14 \nL 257.240864 228.14 \nL 257.240864 228.14 \nL 256.632136 228.14 \nz\n\" style=\"fill:#1f77b4;\"/>\n   </g>\n   <g id=\"patch_325\">\n    <path clip-path=\"url(#p534bc2074e)\" d=\"M 257.240864 228.14 \nL 257.849591 228.14 \nL 257.849591 228.119065 \nL 257.240864 228.119065 \nz\n\" style=\"fill:#1f77b4;\"/>\n   </g>\n   <g id=\"patch_326\">\n    <path clip-path=\"url(#p534bc2074e)\" d=\"M 257.849591 228.14 \nL 258.458318 228.14 \nL 258.458318 228.14 \nL 257.849591 228.14 \nz\n\" style=\"fill:#1f77b4;\"/>\n   </g>\n   <g id=\"patch_327\">\n    <path clip-path=\"url(#p534bc2074e)\" d=\"M 258.458318 228.14 \nL 259.067045 228.14 \nL 259.067045 228.14 \nL 258.458318 228.14 \nz\n\" style=\"fill:#1f77b4;\"/>\n   </g>\n   <g id=\"patch_328\">\n    <path clip-path=\"url(#p534bc2074e)\" d=\"M 259.067045 228.14 \nL 259.675773 228.14 \nL 259.675773 228.14 \nL 259.067045 228.14 \nz\n\" style=\"fill:#1f77b4;\"/>\n   </g>\n   <g id=\"patch_329\">\n    <path clip-path=\"url(#p534bc2074e)\" d=\"M 259.675773 228.14 \nL 260.2845 228.14 \nL 260.2845 228.14 \nL 259.675773 228.14 \nz\n\" style=\"fill:#1f77b4;\"/>\n   </g>\n   <g id=\"patch_330\">\n    <path clip-path=\"url(#p534bc2074e)\" d=\"M 260.2845 228.14 \nL 260.893227 228.14 \nL 260.893227 228.119065 \nL 260.2845 228.119065 \nz\n\" style=\"fill:#1f77b4;\"/>\n   </g>\n   <g id=\"patch_331\">\n    <path clip-path=\"url(#p534bc2074e)\" d=\"M 260.893227 228.14 \nL 261.501955 228.14 \nL 261.501955 228.14 \nL 260.893227 228.14 \nz\n\" style=\"fill:#1f77b4;\"/>\n   </g>\n   <g id=\"patch_332\">\n    <path clip-path=\"url(#p534bc2074e)\" d=\"M 261.501955 228.14 \nL 262.110682 228.14 \nL 262.110682 228.14 \nL 261.501955 228.14 \nz\n\" style=\"fill:#1f77b4;\"/>\n   </g>\n   <g id=\"patch_333\">\n    <path clip-path=\"url(#p534bc2074e)\" d=\"M 262.110682 228.14 \nL 262.719409 228.14 \nL 262.719409 228.14 \nL 262.110682 228.14 \nz\n\" style=\"fill:#1f77b4;\"/>\n   </g>\n   <g id=\"patch_334\">\n    <path clip-path=\"url(#p534bc2074e)\" d=\"M 262.719409 228.14 \nL 263.328136 228.14 \nL 263.328136 228.14 \nL 262.719409 228.14 \nz\n\" style=\"fill:#1f77b4;\"/>\n   </g>\n   <g id=\"patch_335\">\n    <path clip-path=\"url(#p534bc2074e)\" d=\"M 263.328136 228.14 \nL 263.936864 228.14 \nL 263.936864 228.14 \nL 263.328136 228.14 \nz\n\" style=\"fill:#1f77b4;\"/>\n   </g>\n   <g id=\"patch_336\">\n    <path clip-path=\"url(#p534bc2074e)\" d=\"M 263.936864 228.14 \nL 264.545591 228.14 \nL 264.545591 228.14 \nL 263.936864 228.14 \nz\n\" style=\"fill:#1f77b4;\"/>\n   </g>\n   <g id=\"patch_337\">\n    <path clip-path=\"url(#p534bc2074e)\" d=\"M 264.545591 228.14 \nL 265.154318 228.14 \nL 265.154318 228.14 \nL 264.545591 228.14 \nz\n\" style=\"fill:#1f77b4;\"/>\n   </g>\n   <g id=\"patch_338\">\n    <path clip-path=\"url(#p534bc2074e)\" d=\"M 265.154318 228.14 \nL 265.763045 228.14 \nL 265.763045 228.14 \nL 265.154318 228.14 \nz\n\" style=\"fill:#1f77b4;\"/>\n   </g>\n   <g id=\"patch_339\">\n    <path clip-path=\"url(#p534bc2074e)\" d=\"M 265.763045 228.14 \nL 266.371773 228.14 \nL 266.371773 228.14 \nL 265.763045 228.14 \nz\n\" style=\"fill:#1f77b4;\"/>\n   </g>\n   <g id=\"patch_340\">\n    <path clip-path=\"url(#p534bc2074e)\" d=\"M 266.371773 228.14 \nL 266.9805 228.14 \nL 266.9805 228.14 \nL 266.371773 228.14 \nz\n\" style=\"fill:#1f77b4;\"/>\n   </g>\n   <g id=\"patch_341\">\n    <path clip-path=\"url(#p534bc2074e)\" d=\"M 266.9805 228.14 \nL 267.589227 228.14 \nL 267.589227 228.14 \nL 266.9805 228.14 \nz\n\" style=\"fill:#1f77b4;\"/>\n   </g>\n   <g id=\"patch_342\">\n    <path clip-path=\"url(#p534bc2074e)\" d=\"M 267.589227 228.14 \nL 268.197955 228.14 \nL 268.197955 228.14 \nL 267.589227 228.14 \nz\n\" style=\"fill:#1f77b4;\"/>\n   </g>\n   <g id=\"patch_343\">\n    <path clip-path=\"url(#p534bc2074e)\" d=\"M 268.197955 228.14 \nL 268.806682 228.14 \nL 268.806682 228.14 \nL 268.197955 228.14 \nz\n\" style=\"fill:#1f77b4;\"/>\n   </g>\n   <g id=\"patch_344\">\n    <path clip-path=\"url(#p534bc2074e)\" d=\"M 268.806682 228.14 \nL 269.415409 228.14 \nL 269.415409 228.14 \nL 268.806682 228.14 \nz\n\" style=\"fill:#1f77b4;\"/>\n   </g>\n   <g id=\"patch_345\">\n    <path clip-path=\"url(#p534bc2074e)\" d=\"M 269.415409 228.14 \nL 270.024136 228.14 \nL 270.024136 228.14 \nL 269.415409 228.14 \nz\n\" style=\"fill:#1f77b4;\"/>\n   </g>\n   <g id=\"patch_346\">\n    <path clip-path=\"url(#p534bc2074e)\" d=\"M 270.024136 228.14 \nL 270.632864 228.14 \nL 270.632864 228.14 \nL 270.024136 228.14 \nz\n\" style=\"fill:#1f77b4;\"/>\n   </g>\n   <g id=\"patch_347\">\n    <path clip-path=\"url(#p534bc2074e)\" d=\"M 270.632864 228.14 \nL 271.241591 228.14 \nL 271.241591 228.14 \nL 270.632864 228.14 \nz\n\" style=\"fill:#1f77b4;\"/>\n   </g>\n   <g id=\"patch_348\">\n    <path clip-path=\"url(#p534bc2074e)\" d=\"M 271.241591 228.14 \nL 271.850318 228.14 \nL 271.850318 228.14 \nL 271.241591 228.14 \nz\n\" style=\"fill:#1f77b4;\"/>\n   </g>\n   <g id=\"patch_349\">\n    <path clip-path=\"url(#p534bc2074e)\" d=\"M 271.850318 228.14 \nL 272.459045 228.14 \nL 272.459045 228.14 \nL 271.850318 228.14 \nz\n\" style=\"fill:#1f77b4;\"/>\n   </g>\n   <g id=\"patch_350\">\n    <path clip-path=\"url(#p534bc2074e)\" d=\"M 272.459045 228.14 \nL 273.067773 228.14 \nL 273.067773 228.14 \nL 272.459045 228.14 \nz\n\" style=\"fill:#1f77b4;\"/>\n   </g>\n   <g id=\"patch_351\">\n    <path clip-path=\"url(#p534bc2074e)\" d=\"M 273.067773 228.14 \nL 273.6765 228.14 \nL 273.6765 228.14 \nL 273.067773 228.14 \nz\n\" style=\"fill:#1f77b4;\"/>\n   </g>\n   <g id=\"patch_352\">\n    <path clip-path=\"url(#p534bc2074e)\" d=\"M 273.6765 228.14 \nL 274.285227 228.14 \nL 274.285227 228.14 \nL 273.6765 228.14 \nz\n\" style=\"fill:#1f77b4;\"/>\n   </g>\n   <g id=\"patch_353\">\n    <path clip-path=\"url(#p534bc2074e)\" d=\"M 274.285227 228.14 \nL 274.893955 228.14 \nL 274.893955 228.14 \nL 274.285227 228.14 \nz\n\" style=\"fill:#1f77b4;\"/>\n   </g>\n   <g id=\"patch_354\">\n    <path clip-path=\"url(#p534bc2074e)\" d=\"M 274.893955 228.14 \nL 275.502682 228.14 \nL 275.502682 228.14 \nL 274.893955 228.14 \nz\n\" style=\"fill:#1f77b4;\"/>\n   </g>\n   <g id=\"patch_355\">\n    <path clip-path=\"url(#p534bc2074e)\" d=\"M 275.502682 228.14 \nL 276.111409 228.14 \nL 276.111409 228.14 \nL 275.502682 228.14 \nz\n\" style=\"fill:#1f77b4;\"/>\n   </g>\n   <g id=\"patch_356\">\n    <path clip-path=\"url(#p534bc2074e)\" d=\"M 276.111409 228.14 \nL 276.720136 228.14 \nL 276.720136 228.14 \nL 276.111409 228.14 \nz\n\" style=\"fill:#1f77b4;\"/>\n   </g>\n   <g id=\"patch_357\">\n    <path clip-path=\"url(#p534bc2074e)\" d=\"M 276.720136 228.14 \nL 277.328864 228.14 \nL 277.328864 228.14 \nL 276.720136 228.14 \nz\n\" style=\"fill:#1f77b4;\"/>\n   </g>\n   <g id=\"patch_358\">\n    <path clip-path=\"url(#p534bc2074e)\" d=\"M 277.328864 228.14 \nL 277.937591 228.14 \nL 277.937591 228.14 \nL 277.328864 228.14 \nz\n\" style=\"fill:#1f77b4;\"/>\n   </g>\n   <g id=\"patch_359\">\n    <path clip-path=\"url(#p534bc2074e)\" d=\"M 277.937591 228.14 \nL 278.546318 228.14 \nL 278.546318 228.14 \nL 277.937591 228.14 \nz\n\" style=\"fill:#1f77b4;\"/>\n   </g>\n   <g id=\"patch_360\">\n    <path clip-path=\"url(#p534bc2074e)\" d=\"M 278.546318 228.14 \nL 279.155045 228.14 \nL 279.155045 228.14 \nL 278.546318 228.14 \nz\n\" style=\"fill:#1f77b4;\"/>\n   </g>\n   <g id=\"patch_361\">\n    <path clip-path=\"url(#p534bc2074e)\" d=\"M 279.155045 228.14 \nL 279.763773 228.14 \nL 279.763773 228.14 \nL 279.155045 228.14 \nz\n\" style=\"fill:#1f77b4;\"/>\n   </g>\n   <g id=\"patch_362\">\n    <path clip-path=\"url(#p534bc2074e)\" d=\"M 279.763773 228.14 \nL 280.3725 228.14 \nL 280.3725 228.14 \nL 279.763773 228.14 \nz\n\" style=\"fill:#1f77b4;\"/>\n   </g>\n   <g id=\"patch_363\">\n    <path clip-path=\"url(#p534bc2074e)\" d=\"M 280.3725 228.14 \nL 280.981227 228.14 \nL 280.981227 228.14 \nL 280.3725 228.14 \nz\n\" style=\"fill:#1f77b4;\"/>\n   </g>\n   <g id=\"patch_364\">\n    <path clip-path=\"url(#p534bc2074e)\" d=\"M 280.981227 228.14 \nL 281.589955 228.14 \nL 281.589955 228.14 \nL 280.981227 228.14 \nz\n\" style=\"fill:#1f77b4;\"/>\n   </g>\n   <g id=\"patch_365\">\n    <path clip-path=\"url(#p534bc2074e)\" d=\"M 281.589955 228.14 \nL 282.198682 228.14 \nL 282.198682 228.14 \nL 281.589955 228.14 \nz\n\" style=\"fill:#1f77b4;\"/>\n   </g>\n   <g id=\"patch_366\">\n    <path clip-path=\"url(#p534bc2074e)\" d=\"M 282.198682 228.14 \nL 282.807409 228.14 \nL 282.807409 228.14 \nL 282.198682 228.14 \nz\n\" style=\"fill:#1f77b4;\"/>\n   </g>\n   <g id=\"patch_367\">\n    <path clip-path=\"url(#p534bc2074e)\" d=\"M 282.807409 228.14 \nL 283.416136 228.14 \nL 283.416136 228.14 \nL 282.807409 228.14 \nz\n\" style=\"fill:#1f77b4;\"/>\n   </g>\n   <g id=\"patch_368\">\n    <path clip-path=\"url(#p534bc2074e)\" d=\"M 283.416136 228.14 \nL 284.024864 228.14 \nL 284.024864 228.14 \nL 283.416136 228.14 \nz\n\" style=\"fill:#1f77b4;\"/>\n   </g>\n   <g id=\"patch_369\">\n    <path clip-path=\"url(#p534bc2074e)\" d=\"M 284.024864 228.14 \nL 284.633591 228.14 \nL 284.633591 228.14 \nL 284.024864 228.14 \nz\n\" style=\"fill:#1f77b4;\"/>\n   </g>\n   <g id=\"patch_370\">\n    <path clip-path=\"url(#p534bc2074e)\" d=\"M 284.633591 228.14 \nL 285.242318 228.14 \nL 285.242318 228.14 \nL 284.633591 228.14 \nz\n\" style=\"fill:#1f77b4;\"/>\n   </g>\n   <g id=\"patch_371\">\n    <path clip-path=\"url(#p534bc2074e)\" d=\"M 285.242318 228.14 \nL 285.851045 228.14 \nL 285.851045 228.14 \nL 285.242318 228.14 \nz\n\" style=\"fill:#1f77b4;\"/>\n   </g>\n   <g id=\"patch_372\">\n    <path clip-path=\"url(#p534bc2074e)\" d=\"M 285.851045 228.14 \nL 286.459773 228.14 \nL 286.459773 228.14 \nL 285.851045 228.14 \nz\n\" style=\"fill:#1f77b4;\"/>\n   </g>\n   <g id=\"patch_373\">\n    <path clip-path=\"url(#p534bc2074e)\" d=\"M 286.459773 228.14 \nL 287.0685 228.14 \nL 287.0685 228.14 \nL 286.459773 228.14 \nz\n\" style=\"fill:#1f77b4;\"/>\n   </g>\n   <g id=\"patch_374\">\n    <path clip-path=\"url(#p534bc2074e)\" d=\"M 287.0685 228.14 \nL 287.677227 228.14 \nL 287.677227 228.14 \nL 287.0685 228.14 \nz\n\" style=\"fill:#1f77b4;\"/>\n   </g>\n   <g id=\"patch_375\">\n    <path clip-path=\"url(#p534bc2074e)\" d=\"M 287.677227 228.14 \nL 288.285955 228.14 \nL 288.285955 228.14 \nL 287.677227 228.14 \nz\n\" style=\"fill:#1f77b4;\"/>\n   </g>\n   <g id=\"patch_376\">\n    <path clip-path=\"url(#p534bc2074e)\" d=\"M 288.285955 228.14 \nL 288.894682 228.14 \nL 288.894682 228.14 \nL 288.285955 228.14 \nz\n\" style=\"fill:#1f77b4;\"/>\n   </g>\n   <g id=\"patch_377\">\n    <path clip-path=\"url(#p534bc2074e)\" d=\"M 288.894682 228.14 \nL 289.503409 228.14 \nL 289.503409 228.14 \nL 288.894682 228.14 \nz\n\" style=\"fill:#1f77b4;\"/>\n   </g>\n   <g id=\"patch_378\">\n    <path clip-path=\"url(#p534bc2074e)\" d=\"M 289.503409 228.14 \nL 290.112136 228.14 \nL 290.112136 228.14 \nL 289.503409 228.14 \nz\n\" style=\"fill:#1f77b4;\"/>\n   </g>\n   <g id=\"patch_379\">\n    <path clip-path=\"url(#p534bc2074e)\" d=\"M 290.112136 228.14 \nL 290.720864 228.14 \nL 290.720864 228.14 \nL 290.112136 228.14 \nz\n\" style=\"fill:#1f77b4;\"/>\n   </g>\n   <g id=\"patch_380\">\n    <path clip-path=\"url(#p534bc2074e)\" d=\"M 290.720864 228.14 \nL 291.329591 228.14 \nL 291.329591 228.14 \nL 290.720864 228.14 \nz\n\" style=\"fill:#1f77b4;\"/>\n   </g>\n   <g id=\"patch_381\">\n    <path clip-path=\"url(#p534bc2074e)\" d=\"M 291.329591 228.14 \nL 291.938318 228.14 \nL 291.938318 228.14 \nL 291.329591 228.14 \nz\n\" style=\"fill:#1f77b4;\"/>\n   </g>\n   <g id=\"patch_382\">\n    <path clip-path=\"url(#p534bc2074e)\" d=\"M 291.938318 228.14 \nL 292.547045 228.14 \nL 292.547045 228.14 \nL 291.938318 228.14 \nz\n\" style=\"fill:#1f77b4;\"/>\n   </g>\n   <g id=\"patch_383\">\n    <path clip-path=\"url(#p534bc2074e)\" d=\"M 292.547045 228.14 \nL 293.155773 228.14 \nL 293.155773 228.14 \nL 292.547045 228.14 \nz\n\" style=\"fill:#1f77b4;\"/>\n   </g>\n   <g id=\"patch_384\">\n    <path clip-path=\"url(#p534bc2074e)\" d=\"M 293.155773 228.14 \nL 293.7645 228.14 \nL 293.7645 228.14 \nL 293.155773 228.14 \nz\n\" style=\"fill:#1f77b4;\"/>\n   </g>\n   <g id=\"patch_385\">\n    <path clip-path=\"url(#p534bc2074e)\" d=\"M 293.7645 228.14 \nL 294.373227 228.14 \nL 294.373227 228.14 \nL 293.7645 228.14 \nz\n\" style=\"fill:#1f77b4;\"/>\n   </g>\n   <g id=\"patch_386\">\n    <path clip-path=\"url(#p534bc2074e)\" d=\"M 294.373227 228.14 \nL 294.981955 228.14 \nL 294.981955 228.14 \nL 294.373227 228.14 \nz\n\" style=\"fill:#1f77b4;\"/>\n   </g>\n   <g id=\"patch_387\">\n    <path clip-path=\"url(#p534bc2074e)\" d=\"M 294.981955 228.14 \nL 295.590682 228.14 \nL 295.590682 228.119065 \nL 294.981955 228.119065 \nz\n\" style=\"fill:#1f77b4;\"/>\n   </g>\n   <g id=\"patch_388\">\n    <path clip-path=\"url(#p534bc2074e)\" d=\"M 295.590682 228.14 \nL 296.199409 228.14 \nL 296.199409 228.14 \nL 295.590682 228.14 \nz\n\" style=\"fill:#1f77b4;\"/>\n   </g>\n   <g id=\"patch_389\">\n    <path clip-path=\"url(#p534bc2074e)\" d=\"M 296.199409 228.14 \nL 296.808136 228.14 \nL 296.808136 228.14 \nL 296.199409 228.14 \nz\n\" style=\"fill:#1f77b4;\"/>\n   </g>\n   <g id=\"patch_390\">\n    <path clip-path=\"url(#p534bc2074e)\" d=\"M 296.808136 228.14 \nL 297.416864 228.14 \nL 297.416864 228.14 \nL 296.808136 228.14 \nz\n\" style=\"fill:#1f77b4;\"/>\n   </g>\n   <g id=\"patch_391\">\n    <path clip-path=\"url(#p534bc2074e)\" d=\"M 297.416864 228.14 \nL 298.025591 228.14 \nL 298.025591 228.14 \nL 297.416864 228.14 \nz\n\" style=\"fill:#1f77b4;\"/>\n   </g>\n   <g id=\"patch_392\">\n    <path clip-path=\"url(#p534bc2074e)\" d=\"M 298.025591 228.14 \nL 298.634318 228.14 \nL 298.634318 228.14 \nL 298.025591 228.14 \nz\n\" style=\"fill:#1f77b4;\"/>\n   </g>\n   <g id=\"patch_393\">\n    <path clip-path=\"url(#p534bc2074e)\" d=\"M 298.634318 228.14 \nL 299.243045 228.14 \nL 299.243045 228.14 \nL 298.634318 228.14 \nz\n\" style=\"fill:#1f77b4;\"/>\n   </g>\n   <g id=\"patch_394\">\n    <path clip-path=\"url(#p534bc2074e)\" d=\"M 299.243045 228.14 \nL 299.851773 228.14 \nL 299.851773 228.14 \nL 299.243045 228.14 \nz\n\" style=\"fill:#1f77b4;\"/>\n   </g>\n   <g id=\"patch_395\">\n    <path clip-path=\"url(#p534bc2074e)\" d=\"M 299.851773 228.14 \nL 300.4605 228.14 \nL 300.4605 228.14 \nL 299.851773 228.14 \nz\n\" style=\"fill:#1f77b4;\"/>\n   </g>\n   <g id=\"patch_396\">\n    <path clip-path=\"url(#p534bc2074e)\" d=\"M 300.4605 228.14 \nL 301.069227 228.14 \nL 301.069227 228.14 \nL 300.4605 228.14 \nz\n\" style=\"fill:#1f77b4;\"/>\n   </g>\n   <g id=\"patch_397\">\n    <path clip-path=\"url(#p534bc2074e)\" d=\"M 301.069227 228.14 \nL 301.677955 228.14 \nL 301.677955 228.14 \nL 301.069227 228.14 \nz\n\" style=\"fill:#1f77b4;\"/>\n   </g>\n   <g id=\"patch_398\">\n    <path clip-path=\"url(#p534bc2074e)\" d=\"M 301.677955 228.14 \nL 302.286682 228.14 \nL 302.286682 228.14 \nL 301.677955 228.14 \nz\n\" style=\"fill:#1f77b4;\"/>\n   </g>\n   <g id=\"patch_399\">\n    <path clip-path=\"url(#p534bc2074e)\" d=\"M 302.286682 228.14 \nL 302.895409 228.14 \nL 302.895409 228.14 \nL 302.286682 228.14 \nz\n\" style=\"fill:#1f77b4;\"/>\n   </g>\n   <g id=\"patch_400\">\n    <path clip-path=\"url(#p534bc2074e)\" d=\"M 302.895409 228.14 \nL 303.504136 228.14 \nL 303.504136 228.14 \nL 302.895409 228.14 \nz\n\" style=\"fill:#1f77b4;\"/>\n   </g>\n   <g id=\"patch_401\">\n    <path clip-path=\"url(#p534bc2074e)\" d=\"M 303.504136 228.14 \nL 304.112864 228.14 \nL 304.112864 228.14 \nL 303.504136 228.14 \nz\n\" style=\"fill:#1f77b4;\"/>\n   </g>\n   <g id=\"patch_402\">\n    <path clip-path=\"url(#p534bc2074e)\" d=\"M 304.112864 228.14 \nL 304.721591 228.14 \nL 304.721591 228.14 \nL 304.112864 228.14 \nz\n\" style=\"fill:#1f77b4;\"/>\n   </g>\n   <g id=\"patch_403\">\n    <path clip-path=\"url(#p534bc2074e)\" d=\"M 304.721591 228.14 \nL 305.330318 228.14 \nL 305.330318 228.14 \nL 304.721591 228.14 \nz\n\" style=\"fill:#1f77b4;\"/>\n   </g>\n   <g id=\"patch_404\">\n    <path clip-path=\"url(#p534bc2074e)\" d=\"M 305.330318 228.14 \nL 305.939045 228.14 \nL 305.939045 228.14 \nL 305.330318 228.14 \nz\n\" style=\"fill:#1f77b4;\"/>\n   </g>\n   <g id=\"patch_405\">\n    <path clip-path=\"url(#p534bc2074e)\" d=\"M 305.939045 228.14 \nL 306.547773 228.14 \nL 306.547773 228.14 \nL 305.939045 228.14 \nz\n\" style=\"fill:#1f77b4;\"/>\n   </g>\n   <g id=\"patch_406\">\n    <path clip-path=\"url(#p534bc2074e)\" d=\"M 306.547773 228.14 \nL 307.1565 228.14 \nL 307.1565 228.14 \nL 306.547773 228.14 \nz\n\" style=\"fill:#1f77b4;\"/>\n   </g>\n   <g id=\"patch_407\">\n    <path clip-path=\"url(#p534bc2074e)\" d=\"M 307.1565 228.14 \nL 307.765227 228.14 \nL 307.765227 228.14 \nL 307.1565 228.14 \nz\n\" style=\"fill:#1f77b4;\"/>\n   </g>\n   <g id=\"patch_408\">\n    <path clip-path=\"url(#p534bc2074e)\" d=\"M 307.765227 228.14 \nL 308.373955 228.14 \nL 308.373955 228.14 \nL 307.765227 228.14 \nz\n\" style=\"fill:#1f77b4;\"/>\n   </g>\n   <g id=\"patch_409\">\n    <path clip-path=\"url(#p534bc2074e)\" d=\"M 308.373955 228.14 \nL 308.982682 228.14 \nL 308.982682 228.14 \nL 308.373955 228.14 \nz\n\" style=\"fill:#1f77b4;\"/>\n   </g>\n   <g id=\"patch_410\">\n    <path clip-path=\"url(#p534bc2074e)\" d=\"M 308.982682 228.14 \nL 309.591409 228.14 \nL 309.591409 228.14 \nL 308.982682 228.14 \nz\n\" style=\"fill:#1f77b4;\"/>\n   </g>\n   <g id=\"patch_411\">\n    <path clip-path=\"url(#p534bc2074e)\" d=\"M 309.591409 228.14 \nL 310.200136 228.14 \nL 310.200136 228.14 \nL 309.591409 228.14 \nz\n\" style=\"fill:#1f77b4;\"/>\n   </g>\n   <g id=\"patch_412\">\n    <path clip-path=\"url(#p534bc2074e)\" d=\"M 310.200136 228.14 \nL 310.808864 228.14 \nL 310.808864 228.14 \nL 310.200136 228.14 \nz\n\" style=\"fill:#1f77b4;\"/>\n   </g>\n   <g id=\"patch_413\">\n    <path clip-path=\"url(#p534bc2074e)\" d=\"M 310.808864 228.14 \nL 311.417591 228.14 \nL 311.417591 228.14 \nL 310.808864 228.14 \nz\n\" style=\"fill:#1f77b4;\"/>\n   </g>\n   <g id=\"patch_414\">\n    <path clip-path=\"url(#p534bc2074e)\" d=\"M 311.417591 228.14 \nL 312.026318 228.14 \nL 312.026318 228.14 \nL 311.417591 228.14 \nz\n\" style=\"fill:#1f77b4;\"/>\n   </g>\n   <g id=\"patch_415\">\n    <path clip-path=\"url(#p534bc2074e)\" d=\"M 312.026318 228.14 \nL 312.635045 228.14 \nL 312.635045 228.14 \nL 312.026318 228.14 \nz\n\" style=\"fill:#1f77b4;\"/>\n   </g>\n   <g id=\"patch_416\">\n    <path clip-path=\"url(#p534bc2074e)\" d=\"M 312.635045 228.14 \nL 313.243773 228.14 \nL 313.243773 228.14 \nL 312.635045 228.14 \nz\n\" style=\"fill:#1f77b4;\"/>\n   </g>\n   <g id=\"patch_417\">\n    <path clip-path=\"url(#p534bc2074e)\" d=\"M 313.243773 228.14 \nL 313.8525 228.14 \nL 313.8525 228.14 \nL 313.243773 228.14 \nz\n\" style=\"fill:#1f77b4;\"/>\n   </g>\n   <g id=\"patch_418\">\n    <path clip-path=\"url(#p534bc2074e)\" d=\"M 313.8525 228.14 \nL 314.461227 228.14 \nL 314.461227 228.14 \nL 313.8525 228.14 \nz\n\" style=\"fill:#1f77b4;\"/>\n   </g>\n   <g id=\"patch_419\">\n    <path clip-path=\"url(#p534bc2074e)\" d=\"M 314.461227 228.14 \nL 315.069955 228.14 \nL 315.069955 228.14 \nL 314.461227 228.14 \nz\n\" style=\"fill:#1f77b4;\"/>\n   </g>\n   <g id=\"patch_420\">\n    <path clip-path=\"url(#p534bc2074e)\" d=\"M 315.069955 228.14 \nL 315.678682 228.14 \nL 315.678682 228.14 \nL 315.069955 228.14 \nz\n\" style=\"fill:#1f77b4;\"/>\n   </g>\n   <g id=\"patch_421\">\n    <path clip-path=\"url(#p534bc2074e)\" d=\"M 315.678682 228.14 \nL 316.287409 228.14 \nL 316.287409 228.077196 \nL 315.678682 228.077196 \nz\n\" style=\"fill:#1f77b4;\"/>\n   </g>\n   <g id=\"patch_422\">\n    <path clip-path=\"url(#p534bc2074e)\" d=\"M 316.287409 228.14 \nL 316.896136 228.14 \nL 316.896136 228.14 \nL 316.287409 228.14 \nz\n\" style=\"fill:#1f77b4;\"/>\n   </g>\n   <g id=\"patch_423\">\n    <path clip-path=\"url(#p534bc2074e)\" d=\"M 316.896136 228.14 \nL 317.504864 228.14 \nL 317.504864 228.14 \nL 316.896136 228.14 \nz\n\" style=\"fill:#1f77b4;\"/>\n   </g>\n   <g id=\"patch_424\">\n    <path clip-path=\"url(#p534bc2074e)\" d=\"M 317.504864 228.14 \nL 318.113591 228.14 \nL 318.113591 228.14 \nL 317.504864 228.14 \nz\n\" style=\"fill:#1f77b4;\"/>\n   </g>\n   <g id=\"patch_425\">\n    <path clip-path=\"url(#p534bc2074e)\" d=\"M 318.113591 228.14 \nL 318.722318 228.14 \nL 318.722318 228.14 \nL 318.113591 228.14 \nz\n\" style=\"fill:#1f77b4;\"/>\n   </g>\n   <g id=\"patch_426\">\n    <path clip-path=\"url(#p534bc2074e)\" d=\"M 318.722318 228.14 \nL 319.331045 228.14 \nL 319.331045 228.14 \nL 318.722318 228.14 \nz\n\" style=\"fill:#1f77b4;\"/>\n   </g>\n   <g id=\"patch_427\">\n    <path clip-path=\"url(#p534bc2074e)\" d=\"M 319.331045 228.14 \nL 319.939773 228.14 \nL 319.939773 228.14 \nL 319.331045 228.14 \nz\n\" style=\"fill:#1f77b4;\"/>\n   </g>\n   <g id=\"patch_428\">\n    <path clip-path=\"url(#p534bc2074e)\" d=\"M 319.939773 228.14 \nL 320.5485 228.14 \nL 320.5485 228.14 \nL 319.939773 228.14 \nz\n\" style=\"fill:#1f77b4;\"/>\n   </g>\n   <g id=\"patch_429\">\n    <path clip-path=\"url(#p534bc2074e)\" d=\"M 320.5485 228.14 \nL 321.157227 228.14 \nL 321.157227 228.14 \nL 320.5485 228.14 \nz\n\" style=\"fill:#1f77b4;\"/>\n   </g>\n   <g id=\"patch_430\">\n    <path clip-path=\"url(#p534bc2074e)\" d=\"M 321.157227 228.14 \nL 321.765955 228.14 \nL 321.765955 228.14 \nL 321.157227 228.14 \nz\n\" style=\"fill:#1f77b4;\"/>\n   </g>\n   <g id=\"patch_431\">\n    <path clip-path=\"url(#p534bc2074e)\" d=\"M 321.765955 228.14 \nL 322.374682 228.14 \nL 322.374682 228.14 \nL 321.765955 228.14 \nz\n\" style=\"fill:#1f77b4;\"/>\n   </g>\n   <g id=\"patch_432\">\n    <path clip-path=\"url(#p534bc2074e)\" d=\"M 322.374682 228.14 \nL 322.983409 228.14 \nL 322.983409 228.14 \nL 322.374682 228.14 \nz\n\" style=\"fill:#1f77b4;\"/>\n   </g>\n   <g id=\"patch_433\">\n    <path clip-path=\"url(#p534bc2074e)\" d=\"M 322.983409 228.14 \nL 323.592136 228.14 \nL 323.592136 228.14 \nL 322.983409 228.14 \nz\n\" style=\"fill:#1f77b4;\"/>\n   </g>\n   <g id=\"patch_434\">\n    <path clip-path=\"url(#p534bc2074e)\" d=\"M 323.592136 228.14 \nL 324.200864 228.14 \nL 324.200864 228.14 \nL 323.592136 228.14 \nz\n\" style=\"fill:#1f77b4;\"/>\n   </g>\n   <g id=\"patch_435\">\n    <path clip-path=\"url(#p534bc2074e)\" d=\"M 324.200864 228.14 \nL 324.809591 228.14 \nL 324.809591 228.14 \nL 324.200864 228.14 \nz\n\" style=\"fill:#1f77b4;\"/>\n   </g>\n   <g id=\"patch_436\">\n    <path clip-path=\"url(#p534bc2074e)\" d=\"M 324.809591 228.14 \nL 325.418318 228.14 \nL 325.418318 228.14 \nL 324.809591 228.14 \nz\n\" style=\"fill:#1f77b4;\"/>\n   </g>\n   <g id=\"patch_437\">\n    <path clip-path=\"url(#p534bc2074e)\" d=\"M 325.418318 228.14 \nL 326.027045 228.14 \nL 326.027045 228.14 \nL 325.418318 228.14 \nz\n\" style=\"fill:#1f77b4;\"/>\n   </g>\n   <g id=\"patch_438\">\n    <path clip-path=\"url(#p534bc2074e)\" d=\"M 326.027045 228.14 \nL 326.635773 228.14 \nL 326.635773 228.14 \nL 326.027045 228.14 \nz\n\" style=\"fill:#1f77b4;\"/>\n   </g>\n   <g id=\"patch_439\">\n    <path clip-path=\"url(#p534bc2074e)\" d=\"M 326.635773 228.14 \nL 327.2445 228.14 \nL 327.2445 228.14 \nL 326.635773 228.14 \nz\n\" style=\"fill:#1f77b4;\"/>\n   </g>\n   <g id=\"patch_440\">\n    <path clip-path=\"url(#p534bc2074e)\" d=\"M 327.2445 228.14 \nL 327.853227 228.14 \nL 327.853227 228.14 \nL 327.2445 228.14 \nz\n\" style=\"fill:#1f77b4;\"/>\n   </g>\n   <g id=\"patch_441\">\n    <path clip-path=\"url(#p534bc2074e)\" d=\"M 327.853227 228.14 \nL 328.461955 228.14 \nL 328.461955 228.14 \nL 327.853227 228.14 \nz\n\" style=\"fill:#1f77b4;\"/>\n   </g>\n   <g id=\"patch_442\">\n    <path clip-path=\"url(#p534bc2074e)\" d=\"M 328.461955 228.14 \nL 329.070682 228.14 \nL 329.070682 228.14 \nL 328.461955 228.14 \nz\n\" style=\"fill:#1f77b4;\"/>\n   </g>\n   <g id=\"patch_443\">\n    <path clip-path=\"url(#p534bc2074e)\" d=\"M 329.070682 228.14 \nL 329.679409 228.14 \nL 329.679409 228.14 \nL 329.070682 228.14 \nz\n\" style=\"fill:#1f77b4;\"/>\n   </g>\n   <g id=\"patch_444\">\n    <path clip-path=\"url(#p534bc2074e)\" d=\"M 329.679409 228.14 \nL 330.288136 228.14 \nL 330.288136 228.14 \nL 329.679409 228.14 \nz\n\" style=\"fill:#1f77b4;\"/>\n   </g>\n   <g id=\"patch_445\">\n    <path clip-path=\"url(#p534bc2074e)\" d=\"M 330.288136 228.14 \nL 330.896864 228.14 \nL 330.896864 228.119065 \nL 330.288136 228.119065 \nz\n\" style=\"fill:#1f77b4;\"/>\n   </g>\n   <g id=\"patch_446\">\n    <path clip-path=\"url(#p534bc2074e)\" d=\"M 330.896864 228.14 \nL 331.505591 228.14 \nL 331.505591 228.14 \nL 330.896864 228.14 \nz\n\" style=\"fill:#1f77b4;\"/>\n   </g>\n   <g id=\"patch_447\">\n    <path clip-path=\"url(#p534bc2074e)\" d=\"M 331.505591 228.14 \nL 332.114318 228.14 \nL 332.114318 228.14 \nL 331.505591 228.14 \nz\n\" style=\"fill:#1f77b4;\"/>\n   </g>\n   <g id=\"patch_448\">\n    <path clip-path=\"url(#p534bc2074e)\" d=\"M 332.114318 228.14 \nL 332.723045 228.14 \nL 332.723045 228.14 \nL 332.114318 228.14 \nz\n\" style=\"fill:#1f77b4;\"/>\n   </g>\n   <g id=\"patch_449\">\n    <path clip-path=\"url(#p534bc2074e)\" d=\"M 332.723045 228.14 \nL 333.331773 228.14 \nL 333.331773 228.14 \nL 332.723045 228.14 \nz\n\" style=\"fill:#1f77b4;\"/>\n   </g>\n   <g id=\"patch_450\">\n    <path clip-path=\"url(#p534bc2074e)\" d=\"M 333.331773 228.14 \nL 333.9405 228.14 \nL 333.9405 228.14 \nL 333.331773 228.14 \nz\n\" style=\"fill:#1f77b4;\"/>\n   </g>\n   <g id=\"patch_451\">\n    <path clip-path=\"url(#p534bc2074e)\" d=\"M 333.9405 228.14 \nL 334.549227 228.14 \nL 334.549227 228.14 \nL 333.9405 228.14 \nz\n\" style=\"fill:#1f77b4;\"/>\n   </g>\n   <g id=\"patch_452\">\n    <path clip-path=\"url(#p534bc2074e)\" d=\"M 334.549227 228.14 \nL 335.157955 228.14 \nL 335.157955 228.14 \nL 334.549227 228.14 \nz\n\" style=\"fill:#1f77b4;\"/>\n   </g>\n   <g id=\"patch_453\">\n    <path clip-path=\"url(#p534bc2074e)\" d=\"M 335.157955 228.14 \nL 335.766682 228.14 \nL 335.766682 228.14 \nL 335.157955 228.14 \nz\n\" style=\"fill:#1f77b4;\"/>\n   </g>\n   <g id=\"patch_454\">\n    <path clip-path=\"url(#p534bc2074e)\" d=\"M 335.766682 228.14 \nL 336.375409 228.14 \nL 336.375409 228.14 \nL 335.766682 228.14 \nz\n\" style=\"fill:#1f77b4;\"/>\n   </g>\n   <g id=\"patch_455\">\n    <path clip-path=\"url(#p534bc2074e)\" d=\"M 336.375409 228.14 \nL 336.984136 228.14 \nL 336.984136 228.14 \nL 336.375409 228.14 \nz\n\" style=\"fill:#1f77b4;\"/>\n   </g>\n   <g id=\"patch_456\">\n    <path clip-path=\"url(#p534bc2074e)\" d=\"M 336.984136 228.14 \nL 337.592864 228.14 \nL 337.592864 228.14 \nL 336.984136 228.14 \nz\n\" style=\"fill:#1f77b4;\"/>\n   </g>\n   <g id=\"patch_457\">\n    <path clip-path=\"url(#p534bc2074e)\" d=\"M 337.592864 228.14 \nL 338.201591 228.14 \nL 338.201591 228.14 \nL 337.592864 228.14 \nz\n\" style=\"fill:#1f77b4;\"/>\n   </g>\n   <g id=\"patch_458\">\n    <path clip-path=\"url(#p534bc2074e)\" d=\"M 338.201591 228.14 \nL 338.810318 228.14 \nL 338.810318 228.14 \nL 338.201591 228.14 \nz\n\" style=\"fill:#1f77b4;\"/>\n   </g>\n   <g id=\"patch_459\">\n    <path clip-path=\"url(#p534bc2074e)\" d=\"M 338.810318 228.14 \nL 339.419045 228.14 \nL 339.419045 228.14 \nL 338.810318 228.14 \nz\n\" style=\"fill:#1f77b4;\"/>\n   </g>\n   <g id=\"patch_460\">\n    <path clip-path=\"url(#p534bc2074e)\" d=\"M 339.419045 228.14 \nL 340.027773 228.14 \nL 340.027773 228.14 \nL 339.419045 228.14 \nz\n\" style=\"fill:#1f77b4;\"/>\n   </g>\n   <g id=\"patch_461\">\n    <path clip-path=\"url(#p534bc2074e)\" d=\"M 340.027773 228.14 \nL 340.6365 228.14 \nL 340.6365 228.14 \nL 340.027773 228.14 \nz\n\" style=\"fill:#1f77b4;\"/>\n   </g>\n   <g id=\"patch_462\">\n    <path clip-path=\"url(#p534bc2074e)\" d=\"M 340.6365 228.14 \nL 341.245227 228.14 \nL 341.245227 228.14 \nL 340.6365 228.14 \nz\n\" style=\"fill:#1f77b4;\"/>\n   </g>\n   <g id=\"patch_463\">\n    <path clip-path=\"url(#p534bc2074e)\" d=\"M 341.245227 228.14 \nL 341.853955 228.14 \nL 341.853955 228.119065 \nL 341.245227 228.119065 \nz\n\" style=\"fill:#1f77b4;\"/>\n   </g>\n   <g id=\"patch_464\">\n    <path clip-path=\"url(#p534bc2074e)\" d=\"M 341.853955 228.14 \nL 342.462682 228.14 \nL 342.462682 228.14 \nL 341.853955 228.14 \nz\n\" style=\"fill:#1f77b4;\"/>\n   </g>\n   <g id=\"patch_465\">\n    <path clip-path=\"url(#p534bc2074e)\" d=\"M 342.462682 228.14 \nL 343.071409 228.14 \nL 343.071409 228.14 \nL 342.462682 228.14 \nz\n\" style=\"fill:#1f77b4;\"/>\n   </g>\n   <g id=\"patch_466\">\n    <path clip-path=\"url(#p534bc2074e)\" d=\"M 343.071409 228.14 \nL 343.680136 228.14 \nL 343.680136 228.14 \nL 343.071409 228.14 \nz\n\" style=\"fill:#1f77b4;\"/>\n   </g>\n   <g id=\"patch_467\">\n    <path clip-path=\"url(#p534bc2074e)\" d=\"M 343.680136 228.14 \nL 344.288864 228.14 \nL 344.288864 228.14 \nL 343.680136 228.14 \nz\n\" style=\"fill:#1f77b4;\"/>\n   </g>\n   <g id=\"patch_468\">\n    <path clip-path=\"url(#p534bc2074e)\" d=\"M 344.288864 228.14 \nL 344.897591 228.14 \nL 344.897591 228.119065 \nL 344.288864 228.119065 \nz\n\" style=\"fill:#1f77b4;\"/>\n   </g>\n   <g id=\"patch_469\">\n    <path clip-path=\"url(#p534bc2074e)\" d=\"M 344.897591 228.14 \nL 345.506318 228.14 \nL 345.506318 228.14 \nL 344.897591 228.14 \nz\n\" style=\"fill:#1f77b4;\"/>\n   </g>\n   <g id=\"patch_470\">\n    <path clip-path=\"url(#p534bc2074e)\" d=\"M 345.506318 228.14 \nL 346.115045 228.14 \nL 346.115045 228.14 \nL 345.506318 228.14 \nz\n\" style=\"fill:#1f77b4;\"/>\n   </g>\n   <g id=\"patch_471\">\n    <path clip-path=\"url(#p534bc2074e)\" d=\"M 346.115045 228.14 \nL 346.723773 228.14 \nL 346.723773 228.14 \nL 346.115045 228.14 \nz\n\" style=\"fill:#1f77b4;\"/>\n   </g>\n   <g id=\"patch_472\">\n    <path clip-path=\"url(#p534bc2074e)\" d=\"M 346.723773 228.14 \nL 347.3325 228.14 \nL 347.3325 228.14 \nL 346.723773 228.14 \nz\n\" style=\"fill:#1f77b4;\"/>\n   </g>\n   <g id=\"patch_473\">\n    <path clip-path=\"url(#p534bc2074e)\" d=\"M 347.3325 228.14 \nL 347.941227 228.14 \nL 347.941227 228.14 \nL 347.3325 228.14 \nz\n\" style=\"fill:#1f77b4;\"/>\n   </g>\n   <g id=\"patch_474\">\n    <path clip-path=\"url(#p534bc2074e)\" d=\"M 347.941227 228.14 \nL 348.549955 228.14 \nL 348.549955 228.14 \nL 347.941227 228.14 \nz\n\" style=\"fill:#1f77b4;\"/>\n   </g>\n   <g id=\"patch_475\">\n    <path clip-path=\"url(#p534bc2074e)\" d=\"M 348.549955 228.14 \nL 349.158682 228.14 \nL 349.158682 228.14 \nL 348.549955 228.14 \nz\n\" style=\"fill:#1f77b4;\"/>\n   </g>\n   <g id=\"patch_476\">\n    <path clip-path=\"url(#p534bc2074e)\" d=\"M 349.158682 228.14 \nL 349.767409 228.14 \nL 349.767409 228.14 \nL 349.158682 228.14 \nz\n\" style=\"fill:#1f77b4;\"/>\n   </g>\n   <g id=\"patch_477\">\n    <path clip-path=\"url(#p534bc2074e)\" d=\"M 349.767409 228.14 \nL 350.376136 228.14 \nL 350.376136 228.119065 \nL 349.767409 228.119065 \nz\n\" style=\"fill:#1f77b4;\"/>\n   </g>\n   <g id=\"patch_478\">\n    <path clip-path=\"url(#p534bc2074e)\" d=\"M 350.376136 228.14 \nL 350.984864 228.14 \nL 350.984864 228.119065 \nL 350.376136 228.119065 \nz\n\" style=\"fill:#1f77b4;\"/>\n   </g>\n   <g id=\"patch_479\">\n    <path clip-path=\"url(#p534bc2074e)\" d=\"M 350.984864 228.14 \nL 351.593591 228.14 \nL 351.593591 228.14 \nL 350.984864 228.14 \nz\n\" style=\"fill:#1f77b4;\"/>\n   </g>\n   <g id=\"patch_480\">\n    <path clip-path=\"url(#p534bc2074e)\" d=\"M 351.593591 228.14 \nL 352.202318 228.14 \nL 352.202318 228.14 \nL 351.593591 228.14 \nz\n\" style=\"fill:#1f77b4;\"/>\n   </g>\n   <g id=\"patch_481\">\n    <path clip-path=\"url(#p534bc2074e)\" d=\"M 352.202318 228.14 \nL 352.811045 228.14 \nL 352.811045 228.14 \nL 352.202318 228.14 \nz\n\" style=\"fill:#1f77b4;\"/>\n   </g>\n   <g id=\"patch_482\">\n    <path clip-path=\"url(#p534bc2074e)\" d=\"M 352.811045 228.14 \nL 353.419773 228.14 \nL 353.419773 228.14 \nL 352.811045 228.14 \nz\n\" style=\"fill:#1f77b4;\"/>\n   </g>\n   <g id=\"patch_483\">\n    <path clip-path=\"url(#p534bc2074e)\" d=\"M 353.419773 228.14 \nL 354.0285 228.14 \nL 354.0285 228.14 \nL 353.419773 228.14 \nz\n\" style=\"fill:#1f77b4;\"/>\n   </g>\n   <g id=\"patch_484\">\n    <path clip-path=\"url(#p534bc2074e)\" d=\"M 354.0285 228.14 \nL 354.637227 228.14 \nL 354.637227 228.098131 \nL 354.0285 228.098131 \nz\n\" style=\"fill:#1f77b4;\"/>\n   </g>\n   <g id=\"patch_485\">\n    <path clip-path=\"url(#p534bc2074e)\" d=\"M 354.637227 228.14 \nL 355.245955 228.14 \nL 355.245955 228.14 \nL 354.637227 228.14 \nz\n\" style=\"fill:#1f77b4;\"/>\n   </g>\n   <g id=\"patch_486\">\n    <path clip-path=\"url(#p534bc2074e)\" d=\"M 355.245955 228.14 \nL 355.854682 228.14 \nL 355.854682 228.14 \nL 355.245955 228.14 \nz\n\" style=\"fill:#1f77b4;\"/>\n   </g>\n   <g id=\"patch_487\">\n    <path clip-path=\"url(#p534bc2074e)\" d=\"M 355.854682 228.14 \nL 356.463409 228.14 \nL 356.463409 228.14 \nL 355.854682 228.14 \nz\n\" style=\"fill:#1f77b4;\"/>\n   </g>\n   <g id=\"patch_488\">\n    <path clip-path=\"url(#p534bc2074e)\" d=\"M 356.463409 228.14 \nL 357.072136 228.14 \nL 357.072136 228.14 \nL 356.463409 228.14 \nz\n\" style=\"fill:#1f77b4;\"/>\n   </g>\n   <g id=\"patch_489\">\n    <path clip-path=\"url(#p534bc2074e)\" d=\"M 357.072136 228.14 \nL 357.680864 228.14 \nL 357.680864 228.14 \nL 357.072136 228.14 \nz\n\" style=\"fill:#1f77b4;\"/>\n   </g>\n   <g id=\"patch_490\">\n    <path clip-path=\"url(#p534bc2074e)\" d=\"M 357.680864 228.14 \nL 358.289591 228.14 \nL 358.289591 228.14 \nL 357.680864 228.14 \nz\n\" style=\"fill:#1f77b4;\"/>\n   </g>\n   <g id=\"patch_491\">\n    <path clip-path=\"url(#p534bc2074e)\" d=\"M 358.289591 228.14 \nL 358.898318 228.14 \nL 358.898318 228.14 \nL 358.289591 228.14 \nz\n\" style=\"fill:#1f77b4;\"/>\n   </g>\n   <g id=\"patch_492\">\n    <path clip-path=\"url(#p534bc2074e)\" d=\"M 358.898318 228.14 \nL 359.507045 228.14 \nL 359.507045 228.14 \nL 358.898318 228.14 \nz\n\" style=\"fill:#1f77b4;\"/>\n   </g>\n   <g id=\"patch_493\">\n    <path clip-path=\"url(#p534bc2074e)\" d=\"M 359.507045 228.14 \nL 360.115773 228.14 \nL 360.115773 228.14 \nL 359.507045 228.14 \nz\n\" style=\"fill:#1f77b4;\"/>\n   </g>\n   <g id=\"patch_494\">\n    <path clip-path=\"url(#p534bc2074e)\" d=\"M 360.115773 228.14 \nL 360.7245 228.14 \nL 360.7245 228.098131 \nL 360.115773 228.098131 \nz\n\" style=\"fill:#1f77b4;\"/>\n   </g>\n   <g id=\"patch_495\">\n    <path clip-path=\"url(#p534bc2074e)\" d=\"M 360.7245 228.14 \nL 361.333227 228.14 \nL 361.333227 228.14 \nL 360.7245 228.14 \nz\n\" style=\"fill:#1f77b4;\"/>\n   </g>\n   <g id=\"patch_496\">\n    <path clip-path=\"url(#p534bc2074e)\" d=\"M 361.333227 228.14 \nL 361.941955 228.14 \nL 361.941955 228.14 \nL 361.333227 228.14 \nz\n\" style=\"fill:#1f77b4;\"/>\n   </g>\n   <g id=\"patch_497\">\n    <path clip-path=\"url(#p534bc2074e)\" d=\"M 361.941955 228.14 \nL 362.550682 228.14 \nL 362.550682 228.14 \nL 361.941955 228.14 \nz\n\" style=\"fill:#1f77b4;\"/>\n   </g>\n   <g id=\"patch_498\">\n    <path clip-path=\"url(#p534bc2074e)\" d=\"M 362.550682 228.14 \nL 363.159409 228.14 \nL 363.159409 228.14 \nL 362.550682 228.14 \nz\n\" style=\"fill:#1f77b4;\"/>\n   </g>\n   <g id=\"patch_499\">\n    <path clip-path=\"url(#p534bc2074e)\" d=\"M 363.159409 228.14 \nL 363.768136 228.14 \nL 363.768136 228.14 \nL 363.159409 228.14 \nz\n\" style=\"fill:#1f77b4;\"/>\n   </g>\n   <g id=\"patch_500\">\n    <path clip-path=\"url(#p534bc2074e)\" d=\"M 363.768136 228.14 \nL 364.376864 228.14 \nL 364.376864 228.14 \nL 363.768136 228.14 \nz\n\" style=\"fill:#1f77b4;\"/>\n   </g>\n   <g id=\"patch_501\">\n    <path clip-path=\"url(#p534bc2074e)\" d=\"M 364.376864 228.14 \nL 364.985591 228.14 \nL 364.985591 228.14 \nL 364.376864 228.14 \nz\n\" style=\"fill:#1f77b4;\"/>\n   </g>\n   <g id=\"patch_502\">\n    <path clip-path=\"url(#p534bc2074e)\" d=\"M 364.985591 228.14 \nL 365.594318 228.14 \nL 365.594318 228.119065 \nL 364.985591 228.119065 \nz\n\" style=\"fill:#1f77b4;\"/>\n   </g>\n   <g id=\"matplotlib.axis_1\">\n    <g id=\"xtick_1\">\n     <g id=\"line2d_1\">\n      <defs>\n       <path d=\"M 0 0 \nL 0 3.5 \n\" id=\"m539459e84a\" style=\"stroke:#000000;stroke-width:0.8;\"/>\n      </defs>\n      <g>\n       <use style=\"stroke:#000000;stroke-width:0.8;\" x=\"61.230682\" xlink:href=\"#m539459e84a\" y=\"228.14\"/>\n      </g>\n     </g>\n     <g id=\"text_1\">\n      <!-- 0 -->\n      <defs>\n       <path d=\"M 31.78125 66.40625 \nQ 24.171875 66.40625 20.328125 58.90625 \nQ 16.5 51.421875 16.5 36.375 \nQ 16.5 21.390625 20.328125 13.890625 \nQ 24.171875 6.390625 31.78125 6.390625 \nQ 39.453125 6.390625 43.28125 13.890625 \nQ 47.125 21.390625 47.125 36.375 \nQ 47.125 51.421875 43.28125 58.90625 \nQ 39.453125 66.40625 31.78125 66.40625 \nz\nM 31.78125 74.21875 \nQ 44.046875 74.21875 50.515625 64.515625 \nQ 56.984375 54.828125 56.984375 36.375 \nQ 56.984375 17.96875 50.515625 8.265625 \nQ 44.046875 -1.421875 31.78125 -1.421875 \nQ 19.53125 -1.421875 13.0625 8.265625 \nQ 6.59375 17.96875 6.59375 36.375 \nQ 6.59375 54.828125 13.0625 64.515625 \nQ 19.53125 74.21875 31.78125 74.21875 \nz\n\" id=\"DejaVuSans-48\"/>\n      </defs>\n      <g transform=\"translate(58.049432 242.738437)scale(0.1 -0.1)\">\n       <use xlink:href=\"#DejaVuSans-48\"/>\n      </g>\n     </g>\n    </g>\n    <g id=\"xtick_2\">\n     <g id=\"line2d_2\">\n      <g>\n       <use style=\"stroke:#000000;stroke-width:0.8;\" x=\"103.737789\" xlink:href=\"#m539459e84a\" y=\"228.14\"/>\n      </g>\n     </g>\n     <g id=\"text_2\">\n      <!-- 10000 -->\n      <defs>\n       <path d=\"M 12.40625 8.296875 \nL 28.515625 8.296875 \nL 28.515625 63.921875 \nL 10.984375 60.40625 \nL 10.984375 69.390625 \nL 28.421875 72.90625 \nL 38.28125 72.90625 \nL 38.28125 8.296875 \nL 54.390625 8.296875 \nL 54.390625 0 \nL 12.40625 0 \nz\n\" id=\"DejaVuSans-49\"/>\n      </defs>\n      <g transform=\"translate(87.831539 242.738437)scale(0.1 -0.1)\">\n       <use xlink:href=\"#DejaVuSans-49\"/>\n       <use x=\"63.623047\" xlink:href=\"#DejaVuSans-48\"/>\n       <use x=\"127.246094\" xlink:href=\"#DejaVuSans-48\"/>\n       <use x=\"190.869141\" xlink:href=\"#DejaVuSans-48\"/>\n       <use x=\"254.492188\" xlink:href=\"#DejaVuSans-48\"/>\n      </g>\n     </g>\n    </g>\n    <g id=\"xtick_3\">\n     <g id=\"line2d_3\">\n      <g>\n       <use style=\"stroke:#000000;stroke-width:0.8;\" x=\"146.244895\" xlink:href=\"#m539459e84a\" y=\"228.14\"/>\n      </g>\n     </g>\n     <g id=\"text_3\">\n      <!-- 20000 -->\n      <defs>\n       <path d=\"M 19.1875 8.296875 \nL 53.609375 8.296875 \nL 53.609375 0 \nL 7.328125 0 \nL 7.328125 8.296875 \nQ 12.9375 14.109375 22.625 23.890625 \nQ 32.328125 33.6875 34.8125 36.53125 \nQ 39.546875 41.84375 41.421875 45.53125 \nQ 43.3125 49.21875 43.3125 52.78125 \nQ 43.3125 58.59375 39.234375 62.25 \nQ 35.15625 65.921875 28.609375 65.921875 \nQ 23.96875 65.921875 18.8125 64.3125 \nQ 13.671875 62.703125 7.8125 59.421875 \nL 7.8125 69.390625 \nQ 13.765625 71.78125 18.9375 73 \nQ 24.125 74.21875 28.421875 74.21875 \nQ 39.75 74.21875 46.484375 68.546875 \nQ 53.21875 62.890625 53.21875 53.421875 \nQ 53.21875 48.921875 51.53125 44.890625 \nQ 49.859375 40.875 45.40625 35.40625 \nQ 44.1875 33.984375 37.640625 27.21875 \nQ 31.109375 20.453125 19.1875 8.296875 \nz\n\" id=\"DejaVuSans-50\"/>\n      </defs>\n      <g transform=\"translate(130.338645 242.738437)scale(0.1 -0.1)\">\n       <use xlink:href=\"#DejaVuSans-50\"/>\n       <use x=\"63.623047\" xlink:href=\"#DejaVuSans-48\"/>\n       <use x=\"127.246094\" xlink:href=\"#DejaVuSans-48\"/>\n       <use x=\"190.869141\" xlink:href=\"#DejaVuSans-48\"/>\n       <use x=\"254.492188\" xlink:href=\"#DejaVuSans-48\"/>\n      </g>\n     </g>\n    </g>\n    <g id=\"xtick_4\">\n     <g id=\"line2d_4\">\n      <g>\n       <use style=\"stroke:#000000;stroke-width:0.8;\" x=\"188.752002\" xlink:href=\"#m539459e84a\" y=\"228.14\"/>\n      </g>\n     </g>\n     <g id=\"text_4\">\n      <!-- 30000 -->\n      <defs>\n       <path d=\"M 40.578125 39.3125 \nQ 47.65625 37.796875 51.625 33 \nQ 55.609375 28.21875 55.609375 21.1875 \nQ 55.609375 10.40625 48.1875 4.484375 \nQ 40.765625 -1.421875 27.09375 -1.421875 \nQ 22.515625 -1.421875 17.65625 -0.515625 \nQ 12.796875 0.390625 7.625 2.203125 \nL 7.625 11.71875 \nQ 11.71875 9.328125 16.59375 8.109375 \nQ 21.484375 6.890625 26.8125 6.890625 \nQ 36.078125 6.890625 40.9375 10.546875 \nQ 45.796875 14.203125 45.796875 21.1875 \nQ 45.796875 27.640625 41.28125 31.265625 \nQ 36.765625 34.90625 28.71875 34.90625 \nL 20.21875 34.90625 \nL 20.21875 43.015625 \nL 29.109375 43.015625 \nQ 36.375 43.015625 40.234375 45.921875 \nQ 44.09375 48.828125 44.09375 54.296875 \nQ 44.09375 59.90625 40.109375 62.90625 \nQ 36.140625 65.921875 28.71875 65.921875 \nQ 24.65625 65.921875 20.015625 65.03125 \nQ 15.375 64.15625 9.8125 62.3125 \nL 9.8125 71.09375 \nQ 15.4375 72.65625 20.34375 73.4375 \nQ 25.25 74.21875 29.59375 74.21875 \nQ 40.828125 74.21875 47.359375 69.109375 \nQ 53.90625 64.015625 53.90625 55.328125 \nQ 53.90625 49.265625 50.4375 45.09375 \nQ 46.96875 40.921875 40.578125 39.3125 \nz\n\" id=\"DejaVuSans-51\"/>\n      </defs>\n      <g transform=\"translate(172.845752 242.738437)scale(0.1 -0.1)\">\n       <use xlink:href=\"#DejaVuSans-51\"/>\n       <use x=\"63.623047\" xlink:href=\"#DejaVuSans-48\"/>\n       <use x=\"127.246094\" xlink:href=\"#DejaVuSans-48\"/>\n       <use x=\"190.869141\" xlink:href=\"#DejaVuSans-48\"/>\n       <use x=\"254.492188\" xlink:href=\"#DejaVuSans-48\"/>\n      </g>\n     </g>\n    </g>\n    <g id=\"xtick_5\">\n     <g id=\"line2d_5\">\n      <g>\n       <use style=\"stroke:#000000;stroke-width:0.8;\" x=\"231.259109\" xlink:href=\"#m539459e84a\" y=\"228.14\"/>\n      </g>\n     </g>\n     <g id=\"text_5\">\n      <!-- 40000 -->\n      <defs>\n       <path d=\"M 37.796875 64.3125 \nL 12.890625 25.390625 \nL 37.796875 25.390625 \nz\nM 35.203125 72.90625 \nL 47.609375 72.90625 \nL 47.609375 25.390625 \nL 58.015625 25.390625 \nL 58.015625 17.1875 \nL 47.609375 17.1875 \nL 47.609375 0 \nL 37.796875 0 \nL 37.796875 17.1875 \nL 4.890625 17.1875 \nL 4.890625 26.703125 \nz\n\" id=\"DejaVuSans-52\"/>\n      </defs>\n      <g transform=\"translate(215.352859 242.738437)scale(0.1 -0.1)\">\n       <use xlink:href=\"#DejaVuSans-52\"/>\n       <use x=\"63.623047\" xlink:href=\"#DejaVuSans-48\"/>\n       <use x=\"127.246094\" xlink:href=\"#DejaVuSans-48\"/>\n       <use x=\"190.869141\" xlink:href=\"#DejaVuSans-48\"/>\n       <use x=\"254.492188\" xlink:href=\"#DejaVuSans-48\"/>\n      </g>\n     </g>\n    </g>\n    <g id=\"xtick_6\">\n     <g id=\"line2d_6\">\n      <g>\n       <use style=\"stroke:#000000;stroke-width:0.8;\" x=\"273.766215\" xlink:href=\"#m539459e84a\" y=\"228.14\"/>\n      </g>\n     </g>\n     <g id=\"text_6\">\n      <!-- 50000 -->\n      <defs>\n       <path d=\"M 10.796875 72.90625 \nL 49.515625 72.90625 \nL 49.515625 64.59375 \nL 19.828125 64.59375 \nL 19.828125 46.734375 \nQ 21.96875 47.46875 24.109375 47.828125 \nQ 26.265625 48.1875 28.421875 48.1875 \nQ 40.625 48.1875 47.75 41.5 \nQ 54.890625 34.8125 54.890625 23.390625 \nQ 54.890625 11.625 47.5625 5.09375 \nQ 40.234375 -1.421875 26.90625 -1.421875 \nQ 22.3125 -1.421875 17.546875 -0.640625 \nQ 12.796875 0.140625 7.71875 1.703125 \nL 7.71875 11.625 \nQ 12.109375 9.234375 16.796875 8.0625 \nQ 21.484375 6.890625 26.703125 6.890625 \nQ 35.15625 6.890625 40.078125 11.328125 \nQ 45.015625 15.765625 45.015625 23.390625 \nQ 45.015625 31 40.078125 35.4375 \nQ 35.15625 39.890625 26.703125 39.890625 \nQ 22.75 39.890625 18.8125 39.015625 \nQ 14.890625 38.140625 10.796875 36.28125 \nz\n\" id=\"DejaVuSans-53\"/>\n      </defs>\n      <g transform=\"translate(257.859965 242.738437)scale(0.1 -0.1)\">\n       <use xlink:href=\"#DejaVuSans-53\"/>\n       <use x=\"63.623047\" xlink:href=\"#DejaVuSans-48\"/>\n       <use x=\"127.246094\" xlink:href=\"#DejaVuSans-48\"/>\n       <use x=\"190.869141\" xlink:href=\"#DejaVuSans-48\"/>\n       <use x=\"254.492188\" xlink:href=\"#DejaVuSans-48\"/>\n      </g>\n     </g>\n    </g>\n    <g id=\"xtick_7\">\n     <g id=\"line2d_7\">\n      <g>\n       <use style=\"stroke:#000000;stroke-width:0.8;\" x=\"316.273322\" xlink:href=\"#m539459e84a\" y=\"228.14\"/>\n      </g>\n     </g>\n     <g id=\"text_7\">\n      <!-- 60000 -->\n      <defs>\n       <path d=\"M 33.015625 40.375 \nQ 26.375 40.375 22.484375 35.828125 \nQ 18.609375 31.296875 18.609375 23.390625 \nQ 18.609375 15.53125 22.484375 10.953125 \nQ 26.375 6.390625 33.015625 6.390625 \nQ 39.65625 6.390625 43.53125 10.953125 \nQ 47.40625 15.53125 47.40625 23.390625 \nQ 47.40625 31.296875 43.53125 35.828125 \nQ 39.65625 40.375 33.015625 40.375 \nz\nM 52.59375 71.296875 \nL 52.59375 62.3125 \nQ 48.875 64.0625 45.09375 64.984375 \nQ 41.3125 65.921875 37.59375 65.921875 \nQ 27.828125 65.921875 22.671875 59.328125 \nQ 17.53125 52.734375 16.796875 39.40625 \nQ 19.671875 43.65625 24.015625 45.921875 \nQ 28.375 48.1875 33.59375 48.1875 \nQ 44.578125 48.1875 50.953125 41.515625 \nQ 57.328125 34.859375 57.328125 23.390625 \nQ 57.328125 12.15625 50.6875 5.359375 \nQ 44.046875 -1.421875 33.015625 -1.421875 \nQ 20.359375 -1.421875 13.671875 8.265625 \nQ 6.984375 17.96875 6.984375 36.375 \nQ 6.984375 53.65625 15.1875 63.9375 \nQ 23.390625 74.21875 37.203125 74.21875 \nQ 40.921875 74.21875 44.703125 73.484375 \nQ 48.484375 72.75 52.59375 71.296875 \nz\n\" id=\"DejaVuSans-54\"/>\n      </defs>\n      <g transform=\"translate(300.367072 242.738437)scale(0.1 -0.1)\">\n       <use xlink:href=\"#DejaVuSans-54\"/>\n       <use x=\"63.623047\" xlink:href=\"#DejaVuSans-48\"/>\n       <use x=\"127.246094\" xlink:href=\"#DejaVuSans-48\"/>\n       <use x=\"190.869141\" xlink:href=\"#DejaVuSans-48\"/>\n       <use x=\"254.492188\" xlink:href=\"#DejaVuSans-48\"/>\n      </g>\n     </g>\n    </g>\n    <g id=\"xtick_8\">\n     <g id=\"line2d_8\">\n      <g>\n       <use style=\"stroke:#000000;stroke-width:0.8;\" x=\"358.780429\" xlink:href=\"#m539459e84a\" y=\"228.14\"/>\n      </g>\n     </g>\n     <g id=\"text_8\">\n      <!-- 70000 -->\n      <defs>\n       <path d=\"M 8.203125 72.90625 \nL 55.078125 72.90625 \nL 55.078125 68.703125 \nL 28.609375 0 \nL 18.3125 0 \nL 43.21875 64.59375 \nL 8.203125 64.59375 \nz\n\" id=\"DejaVuSans-55\"/>\n      </defs>\n      <g transform=\"translate(342.874179 242.738437)scale(0.1 -0.1)\">\n       <use xlink:href=\"#DejaVuSans-55\"/>\n       <use x=\"63.623047\" xlink:href=\"#DejaVuSans-48\"/>\n       <use x=\"127.246094\" xlink:href=\"#DejaVuSans-48\"/>\n       <use x=\"190.869141\" xlink:href=\"#DejaVuSans-48\"/>\n       <use x=\"254.492188\" xlink:href=\"#DejaVuSans-48\"/>\n      </g>\n     </g>\n    </g>\n   </g>\n   <g id=\"matplotlib.axis_2\">\n    <g id=\"ytick_1\">\n     <g id=\"line2d_9\">\n      <defs>\n       <path d=\"M 0 0 \nL -3.5 0 \n\" id=\"m69aef5f768\" style=\"stroke:#000000;stroke-width:0.8;\"/>\n      </defs>\n      <g>\n       <use style=\"stroke:#000000;stroke-width:0.8;\" x=\"46.0125\" xlink:href=\"#m69aef5f768\" y=\"228.14\"/>\n      </g>\n     </g>\n     <g id=\"text_9\">\n      <!-- 0 -->\n      <g transform=\"translate(32.65 231.939219)scale(0.1 -0.1)\">\n       <use xlink:href=\"#DejaVuSans-48\"/>\n      </g>\n     </g>\n    </g>\n    <g id=\"ytick_2\">\n     <g id=\"line2d_10\">\n      <g>\n       <use style=\"stroke:#000000;stroke-width:0.8;\" x=\"46.0125\" xlink:href=\"#m69aef5f768\" y=\"186.270668\"/>\n      </g>\n     </g>\n     <g id=\"text_10\">\n      <!-- 2000 -->\n      <g transform=\"translate(13.5625 190.069887)scale(0.1 -0.1)\">\n       <use xlink:href=\"#DejaVuSans-50\"/>\n       <use x=\"63.623047\" xlink:href=\"#DejaVuSans-48\"/>\n       <use x=\"127.246094\" xlink:href=\"#DejaVuSans-48\"/>\n       <use x=\"190.869141\" xlink:href=\"#DejaVuSans-48\"/>\n      </g>\n     </g>\n    </g>\n    <g id=\"ytick_3\">\n     <g id=\"line2d_11\">\n      <g>\n       <use style=\"stroke:#000000;stroke-width:0.8;\" x=\"46.0125\" xlink:href=\"#m69aef5f768\" y=\"144.401337\"/>\n      </g>\n     </g>\n     <g id=\"text_11\">\n      <!-- 4000 -->\n      <g transform=\"translate(13.5625 148.200555)scale(0.1 -0.1)\">\n       <use xlink:href=\"#DejaVuSans-52\"/>\n       <use x=\"63.623047\" xlink:href=\"#DejaVuSans-48\"/>\n       <use x=\"127.246094\" xlink:href=\"#DejaVuSans-48\"/>\n       <use x=\"190.869141\" xlink:href=\"#DejaVuSans-48\"/>\n      </g>\n     </g>\n    </g>\n    <g id=\"ytick_4\">\n     <g id=\"line2d_12\">\n      <g>\n       <use style=\"stroke:#000000;stroke-width:0.8;\" x=\"46.0125\" xlink:href=\"#m69aef5f768\" y=\"102.532005\"/>\n      </g>\n     </g>\n     <g id=\"text_12\">\n      <!-- 6000 -->\n      <g transform=\"translate(13.5625 106.331224)scale(0.1 -0.1)\">\n       <use xlink:href=\"#DejaVuSans-54\"/>\n       <use x=\"63.623047\" xlink:href=\"#DejaVuSans-48\"/>\n       <use x=\"127.246094\" xlink:href=\"#DejaVuSans-48\"/>\n       <use x=\"190.869141\" xlink:href=\"#DejaVuSans-48\"/>\n      </g>\n     </g>\n    </g>\n    <g id=\"ytick_5\">\n     <g id=\"line2d_13\">\n      <g>\n       <use style=\"stroke:#000000;stroke-width:0.8;\" x=\"46.0125\" xlink:href=\"#m69aef5f768\" y=\"60.662673\"/>\n      </g>\n     </g>\n     <g id=\"text_13\">\n      <!-- 8000 -->\n      <defs>\n       <path d=\"M 31.78125 34.625 \nQ 24.75 34.625 20.71875 30.859375 \nQ 16.703125 27.09375 16.703125 20.515625 \nQ 16.703125 13.921875 20.71875 10.15625 \nQ 24.75 6.390625 31.78125 6.390625 \nQ 38.8125 6.390625 42.859375 10.171875 \nQ 46.921875 13.96875 46.921875 20.515625 \nQ 46.921875 27.09375 42.890625 30.859375 \nQ 38.875 34.625 31.78125 34.625 \nz\nM 21.921875 38.8125 \nQ 15.578125 40.375 12.03125 44.71875 \nQ 8.5 49.078125 8.5 55.328125 \nQ 8.5 64.0625 14.71875 69.140625 \nQ 20.953125 74.21875 31.78125 74.21875 \nQ 42.671875 74.21875 48.875 69.140625 \nQ 55.078125 64.0625 55.078125 55.328125 \nQ 55.078125 49.078125 51.53125 44.71875 \nQ 48 40.375 41.703125 38.8125 \nQ 48.828125 37.15625 52.796875 32.3125 \nQ 56.78125 27.484375 56.78125 20.515625 \nQ 56.78125 9.90625 50.3125 4.234375 \nQ 43.84375 -1.421875 31.78125 -1.421875 \nQ 19.734375 -1.421875 13.25 4.234375 \nQ 6.78125 9.90625 6.78125 20.515625 \nQ 6.78125 27.484375 10.78125 32.3125 \nQ 14.796875 37.15625 21.921875 38.8125 \nz\nM 18.3125 54.390625 \nQ 18.3125 48.734375 21.84375 45.5625 \nQ 25.390625 42.390625 31.78125 42.390625 \nQ 38.140625 42.390625 41.71875 45.5625 \nQ 45.3125 48.734375 45.3125 54.390625 \nQ 45.3125 60.0625 41.71875 63.234375 \nQ 38.140625 66.40625 31.78125 66.40625 \nQ 25.390625 66.40625 21.84375 63.234375 \nQ 18.3125 60.0625 18.3125 54.390625 \nz\n\" id=\"DejaVuSans-56\"/>\n      </defs>\n      <g transform=\"translate(13.5625 64.461892)scale(0.1 -0.1)\">\n       <use xlink:href=\"#DejaVuSans-56\"/>\n       <use x=\"63.623047\" xlink:href=\"#DejaVuSans-48\"/>\n       <use x=\"127.246094\" xlink:href=\"#DejaVuSans-48\"/>\n       <use x=\"190.869141\" xlink:href=\"#DejaVuSans-48\"/>\n      </g>\n     </g>\n    </g>\n    <g id=\"ytick_6\">\n     <g id=\"line2d_14\">\n      <g>\n       <use style=\"stroke:#000000;stroke-width:0.8;\" x=\"46.0125\" xlink:href=\"#m69aef5f768\" y=\"18.793342\"/>\n      </g>\n     </g>\n     <g id=\"text_14\">\n      <!-- 10000 -->\n      <g transform=\"translate(7.2 22.592561)scale(0.1 -0.1)\">\n       <use xlink:href=\"#DejaVuSans-49\"/>\n       <use x=\"63.623047\" xlink:href=\"#DejaVuSans-48\"/>\n       <use x=\"127.246094\" xlink:href=\"#DejaVuSans-48\"/>\n       <use x=\"190.869141\" xlink:href=\"#DejaVuSans-48\"/>\n       <use x=\"254.492188\" xlink:href=\"#DejaVuSans-48\"/>\n      </g>\n     </g>\n    </g>\n   </g>\n   <g id=\"patch_503\">\n    <path d=\"M 46.0125 228.14 \nL 46.0125 10.7 \n\" style=\"fill:none;stroke:#000000;stroke-linecap:square;stroke-linejoin:miter;stroke-width:0.8;\"/>\n   </g>\n   <g id=\"patch_504\">\n    <path d=\"M 380.8125 228.14 \nL 380.8125 10.7 \n\" style=\"fill:none;stroke:#000000;stroke-linecap:square;stroke-linejoin:miter;stroke-width:0.8;\"/>\n   </g>\n   <g id=\"patch_505\">\n    <path d=\"M 46.0125 228.14 \nL 380.8125 228.14 \n\" style=\"fill:none;stroke:#000000;stroke-linecap:square;stroke-linejoin:miter;stroke-width:0.8;\"/>\n   </g>\n   <g id=\"patch_506\">\n    <path d=\"M 46.0125 10.7 \nL 380.8125 10.7 \n\" style=\"fill:none;stroke:#000000;stroke-linecap:square;stroke-linejoin:miter;stroke-width:0.8;\"/>\n   </g>\n  </g>\n </g>\n <defs>\n  <clipPath id=\"p534bc2074e\">\n   <rect height=\"217.44\" width=\"334.8\" x=\"46.0125\" y=\"10.7\"/>\n  </clipPath>\n </defs>\n</svg>\n",
      "text/plain": "<Figure size 432x288 with 1 Axes>"
     },
     "metadata": {
      "needs_background": "light"
     },
     "output_type": "display_data"
    }
   ],
   "source": [
    "_ = plt.hist(l.price, bins=500)"
   ]
  },
  {
   "cell_type": "markdown",
   "metadata": {},
   "source": [
    "This distribution does not look normal as it is skewed to the right, and therefore we should do a log transformation."
   ]
  },
  {
   "cell_type": "markdown",
   "metadata": {},
   "source": [
    "## 3.4"
   ]
  },
  {
   "cell_type": "code",
   "execution_count": 39,
   "metadata": {},
   "outputs": [],
   "source": [
    "l['bedrooms'] = l['bedrooms'].astype(int)\n",
    "four_plus = l.index[l.bedrooms >= 4]\n",
    "l['bedrooms'] = l['bedrooms'].apply(str)\n",
    "for i in four_plus:\n",
    "    l.loc[i, 'bedrooms'] = '4+'"
   ]
  },
  {
   "cell_type": "code",
   "execution_count": 40,
   "metadata": {},
   "outputs": [],
   "source": [
    "# edit function to use listings dataset\n",
    "def makeDummies(var, name, ref):\n",
    "    values = var.unique()\n",
    "    data = pd.DataFrame({name + str(i): [0 for j in range(len(var))] for i in values})\n",
    "    for i in values:\n",
    "        indices = l.index[var == i]\n",
    "        for j in indices:\n",
    "            data.loc[j, name + str(i)] = 1\n",
    "    data = data.drop(name + ref, 1)\n",
    "    return data"
   ]
  },
  {
   "cell_type": "code",
   "execution_count": 41,
   "metadata": {},
   "outputs": [],
   "source": [
    "bds = makeDummies(l.bedrooms, 'bd', '4+')"
   ]
  },
  {
   "cell_type": "code",
   "execution_count": 42,
   "metadata": {},
   "outputs": [
    {
     "data": {
      "text/html": "<div>\n<style scoped>\n    .dataframe tbody tr th:only-of-type {\n        vertical-align: middle;\n    }\n\n    .dataframe tbody tr th {\n        vertical-align: top;\n    }\n\n    .dataframe thead th {\n        text-align: right;\n    }\n</style>\n<table border=\"1\" class=\"dataframe\">\n  <thead>\n    <tr style=\"text-align: right;\">\n      <th></th>\n      <th>bd3</th>\n      <th>bd1</th>\n      <th>bd2</th>\n      <th>bd0</th>\n    </tr>\n  </thead>\n  <tbody>\n    <tr>\n      <th>17151</th>\n      <td>0.0</td>\n      <td>1.0</td>\n      <td>0.0</td>\n      <td>0.0</td>\n    </tr>\n    <tr>\n      <th>23495</th>\n      <td>0.0</td>\n      <td>1.0</td>\n      <td>0.0</td>\n      <td>0.0</td>\n    </tr>\n    <tr>\n      <th>12489</th>\n      <td>0.0</td>\n      <td>0.0</td>\n      <td>1.0</td>\n      <td>0.0</td>\n    </tr>\n    <tr>\n      <th>31887</th>\n      <td>0.0</td>\n      <td>0.0</td>\n      <td>1.0</td>\n      <td>0.0</td>\n    </tr>\n    <tr>\n      <th>12374</th>\n      <td>0.0</td>\n      <td>1.0</td>\n      <td>0.0</td>\n      <td>0.0</td>\n    </tr>\n  </tbody>\n</table>\n</div>",
      "text/plain": "       bd3  bd1  bd2  bd0\n17151  0.0  1.0  0.0  0.0\n23495  0.0  1.0  0.0  0.0\n12489  0.0  0.0  1.0  0.0\n31887  0.0  0.0  1.0  0.0\n12374  0.0  1.0  0.0  0.0"
     },
     "execution_count": 42,
     "metadata": {},
     "output_type": "execute_result"
    }
   ],
   "source": [
    "bds.sample(5)"
   ]
  },
  {
   "cell_type": "markdown",
   "metadata": {},
   "source": [
    "## 3.5"
   ]
  },
  {
   "cell_type": "code",
   "execution_count": 43,
   "metadata": {},
   "outputs": [],
   "source": [
    "bds['price'] = l.price"
   ]
  },
  {
   "cell_type": "code",
   "execution_count": 44,
   "metadata": {},
   "outputs": [],
   "source": [
    "r = smf.ols(formula = 'price ~ bd1 + bd2 + bd3 + bd0', data = bds).fit()"
   ]
  },
  {
   "cell_type": "code",
   "execution_count": 45,
   "metadata": {},
   "outputs": [
    {
     "data": {
      "text/html": "<table class=\"simpletable\">\n<caption>OLS Regression Results</caption>\n<tr>\n  <th>Dep. Variable:</th>          <td>price</td>      <th>  R-squared:         </th>  <td>   0.102</td>  \n</tr>\n<tr>\n  <th>Model:</th>                   <td>OLS</td>       <th>  Adj. R-squared:    </th>  <td>   0.101</td>  \n</tr>\n<tr>\n  <th>Method:</th>             <td>Least Squares</td>  <th>  F-statistic:       </th>  <td>   1090.</td>  \n</tr>\n<tr>\n  <th>Date:</th>             <td>Mon, 24 Feb 2020</td> <th>  Prob (F-statistic):</th>   <td>  0.00</td>   \n</tr>\n<tr>\n  <th>Time:</th>                 <td>21:12:16</td>     <th>  Log-Likelihood:    </th> <td>-3.4049e+05</td>\n</tr>\n<tr>\n  <th>No. Observations:</th>      <td> 38585</td>      <th>  AIC:               </th>  <td>6.810e+05</td> \n</tr>\n<tr>\n  <th>Df Residuals:</th>          <td> 38580</td>      <th>  BIC:               </th>  <td>6.810e+05</td> \n</tr>\n<tr>\n  <th>Df Model:</th>              <td>     4</td>      <th>                     </th>      <td> </td>     \n</tr>\n<tr>\n  <th>Covariance Type:</th>      <td>nonrobust</td>    <th>                     </th>      <td> </td>     \n</tr>\n</table>\n<table class=\"simpletable\">\n<tr>\n      <td></td>         <th>coef</th>     <th>std err</th>      <th>t</th>      <th>P>|t|</th>  <th>[0.025</th>    <th>0.975]</th>  \n</tr>\n<tr>\n  <th>Intercept</th> <td> 2616.8972</td> <td>   32.580</td> <td>   80.322</td> <td> 0.000</td> <td> 2553.039</td> <td> 2680.755</td>\n</tr>\n<tr>\n  <th>bd1</th>       <td>-2179.4239</td> <td>   34.162</td> <td>  -63.797</td> <td> 0.000</td> <td>-2246.382</td> <td>-2112.466</td>\n</tr>\n<tr>\n  <th>bd2</th>       <td>-1871.6146</td> <td>   37.641</td> <td>  -49.723</td> <td> 0.000</td> <td>-1945.391</td> <td>-1797.838</td>\n</tr>\n<tr>\n  <th>bd3</th>       <td>-1420.2113</td> <td>   46.039</td> <td>  -30.848</td> <td> 0.000</td> <td>-1510.449</td> <td>-1329.973</td>\n</tr>\n<tr>\n  <th>bd0</th>       <td>-2169.2420</td> <td>  112.800</td> <td>  -19.231</td> <td> 0.000</td> <td>-2390.333</td> <td>-1948.151</td>\n</tr>\n</table>\n<table class=\"simpletable\">\n<tr>\n  <th>Omnibus:</th>       <td>95546.232</td> <th>  Durbin-Watson:     </th>    <td>   1.973</td>   \n</tr>\n<tr>\n  <th>Prob(Omnibus):</th>  <td> 0.000</td>   <th>  Jarque-Bera (JB):  </th> <td>1528048665.811</td>\n</tr>\n<tr>\n  <th>Skew:</th>           <td>26.832</td>   <th>  Prob(JB):          </th>    <td>    0.00</td>   \n</tr>\n<tr>\n  <th>Kurtosis:</th>       <td>976.433</td>  <th>  Cond. No.          </th>    <td>    17.0</td>   \n</tr>\n</table><br/><br/>Warnings:<br/>[1] Standard Errors assume that the covariance matrix of the errors is correctly specified.",
      "text/plain": "<class 'statsmodels.iolib.summary.Summary'>\n\"\"\"\n                            OLS Regression Results                            \n==============================================================================\nDep. Variable:                  price   R-squared:                       0.102\nModel:                            OLS   Adj. R-squared:                  0.101\nMethod:                 Least Squares   F-statistic:                     1090.\nDate:                Mon, 24 Feb 2020   Prob (F-statistic):               0.00\nTime:                        21:12:16   Log-Likelihood:            -3.4049e+05\nNo. Observations:               38585   AIC:                         6.810e+05\nDf Residuals:                   38580   BIC:                         6.810e+05\nDf Model:                           4                                         \nCovariance Type:            nonrobust                                         \n==============================================================================\n                 coef    std err          t      P>|t|      [0.025      0.975]\n------------------------------------------------------------------------------\nIntercept   2616.8972     32.580     80.322      0.000    2553.039    2680.755\nbd1        -2179.4239     34.162    -63.797      0.000   -2246.382   -2112.466\nbd2        -1871.6146     37.641    -49.723      0.000   -1945.391   -1797.838\nbd3        -1420.2113     46.039    -30.848      0.000   -1510.449   -1329.973\nbd0        -2169.2420    112.800    -19.231      0.000   -2390.333   -1948.151\n==============================================================================\nOmnibus:                    95546.232   Durbin-Watson:                   1.973\nProb(Omnibus):                  0.000   Jarque-Bera (JB):       1528048665.811\nSkew:                          26.832   Prob(JB):                         0.00\nKurtosis:                     976.433   Cond. No.                         17.0\n==============================================================================\n\nWarnings:\n[1] Standard Errors assume that the covariance matrix of the errors is correctly specified.\n\"\"\""
     },
     "execution_count": 45,
     "metadata": {},
     "output_type": "execute_result"
    }
   ],
   "source": [
    "r.summary()"
   ]
  },
  {
   "cell_type": "markdown",
   "metadata": {},
   "source": [
    "## 3.6"
   ]
  },
  {
   "cell_type": "markdown",
   "metadata": {},
   "source": [
    "These results indicate that the price of a house with more than 4 bedrooms is 2616.89. If there is one bedroom, this price decreases by 2179.42, if there are two bedrooms the price decreases by 1871.61, if there are three bedrooms the price decreases by 1420.21, and if there are no bedrooms, the price decreases by 2169.24. These are all statistically significant due to the zero p-values, but it is a poor model due to the low R-squared value. This means that only 10% of the variation in the data can be explained by the model."
   ]
  },
  {
   "cell_type": "markdown",
   "metadata": {},
   "source": [
    "## 3.7"
   ]
  },
  {
   "cell_type": "code",
   "execution_count": 46,
   "metadata": {},
   "outputs": [],
   "source": [
    "bds['lprice'] = bds.price.apply(lambda x: np.log(x + 1))"
   ]
  },
  {
   "cell_type": "code",
   "execution_count": 47,
   "metadata": {},
   "outputs": [
    {
     "data": {
      "text/html": "<div>\n<style scoped>\n    .dataframe tbody tr th:only-of-type {\n        vertical-align: middle;\n    }\n\n    .dataframe tbody tr th {\n        vertical-align: top;\n    }\n\n    .dataframe thead th {\n        text-align: right;\n    }\n</style>\n<table border=\"1\" class=\"dataframe\">\n  <thead>\n    <tr style=\"text-align: right;\">\n      <th></th>\n      <th>bd3</th>\n      <th>bd1</th>\n      <th>bd2</th>\n      <th>bd0</th>\n      <th>price</th>\n      <th>lprice</th>\n    </tr>\n  </thead>\n  <tbody>\n    <tr>\n      <th>3180</th>\n      <td>0.0</td>\n      <td>1.0</td>\n      <td>0.0</td>\n      <td>0.0</td>\n      <td>267.0</td>\n      <td>5.590987</td>\n    </tr>\n    <tr>\n      <th>23856</th>\n      <td>0.0</td>\n      <td>1.0</td>\n      <td>0.0</td>\n      <td>0.0</td>\n      <td>296.0</td>\n      <td>5.693732</td>\n    </tr>\n    <tr>\n      <th>7035</th>\n      <td>0.0</td>\n      <td>1.0</td>\n      <td>0.0</td>\n      <td>0.0</td>\n      <td>303.0</td>\n      <td>5.717028</td>\n    </tr>\n    <tr>\n      <th>11233</th>\n      <td>0.0</td>\n      <td>0.0</td>\n      <td>0.0</td>\n      <td>0.0</td>\n      <td>901.0</td>\n      <td>6.804615</td>\n    </tr>\n    <tr>\n      <th>9088</th>\n      <td>0.0</td>\n      <td>1.0</td>\n      <td>0.0</td>\n      <td>0.0</td>\n      <td>359.0</td>\n      <td>5.886104</td>\n    </tr>\n  </tbody>\n</table>\n</div>",
      "text/plain": "       bd3  bd1  bd2  bd0  price    lprice\n3180   0.0  1.0  0.0  0.0  267.0  5.590987\n23856  0.0  1.0  0.0  0.0  296.0  5.693732\n7035   0.0  1.0  0.0  0.0  303.0  5.717028\n11233  0.0  0.0  0.0  0.0  901.0  6.804615\n9088   0.0  1.0  0.0  0.0  359.0  5.886104"
     },
     "execution_count": 47,
     "metadata": {},
     "output_type": "execute_result"
    }
   ],
   "source": [
    "bds.sample(5)"
   ]
  },
  {
   "cell_type": "code",
   "execution_count": 48,
   "metadata": {},
   "outputs": [],
   "source": [
    "r = smf.ols(formula = 'lprice ~ bd0 + bd1 + bd2 + bd3', data = bds).fit()"
   ]
  },
  {
   "cell_type": "code",
   "execution_count": 49,
   "metadata": {},
   "outputs": [
    {
     "data": {
      "text/html": "<table class=\"simpletable\">\n<caption>OLS Regression Results</caption>\n<tr>\n  <th>Dep. Variable:</th>         <td>lprice</td>      <th>  R-squared:         </th> <td>   0.318</td> \n</tr>\n<tr>\n  <th>Model:</th>                   <td>OLS</td>       <th>  Adj. R-squared:    </th> <td>   0.318</td> \n</tr>\n<tr>\n  <th>Method:</th>             <td>Least Squares</td>  <th>  F-statistic:       </th> <td>   4493.</td> \n</tr>\n<tr>\n  <th>Date:</th>             <td>Mon, 24 Feb 2020</td> <th>  Prob (F-statistic):</th>  <td>  0.00</td>  \n</tr>\n<tr>\n  <th>Time:</th>                 <td>21:12:17</td>     <th>  Log-Likelihood:    </th> <td> -40210.</td> \n</tr>\n<tr>\n  <th>No. Observations:</th>      <td> 38585</td>      <th>  AIC:               </th> <td>8.043e+04</td>\n</tr>\n<tr>\n  <th>Df Residuals:</th>          <td> 38580</td>      <th>  BIC:               </th> <td>8.047e+04</td>\n</tr>\n<tr>\n  <th>Df Model:</th>              <td>     4</td>      <th>                     </th>     <td> </td>    \n</tr>\n<tr>\n  <th>Covariance Type:</th>      <td>nonrobust</td>    <th>                     </th>     <td> </td>    \n</tr>\n</table>\n<table class=\"simpletable\">\n<tr>\n      <td></td>         <th>coef</th>     <th>std err</th>      <th>t</th>      <th>P>|t|</th>  <th>[0.025</th>    <th>0.975]</th>  \n</tr>\n<tr>\n  <th>Intercept</th> <td>    7.4058</td> <td>    0.014</td> <td>  544.976</td> <td> 0.000</td> <td>    7.379</td> <td>    7.432</td>\n</tr>\n<tr>\n  <th>bd0</th>       <td>   -1.6117</td> <td>    0.047</td> <td>  -34.256</td> <td> 0.000</td> <td>   -1.704</td> <td>   -1.520</td>\n</tr>\n<tr>\n  <th>bd1</th>       <td>   -1.6239</td> <td>    0.014</td> <td> -113.969</td> <td> 0.000</td> <td>   -1.652</td> <td>   -1.596</td>\n</tr>\n<tr>\n  <th>bd2</th>       <td>   -1.0618</td> <td>    0.016</td> <td>  -67.630</td> <td> 0.000</td> <td>   -1.093</td> <td>   -1.031</td>\n</tr>\n<tr>\n  <th>bd3</th>       <td>   -0.6520</td> <td>    0.019</td> <td>  -33.954</td> <td> 0.000</td> <td>   -0.690</td> <td>   -0.614</td>\n</tr>\n</table>\n<table class=\"simpletable\">\n<tr>\n  <th>Omnibus:</th>       <td>4134.472</td> <th>  Durbin-Watson:     </th> <td>   1.781</td> \n</tr>\n<tr>\n  <th>Prob(Omnibus):</th>  <td> 0.000</td>  <th>  Jarque-Bera (JB):  </th> <td>28644.206</td>\n</tr>\n<tr>\n  <th>Skew:</th>           <td> 0.275</td>  <th>  Prob(JB):          </th> <td>    0.00</td> \n</tr>\n<tr>\n  <th>Kurtosis:</th>       <td> 7.185</td>  <th>  Cond. No.          </th> <td>    17.0</td> \n</tr>\n</table><br/><br/>Warnings:<br/>[1] Standard Errors assume that the covariance matrix of the errors is correctly specified.",
      "text/plain": "<class 'statsmodels.iolib.summary.Summary'>\n\"\"\"\n                            OLS Regression Results                            \n==============================================================================\nDep. Variable:                 lprice   R-squared:                       0.318\nModel:                            OLS   Adj. R-squared:                  0.318\nMethod:                 Least Squares   F-statistic:                     4493.\nDate:                Mon, 24 Feb 2020   Prob (F-statistic):               0.00\nTime:                        21:12:17   Log-Likelihood:                -40210.\nNo. Observations:               38585   AIC:                         8.043e+04\nDf Residuals:                   38580   BIC:                         8.047e+04\nDf Model:                           4                                         \nCovariance Type:            nonrobust                                         \n==============================================================================\n                 coef    std err          t      P>|t|      [0.025      0.975]\n------------------------------------------------------------------------------\nIntercept      7.4058      0.014    544.976      0.000       7.379       7.432\nbd0           -1.6117      0.047    -34.256      0.000      -1.704      -1.520\nbd1           -1.6239      0.014   -113.969      0.000      -1.652      -1.596\nbd2           -1.0618      0.016    -67.630      0.000      -1.093      -1.031\nbd3           -0.6520      0.019    -33.954      0.000      -0.690      -0.614\n==============================================================================\nOmnibus:                     4134.472   Durbin-Watson:                   1.781\nProb(Omnibus):                  0.000   Jarque-Bera (JB):            28644.206\nSkew:                           0.275   Prob(JB):                         0.00\nKurtosis:                       7.185   Cond. No.                         17.0\n==============================================================================\n\nWarnings:\n[1] Standard Errors assume that the covariance matrix of the errors is correctly specified.\n\"\"\""
     },
     "execution_count": 49,
     "metadata": {},
     "output_type": "execute_result"
    }
   ],
   "source": [
    "r.summary()"
   ]
  },
  {
   "cell_type": "code",
   "execution_count": 50,
   "metadata": {},
   "outputs": [
    {
     "data": {
      "text/plain": "1645.5007102252778"
     },
     "execution_count": 50,
     "metadata": {},
     "output_type": "execute_result"
    }
   ],
   "source": [
    "b0 = np.exp(7.4058)\n",
    "b0"
   ]
  },
  {
   "cell_type": "code",
   "execution_count": 51,
   "metadata": {},
   "outputs": [
    {
     "data": {
      "text/plain": "0.19954809380521402"
     },
     "execution_count": 51,
     "metadata": {},
     "output_type": "execute_result"
    }
   ],
   "source": [
    "b1 = np.exp(-1.6117)\n",
    "b1"
   ]
  },
  {
   "cell_type": "code",
   "execution_count": 52,
   "metadata": {},
   "outputs": [
    {
     "data": {
      "text/plain": "0.19712839722217576"
     },
     "execution_count": 52,
     "metadata": {},
     "output_type": "execute_result"
    }
   ],
   "source": [
    "b2 = np.exp(-1.6239)\n",
    "b2"
   ]
  },
  {
   "cell_type": "code",
   "execution_count": 53,
   "metadata": {},
   "outputs": [
    {
     "data": {
      "text/plain": "0.34583275079327247"
     },
     "execution_count": 53,
     "metadata": {},
     "output_type": "execute_result"
    }
   ],
   "source": [
    "b3 = np.exp(-1.0618)\n",
    "b3"
   ]
  },
  {
   "cell_type": "code",
   "execution_count": 54,
   "metadata": {},
   "outputs": [
    {
     "data": {
      "text/plain": "0.5210027286033344"
     },
     "execution_count": 54,
     "metadata": {},
     "output_type": "execute_result"
    }
   ],
   "source": [
    "b4 = np.exp(-0.652)\n",
    "b4"
   ]
  },
  {
   "cell_type": "markdown",
   "metadata": {},
   "source": [
    "According to this model, the price of a AirBnb with 4 rooms is 1645.50. An AirBnb with no rooms costs 19.95% of this, an AirBnb with one room costs 19.7% of this, an AirBnb with two rooms costs 34.6% of this, and an AirBnb with three rooms costs 52.1% of this. These numbers are all statistically significant due to their zero p-values, and this model is a better fit than the non-log normal model since the R-squared value is higher, although it is still fairly low."
   ]
  },
  {
   "cell_type": "markdown",
   "metadata": {},
   "source": [
    "## 3.8"
   ]
  },
  {
   "cell_type": "code",
   "execution_count": 55,
   "metadata": {},
   "outputs": [
    {
     "data": {
      "text/plain": "13397    2\n19914    2\n9578     3\n24574    2\n37984    2\nName: accommodates, dtype: int64"
     },
     "execution_count": 55,
     "metadata": {},
     "output_type": "execute_result"
    }
   ],
   "source": [
    "l.accommodates.sample(5)"
   ]
  },
  {
   "cell_type": "code",
   "execution_count": 56,
   "metadata": {},
   "outputs": [],
   "source": [
    "four_and_more = l.index[l.accommodates >= 4]\n",
    "l['accommodates'] = l['accommodates'].apply(str)\n",
    "for i in four_and_more:\n",
    "    l.loc[i, 'accommodates'] = '4-and-more'"
   ]
  },
  {
   "cell_type": "code",
   "execution_count": 57,
   "metadata": {},
   "outputs": [
    {
     "data": {
      "text/plain": "9582     2.0\n13980    1.0\n16790    1.0\n11660    1.0\n10884    1.0\nName: bathrooms, dtype: float64"
     },
     "execution_count": 57,
     "metadata": {},
     "output_type": "execute_result"
    }
   ],
   "source": [
    "l.bathrooms.sample(5)"
   ]
  },
  {
   "cell_type": "code",
   "execution_count": 58,
   "metadata": {},
   "outputs": [],
   "source": [
    "l['bathrooms'] = l.bathrooms.round(decimals=0)\n",
    "l['bathrooms'] = l['bathrooms'].astype(int)"
   ]
  },
  {
   "cell_type": "code",
   "execution_count": 59,
   "metadata": {},
   "outputs": [
    {
     "data": {
      "text/plain": "1      27370\n2       8258\n3        852\n0        672\n4        639\n5        235\n6        235\n8        206\n7        102\n10        37\n9         28\n12        18\n11        10\n14         6\n16         6\n15         4\n18         4\n20         4\n13         3\n22         2\n25         2\n102        1\n33         1\nName: bathrooms, dtype: int64"
     },
     "execution_count": 59,
     "metadata": {},
     "output_type": "execute_result"
    }
   ],
   "source": [
    "l.bathrooms.value_counts()"
   ]
  },
  {
   "cell_type": "code",
   "execution_count": 60,
   "metadata": {},
   "outputs": [],
   "source": [
    "three_and_more = l.index[l.bathrooms >= 3]\n",
    "l['bathrooms'] = l['bathrooms'].apply(str)\n",
    "for i in three_and_more:\n",
    "    l.loc[i, 'bathrooms'] = '3-and-more'"
   ]
  },
  {
   "cell_type": "code",
   "execution_count": 61,
   "metadata": {},
   "outputs": [
    {
     "data": {
      "text/html": "<div>\n<style scoped>\n    .dataframe tbody tr th:only-of-type {\n        vertical-align: middle;\n    }\n\n    .dataframe tbody tr th {\n        vertical-align: top;\n    }\n\n    .dataframe thead th {\n        text-align: right;\n    }\n</style>\n<table border=\"1\" class=\"dataframe\">\n  <thead>\n    <tr style=\"text-align: right;\">\n      <th></th>\n      <th>acc2</th>\n      <th>acc3</th>\n      <th>acc1</th>\n    </tr>\n  </thead>\n  <tbody>\n    <tr>\n      <th>29589</th>\n      <td>0.0</td>\n      <td>0.0</td>\n      <td>0.0</td>\n    </tr>\n    <tr>\n      <th>37344</th>\n      <td>0.0</td>\n      <td>0.0</td>\n      <td>0.0</td>\n    </tr>\n    <tr>\n      <th>4132</th>\n      <td>1.0</td>\n      <td>0.0</td>\n      <td>0.0</td>\n    </tr>\n    <tr>\n      <th>14138</th>\n      <td>0.0</td>\n      <td>0.0</td>\n      <td>1.0</td>\n    </tr>\n    <tr>\n      <th>13153</th>\n      <td>0.0</td>\n      <td>0.0</td>\n      <td>0.0</td>\n    </tr>\n  </tbody>\n</table>\n</div>",
      "text/plain": "       acc2  acc3  acc1\n29589   0.0   0.0   0.0\n37344   0.0   0.0   0.0\n4132    1.0   0.0   0.0\n14138   0.0   0.0   1.0\n13153   0.0   0.0   0.0"
     },
     "execution_count": 61,
     "metadata": {},
     "output_type": "execute_result"
    }
   ],
   "source": [
    "acc = makeDummies(l.accommodates, 'acc', '4-and-more')\n",
    "acc.sample(5)"
   ]
  },
  {
   "cell_type": "code",
   "execution_count": 62,
   "metadata": {},
   "outputs": [
    {
     "data": {
      "text/html": "<div>\n<style scoped>\n    .dataframe tbody tr th:only-of-type {\n        vertical-align: middle;\n    }\n\n    .dataframe tbody tr th {\n        vertical-align: top;\n    }\n\n    .dataframe thead th {\n        text-align: right;\n    }\n</style>\n<table border=\"1\" class=\"dataframe\">\n  <thead>\n    <tr style=\"text-align: right;\">\n      <th></th>\n      <th>bath2</th>\n      <th>bath1</th>\n      <th>bath0</th>\n    </tr>\n  </thead>\n  <tbody>\n    <tr>\n      <th>22362</th>\n      <td>1.0</td>\n      <td>0.0</td>\n      <td>0.0</td>\n    </tr>\n    <tr>\n      <th>22958</th>\n      <td>0.0</td>\n      <td>1.0</td>\n      <td>0.0</td>\n    </tr>\n    <tr>\n      <th>24259</th>\n      <td>0.0</td>\n      <td>1.0</td>\n      <td>0.0</td>\n    </tr>\n    <tr>\n      <th>14107</th>\n      <td>0.0</td>\n      <td>1.0</td>\n      <td>0.0</td>\n    </tr>\n    <tr>\n      <th>4284</th>\n      <td>0.0</td>\n      <td>1.0</td>\n      <td>0.0</td>\n    </tr>\n  </tbody>\n</table>\n</div>",
      "text/plain": "       bath2  bath1  bath0\n22362    1.0    0.0    0.0\n22958    0.0    1.0    0.0\n24259    0.0    1.0    0.0\n14107    0.0    1.0    0.0\n4284     0.0    1.0    0.0"
     },
     "execution_count": 62,
     "metadata": {},
     "output_type": "execute_result"
    }
   ],
   "source": [
    "brs = makeDummies(l.bathrooms, 'bath', '3-and-more')\n",
    "brs.sample(5)"
   ]
  },
  {
   "cell_type": "markdown",
   "metadata": {},
   "source": [
    "## 3.9"
   ]
  },
  {
   "cell_type": "code",
   "execution_count": 63,
   "metadata": {},
   "outputs": [],
   "source": [
    "for i in bds.columns:\n",
    "    l[i] = bds[i]"
   ]
  },
  {
   "cell_type": "code",
   "execution_count": 64,
   "metadata": {},
   "outputs": [],
   "source": [
    "for i in acc.columns:\n",
    "    l[i] = acc[i]"
   ]
  },
  {
   "cell_type": "code",
   "execution_count": 65,
   "metadata": {},
   "outputs": [],
   "source": [
    "for i in brs.columns:\n",
    "    l[i] = brs[i]"
   ]
  },
  {
   "cell_type": "code",
   "execution_count": 66,
   "metadata": {},
   "outputs": [
    {
     "data": {
      "text/html": "<div>\n<style scoped>\n    .dataframe tbody tr th:only-of-type {\n        vertical-align: middle;\n    }\n\n    .dataframe tbody tr th {\n        vertical-align: top;\n    }\n\n    .dataframe thead th {\n        text-align: right;\n    }\n</style>\n<table border=\"1\" class=\"dataframe\">\n  <thead>\n    <tr style=\"text-align: right;\">\n      <th></th>\n      <th>room_type</th>\n      <th>accommodates</th>\n      <th>bathrooms</th>\n      <th>bedrooms</th>\n      <th>price</th>\n      <th>bd3</th>\n      <th>bd1</th>\n      <th>bd2</th>\n      <th>bd0</th>\n      <th>lprice</th>\n      <th>acc2</th>\n      <th>acc3</th>\n      <th>acc1</th>\n      <th>bath2</th>\n      <th>bath1</th>\n      <th>bath0</th>\n    </tr>\n  </thead>\n  <tbody>\n    <tr>\n      <th>17750</th>\n      <td>Entire home/apt</td>\n      <td>3</td>\n      <td>1</td>\n      <td>1</td>\n      <td>282.0</td>\n      <td>0.0</td>\n      <td>1.0</td>\n      <td>0.0</td>\n      <td>0.0</td>\n      <td>5.645447</td>\n      <td>0.0</td>\n      <td>1.0</td>\n      <td>0.0</td>\n      <td>0.0</td>\n      <td>1.0</td>\n      <td>0.0</td>\n    </tr>\n    <tr>\n      <th>38301</th>\n      <td>Entire home/apt</td>\n      <td>4-and-more</td>\n      <td>1</td>\n      <td>2</td>\n      <td>451.0</td>\n      <td>0.0</td>\n      <td>0.0</td>\n      <td>1.0</td>\n      <td>0.0</td>\n      <td>6.113682</td>\n      <td>0.0</td>\n      <td>0.0</td>\n      <td>0.0</td>\n      <td>0.0</td>\n      <td>1.0</td>\n      <td>0.0</td>\n    </tr>\n    <tr>\n      <th>4618</th>\n      <td>Private room</td>\n      <td>2</td>\n      <td>1</td>\n      <td>1</td>\n      <td>1675.0</td>\n      <td>0.0</td>\n      <td>1.0</td>\n      <td>0.0</td>\n      <td>0.0</td>\n      <td>7.424165</td>\n      <td>1.0</td>\n      <td>0.0</td>\n      <td>0.0</td>\n      <td>0.0</td>\n      <td>1.0</td>\n      <td>0.0</td>\n    </tr>\n    <tr>\n      <th>30069</th>\n      <td>Private room</td>\n      <td>3</td>\n      <td>1</td>\n      <td>1</td>\n      <td>465.0</td>\n      <td>0.0</td>\n      <td>1.0</td>\n      <td>0.0</td>\n      <td>0.0</td>\n      <td>6.144186</td>\n      <td>0.0</td>\n      <td>1.0</td>\n      <td>0.0</td>\n      <td>0.0</td>\n      <td>1.0</td>\n      <td>0.0</td>\n    </tr>\n    <tr>\n      <th>10563</th>\n      <td>Entire home/apt</td>\n      <td>4-and-more</td>\n      <td>1</td>\n      <td>2</td>\n      <td>528.0</td>\n      <td>0.0</td>\n      <td>0.0</td>\n      <td>1.0</td>\n      <td>0.0</td>\n      <td>6.270988</td>\n      <td>0.0</td>\n      <td>0.0</td>\n      <td>0.0</td>\n      <td>0.0</td>\n      <td>1.0</td>\n      <td>0.0</td>\n    </tr>\n  </tbody>\n</table>\n</div>",
      "text/plain": "             room_type accommodates bathrooms bedrooms   price  bd3  bd1  bd2  \\\n17750  Entire home/apt            3         1        1   282.0  0.0  1.0  0.0   \n38301  Entire home/apt   4-and-more         1        2   451.0  0.0  0.0  1.0   \n4618      Private room            2         1        1  1675.0  0.0  1.0  0.0   \n30069     Private room            3         1        1   465.0  0.0  1.0  0.0   \n10563  Entire home/apt   4-and-more         1        2   528.0  0.0  0.0  1.0   \n\n       bd0    lprice  acc2  acc3  acc1  bath2  bath1  bath0  \n17750  0.0  5.645447   0.0   1.0   0.0    0.0    1.0    0.0  \n38301  0.0  6.113682   0.0   0.0   0.0    0.0    1.0    0.0  \n4618   0.0  7.424165   1.0   0.0   0.0    0.0    1.0    0.0  \n30069  0.0  6.144186   0.0   1.0   0.0    0.0    1.0    0.0  \n10563  0.0  6.270988   0.0   0.0   0.0    0.0    1.0    0.0  "
     },
     "execution_count": 66,
     "metadata": {},
     "output_type": "execute_result"
    }
   ],
   "source": [
    "l.sample(5)"
   ]
  },
  {
   "cell_type": "code",
   "execution_count": 67,
   "metadata": {},
   "outputs": [],
   "source": [
    "r = smf.ols(formula = 'lprice ~ bd0 + bd1 + bd2 + bd3 + acc1 + acc2 + acc3 + bath2 + bath1 + bath0 + room_type', data = l).fit()"
   ]
  },
  {
   "cell_type": "code",
   "execution_count": 68,
   "metadata": {},
   "outputs": [
    {
     "data": {
      "text/html": "<table class=\"simpletable\">\n<caption>OLS Regression Results</caption>\n<tr>\n  <th>Dep. Variable:</th>         <td>lprice</td>      <th>  R-squared:         </th> <td>   0.455</td> \n</tr>\n<tr>\n  <th>Model:</th>                   <td>OLS</td>       <th>  Adj. R-squared:    </th> <td>   0.455</td> \n</tr>\n<tr>\n  <th>Method:</th>             <td>Least Squares</td>  <th>  F-statistic:       </th> <td>   2684.</td> \n</tr>\n<tr>\n  <th>Date:</th>             <td>Mon, 24 Feb 2020</td> <th>  Prob (F-statistic):</th>  <td>  0.00</td>  \n</tr>\n<tr>\n  <th>Time:</th>                 <td>21:18:17</td>     <th>  Log-Likelihood:    </th> <td> -35876.</td> \n</tr>\n<tr>\n  <th>No. Observations:</th>      <td> 38585</td>      <th>  AIC:               </th> <td>7.178e+04</td>\n</tr>\n<tr>\n  <th>Df Residuals:</th>          <td> 38572</td>      <th>  BIC:               </th> <td>7.189e+04</td>\n</tr>\n<tr>\n  <th>Df Model:</th>              <td>    12</td>      <th>                     </th>     <td> </td>    \n</tr>\n<tr>\n  <th>Covariance Type:</th>      <td>nonrobust</td>    <th>                     </th>     <td> </td>    \n</tr>\n</table>\n<table class=\"simpletable\">\n<tr>\n              <td></td>                 <th>coef</th>     <th>std err</th>      <th>t</th>      <th>P>|t|</th>  <th>[0.025</th>    <th>0.975]</th>  \n</tr>\n<tr>\n  <th>Intercept</th>                 <td>    7.6843</td> <td>    0.014</td> <td>  567.171</td> <td> 0.000</td> <td>    7.658</td> <td>    7.711</td>\n</tr>\n<tr>\n  <th>room_type[T.Private room]</th> <td>   -0.3187</td> <td>    0.007</td> <td>  -42.765</td> <td> 0.000</td> <td>   -0.333</td> <td>   -0.304</td>\n</tr>\n<tr>\n  <th>room_type[T.Shared room]</th>  <td>   -0.9371</td> <td>    0.017</td> <td>  -55.242</td> <td> 0.000</td> <td>   -0.970</td> <td>   -0.904</td>\n</tr>\n<tr>\n  <th>bd0</th>                       <td>   -0.8548</td> <td>    0.045</td> <td>  -19.193</td> <td> 0.000</td> <td>   -0.942</td> <td>   -0.767</td>\n</tr>\n<tr>\n  <th>bd1</th>                       <td>   -0.7757</td> <td>    0.020</td> <td>  -39.635</td> <td> 0.000</td> <td>   -0.814</td> <td>   -0.737</td>\n</tr>\n<tr>\n  <th>bd2</th>                       <td>   -0.6395</td> <td>    0.019</td> <td>  -34.066</td> <td> 0.000</td> <td>   -0.676</td> <td>   -0.603</td>\n</tr>\n<tr>\n  <th>bd3</th>                       <td>   -0.3426</td> <td>    0.020</td> <td>  -17.457</td> <td> 0.000</td> <td>   -0.381</td> <td>   -0.304</td>\n</tr>\n<tr>\n  <th>acc1</th>                      <td>   -0.6033</td> <td>    0.016</td> <td>  -38.718</td> <td> 0.000</td> <td>   -0.634</td> <td>   -0.573</td>\n</tr>\n<tr>\n  <th>acc2</th>                      <td>   -0.2752</td> <td>    0.010</td> <td>  -26.601</td> <td> 0.000</td> <td>   -0.296</td> <td>   -0.255</td>\n</tr>\n<tr>\n  <th>acc3</th>                      <td>   -0.2128</td> <td>    0.014</td> <td>  -15.671</td> <td> 0.000</td> <td>   -0.239</td> <td>   -0.186</td>\n</tr>\n<tr>\n  <th>bath2</th>                     <td>   -0.6225</td> <td>    0.019</td> <td>  -33.466</td> <td> 0.000</td> <td>   -0.659</td> <td>   -0.586</td>\n</tr>\n<tr>\n  <th>bath1</th>                     <td>   -0.6610</td> <td>    0.019</td> <td>  -35.334</td> <td> 0.000</td> <td>   -0.698</td> <td>   -0.624</td>\n</tr>\n<tr>\n  <th>bath0</th>                     <td>   -0.8354</td> <td>    0.030</td> <td>  -27.767</td> <td> 0.000</td> <td>   -0.894</td> <td>   -0.776</td>\n</tr>\n</table>\n<table class=\"simpletable\">\n<tr>\n  <th>Omnibus:</th>       <td>8654.854</td> <th>  Durbin-Watson:     </th> <td>   1.780</td> \n</tr>\n<tr>\n  <th>Prob(Omnibus):</th>  <td> 0.000</td>  <th>  Jarque-Bera (JB):  </th> <td>79968.890</td>\n</tr>\n<tr>\n  <th>Skew:</th>           <td> 0.818</td>  <th>  Prob(JB):          </th> <td>    0.00</td> \n</tr>\n<tr>\n  <th>Kurtosis:</th>       <td> 9.860</td>  <th>  Cond. No.          </th> <td>    25.7</td> \n</tr>\n</table><br/><br/>Warnings:<br/>[1] Standard Errors assume that the covariance matrix of the errors is correctly specified.",
      "text/plain": "<class 'statsmodels.iolib.summary.Summary'>\n\"\"\"\n                            OLS Regression Results                            \n==============================================================================\nDep. Variable:                 lprice   R-squared:                       0.455\nModel:                            OLS   Adj. R-squared:                  0.455\nMethod:                 Least Squares   F-statistic:                     2684.\nDate:                Mon, 24 Feb 2020   Prob (F-statistic):               0.00\nTime:                        21:18:17   Log-Likelihood:                -35876.\nNo. Observations:               38585   AIC:                         7.178e+04\nDf Residuals:                   38572   BIC:                         7.189e+04\nDf Model:                          12                                         \nCovariance Type:            nonrobust                                         \n=============================================================================================\n                                coef    std err          t      P>|t|      [0.025      0.975]\n---------------------------------------------------------------------------------------------\nIntercept                     7.6843      0.014    567.171      0.000       7.658       7.711\nroom_type[T.Private room]    -0.3187      0.007    -42.765      0.000      -0.333      -0.304\nroom_type[T.Shared room]     -0.9371      0.017    -55.242      0.000      -0.970      -0.904\nbd0                          -0.8548      0.045    -19.193      0.000      -0.942      -0.767\nbd1                          -0.7757      0.020    -39.635      0.000      -0.814      -0.737\nbd2                          -0.6395      0.019    -34.066      0.000      -0.676      -0.603\nbd3                          -0.3426      0.020    -17.457      0.000      -0.381      -0.304\nacc1                         -0.6033      0.016    -38.718      0.000      -0.634      -0.573\nacc2                         -0.2752      0.010    -26.601      0.000      -0.296      -0.255\nacc3                         -0.2128      0.014    -15.671      0.000      -0.239      -0.186\nbath2                        -0.6225      0.019    -33.466      0.000      -0.659      -0.586\nbath1                        -0.6610      0.019    -35.334      0.000      -0.698      -0.624\nbath0                        -0.8354      0.030    -27.767      0.000      -0.894      -0.776\n==============================================================================\nOmnibus:                     8654.854   Durbin-Watson:                   1.780\nProb(Omnibus):                  0.000   Jarque-Bera (JB):            79968.890\nSkew:                           0.818   Prob(JB):                         0.00\nKurtosis:                       9.860   Cond. No.                         25.7\n==============================================================================\n\nWarnings:\n[1] Standard Errors assume that the covariance matrix of the errors is correctly specified.\n\"\"\""
     },
     "execution_count": 68,
     "metadata": {},
     "output_type": "execute_result"
    }
   ],
   "source": [
    "r.summary()"
   ]
  },
  {
   "cell_type": "code",
   "execution_count": 69,
   "metadata": {},
   "outputs": [
    {
     "data": {
      "text/plain": "Entire home/apt    23840\nPrivate room       13053\nShared room         1802\nName: room_type, dtype: int64"
     },
     "execution_count": 69,
     "metadata": {},
     "output_type": "execute_result"
    }
   ],
   "source": [
    "l.room_type.value_counts()"
   ]
  },
  {
   "cell_type": "code",
   "execution_count": 74,
   "metadata": {},
   "outputs": [
    {
     "data": {
      "text/plain": "Intercept                    7.684314\nroom_type[T.Private room]   -0.318679\nroom_type[T.Shared room]    -0.937094\nbd0                         -0.854758\nbd1                         -0.775660\nbd2                         -0.639528\nbd3                         -0.342583\nacc1                        -0.603308\nacc2                        -0.275246\nacc3                        -0.212810\nbath2                       -0.622521\nbath1                       -0.661014\nbath0                       -0.835449\ndtype: float64"
     },
     "execution_count": 74,
     "metadata": {},
     "output_type": "execute_result"
    }
   ],
   "source": [
    "coefficients = r.params\n",
    "coefficients"
   ]
  },
  {
   "cell_type": "code",
   "execution_count": 76,
   "metadata": {},
   "outputs": [
    {
     "data": {
      "text/plain": "[2173.9783085242366,\n 0.7271086846214859,\n 0.3917645876315846,\n 0.4253861385060676,\n 0.46039994447917704,\n 0.5275414888036061,\n 0.7099343380776612,\n 0.5469994314606638,\n 0.7593855268616528,\n 0.8083098704400825,\n 0.5365899259019913,\n 0.5163274701288614,\n 0.4336797789610901]"
     },
     "execution_count": 76,
     "metadata": {},
     "output_type": "execute_result"
    }
   ],
   "source": [
    "coefficients = [np.exp(i) for i in coefficients]\n",
    "coefficients"
   ]
  },
  {
   "cell_type": "markdown",
   "metadata": {},
   "source": [
    "This model is stronger than any of the previous ones because it has a higher R-squared value. However, it is not a strong model because the value is still under 0.5. All the coefficients are statistically significant as well due to their zero p-values. However, it is a bit of a confusing model since the base value represents the price (2173.95) of a four or more bedroom AirBnb which accomodates four or more people, has three or more bathrooms, and is an entire home/apt. If any of these attributes changes, the price of the AirBnb listing reduces."
   ]
  },
  {
   "cell_type": "code",
   "execution_count": null,
   "metadata": {},
   "outputs": [],
   "source": []
  }
 ]
}