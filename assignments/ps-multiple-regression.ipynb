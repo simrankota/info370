{
 "nbformat": 4,
 "nbformat_minor": 2,
 "metadata": {
  "language_info": {
   "name": "python",
   "codemirror_mode": {
    "name": "ipython",
    "version": 3
   },
   "version": "3.7.1-final"
  },
  "orig_nbformat": 2,
  "file_extension": ".py",
  "mimetype": "text/x-python",
  "name": "python",
  "npconvert_exporter": "python",
  "pygments_lexer": "ipython3",
  "version": 3,
  "kernelspec": {
   "name": "python3",
   "display_name": "Python 3"
  }
 },
 "cells": [
  {
   "cell_type": "code",
   "execution_count": 4,
   "metadata": {},
   "outputs": [],
   "source": [
    "import numpy as np\n",
    "import pandas as pd"
   ]
  },
  {
   "cell_type": "markdown",
   "metadata": {},
   "source": [
    "# 1. Credit Data"
   ]
  },
  {
   "cell_type": "code",
   "execution_count": 5,
   "metadata": {},
   "outputs": [],
   "source": [
    "c = pd.read_csv('./credit.tsv.bz2', '\\t')"
   ]
  },
  {
   "cell_type": "markdown",
   "metadata": {},
   "source": [
    "## 1.1"
   ]
  },
  {
   "cell_type": "code",
   "execution_count": 6,
   "metadata": {},
   "outputs": [
    {
     "data": {
      "text/plain": "(400, 12)"
     },
     "execution_count": 6,
     "metadata": {},
     "output_type": "execute_result"
    }
   ],
   "source": [
    "c.shape"
   ]
  },
  {
   "cell_type": "code",
   "execution_count": 7,
   "metadata": {},
   "outputs": [
    {
     "data": {
      "text/plain": "ID           400\nIncome       400\nLimit        400\nRating       400\nCards        400\nAge          400\nEducation    400\nGender       400\nStudent      400\nMarried      400\nEthnicity    400\nBalance      400\ndtype: int64"
     },
     "execution_count": 7,
     "metadata": {},
     "output_type": "execute_result"
    }
   ],
   "source": [
    "c.count()"
   ]
  },
  {
   "cell_type": "code",
   "execution_count": 8,
   "metadata": {},
   "outputs": [
    {
     "data": {
      "text/plain": "ID             int64\nIncome       float64\nLimit          int64\nRating         int64\nCards          int64\nAge            int64\nEducation      int64\nGender        object\nStudent       object\nMarried       object\nEthnicity     object\nBalance        int64\ndtype: object"
     },
     "execution_count": 8,
     "metadata": {},
     "output_type": "execute_result"
    }
   ],
   "source": [
    "c.dtypes"
   ]
  },
  {
   "cell_type": "markdown",
   "metadata": {},
   "source": [
    "## 1.2"
   ]
  },
  {
   "cell_type": "code",
   "execution_count": 9,
   "metadata": {},
   "outputs": [],
   "source": [
    "import statsmodels.formula.api as smf"
   ]
  },
  {
   "cell_type": "code",
   "execution_count": 10,
   "metadata": {},
   "outputs": [],
   "source": [
    "r = smf.ols(formula = 'Balance ~ Student', data = c).fit()"
   ]
  },
  {
   "cell_type": "code",
   "execution_count": 11,
   "metadata": {},
   "outputs": [
    {
     "data": {
      "text/html": "<table class=\"simpletable\">\n<caption>OLS Regression Results</caption>\n<tr>\n  <th>Dep. Variable:</th>         <td>Balance</td>     <th>  R-squared:         </th> <td>   0.067</td>\n</tr>\n<tr>\n  <th>Model:</th>                   <td>OLS</td>       <th>  Adj. R-squared:    </th> <td>   0.065</td>\n</tr>\n<tr>\n  <th>Method:</th>             <td>Least Squares</td>  <th>  F-statistic:       </th> <td>   28.62</td>\n</tr>\n<tr>\n  <th>Date:</th>             <td>Sun, 23 Feb 2020</td> <th>  Prob (F-statistic):</th> <td>1.49e-07</td>\n</tr>\n<tr>\n  <th>Time:</th>                 <td>20:36:24</td>     <th>  Log-Likelihood:    </th> <td> -3005.5</td>\n</tr>\n<tr>\n  <th>No. Observations:</th>      <td>   400</td>      <th>  AIC:               </th> <td>   6015.</td>\n</tr>\n<tr>\n  <th>Df Residuals:</th>          <td>   398</td>      <th>  BIC:               </th> <td>   6023.</td>\n</tr>\n<tr>\n  <th>Df Model:</th>              <td>     1</td>      <th>                     </th>     <td> </td>   \n</tr>\n<tr>\n  <th>Covariance Type:</th>      <td>nonrobust</td>    <th>                     </th>     <td> </td>   \n</tr>\n</table>\n<table class=\"simpletable\">\n<tr>\n         <td></td>           <th>coef</th>     <th>std err</th>      <th>t</th>      <th>P>|t|</th>  <th>[0.025</th>    <th>0.975]</th>  \n</tr>\n<tr>\n  <th>Intercept</th>      <td>  480.3694</td> <td>   23.434</td> <td>   20.499</td> <td> 0.000</td> <td>  434.300</td> <td>  526.439</td>\n</tr>\n<tr>\n  <th>Student[T.Yes]</th> <td>  396.4556</td> <td>   74.104</td> <td>    5.350</td> <td> 0.000</td> <td>  250.771</td> <td>  542.140</td>\n</tr>\n</table>\n<table class=\"simpletable\">\n<tr>\n  <th>Omnibus:</th>       <td>20.866</td> <th>  Durbin-Watson:     </th> <td>   1.950</td>\n</tr>\n<tr>\n  <th>Prob(Omnibus):</th> <td> 0.000</td> <th>  Jarque-Bera (JB):  </th> <td>  21.920</td>\n</tr>\n<tr>\n  <th>Skew:</th>          <td> 0.544</td> <th>  Prob(JB):          </th> <td>1.74e-05</td>\n</tr>\n<tr>\n  <th>Kurtosis:</th>      <td> 2.637</td> <th>  Cond. No.          </th> <td>    3.37</td>\n</tr>\n</table><br/><br/>Warnings:<br/>[1] Standard Errors assume that the covariance matrix of the errors is correctly specified.",
      "text/plain": "<class 'statsmodels.iolib.summary.Summary'>\n\"\"\"\n                            OLS Regression Results                            \n==============================================================================\nDep. Variable:                Balance   R-squared:                       0.067\nModel:                            OLS   Adj. R-squared:                  0.065\nMethod:                 Least Squares   F-statistic:                     28.62\nDate:                Sun, 23 Feb 2020   Prob (F-statistic):           1.49e-07\nTime:                        20:36:24   Log-Likelihood:                -3005.5\nNo. Observations:                 400   AIC:                             6015.\nDf Residuals:                     398   BIC:                             6023.\nDf Model:                           1                                         \nCovariance Type:            nonrobust                                         \n==================================================================================\n                     coef    std err          t      P>|t|      [0.025      0.975]\n----------------------------------------------------------------------------------\nIntercept        480.3694     23.434     20.499      0.000     434.300     526.439\nStudent[T.Yes]   396.4556     74.104      5.350      0.000     250.771     542.140\n==============================================================================\nOmnibus:                       20.866   Durbin-Watson:                   1.950\nProb(Omnibus):                  0.000   Jarque-Bera (JB):               21.920\nSkew:                           0.544   Prob(JB):                     1.74e-05\nKurtosis:                       2.637   Cond. No.                         3.37\n==============================================================================\n\nWarnings:\n[1] Standard Errors assume that the covariance matrix of the errors is correctly specified.\n\"\"\""
     },
     "execution_count": 11,
     "metadata": {},
     "output_type": "execute_result"
    }
   ],
   "source": [
    "r.summary()"
   ]
  },
  {
   "cell_type": "markdown",
   "metadata": {},
   "source": [
    "The predicted balance for someone who is not a student is 480.37. This number increased by 396.46 when the person is a student. This is statistically significant due to the p-value of 0."
   ]
  },
  {
   "cell_type": "markdown",
   "metadata": {},
   "source": [
    "## 1.3"
   ]
  },
  {
   "cell_type": "code",
   "execution_count": 13,
   "metadata": {},
   "outputs": [],
   "source": [
    "r = smf.ols(formula = 'Balance ~ Ethnicity', data=c).fit()"
   ]
  },
  {
   "cell_type": "code",
   "execution_count": 14,
   "metadata": {},
   "outputs": [
    {
     "data": {
      "text/html": "<table class=\"simpletable\">\n<caption>OLS Regression Results</caption>\n<tr>\n  <th>Dep. Variable:</th>         <td>Balance</td>     <th>  R-squared:         </th> <td>   0.000</td>\n</tr>\n<tr>\n  <th>Model:</th>                   <td>OLS</td>       <th>  Adj. R-squared:    </th> <td>  -0.005</td>\n</tr>\n<tr>\n  <th>Method:</th>             <td>Least Squares</td>  <th>  F-statistic:       </th> <td> 0.04344</td>\n</tr>\n<tr>\n  <th>Date:</th>             <td>Sun, 23 Feb 2020</td> <th>  Prob (F-statistic):</th>  <td> 0.957</td> \n</tr>\n<tr>\n  <th>Time:</th>                 <td>20:38:23</td>     <th>  Log-Likelihood:    </th> <td> -3019.3</td>\n</tr>\n<tr>\n  <th>No. Observations:</th>      <td>   400</td>      <th>  AIC:               </th> <td>   6045.</td>\n</tr>\n<tr>\n  <th>Df Residuals:</th>          <td>   397</td>      <th>  BIC:               </th> <td>   6057.</td>\n</tr>\n<tr>\n  <th>Df Model:</th>              <td>     2</td>      <th>                     </th>     <td> </td>   \n</tr>\n<tr>\n  <th>Covariance Type:</th>      <td>nonrobust</td>    <th>                     </th>     <td> </td>   \n</tr>\n</table>\n<table class=\"simpletable\">\n<tr>\n             <td></td>               <th>coef</th>     <th>std err</th>      <th>t</th>      <th>P>|t|</th>  <th>[0.025</th>    <th>0.975]</th>  \n</tr>\n<tr>\n  <th>Intercept</th>              <td>  531.0000</td> <td>   46.319</td> <td>   11.464</td> <td> 0.000</td> <td>  439.939</td> <td>  622.061</td>\n</tr>\n<tr>\n  <th>Ethnicity[T.Asian]</th>     <td>  -18.6863</td> <td>   65.021</td> <td>   -0.287</td> <td> 0.774</td> <td> -146.515</td> <td>  109.142</td>\n</tr>\n<tr>\n  <th>Ethnicity[T.Caucasian]</th> <td>  -12.5025</td> <td>   56.681</td> <td>   -0.221</td> <td> 0.826</td> <td> -123.935</td> <td>   98.930</td>\n</tr>\n</table>\n<table class=\"simpletable\">\n<tr>\n  <th>Omnibus:</th>       <td>28.829</td> <th>  Durbin-Watson:     </th> <td>   1.946</td>\n</tr>\n<tr>\n  <th>Prob(Omnibus):</th> <td> 0.000</td> <th>  Jarque-Bera (JB):  </th> <td>  27.395</td>\n</tr>\n<tr>\n  <th>Skew:</th>          <td> 0.581</td> <th>  Prob(JB):          </th> <td>1.13e-06</td>\n</tr>\n<tr>\n  <th>Kurtosis:</th>      <td> 2.460</td> <th>  Cond. No.          </th> <td>    4.39</td>\n</tr>\n</table><br/><br/>Warnings:<br/>[1] Standard Errors assume that the covariance matrix of the errors is correctly specified.",
      "text/plain": "<class 'statsmodels.iolib.summary.Summary'>\n\"\"\"\n                            OLS Regression Results                            \n==============================================================================\nDep. Variable:                Balance   R-squared:                       0.000\nModel:                            OLS   Adj. R-squared:                 -0.005\nMethod:                 Least Squares   F-statistic:                   0.04344\nDate:                Sun, 23 Feb 2020   Prob (F-statistic):              0.957\nTime:                        20:38:23   Log-Likelihood:                -3019.3\nNo. Observations:                 400   AIC:                             6045.\nDf Residuals:                     397   BIC:                             6057.\nDf Model:                           2                                         \nCovariance Type:            nonrobust                                         \n==========================================================================================\n                             coef    std err          t      P>|t|      [0.025      0.975]\n------------------------------------------------------------------------------------------\nIntercept                531.0000     46.319     11.464      0.000     439.939     622.061\nEthnicity[T.Asian]       -18.6863     65.021     -0.287      0.774    -146.515     109.142\nEthnicity[T.Caucasian]   -12.5025     56.681     -0.221      0.826    -123.935      98.930\n==============================================================================\nOmnibus:                       28.829   Durbin-Watson:                   1.946\nProb(Omnibus):                  0.000   Jarque-Bera (JB):               27.395\nSkew:                           0.581   Prob(JB):                     1.13e-06\nKurtosis:                       2.460   Cond. No.                         4.39\n==============================================================================\n\nWarnings:\n[1] Standard Errors assume that the covariance matrix of the errors is correctly specified.\n\"\"\""
     },
     "execution_count": 14,
     "metadata": {},
     "output_type": "execute_result"
    }
   ],
   "source": [
    "r.summary()"
   ]
  },
  {
   "cell_type": "code",
   "execution_count": 15,
   "metadata": {},
   "outputs": [
    {
     "data": {
      "text/plain": "Caucasian           199\nAsian               102\nAfrican American     99\nName: Ethnicity, dtype: int64"
     },
     "execution_count": 15,
     "metadata": {},
     "output_type": "execute_result"
    }
   ],
   "source": [
    "c.Ethnicity.value_counts()"
   ]
  },
  {
   "cell_type": "markdown",
   "metadata": {},
   "source": [
    "Since there are 3 values of Ethnicity, but only two displayed in the regression model, this means that the missing value (African American), is represented by the intercept. Based on this, the balance of an African American is 531. This balance reduces by 18.69 for an Asian, and 12.5 for a Caucasian. However, only the balance for African Americans is statistically significant, as the other two have high p-values, indicating that this relationship could occur purely due to chance."
   ]
  },
  {
   "cell_type": "markdown",
   "metadata": {},
   "source": [
    "## 1.4"
   ]
  },
  {
   "cell_type": "code",
   "execution_count": 16,
   "metadata": {},
   "outputs": [],
   "source": [
    "r = smf.ols(formula = 'Balance ~ Cards', data = c).fit()"
   ]
  },
  {
   "cell_type": "code",
   "execution_count": 17,
   "metadata": {},
   "outputs": [
    {
     "data": {
      "text/html": "<table class=\"simpletable\">\n<caption>OLS Regression Results</caption>\n<tr>\n  <th>Dep. Variable:</th>         <td>Balance</td>     <th>  R-squared:         </th> <td>   0.007</td>\n</tr>\n<tr>\n  <th>Model:</th>                   <td>OLS</td>       <th>  Adj. R-squared:    </th> <td>   0.005</td>\n</tr>\n<tr>\n  <th>Method:</th>             <td>Least Squares</td>  <th>  F-statistic:       </th> <td>   2.997</td>\n</tr>\n<tr>\n  <th>Date:</th>             <td>Sun, 23 Feb 2020</td> <th>  Prob (F-statistic):</th>  <td>0.0842</td> \n</tr>\n<tr>\n  <th>Time:</th>                 <td>20:43:12</td>     <th>  Log-Likelihood:    </th> <td> -3017.9</td>\n</tr>\n<tr>\n  <th>No. Observations:</th>      <td>   400</td>      <th>  AIC:               </th> <td>   6040.</td>\n</tr>\n<tr>\n  <th>Df Residuals:</th>          <td>   398</td>      <th>  BIC:               </th> <td>   6048.</td>\n</tr>\n<tr>\n  <th>Df Model:</th>              <td>     1</td>      <th>                     </th>     <td> </td>   \n</tr>\n<tr>\n  <th>Covariance Type:</th>      <td>nonrobust</td>    <th>                     </th>     <td> </td>   \n</tr>\n</table>\n<table class=\"simpletable\">\n<tr>\n      <td></td>         <th>coef</th>     <th>std err</th>      <th>t</th>      <th>P>|t|</th>  <th>[0.025</th>    <th>0.975]</th>  \n</tr>\n<tr>\n  <th>Intercept</th> <td>  434.2861</td> <td>   54.569</td> <td>    7.958</td> <td> 0.000</td> <td>  327.006</td> <td>  541.566</td>\n</tr>\n<tr>\n  <th>Cards</th>     <td>   28.9869</td> <td>   16.743</td> <td>    1.731</td> <td> 0.084</td> <td>   -3.929</td> <td>   61.903</td>\n</tr>\n</table>\n<table class=\"simpletable\">\n<tr>\n  <th>Omnibus:</th>       <td>28.964</td> <th>  Durbin-Watson:     </th> <td>   1.957</td>\n</tr>\n<tr>\n  <th>Prob(Omnibus):</th> <td> 0.000</td> <th>  Jarque-Bera (JB):  </th> <td>  26.603</td>\n</tr>\n<tr>\n  <th>Skew:</th>          <td> 0.566</td> <th>  Prob(JB):          </th> <td>1.67e-06</td>\n</tr>\n<tr>\n  <th>Kurtosis:</th>      <td> 2.437</td> <th>  Cond. No.          </th> <td>    8.37</td>\n</tr>\n</table><br/><br/>Warnings:<br/>[1] Standard Errors assume that the covariance matrix of the errors is correctly specified.",
      "text/plain": "<class 'statsmodels.iolib.summary.Summary'>\n\"\"\"\n                            OLS Regression Results                            \n==============================================================================\nDep. Variable:                Balance   R-squared:                       0.007\nModel:                            OLS   Adj. R-squared:                  0.005\nMethod:                 Least Squares   F-statistic:                     2.997\nDate:                Sun, 23 Feb 2020   Prob (F-statistic):             0.0842\nTime:                        20:43:12   Log-Likelihood:                -3017.9\nNo. Observations:                 400   AIC:                             6040.\nDf Residuals:                     398   BIC:                             6048.\nDf Model:                           1                                         \nCovariance Type:            nonrobust                                         \n==============================================================================\n                 coef    std err          t      P>|t|      [0.025      0.975]\n------------------------------------------------------------------------------\nIntercept    434.2861     54.569      7.958      0.000     327.006     541.566\nCards         28.9869     16.743      1.731      0.084      -3.929      61.903\n==============================================================================\nOmnibus:                       28.964   Durbin-Watson:                   1.957\nProb(Omnibus):                  0.000   Jarque-Bera (JB):               26.603\nSkew:                           0.566   Prob(JB):                     1.67e-06\nKurtosis:                       2.437   Cond. No.                         8.37\n==============================================================================\n\nWarnings:\n[1] Standard Errors assume that the covariance matrix of the errors is correctly specified.\n\"\"\""
     },
     "execution_count": 17,
     "metadata": {},
     "output_type": "execute_result"
    }
   ],
   "source": [
    "r.summary()"
   ]
  },
  {
   "cell_type": "markdown",
   "metadata": {},
   "source": [
    "In this model, the balance of a person with no cards is 434.29, and for every additional card the person has, this balance increases by 28.99. Howver, there is a chance that this relationship occurs purely due to chance, indicated by the low but non-zero p-value."
   ]
  },
  {
   "cell_type": "code",
   "execution_count": 18,
   "metadata": {},
   "outputs": [],
   "source": [
    "r = smf.ols(formula = 'Balance ~ C(Cards)', data = c).fit()"
   ]
  },
  {
   "cell_type": "code",
   "execution_count": 19,
   "metadata": {},
   "outputs": [
    {
     "data": {
      "text/html": "<table class=\"simpletable\">\n<caption>OLS Regression Results</caption>\n<tr>\n  <th>Dep. Variable:</th>         <td>Balance</td>     <th>  R-squared:         </th> <td>   0.023</td>\n</tr>\n<tr>\n  <th>Model:</th>                   <td>OLS</td>       <th>  Adj. R-squared:    </th> <td>   0.003</td>\n</tr>\n<tr>\n  <th>Method:</th>             <td>Least Squares</td>  <th>  F-statistic:       </th> <td>   1.144</td>\n</tr>\n<tr>\n  <th>Date:</th>             <td>Sun, 23 Feb 2020</td> <th>  Prob (F-statistic):</th>  <td> 0.332</td> \n</tr>\n<tr>\n  <th>Time:</th>                 <td>20:45:47</td>     <th>  Log-Likelihood:    </th> <td> -3014.7</td>\n</tr>\n<tr>\n  <th>No. Observations:</th>      <td>   400</td>      <th>  AIC:               </th> <td>   6047.</td>\n</tr>\n<tr>\n  <th>Df Residuals:</th>          <td>   391</td>      <th>  BIC:               </th> <td>   6083.</td>\n</tr>\n<tr>\n  <th>Df Model:</th>              <td>     8</td>      <th>                     </th>     <td> </td>   \n</tr>\n<tr>\n  <th>Covariance Type:</th>      <td>nonrobust</td>    <th>                     </th>     <td> </td>   \n</tr>\n</table>\n<table class=\"simpletable\">\n<tr>\n        <td></td>           <th>coef</th>     <th>std err</th>      <th>t</th>      <th>P>|t|</th>  <th>[0.025</th>    <th>0.975]</th>  \n</tr>\n<tr>\n  <th>Intercept</th>     <td>  531.1373</td> <td>   64.286</td> <td>    8.262</td> <td> 0.000</td> <td>  404.748</td> <td>  657.527</td>\n</tr>\n<tr>\n  <th>C(Cards)[T.2]</th> <td>  -58.1720</td> <td>   77.236</td> <td>   -0.753</td> <td> 0.452</td> <td> -210.023</td> <td>   93.679</td>\n</tr>\n<tr>\n  <th>C(Cards)[T.3]</th> <td>  -39.0742</td> <td>   77.663</td> <td>   -0.503</td> <td> 0.615</td> <td> -191.763</td> <td>  113.615</td>\n</tr>\n<tr>\n  <th>C(Cards)[T.4]</th> <td>   45.2794</td> <td>   84.024</td> <td>    0.539</td> <td> 0.590</td> <td> -119.916</td> <td>  210.475</td>\n</tr>\n<tr>\n  <th>C(Cards)[T.5]</th> <td>   -8.1373</td> <td>  101.645</td> <td>   -0.080</td> <td> 0.936</td> <td> -207.977</td> <td>  191.702</td>\n</tr>\n<tr>\n  <th>C(Cards)[T.6]</th> <td>  149.6809</td> <td>  152.622</td> <td>    0.981</td> <td> 0.327</td> <td> -150.381</td> <td>  449.743</td>\n</tr>\n<tr>\n  <th>C(Cards)[T.7]</th> <td>  497.6127</td> <td>  238.379</td> <td>    2.087</td> <td> 0.037</td> <td>   28.947</td> <td>  966.278</td>\n</tr>\n<tr>\n  <th>C(Cards)[T.8]</th> <td>  106.8627</td> <td>  463.574</td> <td>    0.231</td> <td> 0.818</td> <td> -804.547</td> <td> 1018.272</td>\n</tr>\n<tr>\n  <th>C(Cards)[T.9]</th> <td> -149.1373</td> <td>  463.574</td> <td>   -0.322</td> <td> 0.748</td> <td>-1060.547</td> <td>  762.272</td>\n</tr>\n</table>\n<table class=\"simpletable\">\n<tr>\n  <th>Omnibus:</th>       <td>28.038</td> <th>  Durbin-Watson:     </th> <td>   1.928</td>\n</tr>\n<tr>\n  <th>Prob(Omnibus):</th> <td> 0.000</td> <th>  Jarque-Bera (JB):  </th> <td>  26.387</td>\n</tr>\n<tr>\n  <th>Skew:</th>          <td> 0.568</td> <th>  Prob(JB):          </th> <td>1.86e-06</td>\n</tr>\n<tr>\n  <th>Kurtosis:</th>      <td> 2.459</td> <th>  Cond. No.          </th> <td>    22.5</td>\n</tr>\n</table><br/><br/>Warnings:<br/>[1] Standard Errors assume that the covariance matrix of the errors is correctly specified.",
      "text/plain": "<class 'statsmodels.iolib.summary.Summary'>\n\"\"\"\n                            OLS Regression Results                            \n==============================================================================\nDep. Variable:                Balance   R-squared:                       0.023\nModel:                            OLS   Adj. R-squared:                  0.003\nMethod:                 Least Squares   F-statistic:                     1.144\nDate:                Sun, 23 Feb 2020   Prob (F-statistic):              0.332\nTime:                        20:45:47   Log-Likelihood:                -3014.7\nNo. Observations:                 400   AIC:                             6047.\nDf Residuals:                     391   BIC:                             6083.\nDf Model:                           8                                         \nCovariance Type:            nonrobust                                         \n=================================================================================\n                    coef    std err          t      P>|t|      [0.025      0.975]\n---------------------------------------------------------------------------------\nIntercept       531.1373     64.286      8.262      0.000     404.748     657.527\nC(Cards)[T.2]   -58.1720     77.236     -0.753      0.452    -210.023      93.679\nC(Cards)[T.3]   -39.0742     77.663     -0.503      0.615    -191.763     113.615\nC(Cards)[T.4]    45.2794     84.024      0.539      0.590    -119.916     210.475\nC(Cards)[T.5]    -8.1373    101.645     -0.080      0.936    -207.977     191.702\nC(Cards)[T.6]   149.6809    152.622      0.981      0.327    -150.381     449.743\nC(Cards)[T.7]   497.6127    238.379      2.087      0.037      28.947     966.278\nC(Cards)[T.8]   106.8627    463.574      0.231      0.818    -804.547    1018.272\nC(Cards)[T.9]  -149.1373    463.574     -0.322      0.748   -1060.547     762.272\n==============================================================================\nOmnibus:                       28.038   Durbin-Watson:                   1.928\nProb(Omnibus):                  0.000   Jarque-Bera (JB):               26.387\nSkew:                           0.568   Prob(JB):                     1.86e-06\nKurtosis:                       2.459   Cond. No.                         22.5\n==============================================================================\n\nWarnings:\n[1] Standard Errors assume that the covariance matrix of the errors is correctly specified.\n\"\"\""
     },
     "execution_count": 19,
     "metadata": {},
     "output_type": "execute_result"
    }
   ],
   "source": [
    "r.summary()"
   ]
  },
  {
   "cell_type": "markdown",
   "metadata": {},
   "source": [
    "Making Cards a categorical variable separates each value out into its own variable. In this model, we find that having no cards results in a balance of 531.14. If a person has two, three, or nine cards, this balance will reduce, while if they have four, six, seven, or eight cards this balance will increase. If this seems a little random, it is because non of these values (except the intercept -- 0 cards) is statstically significant, indicated by non-zero p-values across the board."
   ]
  },
  {
   "cell_type": "markdown",
   "metadata": {},
   "source": [
    "# 2. Implement Categorical to Dummies"
   ]
  },
  {
   "cell_type": "code",
   "execution_count": 32,
   "metadata": {},
   "outputs": [
    {
     "data": {
      "text/plain": "Int64Index([  1,   2,   3,   7,  12,  17,  18,  19,  20,  31,\n            ...\n            349, 354, 357, 361, 364, 385, 387, 390, 392, 399],\n           dtype='int64', length=102)"
     },
     "execution_count": 32,
     "metadata": {},
     "output_type": "execute_result"
    }
   ],
   "source": [
    "c.index[c['Ethnicity'] == 'Asian']"
   ]
  },
  {
   "cell_type": "code",
   "execution_count": 76,
   "metadata": {},
   "outputs": [],
   "source": [
    "def makeDummies(var, name, ref):\n",
    "    values = var.unique()\n",
    "    data = pd.DataFrame({name + str(i): [0 for j in range(len(var))] for i in values})\n",
    "    for i in values:\n",
    "        # print(i)\n",
    "        indices = c.index[var == i]\n",
    "        for j in indices:\n",
    "            data.loc[j, name + str(i)] = 1\n",
    "    data = data.drop(name + ref, 1)\n",
    "    return data"
   ]
  },
  {
   "cell_type": "code",
   "execution_count": 73,
   "metadata": {},
   "outputs": [
    {
     "data": {
      "text/html": "<div>\n<style scoped>\n    .dataframe tbody tr th:only-of-type {\n        vertical-align: middle;\n    }\n\n    .dataframe tbody tr th {\n        vertical-align: top;\n    }\n\n    .dataframe thead th {\n        text-align: right;\n    }\n</style>\n<table border=\"1\" class=\"dataframe\">\n  <thead>\n    <tr style=\"text-align: right;\">\n      <th></th>\n      <th>studentYes</th>\n    </tr>\n  </thead>\n  <tbody>\n    <tr>\n      <th>0</th>\n      <td>0</td>\n    </tr>\n    <tr>\n      <th>1</th>\n      <td>1</td>\n    </tr>\n    <tr>\n      <th>2</th>\n      <td>0</td>\n    </tr>\n    <tr>\n      <th>3</th>\n      <td>0</td>\n    </tr>\n    <tr>\n      <th>4</th>\n      <td>0</td>\n    </tr>\n    <tr>\n      <th>5</th>\n      <td>0</td>\n    </tr>\n    <tr>\n      <th>6</th>\n      <td>0</td>\n    </tr>\n    <tr>\n      <th>7</th>\n      <td>0</td>\n    </tr>\n    <tr>\n      <th>8</th>\n      <td>0</td>\n    </tr>\n    <tr>\n      <th>9</th>\n      <td>1</td>\n    </tr>\n  </tbody>\n</table>\n</div>",
      "text/plain": "   studentYes\n0           0\n1           1\n2           0\n3           0\n4           0\n5           0\n6           0\n7           0\n8           0\n9           1"
     },
     "execution_count": 73,
     "metadata": {},
     "output_type": "execute_result"
    }
   ],
   "source": [
    "test1 = makeDummies(c.Student, 'student', 'No')\n",
    "test1.head(10)"
   ]
  },
  {
   "cell_type": "code",
   "execution_count": 74,
   "metadata": {},
   "outputs": [
    {
     "data": {
      "text/html": "<div>\n<style scoped>\n    .dataframe tbody tr th:only-of-type {\n        vertical-align: middle;\n    }\n\n    .dataframe tbody tr th {\n        vertical-align: top;\n    }\n\n    .dataframe thead th {\n        text-align: right;\n    }\n</style>\n<table border=\"1\" class=\"dataframe\">\n  <thead>\n    <tr style=\"text-align: right;\">\n      <th></th>\n      <th>ethnAsian</th>\n      <th>ethnAfrican American</th>\n    </tr>\n  </thead>\n  <tbody>\n    <tr>\n      <th>0</th>\n      <td>0</td>\n      <td>0</td>\n    </tr>\n    <tr>\n      <th>1</th>\n      <td>1</td>\n      <td>0</td>\n    </tr>\n    <tr>\n      <th>2</th>\n      <td>1</td>\n      <td>0</td>\n    </tr>\n    <tr>\n      <th>3</th>\n      <td>1</td>\n      <td>0</td>\n    </tr>\n    <tr>\n      <th>4</th>\n      <td>0</td>\n      <td>0</td>\n    </tr>\n    <tr>\n      <th>5</th>\n      <td>0</td>\n      <td>0</td>\n    </tr>\n    <tr>\n      <th>6</th>\n      <td>0</td>\n      <td>1</td>\n    </tr>\n    <tr>\n      <th>7</th>\n      <td>1</td>\n      <td>0</td>\n    </tr>\n    <tr>\n      <th>8</th>\n      <td>0</td>\n      <td>0</td>\n    </tr>\n    <tr>\n      <th>9</th>\n      <td>0</td>\n      <td>1</td>\n    </tr>\n  </tbody>\n</table>\n</div>",
      "text/plain": "   ethnAsian  ethnAfrican American\n0          0                     0\n1          1                     0\n2          1                     0\n3          1                     0\n4          0                     0\n5          0                     0\n6          0                     1\n7          1                     0\n8          0                     0\n9          0                     1"
     },
     "execution_count": 74,
     "metadata": {},
     "output_type": "execute_result"
    }
   ],
   "source": [
    "test2 = makeDummies(c.Ethnicity, 'ethn', 'Caucasian')\n",
    "test2.head(10)"
   ]
  },
  {
   "cell_type": "code",
   "execution_count": 78,
   "metadata": {},
   "outputs": [
    {
     "data": {
      "text/html": "<div>\n<style scoped>\n    .dataframe tbody tr th:only-of-type {\n        vertical-align: middle;\n    }\n\n    .dataframe tbody tr th {\n        vertical-align: top;\n    }\n\n    .dataframe thead th {\n        text-align: right;\n    }\n</style>\n<table border=\"1\" class=\"dataframe\">\n  <thead>\n    <tr style=\"text-align: right;\">\n      <th></th>\n      <th>2</th>\n      <th>3</th>\n      <th>4</th>\n      <th>5</th>\n      <th>6</th>\n      <th>7</th>\n      <th>8</th>\n      <th>9</th>\n    </tr>\n  </thead>\n  <tbody>\n    <tr>\n      <th>0</th>\n      <td>1</td>\n      <td>0</td>\n      <td>0</td>\n      <td>0</td>\n      <td>0</td>\n      <td>0</td>\n      <td>0</td>\n      <td>0</td>\n    </tr>\n    <tr>\n      <th>1</th>\n      <td>0</td>\n      <td>1</td>\n      <td>0</td>\n      <td>0</td>\n      <td>0</td>\n      <td>0</td>\n      <td>0</td>\n      <td>0</td>\n    </tr>\n    <tr>\n      <th>2</th>\n      <td>0</td>\n      <td>0</td>\n      <td>1</td>\n      <td>0</td>\n      <td>0</td>\n      <td>0</td>\n      <td>0</td>\n      <td>0</td>\n    </tr>\n    <tr>\n      <th>3</th>\n      <td>0</td>\n      <td>1</td>\n      <td>0</td>\n      <td>0</td>\n      <td>0</td>\n      <td>0</td>\n      <td>0</td>\n      <td>0</td>\n    </tr>\n    <tr>\n      <th>4</th>\n      <td>1</td>\n      <td>0</td>\n      <td>0</td>\n      <td>0</td>\n      <td>0</td>\n      <td>0</td>\n      <td>0</td>\n      <td>0</td>\n    </tr>\n    <tr>\n      <th>5</th>\n      <td>0</td>\n      <td>0</td>\n      <td>1</td>\n      <td>0</td>\n      <td>0</td>\n      <td>0</td>\n      <td>0</td>\n      <td>0</td>\n    </tr>\n    <tr>\n      <th>6</th>\n      <td>1</td>\n      <td>0</td>\n      <td>0</td>\n      <td>0</td>\n      <td>0</td>\n      <td>0</td>\n      <td>0</td>\n      <td>0</td>\n    </tr>\n    <tr>\n      <th>7</th>\n      <td>1</td>\n      <td>0</td>\n      <td>0</td>\n      <td>0</td>\n      <td>0</td>\n      <td>0</td>\n      <td>0</td>\n      <td>0</td>\n    </tr>\n    <tr>\n      <th>8</th>\n      <td>0</td>\n      <td>0</td>\n      <td>0</td>\n      <td>1</td>\n      <td>0</td>\n      <td>0</td>\n      <td>0</td>\n      <td>0</td>\n    </tr>\n    <tr>\n      <th>9</th>\n      <td>0</td>\n      <td>1</td>\n      <td>0</td>\n      <td>0</td>\n      <td>0</td>\n      <td>0</td>\n      <td>0</td>\n      <td>0</td>\n    </tr>\n  </tbody>\n</table>\n</div>",
      "text/plain": "   2  3  4  5  6  7  8  9\n0  1  0  0  0  0  0  0  0\n1  0  1  0  0  0  0  0  0\n2  0  0  1  0  0  0  0  0\n3  0  1  0  0  0  0  0  0\n4  1  0  0  0  0  0  0  0\n5  0  0  1  0  0  0  0  0\n6  1  0  0  0  0  0  0  0\n7  1  0  0  0  0  0  0  0\n8  0  0  0  1  0  0  0  0\n9  0  1  0  0  0  0  0  0"
     },
     "execution_count": 78,
     "metadata": {},
     "output_type": "execute_result"
    }
   ],
   "source": [
    "test3 = makeDummies(c.Cards, '', '1')\n",
    "test3.head(10)"
   ]
  },
  {
   "cell_type": "code",
   "execution_count": null,
   "metadata": {},
   "outputs": [],
   "source": []
  }
 ]
}