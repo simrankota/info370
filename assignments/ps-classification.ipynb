{
 "nbformat": 4,
 "nbformat_minor": 2,
 "metadata": {
  "language_info": {
   "name": "python",
   "codemirror_mode": {
    "name": "ipython",
    "version": 3
   },
   "version": "3.7.1-final"
  },
  "orig_nbformat": 2,
  "file_extension": ".py",
  "mimetype": "text/x-python",
  "name": "python",
  "npconvert_exporter": "python",
  "pygments_lexer": "ipython3",
  "version": 3,
  "kernelspec": {
   "name": "python3",
   "display_name": "Python 3"
  }
 },
 "cells": [
  {
   "cell_type": "code",
   "execution_count": 5,
   "metadata": {},
   "outputs": [],
   "source": [
    "import pandas as pd\n",
    "import numpy as np\n",
    "import statsmodels.formula.api as smf"
   ]
  },
  {
   "cell_type": "markdown",
   "metadata": {},
   "source": [
    "# 1. Explore the Data"
   ]
  },
  {
   "cell_type": "markdown",
   "metadata": {},
   "source": [
    "## 1.1"
   ]
  },
  {
   "cell_type": "code",
   "execution_count": 19,
   "metadata": {},
   "outputs": [],
   "source": [
    "data = pd.read_csv('./wdbc.csv.bz2')"
   ]
  },
  {
   "cell_type": "code",
   "execution_count": 20,
   "metadata": {},
   "outputs": [
    {
     "data": {
      "text/html": "<div>\n<style scoped>\n    .dataframe tbody tr th:only-of-type {\n        vertical-align: middle;\n    }\n\n    .dataframe tbody tr th {\n        vertical-align: top;\n    }\n\n    .dataframe thead th {\n        text-align: right;\n    }\n</style>\n<table border=\"1\" class=\"dataframe\">\n  <thead>\n    <tr style=\"text-align: right;\">\n      <th></th>\n      <th>id</th>\n      <th>diagnosis</th>\n      <th>radius.mean</th>\n      <th>texture.mean</th>\n      <th>perimeter.mean</th>\n      <th>area.mean</th>\n      <th>smoothness.mean</th>\n      <th>compactness.mean</th>\n      <th>concavity.mean</th>\n      <th>concpoints.mean</th>\n      <th>...</th>\n      <th>radius.worst</th>\n      <th>texture.worst</th>\n      <th>perimeter.worst</th>\n      <th>area.worst</th>\n      <th>smoothness.worst</th>\n      <th>compactness.worst</th>\n      <th>concavity.worst</th>\n      <th>concpoints.worst</th>\n      <th>symmetry.worst</th>\n      <th>fracdim.worst</th>\n    </tr>\n  </thead>\n  <tbody>\n    <tr>\n      <th>0</th>\n      <td>842302</td>\n      <td>M</td>\n      <td>17.99</td>\n      <td>10.38</td>\n      <td>122.80</td>\n      <td>1001.0</td>\n      <td>0.11840</td>\n      <td>0.27760</td>\n      <td>0.3001</td>\n      <td>0.14710</td>\n      <td>...</td>\n      <td>25.38</td>\n      <td>17.33</td>\n      <td>184.60</td>\n      <td>2019.0</td>\n      <td>0.1622</td>\n      <td>0.6656</td>\n      <td>0.7119</td>\n      <td>0.2654</td>\n      <td>0.4601</td>\n      <td>0.11890</td>\n    </tr>\n    <tr>\n      <th>1</th>\n      <td>842517</td>\n      <td>M</td>\n      <td>20.57</td>\n      <td>17.77</td>\n      <td>132.90</td>\n      <td>1326.0</td>\n      <td>0.08474</td>\n      <td>0.07864</td>\n      <td>0.0869</td>\n      <td>0.07017</td>\n      <td>...</td>\n      <td>24.99</td>\n      <td>23.41</td>\n      <td>158.80</td>\n      <td>1956.0</td>\n      <td>0.1238</td>\n      <td>0.1866</td>\n      <td>0.2416</td>\n      <td>0.1860</td>\n      <td>0.2750</td>\n      <td>0.08902</td>\n    </tr>\n    <tr>\n      <th>2</th>\n      <td>84300903</td>\n      <td>M</td>\n      <td>19.69</td>\n      <td>21.25</td>\n      <td>130.00</td>\n      <td>1203.0</td>\n      <td>0.10960</td>\n      <td>0.15990</td>\n      <td>0.1974</td>\n      <td>0.12790</td>\n      <td>...</td>\n      <td>23.57</td>\n      <td>25.53</td>\n      <td>152.50</td>\n      <td>1709.0</td>\n      <td>0.1444</td>\n      <td>0.4245</td>\n      <td>0.4504</td>\n      <td>0.2430</td>\n      <td>0.3613</td>\n      <td>0.08758</td>\n    </tr>\n    <tr>\n      <th>3</th>\n      <td>84348301</td>\n      <td>M</td>\n      <td>11.42</td>\n      <td>20.38</td>\n      <td>77.58</td>\n      <td>386.1</td>\n      <td>0.14250</td>\n      <td>0.28390</td>\n      <td>0.2414</td>\n      <td>0.10520</td>\n      <td>...</td>\n      <td>14.91</td>\n      <td>26.50</td>\n      <td>98.87</td>\n      <td>567.7</td>\n      <td>0.2098</td>\n      <td>0.8663</td>\n      <td>0.6869</td>\n      <td>0.2575</td>\n      <td>0.6638</td>\n      <td>0.17300</td>\n    </tr>\n    <tr>\n      <th>4</th>\n      <td>84358402</td>\n      <td>M</td>\n      <td>20.29</td>\n      <td>14.34</td>\n      <td>135.10</td>\n      <td>1297.0</td>\n      <td>0.10030</td>\n      <td>0.13280</td>\n      <td>0.1980</td>\n      <td>0.10430</td>\n      <td>...</td>\n      <td>22.54</td>\n      <td>16.67</td>\n      <td>152.20</td>\n      <td>1575.0</td>\n      <td>0.1374</td>\n      <td>0.2050</td>\n      <td>0.4000</td>\n      <td>0.1625</td>\n      <td>0.2364</td>\n      <td>0.07678</td>\n    </tr>\n  </tbody>\n</table>\n<p>5 rows × 32 columns</p>\n</div>",
      "text/plain": "         id diagnosis  radius.mean  texture.mean  perimeter.mean  area.mean  \\\n0    842302         M        17.99         10.38          122.80     1001.0   \n1    842517         M        20.57         17.77          132.90     1326.0   \n2  84300903         M        19.69         21.25          130.00     1203.0   \n3  84348301         M        11.42         20.38           77.58      386.1   \n4  84358402         M        20.29         14.34          135.10     1297.0   \n\n   smoothness.mean  compactness.mean  concavity.mean  concpoints.mean  ...  \\\n0          0.11840           0.27760          0.3001          0.14710  ...   \n1          0.08474           0.07864          0.0869          0.07017  ...   \n2          0.10960           0.15990          0.1974          0.12790  ...   \n3          0.14250           0.28390          0.2414          0.10520  ...   \n4          0.10030           0.13280          0.1980          0.10430  ...   \n\n   radius.worst  texture.worst  perimeter.worst  area.worst  smoothness.worst  \\\n0         25.38          17.33           184.60      2019.0            0.1622   \n1         24.99          23.41           158.80      1956.0            0.1238   \n2         23.57          25.53           152.50      1709.0            0.1444   \n3         14.91          26.50            98.87       567.7            0.2098   \n4         22.54          16.67           152.20      1575.0            0.1374   \n\n   compactness.worst  concavity.worst  concpoints.worst  symmetry.worst  \\\n0             0.6656           0.7119            0.2654          0.4601   \n1             0.1866           0.2416            0.1860          0.2750   \n2             0.4245           0.4504            0.2430          0.3613   \n3             0.8663           0.6869            0.2575          0.6638   \n4             0.2050           0.4000            0.1625          0.2364   \n\n   fracdim.worst  \n0        0.11890  \n1        0.08902  \n2        0.08758  \n3        0.17300  \n4        0.07678  \n\n[5 rows x 32 columns]"
     },
     "execution_count": 20,
     "metadata": {},
     "output_type": "execute_result"
    }
   ],
   "source": [
    "data.head()"
   ]
  },
  {
   "cell_type": "code",
   "execution_count": 21,
   "metadata": {},
   "outputs": [
    {
     "data": {
      "text/plain": "B    357\nM    212\nName: diagnosis, dtype: int64"
     },
     "execution_count": 21,
     "metadata": {},
     "output_type": "execute_result"
    }
   ],
   "source": [
    "data.diagnosis.value_counts()"
   ]
  },
  {
   "cell_type": "code",
   "execution_count": 22,
   "metadata": {},
   "outputs": [],
   "source": [
    "data.diagnosis = (data.diagnosis == 'M').astype(int)"
   ]
  },
  {
   "cell_type": "code",
   "execution_count": 23,
   "metadata": {},
   "outputs": [
    {
     "data": {
      "text/html": "<div>\n<style scoped>\n    .dataframe tbody tr th:only-of-type {\n        vertical-align: middle;\n    }\n\n    .dataframe tbody tr th {\n        vertical-align: top;\n    }\n\n    .dataframe thead th {\n        text-align: right;\n    }\n</style>\n<table border=\"1\" class=\"dataframe\">\n  <thead>\n    <tr style=\"text-align: right;\">\n      <th></th>\n      <th>id</th>\n      <th>diagnosis</th>\n      <th>radius.mean</th>\n      <th>texture.mean</th>\n      <th>perimeter.mean</th>\n      <th>area.mean</th>\n      <th>smoothness.mean</th>\n      <th>compactness.mean</th>\n      <th>concavity.mean</th>\n      <th>concpoints.mean</th>\n      <th>...</th>\n      <th>radius.worst</th>\n      <th>texture.worst</th>\n      <th>perimeter.worst</th>\n      <th>area.worst</th>\n      <th>smoothness.worst</th>\n      <th>compactness.worst</th>\n      <th>concavity.worst</th>\n      <th>concpoints.worst</th>\n      <th>symmetry.worst</th>\n      <th>fracdim.worst</th>\n    </tr>\n  </thead>\n  <tbody>\n    <tr>\n      <th>0</th>\n      <td>842302</td>\n      <td>1</td>\n      <td>17.99</td>\n      <td>10.38</td>\n      <td>122.80</td>\n      <td>1001.0</td>\n      <td>0.11840</td>\n      <td>0.27760</td>\n      <td>0.3001</td>\n      <td>0.14710</td>\n      <td>...</td>\n      <td>25.38</td>\n      <td>17.33</td>\n      <td>184.60</td>\n      <td>2019.0</td>\n      <td>0.1622</td>\n      <td>0.6656</td>\n      <td>0.7119</td>\n      <td>0.2654</td>\n      <td>0.4601</td>\n      <td>0.11890</td>\n    </tr>\n    <tr>\n      <th>1</th>\n      <td>842517</td>\n      <td>1</td>\n      <td>20.57</td>\n      <td>17.77</td>\n      <td>132.90</td>\n      <td>1326.0</td>\n      <td>0.08474</td>\n      <td>0.07864</td>\n      <td>0.0869</td>\n      <td>0.07017</td>\n      <td>...</td>\n      <td>24.99</td>\n      <td>23.41</td>\n      <td>158.80</td>\n      <td>1956.0</td>\n      <td>0.1238</td>\n      <td>0.1866</td>\n      <td>0.2416</td>\n      <td>0.1860</td>\n      <td>0.2750</td>\n      <td>0.08902</td>\n    </tr>\n    <tr>\n      <th>2</th>\n      <td>84300903</td>\n      <td>1</td>\n      <td>19.69</td>\n      <td>21.25</td>\n      <td>130.00</td>\n      <td>1203.0</td>\n      <td>0.10960</td>\n      <td>0.15990</td>\n      <td>0.1974</td>\n      <td>0.12790</td>\n      <td>...</td>\n      <td>23.57</td>\n      <td>25.53</td>\n      <td>152.50</td>\n      <td>1709.0</td>\n      <td>0.1444</td>\n      <td>0.4245</td>\n      <td>0.4504</td>\n      <td>0.2430</td>\n      <td>0.3613</td>\n      <td>0.08758</td>\n    </tr>\n    <tr>\n      <th>3</th>\n      <td>84348301</td>\n      <td>1</td>\n      <td>11.42</td>\n      <td>20.38</td>\n      <td>77.58</td>\n      <td>386.1</td>\n      <td>0.14250</td>\n      <td>0.28390</td>\n      <td>0.2414</td>\n      <td>0.10520</td>\n      <td>...</td>\n      <td>14.91</td>\n      <td>26.50</td>\n      <td>98.87</td>\n      <td>567.7</td>\n      <td>0.2098</td>\n      <td>0.8663</td>\n      <td>0.6869</td>\n      <td>0.2575</td>\n      <td>0.6638</td>\n      <td>0.17300</td>\n    </tr>\n    <tr>\n      <th>4</th>\n      <td>84358402</td>\n      <td>1</td>\n      <td>20.29</td>\n      <td>14.34</td>\n      <td>135.10</td>\n      <td>1297.0</td>\n      <td>0.10030</td>\n      <td>0.13280</td>\n      <td>0.1980</td>\n      <td>0.10430</td>\n      <td>...</td>\n      <td>22.54</td>\n      <td>16.67</td>\n      <td>152.20</td>\n      <td>1575.0</td>\n      <td>0.1374</td>\n      <td>0.2050</td>\n      <td>0.4000</td>\n      <td>0.1625</td>\n      <td>0.2364</td>\n      <td>0.07678</td>\n    </tr>\n  </tbody>\n</table>\n<p>5 rows × 32 columns</p>\n</div>",
      "text/plain": "         id  diagnosis  radius.mean  texture.mean  perimeter.mean  area.mean  \\\n0    842302          1        17.99         10.38          122.80     1001.0   \n1    842517          1        20.57         17.77          132.90     1326.0   \n2  84300903          1        19.69         21.25          130.00     1203.0   \n3  84348301          1        11.42         20.38           77.58      386.1   \n4  84358402          1        20.29         14.34          135.10     1297.0   \n\n   smoothness.mean  compactness.mean  concavity.mean  concpoints.mean  ...  \\\n0          0.11840           0.27760          0.3001          0.14710  ...   \n1          0.08474           0.07864          0.0869          0.07017  ...   \n2          0.10960           0.15990          0.1974          0.12790  ...   \n3          0.14250           0.28390          0.2414          0.10520  ...   \n4          0.10030           0.13280          0.1980          0.10430  ...   \n\n   radius.worst  texture.worst  perimeter.worst  area.worst  smoothness.worst  \\\n0         25.38          17.33           184.60      2019.0            0.1622   \n1         24.99          23.41           158.80      1956.0            0.1238   \n2         23.57          25.53           152.50      1709.0            0.1444   \n3         14.91          26.50            98.87       567.7            0.2098   \n4         22.54          16.67           152.20      1575.0            0.1374   \n\n   compactness.worst  concavity.worst  concpoints.worst  symmetry.worst  \\\n0             0.6656           0.7119            0.2654          0.4601   \n1             0.1866           0.2416            0.1860          0.2750   \n2             0.4245           0.4504            0.2430          0.3613   \n3             0.8663           0.6869            0.2575          0.6638   \n4             0.2050           0.4000            0.1625          0.2364   \n\n   fracdim.worst  \n0        0.11890  \n1        0.08902  \n2        0.08758  \n3        0.17300  \n4        0.07678  \n\n[5 rows x 32 columns]"
     },
     "execution_count": 23,
     "metadata": {},
     "output_type": "execute_result"
    }
   ],
   "source": [
    "data.head()"
   ]
  },
  {
   "cell_type": "markdown",
   "metadata": {},
   "source": [
    "## 1.2"
   ]
  },
  {
   "cell_type": "code",
   "execution_count": 24,
   "metadata": {},
   "outputs": [],
   "source": [
    "summary = pd.DataFrame({'variable' : [], 'correlation' : [], 'mean' : [], 'min' : [], 'max' : [], 'std' : [], 'missings' : []})"
   ]
  },
  {
   "cell_type": "code",
   "execution_count": 25,
   "metadata": {},
   "outputs": [
    {
     "data": {
      "text/html": "<div>\n<style scoped>\n    .dataframe tbody tr th:only-of-type {\n        vertical-align: middle;\n    }\n\n    .dataframe tbody tr th {\n        vertical-align: top;\n    }\n\n    .dataframe thead th {\n        text-align: right;\n    }\n</style>\n<table border=\"1\" class=\"dataframe\">\n  <thead>\n    <tr style=\"text-align: right;\">\n      <th></th>\n      <th>variable</th>\n      <th>correlation</th>\n      <th>mean</th>\n      <th>min</th>\n      <th>max</th>\n      <th>std</th>\n      <th>missings</th>\n    </tr>\n  </thead>\n  <tbody>\n  </tbody>\n</table>\n</div>",
      "text/plain": "Empty DataFrame\nColumns: [variable, correlation, mean, min, max, std, missings]\nIndex: []"
     },
     "execution_count": 25,
     "metadata": {},
     "output_type": "execute_result"
    }
   ],
   "source": [
    "summary"
   ]
  },
  {
   "cell_type": "code",
   "execution_count": 26,
   "metadata": {},
   "outputs": [],
   "source": [
    "summary.variable = data.columns"
   ]
  },
  {
   "cell_type": "code",
   "execution_count": 27,
   "metadata": {},
   "outputs": [
    {
     "data": {
      "text/html": "<div>\n<style scoped>\n    .dataframe tbody tr th:only-of-type {\n        vertical-align: middle;\n    }\n\n    .dataframe tbody tr th {\n        vertical-align: top;\n    }\n\n    .dataframe thead th {\n        text-align: right;\n    }\n</style>\n<table border=\"1\" class=\"dataframe\">\n  <thead>\n    <tr style=\"text-align: right;\">\n      <th></th>\n      <th>variable</th>\n      <th>correlation</th>\n      <th>mean</th>\n      <th>min</th>\n      <th>max</th>\n      <th>std</th>\n      <th>missings</th>\n    </tr>\n  </thead>\n  <tbody>\n    <tr>\n      <th>0</th>\n      <td>id</td>\n      <td>NaN</td>\n      <td>NaN</td>\n      <td>NaN</td>\n      <td>NaN</td>\n      <td>NaN</td>\n      <td>NaN</td>\n    </tr>\n    <tr>\n      <th>1</th>\n      <td>diagnosis</td>\n      <td>NaN</td>\n      <td>NaN</td>\n      <td>NaN</td>\n      <td>NaN</td>\n      <td>NaN</td>\n      <td>NaN</td>\n    </tr>\n    <tr>\n      <th>2</th>\n      <td>radius.mean</td>\n      <td>NaN</td>\n      <td>NaN</td>\n      <td>NaN</td>\n      <td>NaN</td>\n      <td>NaN</td>\n      <td>NaN</td>\n    </tr>\n    <tr>\n      <th>3</th>\n      <td>texture.mean</td>\n      <td>NaN</td>\n      <td>NaN</td>\n      <td>NaN</td>\n      <td>NaN</td>\n      <td>NaN</td>\n      <td>NaN</td>\n    </tr>\n    <tr>\n      <th>4</th>\n      <td>perimeter.mean</td>\n      <td>NaN</td>\n      <td>NaN</td>\n      <td>NaN</td>\n      <td>NaN</td>\n      <td>NaN</td>\n      <td>NaN</td>\n    </tr>\n    <tr>\n      <th>5</th>\n      <td>area.mean</td>\n      <td>NaN</td>\n      <td>NaN</td>\n      <td>NaN</td>\n      <td>NaN</td>\n      <td>NaN</td>\n      <td>NaN</td>\n    </tr>\n    <tr>\n      <th>6</th>\n      <td>smoothness.mean</td>\n      <td>NaN</td>\n      <td>NaN</td>\n      <td>NaN</td>\n      <td>NaN</td>\n      <td>NaN</td>\n      <td>NaN</td>\n    </tr>\n    <tr>\n      <th>7</th>\n      <td>compactness.mean</td>\n      <td>NaN</td>\n      <td>NaN</td>\n      <td>NaN</td>\n      <td>NaN</td>\n      <td>NaN</td>\n      <td>NaN</td>\n    </tr>\n    <tr>\n      <th>8</th>\n      <td>concavity.mean</td>\n      <td>NaN</td>\n      <td>NaN</td>\n      <td>NaN</td>\n      <td>NaN</td>\n      <td>NaN</td>\n      <td>NaN</td>\n    </tr>\n    <tr>\n      <th>9</th>\n      <td>concpoints.mean</td>\n      <td>NaN</td>\n      <td>NaN</td>\n      <td>NaN</td>\n      <td>NaN</td>\n      <td>NaN</td>\n      <td>NaN</td>\n    </tr>\n    <tr>\n      <th>10</th>\n      <td>symmetry.mean</td>\n      <td>NaN</td>\n      <td>NaN</td>\n      <td>NaN</td>\n      <td>NaN</td>\n      <td>NaN</td>\n      <td>NaN</td>\n    </tr>\n    <tr>\n      <th>11</th>\n      <td>fracdim.mean</td>\n      <td>NaN</td>\n      <td>NaN</td>\n      <td>NaN</td>\n      <td>NaN</td>\n      <td>NaN</td>\n      <td>NaN</td>\n    </tr>\n    <tr>\n      <th>12</th>\n      <td>radius.se</td>\n      <td>NaN</td>\n      <td>NaN</td>\n      <td>NaN</td>\n      <td>NaN</td>\n      <td>NaN</td>\n      <td>NaN</td>\n    </tr>\n    <tr>\n      <th>13</th>\n      <td>texture.se</td>\n      <td>NaN</td>\n      <td>NaN</td>\n      <td>NaN</td>\n      <td>NaN</td>\n      <td>NaN</td>\n      <td>NaN</td>\n    </tr>\n    <tr>\n      <th>14</th>\n      <td>perimeter.se</td>\n      <td>NaN</td>\n      <td>NaN</td>\n      <td>NaN</td>\n      <td>NaN</td>\n      <td>NaN</td>\n      <td>NaN</td>\n    </tr>\n    <tr>\n      <th>15</th>\n      <td>area.se</td>\n      <td>NaN</td>\n      <td>NaN</td>\n      <td>NaN</td>\n      <td>NaN</td>\n      <td>NaN</td>\n      <td>NaN</td>\n    </tr>\n    <tr>\n      <th>16</th>\n      <td>smoothness.se</td>\n      <td>NaN</td>\n      <td>NaN</td>\n      <td>NaN</td>\n      <td>NaN</td>\n      <td>NaN</td>\n      <td>NaN</td>\n    </tr>\n    <tr>\n      <th>17</th>\n      <td>compactness.se</td>\n      <td>NaN</td>\n      <td>NaN</td>\n      <td>NaN</td>\n      <td>NaN</td>\n      <td>NaN</td>\n      <td>NaN</td>\n    </tr>\n    <tr>\n      <th>18</th>\n      <td>concavity.se</td>\n      <td>NaN</td>\n      <td>NaN</td>\n      <td>NaN</td>\n      <td>NaN</td>\n      <td>NaN</td>\n      <td>NaN</td>\n    </tr>\n    <tr>\n      <th>19</th>\n      <td>concpoints.se</td>\n      <td>NaN</td>\n      <td>NaN</td>\n      <td>NaN</td>\n      <td>NaN</td>\n      <td>NaN</td>\n      <td>NaN</td>\n    </tr>\n    <tr>\n      <th>20</th>\n      <td>symmetry.se</td>\n      <td>NaN</td>\n      <td>NaN</td>\n      <td>NaN</td>\n      <td>NaN</td>\n      <td>NaN</td>\n      <td>NaN</td>\n    </tr>\n    <tr>\n      <th>21</th>\n      <td>fracdim.se</td>\n      <td>NaN</td>\n      <td>NaN</td>\n      <td>NaN</td>\n      <td>NaN</td>\n      <td>NaN</td>\n      <td>NaN</td>\n    </tr>\n    <tr>\n      <th>22</th>\n      <td>radius.worst</td>\n      <td>NaN</td>\n      <td>NaN</td>\n      <td>NaN</td>\n      <td>NaN</td>\n      <td>NaN</td>\n      <td>NaN</td>\n    </tr>\n    <tr>\n      <th>23</th>\n      <td>texture.worst</td>\n      <td>NaN</td>\n      <td>NaN</td>\n      <td>NaN</td>\n      <td>NaN</td>\n      <td>NaN</td>\n      <td>NaN</td>\n    </tr>\n    <tr>\n      <th>24</th>\n      <td>perimeter.worst</td>\n      <td>NaN</td>\n      <td>NaN</td>\n      <td>NaN</td>\n      <td>NaN</td>\n      <td>NaN</td>\n      <td>NaN</td>\n    </tr>\n    <tr>\n      <th>25</th>\n      <td>area.worst</td>\n      <td>NaN</td>\n      <td>NaN</td>\n      <td>NaN</td>\n      <td>NaN</td>\n      <td>NaN</td>\n      <td>NaN</td>\n    </tr>\n    <tr>\n      <th>26</th>\n      <td>smoothness.worst</td>\n      <td>NaN</td>\n      <td>NaN</td>\n      <td>NaN</td>\n      <td>NaN</td>\n      <td>NaN</td>\n      <td>NaN</td>\n    </tr>\n    <tr>\n      <th>27</th>\n      <td>compactness.worst</td>\n      <td>NaN</td>\n      <td>NaN</td>\n      <td>NaN</td>\n      <td>NaN</td>\n      <td>NaN</td>\n      <td>NaN</td>\n    </tr>\n    <tr>\n      <th>28</th>\n      <td>concavity.worst</td>\n      <td>NaN</td>\n      <td>NaN</td>\n      <td>NaN</td>\n      <td>NaN</td>\n      <td>NaN</td>\n      <td>NaN</td>\n    </tr>\n    <tr>\n      <th>29</th>\n      <td>concpoints.worst</td>\n      <td>NaN</td>\n      <td>NaN</td>\n      <td>NaN</td>\n      <td>NaN</td>\n      <td>NaN</td>\n      <td>NaN</td>\n    </tr>\n    <tr>\n      <th>30</th>\n      <td>symmetry.worst</td>\n      <td>NaN</td>\n      <td>NaN</td>\n      <td>NaN</td>\n      <td>NaN</td>\n      <td>NaN</td>\n      <td>NaN</td>\n    </tr>\n    <tr>\n      <th>31</th>\n      <td>fracdim.worst</td>\n      <td>NaN</td>\n      <td>NaN</td>\n      <td>NaN</td>\n      <td>NaN</td>\n      <td>NaN</td>\n      <td>NaN</td>\n    </tr>\n  </tbody>\n</table>\n</div>",
      "text/plain": "             variable  correlation  mean  min  max  std  missings\n0                  id          NaN   NaN  NaN  NaN  NaN       NaN\n1           diagnosis          NaN   NaN  NaN  NaN  NaN       NaN\n2         radius.mean          NaN   NaN  NaN  NaN  NaN       NaN\n3        texture.mean          NaN   NaN  NaN  NaN  NaN       NaN\n4      perimeter.mean          NaN   NaN  NaN  NaN  NaN       NaN\n5           area.mean          NaN   NaN  NaN  NaN  NaN       NaN\n6     smoothness.mean          NaN   NaN  NaN  NaN  NaN       NaN\n7    compactness.mean          NaN   NaN  NaN  NaN  NaN       NaN\n8      concavity.mean          NaN   NaN  NaN  NaN  NaN       NaN\n9     concpoints.mean          NaN   NaN  NaN  NaN  NaN       NaN\n10      symmetry.mean          NaN   NaN  NaN  NaN  NaN       NaN\n11       fracdim.mean          NaN   NaN  NaN  NaN  NaN       NaN\n12          radius.se          NaN   NaN  NaN  NaN  NaN       NaN\n13         texture.se          NaN   NaN  NaN  NaN  NaN       NaN\n14       perimeter.se          NaN   NaN  NaN  NaN  NaN       NaN\n15            area.se          NaN   NaN  NaN  NaN  NaN       NaN\n16      smoothness.se          NaN   NaN  NaN  NaN  NaN       NaN\n17     compactness.se          NaN   NaN  NaN  NaN  NaN       NaN\n18       concavity.se          NaN   NaN  NaN  NaN  NaN       NaN\n19      concpoints.se          NaN   NaN  NaN  NaN  NaN       NaN\n20        symmetry.se          NaN   NaN  NaN  NaN  NaN       NaN\n21         fracdim.se          NaN   NaN  NaN  NaN  NaN       NaN\n22       radius.worst          NaN   NaN  NaN  NaN  NaN       NaN\n23      texture.worst          NaN   NaN  NaN  NaN  NaN       NaN\n24    perimeter.worst          NaN   NaN  NaN  NaN  NaN       NaN\n25         area.worst          NaN   NaN  NaN  NaN  NaN       NaN\n26   smoothness.worst          NaN   NaN  NaN  NaN  NaN       NaN\n27  compactness.worst          NaN   NaN  NaN  NaN  NaN       NaN\n28    concavity.worst          NaN   NaN  NaN  NaN  NaN       NaN\n29   concpoints.worst          NaN   NaN  NaN  NaN  NaN       NaN\n30     symmetry.worst          NaN   NaN  NaN  NaN  NaN       NaN\n31      fracdim.worst          NaN   NaN  NaN  NaN  NaN       NaN"
     },
     "execution_count": 27,
     "metadata": {},
     "output_type": "execute_result"
    }
   ],
   "source": [
    "summary"
   ]
  },
  {
   "cell_type": "code",
   "execution_count": 28,
   "metadata": {},
   "outputs": [],
   "source": [
    "for i in summary.variable:\n",
    "    index = summary.index[summary['variable'] == i]\n",
    "    summary.loc[index] = [i, data['diagnosis'].corr(data[i], method='pearson'), np.mean(data[i]), np.min(data[i]), np.max(data[i]), np.std(data[i]), data[i].isnull().sum()]\n",
    "\n"
   ]
  },
  {
   "cell_type": "code",
   "execution_count": 29,
   "metadata": {},
   "outputs": [
    {
     "data": {
      "text/html": "<div>\n<style scoped>\n    .dataframe tbody tr th:only-of-type {\n        vertical-align: middle;\n    }\n\n    .dataframe tbody tr th {\n        vertical-align: top;\n    }\n\n    .dataframe thead th {\n        text-align: right;\n    }\n</style>\n<table border=\"1\" class=\"dataframe\">\n  <thead>\n    <tr style=\"text-align: right;\">\n      <th></th>\n      <th>variable</th>\n      <th>correlation</th>\n      <th>mean</th>\n      <th>min</th>\n      <th>max</th>\n      <th>std</th>\n      <th>missings</th>\n    </tr>\n  </thead>\n  <tbody>\n    <tr>\n      <th>0</th>\n      <td>id</td>\n      <td>0.039769</td>\n      <td>3.037183e+07</td>\n      <td>8670.000000</td>\n      <td>9.113205e+08</td>\n      <td>1.249107e+08</td>\n      <td>0.0</td>\n    </tr>\n    <tr>\n      <th>1</th>\n      <td>diagnosis</td>\n      <td>1.000000</td>\n      <td>3.725835e-01</td>\n      <td>0.000000</td>\n      <td>1.000000e+00</td>\n      <td>4.834925e-01</td>\n      <td>0.0</td>\n    </tr>\n    <tr>\n      <th>2</th>\n      <td>radius.mean</td>\n      <td>0.730029</td>\n      <td>1.412729e+01</td>\n      <td>6.981000</td>\n      <td>2.811000e+01</td>\n      <td>3.520951e+00</td>\n      <td>0.0</td>\n    </tr>\n    <tr>\n      <th>3</th>\n      <td>texture.mean</td>\n      <td>0.415185</td>\n      <td>1.928965e+01</td>\n      <td>9.710000</td>\n      <td>3.928000e+01</td>\n      <td>4.297255e+00</td>\n      <td>0.0</td>\n    </tr>\n    <tr>\n      <th>4</th>\n      <td>perimeter.mean</td>\n      <td>0.742636</td>\n      <td>9.196903e+01</td>\n      <td>43.790000</td>\n      <td>1.885000e+02</td>\n      <td>2.427762e+01</td>\n      <td>0.0</td>\n    </tr>\n    <tr>\n      <th>5</th>\n      <td>area.mean</td>\n      <td>0.708984</td>\n      <td>6.548891e+02</td>\n      <td>143.500000</td>\n      <td>2.501000e+03</td>\n      <td>3.516048e+02</td>\n      <td>0.0</td>\n    </tr>\n    <tr>\n      <th>6</th>\n      <td>smoothness.mean</td>\n      <td>0.358560</td>\n      <td>9.636028e-02</td>\n      <td>0.052630</td>\n      <td>1.634000e-01</td>\n      <td>1.405176e-02</td>\n      <td>0.0</td>\n    </tr>\n    <tr>\n      <th>7</th>\n      <td>compactness.mean</td>\n      <td>0.596534</td>\n      <td>1.043410e-01</td>\n      <td>0.019380</td>\n      <td>3.454000e-01</td>\n      <td>5.276633e-02</td>\n      <td>0.0</td>\n    </tr>\n    <tr>\n      <th>8</th>\n      <td>concavity.mean</td>\n      <td>0.696360</td>\n      <td>8.879932e-02</td>\n      <td>0.000000</td>\n      <td>4.268000e-01</td>\n      <td>7.964973e-02</td>\n      <td>0.0</td>\n    </tr>\n    <tr>\n      <th>9</th>\n      <td>concpoints.mean</td>\n      <td>0.776614</td>\n      <td>4.891915e-02</td>\n      <td>0.000000</td>\n      <td>2.012000e-01</td>\n      <td>3.876873e-02</td>\n      <td>0.0</td>\n    </tr>\n    <tr>\n      <th>10</th>\n      <td>symmetry.mean</td>\n      <td>0.330499</td>\n      <td>1.811619e-01</td>\n      <td>0.106000</td>\n      <td>3.040000e-01</td>\n      <td>2.739018e-02</td>\n      <td>0.0</td>\n    </tr>\n    <tr>\n      <th>11</th>\n      <td>fracdim.mean</td>\n      <td>-0.012838</td>\n      <td>6.279761e-02</td>\n      <td>0.049960</td>\n      <td>9.744000e-02</td>\n      <td>7.054156e-03</td>\n      <td>0.0</td>\n    </tr>\n    <tr>\n      <th>12</th>\n      <td>radius.se</td>\n      <td>0.567134</td>\n      <td>4.051721e-01</td>\n      <td>0.111500</td>\n      <td>2.873000e+00</td>\n      <td>2.770689e-01</td>\n      <td>0.0</td>\n    </tr>\n    <tr>\n      <th>13</th>\n      <td>texture.se</td>\n      <td>-0.008303</td>\n      <td>1.216853e+00</td>\n      <td>0.360200</td>\n      <td>4.885000e+00</td>\n      <td>5.511634e-01</td>\n      <td>0.0</td>\n    </tr>\n    <tr>\n      <th>14</th>\n      <td>perimeter.se</td>\n      <td>0.556141</td>\n      <td>2.866059e+00</td>\n      <td>0.757000</td>\n      <td>2.198000e+01</td>\n      <td>2.020077e+00</td>\n      <td>0.0</td>\n    </tr>\n    <tr>\n      <th>15</th>\n      <td>area.se</td>\n      <td>0.548236</td>\n      <td>4.033708e+01</td>\n      <td>6.802000</td>\n      <td>5.422000e+02</td>\n      <td>4.545101e+01</td>\n      <td>0.0</td>\n    </tr>\n    <tr>\n      <th>16</th>\n      <td>smoothness.se</td>\n      <td>-0.067016</td>\n      <td>7.040979e-03</td>\n      <td>0.001713</td>\n      <td>3.113000e-02</td>\n      <td>2.999878e-03</td>\n      <td>0.0</td>\n    </tr>\n    <tr>\n      <th>17</th>\n      <td>compactness.se</td>\n      <td>0.292999</td>\n      <td>2.547814e-02</td>\n      <td>0.002252</td>\n      <td>1.354000e-01</td>\n      <td>1.789244e-02</td>\n      <td>0.0</td>\n    </tr>\n    <tr>\n      <th>18</th>\n      <td>concavity.se</td>\n      <td>0.253730</td>\n      <td>3.189372e-02</td>\n      <td>0.000000</td>\n      <td>3.960000e-01</td>\n      <td>3.015952e-02</td>\n      <td>0.0</td>\n    </tr>\n    <tr>\n      <th>19</th>\n      <td>concpoints.se</td>\n      <td>0.408042</td>\n      <td>1.179614e-02</td>\n      <td>0.000000</td>\n      <td>5.279000e-02</td>\n      <td>6.164861e-03</td>\n      <td>0.0</td>\n    </tr>\n    <tr>\n      <th>20</th>\n      <td>symmetry.se</td>\n      <td>-0.006522</td>\n      <td>2.054230e-02</td>\n      <td>0.007882</td>\n      <td>7.895000e-02</td>\n      <td>8.259104e-03</td>\n      <td>0.0</td>\n    </tr>\n    <tr>\n      <th>21</th>\n      <td>fracdim.se</td>\n      <td>0.077972</td>\n      <td>3.794904e-03</td>\n      <td>0.000895</td>\n      <td>2.984000e-02</td>\n      <td>2.643745e-03</td>\n      <td>0.0</td>\n    </tr>\n    <tr>\n      <th>22</th>\n      <td>radius.worst</td>\n      <td>0.776454</td>\n      <td>1.626919e+01</td>\n      <td>7.930000</td>\n      <td>3.604000e+01</td>\n      <td>4.828993e+00</td>\n      <td>0.0</td>\n    </tr>\n    <tr>\n      <th>23</th>\n      <td>texture.worst</td>\n      <td>0.456903</td>\n      <td>2.567722e+01</td>\n      <td>12.020000</td>\n      <td>4.954000e+01</td>\n      <td>6.140854e+00</td>\n      <td>0.0</td>\n    </tr>\n    <tr>\n      <th>24</th>\n      <td>perimeter.worst</td>\n      <td>0.782914</td>\n      <td>1.072612e+02</td>\n      <td>50.410000</td>\n      <td>2.512000e+02</td>\n      <td>3.357300e+01</td>\n      <td>0.0</td>\n    </tr>\n    <tr>\n      <th>25</th>\n      <td>area.worst</td>\n      <td>0.733825</td>\n      <td>8.805831e+02</td>\n      <td>185.200000</td>\n      <td>4.254000e+03</td>\n      <td>5.688565e+02</td>\n      <td>0.0</td>\n    </tr>\n    <tr>\n      <th>26</th>\n      <td>smoothness.worst</td>\n      <td>0.421465</td>\n      <td>1.323686e-01</td>\n      <td>0.071170</td>\n      <td>2.226000e-01</td>\n      <td>2.281236e-02</td>\n      <td>0.0</td>\n    </tr>\n    <tr>\n      <th>27</th>\n      <td>compactness.worst</td>\n      <td>0.590998</td>\n      <td>2.542650e-01</td>\n      <td>0.027290</td>\n      <td>1.058000e+00</td>\n      <td>1.571982e-01</td>\n      <td>0.0</td>\n    </tr>\n    <tr>\n      <th>28</th>\n      <td>concavity.worst</td>\n      <td>0.659610</td>\n      <td>2.721885e-01</td>\n      <td>0.000000</td>\n      <td>1.252000e+00</td>\n      <td>2.084409e-01</td>\n      <td>0.0</td>\n    </tr>\n    <tr>\n      <th>29</th>\n      <td>concpoints.worst</td>\n      <td>0.793566</td>\n      <td>1.146062e-01</td>\n      <td>0.000000</td>\n      <td>2.910000e-01</td>\n      <td>6.567455e-02</td>\n      <td>0.0</td>\n    </tr>\n    <tr>\n      <th>30</th>\n      <td>symmetry.worst</td>\n      <td>0.416294</td>\n      <td>2.900756e-01</td>\n      <td>0.156500</td>\n      <td>6.638000e-01</td>\n      <td>6.181308e-02</td>\n      <td>0.0</td>\n    </tr>\n    <tr>\n      <th>31</th>\n      <td>fracdim.worst</td>\n      <td>0.323872</td>\n      <td>8.394582e-02</td>\n      <td>0.055040</td>\n      <td>2.075000e-01</td>\n      <td>1.804539e-02</td>\n      <td>0.0</td>\n    </tr>\n  </tbody>\n</table>\n</div>",
      "text/plain": "             variable  correlation          mean          min           max  \\\n0                  id     0.039769  3.037183e+07  8670.000000  9.113205e+08   \n1           diagnosis     1.000000  3.725835e-01     0.000000  1.000000e+00   \n2         radius.mean     0.730029  1.412729e+01     6.981000  2.811000e+01   \n3        texture.mean     0.415185  1.928965e+01     9.710000  3.928000e+01   \n4      perimeter.mean     0.742636  9.196903e+01    43.790000  1.885000e+02   \n5           area.mean     0.708984  6.548891e+02   143.500000  2.501000e+03   \n6     smoothness.mean     0.358560  9.636028e-02     0.052630  1.634000e-01   \n7    compactness.mean     0.596534  1.043410e-01     0.019380  3.454000e-01   \n8      concavity.mean     0.696360  8.879932e-02     0.000000  4.268000e-01   \n9     concpoints.mean     0.776614  4.891915e-02     0.000000  2.012000e-01   \n10      symmetry.mean     0.330499  1.811619e-01     0.106000  3.040000e-01   \n11       fracdim.mean    -0.012838  6.279761e-02     0.049960  9.744000e-02   \n12          radius.se     0.567134  4.051721e-01     0.111500  2.873000e+00   \n13         texture.se    -0.008303  1.216853e+00     0.360200  4.885000e+00   \n14       perimeter.se     0.556141  2.866059e+00     0.757000  2.198000e+01   \n15            area.se     0.548236  4.033708e+01     6.802000  5.422000e+02   \n16      smoothness.se    -0.067016  7.040979e-03     0.001713  3.113000e-02   \n17     compactness.se     0.292999  2.547814e-02     0.002252  1.354000e-01   \n18       concavity.se     0.253730  3.189372e-02     0.000000  3.960000e-01   \n19      concpoints.se     0.408042  1.179614e-02     0.000000  5.279000e-02   \n20        symmetry.se    -0.006522  2.054230e-02     0.007882  7.895000e-02   \n21         fracdim.se     0.077972  3.794904e-03     0.000895  2.984000e-02   \n22       radius.worst     0.776454  1.626919e+01     7.930000  3.604000e+01   \n23      texture.worst     0.456903  2.567722e+01    12.020000  4.954000e+01   \n24    perimeter.worst     0.782914  1.072612e+02    50.410000  2.512000e+02   \n25         area.worst     0.733825  8.805831e+02   185.200000  4.254000e+03   \n26   smoothness.worst     0.421465  1.323686e-01     0.071170  2.226000e-01   \n27  compactness.worst     0.590998  2.542650e-01     0.027290  1.058000e+00   \n28    concavity.worst     0.659610  2.721885e-01     0.000000  1.252000e+00   \n29   concpoints.worst     0.793566  1.146062e-01     0.000000  2.910000e-01   \n30     symmetry.worst     0.416294  2.900756e-01     0.156500  6.638000e-01   \n31      fracdim.worst     0.323872  8.394582e-02     0.055040  2.075000e-01   \n\n             std  missings  \n0   1.249107e+08       0.0  \n1   4.834925e-01       0.0  \n2   3.520951e+00       0.0  \n3   4.297255e+00       0.0  \n4   2.427762e+01       0.0  \n5   3.516048e+02       0.0  \n6   1.405176e-02       0.0  \n7   5.276633e-02       0.0  \n8   7.964973e-02       0.0  \n9   3.876873e-02       0.0  \n10  2.739018e-02       0.0  \n11  7.054156e-03       0.0  \n12  2.770689e-01       0.0  \n13  5.511634e-01       0.0  \n14  2.020077e+00       0.0  \n15  4.545101e+01       0.0  \n16  2.999878e-03       0.0  \n17  1.789244e-02       0.0  \n18  3.015952e-02       0.0  \n19  6.164861e-03       0.0  \n20  8.259104e-03       0.0  \n21  2.643745e-03       0.0  \n22  4.828993e+00       0.0  \n23  6.140854e+00       0.0  \n24  3.357300e+01       0.0  \n25  5.688565e+02       0.0  \n26  2.281236e-02       0.0  \n27  1.571982e-01       0.0  \n28  2.084409e-01       0.0  \n29  6.567455e-02       0.0  \n30  6.181308e-02       0.0  \n31  1.804539e-02       0.0  "
     },
     "execution_count": 29,
     "metadata": {},
     "output_type": "execute_result"
    }
   ],
   "source": [
    "summary"
   ]
  },
  {
   "cell_type": "markdown",
   "metadata": {},
   "source": [
    "## 2. Which Model is Best?"
   ]
  },
  {
   "cell_type": "code",
   "execution_count": 30,
   "metadata": {},
   "outputs": [],
   "source": [
    "from sklearn.linear_model import LogisticRegression\n",
    "from sklearn.model_selection import train_test_split"
   ]
  },
  {
   "cell_type": "markdown",
   "metadata": {},
   "source": [
    "## 2.1"
   ]
  },
  {
   "cell_type": "code",
   "execution_count": 40,
   "metadata": {},
   "outputs": [],
   "source": [
    "X = data[['concpoints.mean', 'fracdim.mean']].values\n",
    "y = data.diagnosis"
   ]
  },
  {
   "cell_type": "code",
   "execution_count": 46,
   "metadata": {},
   "outputs": [
    {
     "data": {
      "text/plain": "(569, 2)"
     },
     "execution_count": 46,
     "metadata": {},
     "output_type": "execute_result"
    }
   ],
   "source": [
    "X.shape"
   ]
  },
  {
   "cell_type": "code",
   "execution_count": 41,
   "metadata": {},
   "outputs": [],
   "source": [
    "Xtrain, Xvalid, ytrain, yvalid = train_test_split(X, y, test_size = 0.2)"
   ]
  },
  {
   "cell_type": "markdown",
   "metadata": {},
   "source": [
    "## 2.2"
   ]
  },
  {
   "cell_type": "code",
   "execution_count": 42,
   "metadata": {},
   "outputs": [],
   "source": [
    "m = LogisticRegression(solver='lbfgs', C=1e9).fit(Xtrain, ytrain)"
   ]
  },
  {
   "cell_type": "markdown",
   "metadata": {},
   "source": [
    "## 2.3"
   ]
  },
  {
   "cell_type": "code",
   "execution_count": 47,
   "metadata": {},
   "outputs": [
    {
     "data": {
      "text/plain": "(455, 2)"
     },
     "execution_count": 47,
     "metadata": {},
     "output_type": "execute_result"
    }
   ],
   "source": [
    "Xtrain.shape"
   ]
  },
  {
   "cell_type": "code",
   "execution_count": 43,
   "metadata": {},
   "outputs": [],
   "source": [
    "yhat = m.predict(Xtrain)"
   ]
  },
  {
   "cell_type": "code",
   "execution_count": 44,
   "metadata": {},
   "outputs": [
    {
     "data": {
      "text/plain": "(569,)"
     },
     "execution_count": 44,
     "metadata": {},
     "output_type": "execute_result"
    }
   ],
   "source": [
    "y.shape"
   ]
  },
  {
   "cell_type": "code",
   "execution_count": 45,
   "metadata": {},
   "outputs": [
    {
     "data": {
      "text/plain": "(455,)"
     },
     "execution_count": 45,
     "metadata": {},
     "output_type": "execute_result"
    }
   ],
   "source": [
    "yhat.shape"
   ]
  },
  {
   "cell_type": "code",
   "execution_count": 48,
   "metadata": {},
   "outputs": [
    {
     "data": {
      "text/html": "<div>\n<style scoped>\n    .dataframe tbody tr th:only-of-type {\n        vertical-align: middle;\n    }\n\n    .dataframe tbody tr th {\n        vertical-align: top;\n    }\n\n    .dataframe thead th {\n        text-align: right;\n    }\n</style>\n<table border=\"1\" class=\"dataframe\">\n  <thead>\n    <tr style=\"text-align: right;\">\n      <th>col_0</th>\n      <th>0</th>\n      <th>1</th>\n    </tr>\n    <tr>\n      <th>diagnosis</th>\n      <th></th>\n      <th></th>\n    </tr>\n  </thead>\n  <tbody>\n    <tr>\n      <th>0</th>\n      <td>273</td>\n      <td>14</td>\n    </tr>\n    <tr>\n      <th>1</th>\n      <td>18</td>\n      <td>150</td>\n    </tr>\n  </tbody>\n</table>\n</div>",
      "text/plain": "col_0        0    1\ndiagnosis          \n0          273   14\n1           18  150"
     },
     "execution_count": 48,
     "metadata": {},
     "output_type": "execute_result"
    }
   ],
   "source": [
    "pd.crosstab(ytrain, yhat)"
   ]
  },
  {
   "cell_type": "markdown",
   "metadata": {},
   "source": [
    "## 2.4"
   ]
  },
  {
   "cell_type": "code",
   "execution_count": null,
   "metadata": {},
   "outputs": [],
   "source": []
  }
 ]
}